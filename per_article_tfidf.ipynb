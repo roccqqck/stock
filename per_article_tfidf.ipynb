{
 "cells": [
  {
   "cell_type": "code",
   "execution_count": 1,
   "metadata": {},
   "outputs": [],
   "source": [
    "import numpy as np\n",
    "import pandas as pd\n",
    "\n",
    "from sklearn import model_selection\n",
    "from sklearn.metrics import classification_report\n",
    "from sklearn.metrics import confusion_matrix\n",
    "from sklearn.metrics import accuracy_score\n",
    "from sklearn.linear_model import LogisticRegression\n",
    "from sklearn.tree import DecisionTreeClassifier\n",
    "from sklearn.neighbors import KNeighborsClassifier\n",
    "#from sklearn.discriminant_analysis import LinearDiscriminantAnalysis\n",
    "from sklearn.naive_bayes import GaussianNB\n",
    "from sklearn.naive_bayes import MultinomialNB\n",
    "from sklearn.svm import SVC\n",
    "from sklearn.ensemble import RandomForestClassifier\n",
    "from sklearn.neural_network import MLPClassifier\n",
    "from sklearn.ensemble import GradientBoostingClassifier\n",
    "import xgboost as xgb\n",
    "from xgboost.sklearn import XGBClassifier\n",
    "\n",
    "#time\n",
    "from datetime import datetime\n",
    "from datetime import timedelta\n",
    "\n",
    "import jieba\n",
    "import jieba.analyse\n",
    "jieba.set_dictionary('dict.idkrsi.txt')     # 改預設字典\n",
    "jieba.analyse.set_stop_words(\"stopword.goatwang.kang.txt\") #指定stopwords字典\n",
    "\n",
    "# get data\n",
    "# ! conda install pandas-datareader s\n",
    "#import pandas_datareader as pdr\n",
    "\n",
    "# visual\n",
    "# ! pip install mpl-finance\n",
    "#import matplotlib.pyplot as plt\n",
    "#import mpl_finance as mpf\n",
    "\n",
    "#import seaborn as sns\n",
    "\n",
    "\n",
    "# https://github.com/mrjbq7/ta-lib\n",
    "# ! pip install ta-lib\n",
    "#import talib"
   ]
  },
  {
   "cell_type": "code",
   "execution_count": 2,
   "metadata": {},
   "outputs": [
    {
     "name": "stderr",
     "output_type": "stream",
     "text": [
      "/home/barry/miniconda3/envs/stockenv/lib/python3.6/site-packages/ipykernel_launcher.py:6: FutureWarning: Sorting because non-concatenation axis is not aligned. A future version\n",
      "of pandas will change to not sort by default.\n",
      "\n",
      "To accept the future behavior, pass 'sort=False'.\n",
      "\n",
      "To retain the current behavior and silence the warning, pass 'sort=True'.\n",
      "\n",
      "  \n"
     ]
    },
    {
     "data": {
      "text/html": [
       "<div>\n",
       "<style scoped>\n",
       "    .dataframe tbody tr th:only-of-type {\n",
       "        vertical-align: middle;\n",
       "    }\n",
       "\n",
       "    .dataframe tbody tr th {\n",
       "        vertical-align: top;\n",
       "    }\n",
       "\n",
       "    .dataframe thead th {\n",
       "        text-align: right;\n",
       "    }\n",
       "</style>\n",
       "<table border=\"1\" class=\"dataframe\">\n",
       "  <thead>\n",
       "    <tr style=\"text-align: right;\">\n",
       "      <th></th>\n",
       "      <th>author</th>\n",
       "      <th>comment_count</th>\n",
       "      <th>content</th>\n",
       "      <th>id</th>\n",
       "      <th>p_type</th>\n",
       "      <th>page_url</th>\n",
       "      <th>post_time</th>\n",
       "      <th>s_area_name</th>\n",
       "      <th>s_name</th>\n",
       "      <th>title</th>\n",
       "      <th>post_time2</th>\n",
       "    </tr>\n",
       "  </thead>\n",
       "  <tbody>\n",
       "    <tr>\n",
       "      <th>0</th>\n",
       "      <td>鉅亨網</td>\n",
       "      <td>0</td>\n",
       "      <td>鉅亨網編譯郭照青這一年，獲利真是難上難。&lt;BR&gt;根據CNBC分析報導，興業銀行的數據顯示，2...</td>\n",
       "      <td>1451580107540_N01</td>\n",
       "      <td>news</td>\n",
       "      <td>https://tw.stock.yahoo.com/news_content/url/d/...</td>\n",
       "      <td>2016-01-01 00:06:00</td>\n",
       "      <td>重大要聞</td>\n",
       "      <td>yahoo股市</td>\n",
       "      <td>淪落的2015 竟是78年來最難獲利的一年</td>\n",
       "      <td>2016-01-01</td>\n",
       "    </tr>\n",
       "    <tr>\n",
       "      <th>1</th>\n",
       "      <td>Bokolo</td>\n",
       "      <td>10</td>\n",
       "      <td>1.原文連結(必須檢附)： http://magazine.chinatimes.com/m...</td>\n",
       "      <td>1451580710262_PTT02R</td>\n",
       "      <td>bbs</td>\n",
       "      <td>http://www.ptt.cc/bbs/Stock/M.1451580509.A.722...</td>\n",
       "      <td>2016-01-01 00:48:25</td>\n",
       "      <td>Stock</td>\n",
       "      <td>Ptt</td>\n",
       "      <td>[新聞] 第三方支付 台灣普及關鍵年</td>\n",
       "      <td>2016-01-01</td>\n",
       "    </tr>\n",
       "  </tbody>\n",
       "</table>\n",
       "</div>"
      ],
      "text/plain": [
       "   author  comment_count                                            content  \\\n",
       "0     鉅亨網              0  鉅亨網編譯郭照青這一年，獲利真是難上難。<BR>根據CNBC分析報導，興業銀行的數據顯示，2...   \n",
       "1  Bokolo             10  1.原文連結(必須檢附)： http://magazine.chinatimes.com/m...   \n",
       "\n",
       "                     id p_type  \\\n",
       "0     1451580107540_N01   news   \n",
       "1  1451580710262_PTT02R    bbs   \n",
       "\n",
       "                                            page_url           post_time  \\\n",
       "0  https://tw.stock.yahoo.com/news_content/url/d/... 2016-01-01 00:06:00   \n",
       "1  http://www.ptt.cc/bbs/Stock/M.1451580509.A.722... 2016-01-01 00:48:25   \n",
       "\n",
       "  s_area_name   s_name                  title  post_time2  \n",
       "0        重大要聞  yahoo股市  淪落的2015 竟是78年來最難獲利的一年  2016-01-01  \n",
       "1       Stock      Ptt     [新聞] 第三方支付 台灣普及關鍵年  2016-01-01  "
      ]
     },
     "execution_count": 2,
     "metadata": {},
     "output_type": "execute_result"
    }
   ],
   "source": [
    "df_bbs = pd.read_csv(\"bda2019_dataset/bbs2.csv\",encoding=\"utf-8\")\n",
    "df_forum = pd.read_csv(\"bda2019_dataset/forum2.csv\",encoding=\"utf-8\")\n",
    "df_news = pd.read_csv(\"bda2019_dataset/news2.csv\",encoding=\"utf-8\")\n",
    "df_news['comment_count']=0\n",
    "\n",
    "df_article = pd.concat([df_forum, df_bbs, df_news])  #三個合併\n",
    "del df_bbs, df_forum, df_news\n",
    "\n",
    "df_article['post_time'] = pd.to_datetime(df_article['post_time'])\n",
    "df_article['post_time2'] = df_article['post_time'].dt.date   # .dt.date用在dataframe  .date()用在一個 #只留日期\n",
    "#df_article['label'] = 'even'\n",
    "df_article['content'] = df_article['content'].astype(str).str.replace(',' , ' ').str.replace('\\n' , ' ').str.replace('\"' , ' ').str.replace(\"'\" , ' ')\n",
    "df_article['title'] = df_article['title'].astype(str).str.replace(',' , ' ').str.replace('\\n' , ' ').str.replace('\"' , ' ').str.replace(\"'\" , ' ')\n",
    "df_article = df_article.sort_values(by=['post_time']).reset_index(drop=True) # 用post_time排序 # 在重設index\n",
    "df_article.head(2)\n",
    "#df_article2 = df_article[['post_time2','title','content']]"
   ]
  },
  {
   "cell_type": "code",
   "execution_count": 3,
   "metadata": {},
   "outputs": [
    {
     "data": {
      "text/html": [
       "<div>\n",
       "<style scoped>\n",
       "    .dataframe tbody tr th:only-of-type {\n",
       "        vertical-align: middle;\n",
       "    }\n",
       "\n",
       "    .dataframe tbody tr th {\n",
       "        vertical-align: top;\n",
       "    }\n",
       "\n",
       "    .dataframe thead th {\n",
       "        text-align: right;\n",
       "    }\n",
       "</style>\n",
       "<table border=\"1\" class=\"dataframe\">\n",
       "  <thead>\n",
       "    <tr style=\"text-align: right;\">\n",
       "      <th></th>\n",
       "      <th>證券代碼</th>\n",
       "      <th>年月日</th>\n",
       "      <th>開盤價(元)</th>\n",
       "      <th>最高價(元)</th>\n",
       "      <th>最低價(元)</th>\n",
       "      <th>收盤價(元)</th>\n",
       "      <th>成交量(千股)</th>\n",
       "      <th>成交值(千元)</th>\n",
       "      <th>成交筆數(筆)</th>\n",
       "      <th>流通在外股數(千股)</th>\n",
       "      <th>本益比-TSE</th>\n",
       "      <th>股價淨值比-TSE</th>\n",
       "    </tr>\n",
       "  </thead>\n",
       "  <tbody>\n",
       "    <tr>\n",
       "      <th>0</th>\n",
       "      <td>1101 台泥</td>\n",
       "      <td>2016-12-30</td>\n",
       "      <td>29.09</td>\n",
       "      <td>29.64</td>\n",
       "      <td>28.93</td>\n",
       "      <td>29.64</td>\n",
       "      <td>6121.0</td>\n",
       "      <td>213121.0</td>\n",
       "      <td>2939</td>\n",
       "      <td>3692175.0</td>\n",
       "      <td>20.56</td>\n",
       "      <td>1.23</td>\n",
       "    </tr>\n",
       "    <tr>\n",
       "      <th>1</th>\n",
       "      <td>1102 亞泥</td>\n",
       "      <td>2016-12-30</td>\n",
       "      <td>24.91</td>\n",
       "      <td>24.91</td>\n",
       "      <td>24.67</td>\n",
       "      <td>24.81</td>\n",
       "      <td>3347.0</td>\n",
       "      <td>88078.0</td>\n",
       "      <td>1227</td>\n",
       "      <td>3361447.0</td>\n",
       "      <td>31.75</td>\n",
       "      <td>0.73</td>\n",
       "    </tr>\n",
       "  </tbody>\n",
       "</table>\n",
       "</div>"
      ],
      "text/plain": [
       "      證券代碼        年月日  開盤價(元)  最高價(元)  最低價(元)  收盤價(元)  成交量(千股)   成交值(千元)  \\\n",
       "0  1101 台泥 2016-12-30   29.09   29.64   28.93   29.64   6121.0  213121.0   \n",
       "1  1102 亞泥 2016-12-30   24.91   24.91   24.67   24.81   3347.0   88078.0   \n",
       "\n",
       "   成交筆數(筆)  流通在外股數(千股)  本益比-TSE  股價淨值比-TSE  \n",
       "0     2939   3692175.0    20.56       1.23  \n",
       "1     1227   3361447.0    31.75       0.73  "
      ]
     },
     "execution_count": 3,
     "metadata": {},
     "output_type": "execute_result"
    }
   ],
   "source": [
    "df_TWSE2018 = pd.read_csv(\"bda2019_dataset/TWSE2018.csv\",encoding=\"utf-8\")\n",
    "df_TWSE2017 = pd.read_csv(\"bda2019_dataset/TWSE2017.csv\",encoding=\"utf-8\")\n",
    "df_TWSE2016 = pd.read_csv(\"bda2019_dataset/TWSE2016.csv\",encoding=\"utf-8\")\n",
    "\n",
    "df_TWSE = pd.concat([df_TWSE2016, df_TWSE2017, df_TWSE2018])  #三年合併\n",
    "del df_TWSE2016, df_TWSE2017, df_TWSE2018\n",
    "\n",
    "# ['開盤價(元)', '最高價(元)', '最低價(元)', '收盤價(元)', '成交量(千股)', '成交值(千元)', '成交筆數(筆)', '流通在外股數(千股)', '本益比-TSE', '股價淨值比-TSE']\n",
    "df_TWSE['證券代碼'] = df_TWSE['證券代碼'].astype(str)\n",
    "df_TWSE['年月日'] = pd.to_datetime(df_TWSE['年月日'])\n",
    "df_TWSE['開盤價(元)'] = df_TWSE['開盤價(元)'].str.replace(',' , '').astype('float64') # 1,000 to 1000 to float\n",
    "df_TWSE['最高價(元)'] = df_TWSE['最高價(元)'].str.replace(',' , '').astype('float64')\n",
    "df_TWSE['最低價(元)'] = df_TWSE['最低價(元)'].str.replace(',' , '').astype('float64')\n",
    "df_TWSE['收盤價(元)'] = df_TWSE['收盤價(元)'].str.replace(',' , '').astype('float64')\n",
    "df_TWSE['成交量(千股)'] = df_TWSE['成交量(千股)'].str.replace(',' , '').astype('float64')\n",
    "df_TWSE['成交值(千元)'] = df_TWSE['成交值(千元)'].str.replace(',' , '').astype('float64')\n",
    "df_TWSE['成交筆數(筆)'] = df_TWSE['成交筆數(筆)'].str.replace(',' , '').astype('int64')\n",
    "df_TWSE['流通在外股數(千股)'] = df_TWSE['流通在外股數(千股)'].str.replace(',' , '').astype('float64')\n",
    "df_TWSE['本益比-TSE'] = df_TWSE['本益比-TSE'].str.replace(',' , '').astype('float64')\n",
    "df_TWSE['股價淨值比-TSE'] = df_TWSE['股價淨值比-TSE'].astype('float64')\n",
    "df_TWSE.head(2) "
   ]
  },
  {
   "cell_type": "code",
   "execution_count": 4,
   "metadata": {},
   "outputs": [],
   "source": [
    "# 選那家股票\n",
    "#company_name = '國巨'\n",
    "company_name = '奇力新'\n",
    "\n",
    "\n",
    "# 文章包含那家字\n",
    "#company_words = '被動元件|積層陶瓷電容|MLCC|電感|晶片電阻|車用電子|凱美|同欣電|大毅|君耀|普斯|國巨'\n",
    "company_words = '被動元件|積層陶瓷電容|MLCC|電感|晶片電阻|車用電子|飛磁|旺詮|美磊|美桀|向華科技|奇力新'\n",
    "\n",
    "# 漲跌幾%\n",
    "pa = 0.05\n",
    "\n",
    "# even幾%\n",
    "pae = 0.003"
   ]
  },
  {
   "cell_type": "code",
   "execution_count": 5,
   "metadata": {},
   "outputs": [
    {
     "data": {
      "text/html": [
       "<div>\n",
       "<style scoped>\n",
       "    .dataframe tbody tr th:only-of-type {\n",
       "        vertical-align: middle;\n",
       "    }\n",
       "\n",
       "    .dataframe tbody tr th {\n",
       "        vertical-align: top;\n",
       "    }\n",
       "\n",
       "    .dataframe thead th {\n",
       "        text-align: right;\n",
       "    }\n",
       "</style>\n",
       "<table border=\"1\" class=\"dataframe\">\n",
       "  <thead>\n",
       "    <tr style=\"text-align: right;\">\n",
       "      <th></th>\n",
       "      <th>證券代碼</th>\n",
       "      <th>年月日</th>\n",
       "      <th>開盤價(元)</th>\n",
       "      <th>最高價(元)</th>\n",
       "      <th>最低價(元)</th>\n",
       "      <th>收盤價(元)</th>\n",
       "      <th>成交量(千股)</th>\n",
       "      <th>成交值(千元)</th>\n",
       "      <th>成交筆數(筆)</th>\n",
       "      <th>流通在外股數(千股)</th>\n",
       "      <th>本益比-TSE</th>\n",
       "      <th>股價淨值比-TSE</th>\n",
       "    </tr>\n",
       "  </thead>\n",
       "  <tbody>\n",
       "    <tr>\n",
       "      <th>0</th>\n",
       "      <td>2456 奇力新</td>\n",
       "      <td>2016-01-04</td>\n",
       "      <td>80.44</td>\n",
       "      <td>81.74</td>\n",
       "      <td>78.18</td>\n",
       "      <td>80.20</td>\n",
       "      <td>4389.0</td>\n",
       "      <td>297206.0</td>\n",
       "      <td>2710</td>\n",
       "      <td>126969.0</td>\n",
       "      <td>15.89</td>\n",
       "      <td>2.32</td>\n",
       "    </tr>\n",
       "    <tr>\n",
       "      <th>1</th>\n",
       "      <td>2456 奇力新</td>\n",
       "      <td>2016-01-05</td>\n",
       "      <td>80.55</td>\n",
       "      <td>85.06</td>\n",
       "      <td>79.25</td>\n",
       "      <td>85.06</td>\n",
       "      <td>6701.0</td>\n",
       "      <td>468760.0</td>\n",
       "      <td>4200</td>\n",
       "      <td>126969.0</td>\n",
       "      <td>16.85</td>\n",
       "      <td>2.46</td>\n",
       "    </tr>\n",
       "  </tbody>\n",
       "</table>\n",
       "</div>"
      ],
      "text/plain": [
       "       證券代碼        年月日  開盤價(元)  最高價(元)  最低價(元)  收盤價(元)  成交量(千股)   成交值(千元)  \\\n",
       "0  2456 奇力新 2016-01-04   80.44   81.74   78.18   80.20   4389.0  297206.0   \n",
       "1  2456 奇力新 2016-01-05   80.55   85.06   79.25   85.06   6701.0  468760.0   \n",
       "\n",
       "   成交筆數(筆)  流通在外股數(千股)  本益比-TSE  股價淨值比-TSE  \n",
       "0     2710    126969.0    15.89       2.32  \n",
       "1     4200    126969.0    16.85       2.46  "
      ]
     },
     "execution_count": 5,
     "metadata": {},
     "output_type": "execute_result"
    }
   ],
   "source": [
    "# 用日期排序 再把index重排\n",
    "#2327 \n",
    "#df_trend = df_TWSE[df_TWSE['證券代碼'].str.contains('國巨')].sort_values(by=['年月日']).reset_index(drop=True)\n",
    "#2456 \n",
    "#df_trend = df_TWSE[df_TWSE['證券代碼'].str.contains('奇力新')].sort_values(by=['年月日']).reset_index(drop=True)\n",
    "#2478 \n",
    "#df_trend = df_TWSE[df_TWSE['證券代碼'].str.contains('大毅')].sort_values(by=['年月日']).reset_index(drop=True)\n",
    "#6271 \n",
    "#df_trend = df_TWSE[df_TWSE['證券代碼'].str.contains('同欣電')].sort_values(by=['年月日']).reset_index(drop=True)\n",
    "\n",
    "df_trend = df_TWSE[df_TWSE['證券代碼'].str.contains(company_name)].sort_values(by=['年月日']).reset_index(drop=True)\n",
    "del df_TWSE\n",
    "df_trend.head(2)"
   ]
  },
  {
   "cell_type": "code",
   "execution_count": 6,
   "metadata": {},
   "outputs": [
    {
     "data": {
      "text/html": [
       "<div>\n",
       "<style scoped>\n",
       "    .dataframe tbody tr th:only-of-type {\n",
       "        vertical-align: middle;\n",
       "    }\n",
       "\n",
       "    .dataframe tbody tr th {\n",
       "        vertical-align: top;\n",
       "    }\n",
       "\n",
       "    .dataframe thead th {\n",
       "        text-align: right;\n",
       "    }\n",
       "</style>\n",
       "<table border=\"1\" class=\"dataframe\">\n",
       "  <thead>\n",
       "    <tr style=\"text-align: right;\">\n",
       "      <th></th>\n",
       "      <th>證券代碼</th>\n",
       "      <th>年月日</th>\n",
       "      <th>開盤價(元)</th>\n",
       "      <th>最高價(元)</th>\n",
       "      <th>最低價(元)</th>\n",
       "      <th>收盤價(元)</th>\n",
       "      <th>成交量(千股)</th>\n",
       "      <th>成交值(千元)</th>\n",
       "      <th>成交筆數(筆)</th>\n",
       "      <th>流通在外股數(千股)</th>\n",
       "      <th>本益比-TSE</th>\n",
       "      <th>股價淨值比-TSE</th>\n",
       "      <th>fluctuation</th>\n",
       "      <th>tag</th>\n",
       "      <th>closeshift</th>\n",
       "    </tr>\n",
       "  </thead>\n",
       "  <tbody>\n",
       "    <tr>\n",
       "      <th>0</th>\n",
       "      <td>2456 奇力新</td>\n",
       "      <td>2016-01-04</td>\n",
       "      <td>80.44</td>\n",
       "      <td>81.74</td>\n",
       "      <td>78.18</td>\n",
       "      <td>80.20</td>\n",
       "      <td>4389.0</td>\n",
       "      <td>297206.0</td>\n",
       "      <td>2710</td>\n",
       "      <td>126969.0</td>\n",
       "      <td>15.89</td>\n",
       "      <td>2.32</td>\n",
       "      <td>0.0</td>\n",
       "      <td>--</td>\n",
       "      <td>0.0</td>\n",
       "    </tr>\n",
       "    <tr>\n",
       "      <th>1</th>\n",
       "      <td>2456 奇力新</td>\n",
       "      <td>2016-01-05</td>\n",
       "      <td>80.55</td>\n",
       "      <td>85.06</td>\n",
       "      <td>79.25</td>\n",
       "      <td>85.06</td>\n",
       "      <td>6701.0</td>\n",
       "      <td>468760.0</td>\n",
       "      <td>4200</td>\n",
       "      <td>126969.0</td>\n",
       "      <td>16.85</td>\n",
       "      <td>2.46</td>\n",
       "      <td>0.0</td>\n",
       "      <td>--</td>\n",
       "      <td>0.0</td>\n",
       "    </tr>\n",
       "  </tbody>\n",
       "</table>\n",
       "</div>"
      ],
      "text/plain": [
       "       證券代碼        年月日  開盤價(元)  最高價(元)  最低價(元)  收盤價(元)  成交量(千股)   成交值(千元)  \\\n",
       "0  2456 奇力新 2016-01-04   80.44   81.74   78.18   80.20   4389.0  297206.0   \n",
       "1  2456 奇力新 2016-01-05   80.55   85.06   79.25   85.06   6701.0  468760.0   \n",
       "\n",
       "   成交筆數(筆)  流通在外股數(千股)  本益比-TSE  股價淨值比-TSE  fluctuation tag  closeshift  \n",
       "0     2710    126969.0    15.89       2.32          0.0  --         0.0  \n",
       "1     4200    126969.0    16.85       2.46          0.0  --         0.0  "
      ]
     },
     "execution_count": 6,
     "metadata": {},
     "output_type": "execute_result"
    }
   ],
   "source": [
    "##增欄位:fluctuation幅度 tag漲跌平\n",
    "df_trend['fluctuation'] = 0.0\n",
    "df_trend['tag']='--'\n",
    "df_trend['closeshift'] = 0.0\n",
    "df_trend.head(2)"
   ]
  },
  {
   "cell_type": "code",
   "execution_count": 7,
   "metadata": {},
   "outputs": [],
   "source": [
    "# ##增欄位:fluctuation幅度 tag漲跌平\n",
    "# df_trend['fluctuation'] = 0.0\n",
    "# df_trend['tag']='--'\n",
    "\n",
    "# ###計算漲跌\n",
    "# for index, row in df_trend.iterrows():\n",
    "#     try:\n",
    "#         margin =(float(df_trend.loc[index,'收盤價(元)']) - float(df_trend.loc[index-1,'收盤價(元)']) )/ float(df_trend.loc[index-1,'收盤價(元)'])\n",
    "#         df_trend.loc[index,'fluctuation']=margin\n",
    "#         if margin >=0.03:\n",
    "#             df_trend.loc[index,'tag']='up'\n",
    "#         elif margin <= -0.03:\n",
    "#             df_trend.loc[index,'tag']='down'\n",
    "#         else:\n",
    "#             df_trend.loc[index,'tag']='even'\n",
    "#     except:\n",
    "#         continue"
   ]
  },
  {
   "cell_type": "code",
   "execution_count": 8,
   "metadata": {},
   "outputs": [
    {
     "data": {
      "text/html": [
       "<div>\n",
       "<style scoped>\n",
       "    .dataframe tbody tr th:only-of-type {\n",
       "        vertical-align: middle;\n",
       "    }\n",
       "\n",
       "    .dataframe tbody tr th {\n",
       "        vertical-align: top;\n",
       "    }\n",
       "\n",
       "    .dataframe thead th {\n",
       "        text-align: right;\n",
       "    }\n",
       "</style>\n",
       "<table border=\"1\" class=\"dataframe\">\n",
       "  <thead>\n",
       "    <tr style=\"text-align: right;\">\n",
       "      <th></th>\n",
       "      <th>證券代碼</th>\n",
       "      <th>年月日</th>\n",
       "      <th>開盤價(元)</th>\n",
       "      <th>最高價(元)</th>\n",
       "      <th>最低價(元)</th>\n",
       "      <th>收盤價(元)</th>\n",
       "      <th>成交量(千股)</th>\n",
       "      <th>成交值(千元)</th>\n",
       "      <th>成交筆數(筆)</th>\n",
       "      <th>流通在外股數(千股)</th>\n",
       "      <th>本益比-TSE</th>\n",
       "      <th>股價淨值比-TSE</th>\n",
       "      <th>fluctuation</th>\n",
       "      <th>tag</th>\n",
       "      <th>closeshift</th>\n",
       "    </tr>\n",
       "  </thead>\n",
       "  <tbody>\n",
       "    <tr>\n",
       "      <th>0</th>\n",
       "      <td>2456 奇力新</td>\n",
       "      <td>2016-01-04</td>\n",
       "      <td>80.44</td>\n",
       "      <td>81.74</td>\n",
       "      <td>78.18</td>\n",
       "      <td>80.20</td>\n",
       "      <td>4389.0</td>\n",
       "      <td>297206.0</td>\n",
       "      <td>2710</td>\n",
       "      <td>126969.0</td>\n",
       "      <td>15.89</td>\n",
       "      <td>2.32</td>\n",
       "      <td>0.0</td>\n",
       "      <td>--</td>\n",
       "      <td>NaN</td>\n",
       "    </tr>\n",
       "    <tr>\n",
       "      <th>1</th>\n",
       "      <td>2456 奇力新</td>\n",
       "      <td>2016-01-05</td>\n",
       "      <td>80.55</td>\n",
       "      <td>85.06</td>\n",
       "      <td>79.25</td>\n",
       "      <td>85.06</td>\n",
       "      <td>6701.0</td>\n",
       "      <td>468760.0</td>\n",
       "      <td>4200</td>\n",
       "      <td>126969.0</td>\n",
       "      <td>16.85</td>\n",
       "      <td>2.46</td>\n",
       "      <td>0.0</td>\n",
       "      <td>--</td>\n",
       "      <td>80.2</td>\n",
       "    </tr>\n",
       "  </tbody>\n",
       "</table>\n",
       "</div>"
      ],
      "text/plain": [
       "       證券代碼        年月日  開盤價(元)  最高價(元)  最低價(元)  收盤價(元)  成交量(千股)   成交值(千元)  \\\n",
       "0  2456 奇力新 2016-01-04   80.44   81.74   78.18   80.20   4389.0  297206.0   \n",
       "1  2456 奇力新 2016-01-05   80.55   85.06   79.25   85.06   6701.0  468760.0   \n",
       "\n",
       "   成交筆數(筆)  流通在外股數(千股)  本益比-TSE  股價淨值比-TSE  fluctuation tag  closeshift  \n",
       "0     2710    126969.0    15.89       2.32          0.0  --         NaN  \n",
       "1     4200    126969.0    16.85       2.46          0.0  --        80.2  "
      ]
     },
     "execution_count": 8,
     "metadata": {},
     "output_type": "execute_result"
    }
   ],
   "source": [
    "df_trend['closeshift'] = df_trend['收盤價(元)'].shift(periods=1)#.fillna(value=0.0, inplace=True)\n",
    "#df_trend['closeshift'].fillna(value= 0.0, inplace=True)\n",
    "df_trend.head(2)"
   ]
  },
  {
   "cell_type": "code",
   "execution_count": 9,
   "metadata": {},
   "outputs": [
    {
     "data": {
      "text/html": [
       "<div>\n",
       "<style scoped>\n",
       "    .dataframe tbody tr th:only-of-type {\n",
       "        vertical-align: middle;\n",
       "    }\n",
       "\n",
       "    .dataframe tbody tr th {\n",
       "        vertical-align: top;\n",
       "    }\n",
       "\n",
       "    .dataframe thead th {\n",
       "        text-align: right;\n",
       "    }\n",
       "</style>\n",
       "<table border=\"1\" class=\"dataframe\">\n",
       "  <thead>\n",
       "    <tr style=\"text-align: right;\">\n",
       "      <th></th>\n",
       "      <th>證券代碼</th>\n",
       "      <th>年月日</th>\n",
       "      <th>開盤價(元)</th>\n",
       "      <th>最高價(元)</th>\n",
       "      <th>最低價(元)</th>\n",
       "      <th>收盤價(元)</th>\n",
       "      <th>成交量(千股)</th>\n",
       "      <th>成交值(千元)</th>\n",
       "      <th>成交筆數(筆)</th>\n",
       "      <th>流通在外股數(千股)</th>\n",
       "      <th>本益比-TSE</th>\n",
       "      <th>股價淨值比-TSE</th>\n",
       "      <th>fluctuation</th>\n",
       "      <th>tag</th>\n",
       "      <th>closeshift</th>\n",
       "    </tr>\n",
       "  </thead>\n",
       "  <tbody>\n",
       "    <tr>\n",
       "      <th>0</th>\n",
       "      <td>2456 奇力新</td>\n",
       "      <td>2016-01-04</td>\n",
       "      <td>80.44</td>\n",
       "      <td>81.74</td>\n",
       "      <td>78.18</td>\n",
       "      <td>80.20</td>\n",
       "      <td>4389.0</td>\n",
       "      <td>297206.0</td>\n",
       "      <td>2710</td>\n",
       "      <td>126969.0</td>\n",
       "      <td>15.89</td>\n",
       "      <td>2.32</td>\n",
       "      <td>NaN</td>\n",
       "      <td>--</td>\n",
       "      <td>NaN</td>\n",
       "    </tr>\n",
       "    <tr>\n",
       "      <th>1</th>\n",
       "      <td>2456 奇力新</td>\n",
       "      <td>2016-01-05</td>\n",
       "      <td>80.55</td>\n",
       "      <td>85.06</td>\n",
       "      <td>79.25</td>\n",
       "      <td>85.06</td>\n",
       "      <td>6701.0</td>\n",
       "      <td>468760.0</td>\n",
       "      <td>4200</td>\n",
       "      <td>126969.0</td>\n",
       "      <td>16.85</td>\n",
       "      <td>2.46</td>\n",
       "      <td>0.060599</td>\n",
       "      <td>--</td>\n",
       "      <td>80.2</td>\n",
       "    </tr>\n",
       "  </tbody>\n",
       "</table>\n",
       "</div>"
      ],
      "text/plain": [
       "       證券代碼        年月日  開盤價(元)  最高價(元)  最低價(元)  收盤價(元)  成交量(千股)   成交值(千元)  \\\n",
       "0  2456 奇力新 2016-01-04   80.44   81.74   78.18   80.20   4389.0  297206.0   \n",
       "1  2456 奇力新 2016-01-05   80.55   85.06   79.25   85.06   6701.0  468760.0   \n",
       "\n",
       "   成交筆數(筆)  流通在外股數(千股)  本益比-TSE  股價淨值比-TSE  fluctuation tag  closeshift  \n",
       "0     2710    126969.0    15.89       2.32          NaN  --         NaN  \n",
       "1     4200    126969.0    16.85       2.46     0.060599  --        80.2  "
      ]
     },
     "execution_count": 9,
     "metadata": {},
     "output_type": "execute_result"
    }
   ],
   "source": [
    "df_trend['fluctuation'] = (df_trend['收盤價(元)'] - df_trend['closeshift']) / df_trend['closeshift']\n",
    "df_trend.head(2)"
   ]
  },
  {
   "cell_type": "code",
   "execution_count": 10,
   "metadata": {},
   "outputs": [
    {
     "data": {
      "text/html": [
       "<div>\n",
       "<style scoped>\n",
       "    .dataframe tbody tr th:only-of-type {\n",
       "        vertical-align: middle;\n",
       "    }\n",
       "\n",
       "    .dataframe tbody tr th {\n",
       "        vertical-align: top;\n",
       "    }\n",
       "\n",
       "    .dataframe thead th {\n",
       "        text-align: right;\n",
       "    }\n",
       "</style>\n",
       "<table border=\"1\" class=\"dataframe\">\n",
       "  <thead>\n",
       "    <tr style=\"text-align: right;\">\n",
       "      <th></th>\n",
       "      <th>證券代碼</th>\n",
       "      <th>年月日</th>\n",
       "      <th>開盤價(元)</th>\n",
       "      <th>最高價(元)</th>\n",
       "      <th>最低價(元)</th>\n",
       "      <th>收盤價(元)</th>\n",
       "      <th>成交量(千股)</th>\n",
       "      <th>成交值(千元)</th>\n",
       "      <th>成交筆數(筆)</th>\n",
       "      <th>流通在外股數(千股)</th>\n",
       "      <th>本益比-TSE</th>\n",
       "      <th>股價淨值比-TSE</th>\n",
       "      <th>fluctuation</th>\n",
       "      <th>tag</th>\n",
       "      <th>closeshift</th>\n",
       "    </tr>\n",
       "  </thead>\n",
       "  <tbody>\n",
       "    <tr>\n",
       "      <th>0</th>\n",
       "      <td>2456 奇力新</td>\n",
       "      <td>2016-01-04</td>\n",
       "      <td>80.44</td>\n",
       "      <td>81.74</td>\n",
       "      <td>78.18</td>\n",
       "      <td>80.20</td>\n",
       "      <td>4389.0</td>\n",
       "      <td>297206.0</td>\n",
       "      <td>2710</td>\n",
       "      <td>126969.0</td>\n",
       "      <td>15.89</td>\n",
       "      <td>2.32</td>\n",
       "      <td>NaN</td>\n",
       "      <td>--</td>\n",
       "      <td>NaN</td>\n",
       "    </tr>\n",
       "    <tr>\n",
       "      <th>1</th>\n",
       "      <td>2456 奇力新</td>\n",
       "      <td>2016-01-05</td>\n",
       "      <td>80.55</td>\n",
       "      <td>85.06</td>\n",
       "      <td>79.25</td>\n",
       "      <td>85.06</td>\n",
       "      <td>6701.0</td>\n",
       "      <td>468760.0</td>\n",
       "      <td>4200</td>\n",
       "      <td>126969.0</td>\n",
       "      <td>16.85</td>\n",
       "      <td>2.46</td>\n",
       "      <td>0.060599</td>\n",
       "      <td>up</td>\n",
       "      <td>80.2</td>\n",
       "    </tr>\n",
       "  </tbody>\n",
       "</table>\n",
       "</div>"
      ],
      "text/plain": [
       "       證券代碼        年月日  開盤價(元)  最高價(元)  最低價(元)  收盤價(元)  成交量(千股)   成交值(千元)  \\\n",
       "0  2456 奇力新 2016-01-04   80.44   81.74   78.18   80.20   4389.0  297206.0   \n",
       "1  2456 奇力新 2016-01-05   80.55   85.06   79.25   85.06   6701.0  468760.0   \n",
       "\n",
       "   成交筆數(筆)  流通在外股數(千股)  本益比-TSE  股價淨值比-TSE  fluctuation tag  closeshift  \n",
       "0     2710    126969.0    15.89       2.32          NaN  --         NaN  \n",
       "1     4200    126969.0    16.85       2.46     0.060599  up        80.2  "
      ]
     },
     "execution_count": 10,
     "metadata": {},
     "output_type": "execute_result"
    }
   ],
   "source": [
    "df_trend.loc[df_trend['fluctuation'] >=  pa, 'tag'] = 'up'\n",
    "df_trend.loc[df_trend['fluctuation'] <= -pa, 'tag'] = 'down'\n",
    "df_trend.loc[(df_trend['fluctuation'] >= -pae) & (df_trend['fluctuation'] <= pae), 'tag'] = 'even'\n",
    "df_trend.head(2)"
   ]
  },
  {
   "cell_type": "code",
   "execution_count": 11,
   "metadata": {},
   "outputs": [
    {
     "data": {
      "text/plain": [
       "37"
      ]
     },
     "execution_count": 11,
     "metadata": {},
     "output_type": "execute_result"
    }
   ],
   "source": [
    "len(df_trend[df_trend['tag']=='up'])"
   ]
  },
  {
   "cell_type": "code",
   "execution_count": 12,
   "metadata": {},
   "outputs": [
    {
     "data": {
      "text/plain": [
       "39"
      ]
     },
     "execution_count": 12,
     "metadata": {},
     "output_type": "execute_result"
    }
   ],
   "source": [
    "len(df_trend[df_trend['tag']=='down'])"
   ]
  },
  {
   "cell_type": "code",
   "execution_count": 13,
   "metadata": {},
   "outputs": [
    {
     "data": {
      "text/plain": [
       "90"
      ]
     },
     "execution_count": 13,
     "metadata": {},
     "output_type": "execute_result"
    }
   ],
   "source": [
    "len(df_trend[df_trend['tag']=='even'])"
   ]
  },
  {
   "cell_type": "code",
   "execution_count": 14,
   "metadata": {},
   "outputs": [
    {
     "name": "stdout",
     "output_type": "stream",
     "text": [
      "10553\n"
     ]
    },
    {
     "data": {
      "text/html": [
       "<div>\n",
       "<style scoped>\n",
       "    .dataframe tbody tr th:only-of-type {\n",
       "        vertical-align: middle;\n",
       "    }\n",
       "\n",
       "    .dataframe tbody tr th {\n",
       "        vertical-align: top;\n",
       "    }\n",
       "\n",
       "    .dataframe thead th {\n",
       "        text-align: right;\n",
       "    }\n",
       "</style>\n",
       "<table border=\"1\" class=\"dataframe\">\n",
       "  <thead>\n",
       "    <tr style=\"text-align: right;\">\n",
       "      <th></th>\n",
       "      <th>author</th>\n",
       "      <th>comment_count</th>\n",
       "      <th>content</th>\n",
       "      <th>id</th>\n",
       "      <th>p_type</th>\n",
       "      <th>page_url</th>\n",
       "      <th>post_time</th>\n",
       "      <th>s_area_name</th>\n",
       "      <th>s_name</th>\n",
       "      <th>title</th>\n",
       "      <th>post_time2</th>\n",
       "    </tr>\n",
       "  </thead>\n",
       "  <tbody>\n",
       "    <tr>\n",
       "      <th>30</th>\n",
       "      <td>時報資訊</td>\n",
       "      <td>0</td>\n",
       "      <td>台股2015年下半年跌勢洶洶，全年跌幅達10.14％，但12檔具利多題材個股，股價多頭氣盛，...</td>\n",
       "      <td>1451618809219_N01</td>\n",
       "      <td>news</td>\n",
       "      <td>https://tw.stock.yahoo.com/news_content/url/d/...</td>\n",
       "      <td>2016-01-01 10:59:00</td>\n",
       "      <td>重大要聞</td>\n",
       "      <td>yahoo股市</td>\n",
       "      <td>《熱門族群》12檔話題當紅股，完美封關</td>\n",
       "      <td>2016-01-01</td>\n",
       "    </tr>\n",
       "    <tr>\n",
       "      <th>97</th>\n",
       "      <td>鉅亨網</td>\n",
       "      <td>0</td>\n",
       "      <td>鉅亨網記者王莞甯 台北台股2015年封關日最後一檔有神秘買盤進場，強拉加權指數上漲39點，元...</td>\n",
       "      <td>1451715108530_N01</td>\n",
       "      <td>news</td>\n",
       "      <td>https://tw.stock.yahoo.com/news_content/url/d/...</td>\n",
       "      <td>2016-01-02 13:50:00</td>\n",
       "      <td>重大要聞</td>\n",
       "      <td>yahoo股市</td>\n",
       "      <td>錢冠州：總統大選不再是大變數 元月行情伺機而動！</td>\n",
       "      <td>2016-01-02</td>\n",
       "    </tr>\n",
       "  </tbody>\n",
       "</table>\n",
       "</div>"
      ],
      "text/plain": [
       "   author  comment_count                                            content  \\\n",
       "30   時報資訊              0  台股2015年下半年跌勢洶洶，全年跌幅達10.14％，但12檔具利多題材個股，股價多頭氣盛，...   \n",
       "97    鉅亨網              0  鉅亨網記者王莞甯 台北台股2015年封關日最後一檔有神秘買盤進場，強拉加權指數上漲39點，元...   \n",
       "\n",
       "                   id p_type  \\\n",
       "30  1451618809219_N01   news   \n",
       "97  1451715108530_N01   news   \n",
       "\n",
       "                                             page_url           post_time  \\\n",
       "30  https://tw.stock.yahoo.com/news_content/url/d/... 2016-01-01 10:59:00   \n",
       "97  https://tw.stock.yahoo.com/news_content/url/d/... 2016-01-02 13:50:00   \n",
       "\n",
       "   s_area_name   s_name                     title  post_time2  \n",
       "30        重大要聞  yahoo股市       《熱門族群》12檔話題當紅股，完美封關  2016-01-01  \n",
       "97        重大要聞  yahoo股市  錢冠州：總統大選不再是大變數 元月行情伺機而動！  2016-01-02  "
      ]
     },
     "execution_count": 14,
     "metadata": {},
     "output_type": "execute_result"
    }
   ],
   "source": [
    "#df_company = df_article[ df_article['content'].str.contains('國巨')]   # df 某欄位 string contains \"國巨\"\n",
    "#df_company = df_article[ df_article['content'].str.contains('奇力新')] \n",
    "#df_company = df_article[ df_article['content'].str.contains('大毅')]  \n",
    "#df_company = df_article[ df_article['content'].str.contains('同欣電 ')]\n",
    "df_company = df_article[ df_article['content'].str.contains(company_words)]   \n",
    "print(len(df_company))\n",
    "del df_article\n",
    "df_company.head(2)"
   ]
  },
  {
   "cell_type": "code",
   "execution_count": 15,
   "metadata": {},
   "outputs": [],
   "source": [
    "stopwords=list()\n",
    "with open('stopword.goatwang.kang.txt', 'r',encoding='utf-8') as data:\n",
    "    for stopword in data:\n",
    "        stopwords.append(stopword.strip('\\n'))"
   ]
  },
  {
   "cell_type": "code",
   "execution_count": 16,
   "metadata": {},
   "outputs": [
    {
     "name": "stderr",
     "output_type": "stream",
     "text": [
      "Building prefix dict from /home/barry/projects/stock/dict.idkrsi.txt ...\n",
      "Loading model from cache /tmp/jieba.ufc1c7fa02eb193cee2bb78b34d63c017.cache\n",
      "Loading model cost 0.427 seconds.\n",
      "Prefix dict has been built succesfully.\n"
     ]
    }
   ],
   "source": [
    "# 'content'全部切詞\n",
    "corpus = []  # array\n",
    "for index, row in df_company.iterrows():  \n",
    "    not_cut = df_company.loc[index,'content']\n",
    "#     not_cut = row['description']                    # 跟上一行一樣意思\n",
    "    seg_generator = jieba.cut(not_cut, cut_all=False)  # genarator\n",
    "    seglist = list(seg_generator)                     # 整篇文章string切出來的list\n",
    "#    seglist = list(filter(lambda a: a not in stopwords and a != '\\n', seglist ))  #去除停用詞 #未必需要這步驟\n",
    "    corpus.append(' '.join(seglist))          # ' '.join(seg_generator)也可\n",
    "\n",
    "df_company[\"content2\"]=corpus  "
   ]
  },
  {
   "cell_type": "code",
   "execution_count": 17,
   "metadata": {},
   "outputs": [
    {
     "data": {
      "text/html": [
       "<div>\n",
       "<style scoped>\n",
       "    .dataframe tbody tr th:only-of-type {\n",
       "        vertical-align: middle;\n",
       "    }\n",
       "\n",
       "    .dataframe tbody tr th {\n",
       "        vertical-align: top;\n",
       "    }\n",
       "\n",
       "    .dataframe thead th {\n",
       "        text-align: right;\n",
       "    }\n",
       "</style>\n",
       "<table border=\"1\" class=\"dataframe\">\n",
       "  <thead>\n",
       "    <tr style=\"text-align: right;\">\n",
       "      <th></th>\n",
       "      <th>author</th>\n",
       "      <th>comment_count</th>\n",
       "      <th>content</th>\n",
       "      <th>id</th>\n",
       "      <th>p_type</th>\n",
       "      <th>page_url</th>\n",
       "      <th>post_time</th>\n",
       "      <th>s_area_name</th>\n",
       "      <th>s_name</th>\n",
       "      <th>title</th>\n",
       "      <th>post_time2</th>\n",
       "      <th>content2</th>\n",
       "    </tr>\n",
       "  </thead>\n",
       "  <tbody>\n",
       "    <tr>\n",
       "      <th>30</th>\n",
       "      <td>時報資訊</td>\n",
       "      <td>0</td>\n",
       "      <td>台股2015年下半年跌勢洶洶，全年跌幅達10.14％，但12檔具利多題材個股，股價多頭氣盛，...</td>\n",
       "      <td>1451618809219_N01</td>\n",
       "      <td>news</td>\n",
       "      <td>https://tw.stock.yahoo.com/news_content/url/d/...</td>\n",
       "      <td>2016-01-01 10:59:00</td>\n",
       "      <td>重大要聞</td>\n",
       "      <td>yahoo股市</td>\n",
       "      <td>《熱門族群》12檔話題當紅股，完美封關</td>\n",
       "      <td>2016-01-01</td>\n",
       "      <td>台股 2015 年 下半年 跌勢 洶洶 ， 全年 跌幅 達 10.14 ％ ， 但 12 檔...</td>\n",
       "    </tr>\n",
       "    <tr>\n",
       "      <th>97</th>\n",
       "      <td>鉅亨網</td>\n",
       "      <td>0</td>\n",
       "      <td>鉅亨網記者王莞甯 台北台股2015年封關日最後一檔有神秘買盤進場，強拉加權指數上漲39點，元...</td>\n",
       "      <td>1451715108530_N01</td>\n",
       "      <td>news</td>\n",
       "      <td>https://tw.stock.yahoo.com/news_content/url/d/...</td>\n",
       "      <td>2016-01-02 13:50:00</td>\n",
       "      <td>重大要聞</td>\n",
       "      <td>yahoo股市</td>\n",
       "      <td>錢冠州：總統大選不再是大變數 元月行情伺機而動！</td>\n",
       "      <td>2016-01-02</td>\n",
       "      <td>鉅亨網 記者 王莞 甯   台北 台股 2015 年 封關日 最後 一檔 有 神秘 買盤 進...</td>\n",
       "    </tr>\n",
       "  </tbody>\n",
       "</table>\n",
       "</div>"
      ],
      "text/plain": [
       "   author  comment_count                                            content  \\\n",
       "30   時報資訊              0  台股2015年下半年跌勢洶洶，全年跌幅達10.14％，但12檔具利多題材個股，股價多頭氣盛，...   \n",
       "97    鉅亨網              0  鉅亨網記者王莞甯 台北台股2015年封關日最後一檔有神秘買盤進場，強拉加權指數上漲39點，元...   \n",
       "\n",
       "                   id p_type  \\\n",
       "30  1451618809219_N01   news   \n",
       "97  1451715108530_N01   news   \n",
       "\n",
       "                                             page_url           post_time  \\\n",
       "30  https://tw.stock.yahoo.com/news_content/url/d/... 2016-01-01 10:59:00   \n",
       "97  https://tw.stock.yahoo.com/news_content/url/d/... 2016-01-02 13:50:00   \n",
       "\n",
       "   s_area_name   s_name                     title  post_time2  \\\n",
       "30        重大要聞  yahoo股市       《熱門族群》12檔話題當紅股，完美封關  2016-01-01   \n",
       "97        重大要聞  yahoo股市  錢冠州：總統大選不再是大變數 元月行情伺機而動！  2016-01-02   \n",
       "\n",
       "                                             content2  \n",
       "30  台股 2015 年 下半年 跌勢 洶洶 ， 全年 跌幅 達 10.14 ％ ， 但 12 檔...  \n",
       "97  鉅亨網 記者 王莞 甯   台北 台股 2015 年 封關日 最後 一檔 有 神秘 買盤 進...  "
      ]
     },
     "execution_count": 17,
     "metadata": {},
     "output_type": "execute_result"
    }
   ],
   "source": [
    "df_company.head(2)"
   ]
  },
  {
   "cell_type": "code",
   "execution_count": 18,
   "metadata": {},
   "outputs": [
    {
     "data": {
      "text/plain": [
       "True"
      ]
     },
     "execution_count": 18,
     "metadata": {},
     "output_type": "execute_result"
    }
   ],
   "source": [
    "df_trend.loc[2,'年月日'].date() +  timedelta(days=-1) == df_trend.loc[1,'年月日'].date()"
   ]
  },
  {
   "cell_type": "code",
   "execution_count": 19,
   "metadata": {},
   "outputs": [
    {
     "data": {
      "text/plain": [
       "False"
      ]
     },
     "execution_count": 19,
     "metadata": {},
     "output_type": "execute_result"
    }
   ],
   "source": [
    "df_trend.loc[5,'年月日'].date() +  timedelta(days=-1) == df_trend.loc[4,'年月日'].date()"
   ]
  },
  {
   "cell_type": "code",
   "execution_count": 20,
   "metadata": {},
   "outputs": [
    {
     "data": {
      "text/plain": [
       "datetime.timedelta(1)"
      ]
     },
     "execution_count": 20,
     "metadata": {},
     "output_type": "execute_result"
    }
   ],
   "source": [
    "d = df_trend.loc[1,'年月日'].date() - df_trend.loc[ 1-1 ,'年月日'].date() #相減差幾天\n",
    "d"
   ]
  },
  {
   "cell_type": "code",
   "execution_count": 21,
   "metadata": {},
   "outputs": [
    {
     "data": {
      "text/plain": [
       "1"
      ]
     },
     "execution_count": 21,
     "metadata": {},
     "output_type": "execute_result"
    }
   ],
   "source": [
    "d.days #只取天數"
   ]
  },
  {
   "cell_type": "code",
   "execution_count": 22,
   "metadata": {},
   "outputs": [
    {
     "data": {
      "text/plain": [
       "1"
      ]
     },
     "execution_count": 22,
     "metadata": {},
     "output_type": "execute_result"
    }
   ],
   "source": [
    "int(d.days) #幾天 轉整數"
   ]
  },
  {
   "cell_type": "code",
   "execution_count": 23,
   "metadata": {},
   "outputs": [
    {
     "data": {
      "text/plain": [
       "datetime.date(2016, 1, 7)"
      ]
     },
     "execution_count": 23,
     "metadata": {},
     "output_type": "execute_result"
    }
   ],
   "source": [
    "df_trend.loc[3,'年月日'].date() "
   ]
  },
  {
   "cell_type": "code",
   "execution_count": 24,
   "metadata": {},
   "outputs": [
    {
     "data": {
      "text/html": [
       "<div>\n",
       "<style scoped>\n",
       "    .dataframe tbody tr th:only-of-type {\n",
       "        vertical-align: middle;\n",
       "    }\n",
       "\n",
       "    .dataframe tbody tr th {\n",
       "        vertical-align: top;\n",
       "    }\n",
       "\n",
       "    .dataframe thead th {\n",
       "        text-align: right;\n",
       "    }\n",
       "</style>\n",
       "<table border=\"1\" class=\"dataframe\">\n",
       "  <thead>\n",
       "    <tr style=\"text-align: right;\">\n",
       "      <th></th>\n",
       "      <th>author</th>\n",
       "      <th>comment_count</th>\n",
       "      <th>content</th>\n",
       "      <th>id</th>\n",
       "      <th>p_type</th>\n",
       "      <th>page_url</th>\n",
       "      <th>post_time</th>\n",
       "      <th>s_area_name</th>\n",
       "      <th>s_name</th>\n",
       "      <th>title</th>\n",
       "      <th>post_time2</th>\n",
       "      <th>content2</th>\n",
       "    </tr>\n",
       "  </thead>\n",
       "  <tbody>\n",
       "    <tr>\n",
       "      <th>999</th>\n",
       "      <td>Moneydj理財網</td>\n",
       "      <td>0</td>\n",
       "      <td>1.週三台股在美股重挫以及陸股再度啟動融斷機制之下，指數重挫點，指數跌破十年線，所幸尾盤大型...</td>\n",
       "      <td>1452156767683_N01</td>\n",
       "      <td>news</td>\n",
       "      <td>https://tw.stock.yahoo.com/news_content/url/d/...</td>\n",
       "      <td>2016-01-07 16:29:00</td>\n",
       "      <td>重大要聞</td>\n",
       "      <td>yahoo股市</td>\n",
       "      <td>日盛投顧：台股短線有反彈機會</td>\n",
       "      <td>2016-01-07</td>\n",
       "      <td>1 . 週三 台股 在 美股 重挫 以及 陸股 再度 啟動 融斷 機制 之下 ， 指數 重挫...</td>\n",
       "    </tr>\n",
       "  </tbody>\n",
       "</table>\n",
       "</div>"
      ],
      "text/plain": [
       "         author  comment_count  \\\n",
       "999  Moneydj理財網              0   \n",
       "\n",
       "                                               content                 id  \\\n",
       "999  1.週三台股在美股重挫以及陸股再度啟動融斷機制之下，指數重挫點，指數跌破十年線，所幸尾盤大型...  1452156767683_N01   \n",
       "\n",
       "    p_type                                           page_url  \\\n",
       "999   news  https://tw.stock.yahoo.com/news_content/url/d/...   \n",
       "\n",
       "              post_time s_area_name   s_name           title  post_time2  \\\n",
       "999 2016-01-07 16:29:00        重大要聞  yahoo股市  日盛投顧：台股短線有反彈機會  2016-01-07   \n",
       "\n",
       "                                              content2  \n",
       "999  1 . 週三 台股 在 美股 重挫 以及 陸股 再度 啟動 融斷 機制 之下 ， 指數 重挫...  "
      ]
     },
     "execution_count": 24,
     "metadata": {},
     "output_type": "execute_result"
    }
   ],
   "source": [
    "df_company[ df_company['post_time2'] == df_trend.loc[3,'年月日'].date() ].head() # 某欄位 == n 的 全部撈出來"
   ]
  },
  {
   "cell_type": "code",
   "execution_count": 25,
   "metadata": {},
   "outputs": [],
   "source": [
    "# # 演算法 \n",
    "# for index, row in df_2327.iterrows():\n",
    "#     try:\n",
    "#         if df_2327.loc[index,'年月日'].date() +  timedelta(days=-1) == df_2327.loc[index-1,'年月日'].date():                        \n",
    "#             df_forum.loc[df_forum['post_time2'] ==  df_2327.loc[index,'年月日'].date() +  timedelta(days=-1), 'label'] = df_2327.loc[index,'tag']\n",
    "#             # 如果股票前一筆差1天  # 那前1天的文章標上當天的漲跌   \n",
    "        \n",
    "#         elif df_2327.loc[index,'年月日'].date() +  timedelta(days=-2) == df_2327.loc[index-1,'年月日'].date():           \n",
    "#             df_forum.loc[df_forum['post_time2'] ==  df_2327.loc[index,'年月日'].date() +  timedelta(days=-1), 'label'] = df_2327.loc[index,'tag']\n",
    "#             df_forum.loc[df_forum['post_time2'] ==  df_2327.loc[index,'年月日'].date() +  timedelta(days=-2), 'label'] = df_2327.loc[index,'tag']\n",
    "#             # 如果股票前一筆差2天 #那前2天的文章標上當天的漲跌\n",
    "            \n",
    "#         elif df_2327.loc[index,'年月日'].date() +  timedelta(days=-3) == df_2327.loc[index-1,'年月日'].date():\n",
    "#             df_forum.loc[df_forum['post_time2'] ==  df_2327.loc[index,'年月日'].date() +  timedelta(days=-1), 'label'] = df_2327.loc[index,'tag']\n",
    "#             df_forum.loc[df_forum['post_time2'] ==  df_2327.loc[index,'年月日'].date() +  timedelta(days=-2), 'label'] = df_2327.loc[index,'tag']\n",
    "#             df_forum.loc[df_forum['post_time2'] ==  df_2327.loc[index,'年月日'].date() +  timedelta(days=-3), 'label'] = df_2327.loc[index,'tag']\n",
    "#         elif df_2327.loc[index,'年月日'].date() +  timedelta(days=-4) == df_2327.loc[index-1,'年月日'].date():\n",
    "#             df_forum.loc[df_forum['post_time2'] ==  df_2327.loc[index,'年月日'].date() +  timedelta(days=-1), 'label'] = df_2327.loc[index,'tag']\n",
    "#             df_forum.loc[df_forum['post_time2'] ==  df_2327.loc[index,'年月日'].date() +  timedelta(days=-2), 'label'] = df_2327.loc[index,'tag']\n",
    "#             df_forum.loc[df_forum['post_time2'] ==  df_2327.loc[index,'年月日'].date() +  timedelta(days=-3), 'label'] = df_2327.loc[index,'tag']\n",
    "#             df_forum.loc[df_forum['post_time2'] ==  df_2327.loc[index,'年月日'].date() +  timedelta(days=-4), 'label'] = df_2327.loc[index,'tag']\n",
    "\n",
    "\n",
    "#     except:\n",
    "#         continue"
   ]
  },
  {
   "cell_type": "code",
   "execution_count": 26,
   "metadata": {},
   "outputs": [],
   "source": [
    "# 看所有相差的天數\n",
    "# for index, row in df_2327.iterrows():\n",
    "#     try:\n",
    "#         n = df_2327.loc[index,'年月日'].date() - df_2327.loc[index-1,'年月日'].date()\n",
    "#         print(n)\n",
    "#     except:\n",
    "#         continue\n",
    "\n",
    "# 最多12天"
   ]
  },
  {
   "cell_type": "code",
   "execution_count": 27,
   "metadata": {},
   "outputs": [],
   "source": [
    "# 如果股票前一筆差n天  # 那前n天的文章標上當天的漲跌 \n",
    "df_company['label5566']='--'\n",
    "for index, row in df_trend.iterrows():\n",
    "    try:\n",
    "        n = int((df_trend.loc[index,'年月日'].date() - df_trend.loc[index-1,'年月日'].date()).days ) # 差幾個datetime # 轉天數 # 再轉整數\n",
    "#        print(n)\n",
    "\n",
    "        for i in range(1, n+1):\n",
    "#            print(i)\n",
    "            df_company.loc[df_company['post_time2'] ==  df_trend.loc[index,'年月日'].date() +  timedelta(days=-i), 'label5566'] = df_trend.loc[index,'tag']\n",
    "    except:\n",
    "        continue"
   ]
  },
  {
   "cell_type": "code",
   "execution_count": 46,
   "metadata": {},
   "outputs": [
    {
     "name": "stdout",
     "output_type": "stream",
     "text": [
      "1284\n"
     ]
    },
    {
     "data": {
      "text/html": [
       "<div>\n",
       "<style scoped>\n",
       "    .dataframe tbody tr th:only-of-type {\n",
       "        vertical-align: middle;\n",
       "    }\n",
       "\n",
       "    .dataframe tbody tr th {\n",
       "        vertical-align: top;\n",
       "    }\n",
       "\n",
       "    .dataframe thead th {\n",
       "        text-align: right;\n",
       "    }\n",
       "</style>\n",
       "<table border=\"1\" class=\"dataframe\">\n",
       "  <thead>\n",
       "    <tr style=\"text-align: right;\">\n",
       "      <th></th>\n",
       "      <th>author</th>\n",
       "      <th>comment_count</th>\n",
       "      <th>content</th>\n",
       "      <th>id</th>\n",
       "      <th>p_type</th>\n",
       "      <th>page_url</th>\n",
       "      <th>post_time</th>\n",
       "      <th>s_area_name</th>\n",
       "      <th>s_name</th>\n",
       "      <th>title</th>\n",
       "      <th>post_time2</th>\n",
       "      <th>content2</th>\n",
       "      <th>label5566</th>\n",
       "    </tr>\n",
       "  </thead>\n",
       "  <tbody>\n",
       "    <tr>\n",
       "      <th>1522</th>\n",
       "      <td>財訊快報</td>\n",
       "      <td>0</td>\n",
       "      <td>◆全台勞檢啟動，11類行業小心，其中284家電子零組件企業，實施全面普查。&lt;BR&gt; ◆海外分...</td>\n",
       "      <td>1452472319234_N01</td>\n",
       "      <td>news</td>\n",
       "      <td>https://tw.stock.yahoo.com/news_content/url/d/...</td>\n",
       "      <td>2016-01-11 08:05:00</td>\n",
       "      <td>重大要聞</td>\n",
       "      <td>yahoo股市</td>\n",
       "      <td>工商時報晨訊</td>\n",
       "      <td>2016-01-11</td>\n",
       "      <td>◆ 全台 勞檢 啟動 ， 11 類 行業 小心 ， 其中 284 家 電子 零組件 企業 ，...</td>\n",
       "      <td>down</td>\n",
       "    </tr>\n",
       "    <tr>\n",
       "      <th>1530</th>\n",
       "      <td>時報資訊</td>\n",
       "      <td>0</td>\n",
       "      <td>陸股暫停熔斷機制，減緩市場對於系統性風險的疑慮，法人指出，台股短線壓力仍大，若結構出現惡化現...</td>\n",
       "      <td>1452472329341_N01</td>\n",
       "      <td>news</td>\n",
       "      <td>https://tw.stock.yahoo.com/news_content/url/d/...</td>\n",
       "      <td>2016-01-11 08:15:00</td>\n",
       "      <td>重大要聞</td>\n",
       "      <td>yahoo股市</td>\n",
       "      <td>《基金》全球經濟趨緩，慎選台股標的</td>\n",
       "      <td>2016-01-11</td>\n",
       "      <td>陸股 暫停 熔斷 機制 ， 減緩 市場 對於 系統性 風險 的 疑慮 ， 法人 指出 ， 台...</td>\n",
       "      <td>down</td>\n",
       "    </tr>\n",
       "  </tbody>\n",
       "</table>\n",
       "</div>"
      ],
      "text/plain": [
       "     author  comment_count                                            content  \\\n",
       "1522   財訊快報              0  ◆全台勞檢啟動，11類行業小心，其中284家電子零組件企業，實施全面普查。<BR> ◆海外分...   \n",
       "1530   時報資訊              0  陸股暫停熔斷機制，減緩市場對於系統性風險的疑慮，法人指出，台股短線壓力仍大，若結構出現惡化現...   \n",
       "\n",
       "                     id p_type  \\\n",
       "1522  1452472319234_N01   news   \n",
       "1530  1452472329341_N01   news   \n",
       "\n",
       "                                               page_url           post_time  \\\n",
       "1522  https://tw.stock.yahoo.com/news_content/url/d/... 2016-01-11 08:05:00   \n",
       "1530  https://tw.stock.yahoo.com/news_content/url/d/... 2016-01-11 08:15:00   \n",
       "\n",
       "     s_area_name   s_name              title  post_time2  \\\n",
       "1522        重大要聞  yahoo股市             工商時報晨訊  2016-01-11   \n",
       "1530        重大要聞  yahoo股市  《基金》全球經濟趨緩，慎選台股標的  2016-01-11   \n",
       "\n",
       "                                               content2 label5566  \n",
       "1522  ◆ 全台 勞檢 啟動 ， 11 類 行業 小心 ， 其中 284 家 電子 零組件 企業 ，...      down  \n",
       "1530  陸股 暫停 熔斷 機制 ， 減緩 市場 對於 系統性 風險 的 疑慮 ， 法人 指出 ， 台...      down  "
      ]
     },
     "execution_count": 46,
     "metadata": {},
     "output_type": "execute_result"
    }
   ],
   "source": [
    "print(len(df_company[df_company['label5566']=='down']))\n",
    "df_company[df_company['label5566']=='down'].head(2)"
   ]
  },
  {
   "cell_type": "code",
   "execution_count": 47,
   "metadata": {},
   "outputs": [
    {
     "name": "stdout",
     "output_type": "stream",
     "text": [
      "891\n"
     ]
    },
    {
     "data": {
      "text/html": [
       "<div>\n",
       "<style scoped>\n",
       "    .dataframe tbody tr th:only-of-type {\n",
       "        vertical-align: middle;\n",
       "    }\n",
       "\n",
       "    .dataframe tbody tr th {\n",
       "        vertical-align: top;\n",
       "    }\n",
       "\n",
       "    .dataframe thead th {\n",
       "        text-align: right;\n",
       "    }\n",
       "</style>\n",
       "<table border=\"1\" class=\"dataframe\">\n",
       "  <thead>\n",
       "    <tr style=\"text-align: right;\">\n",
       "      <th></th>\n",
       "      <th>author</th>\n",
       "      <th>comment_count</th>\n",
       "      <th>content</th>\n",
       "      <th>id</th>\n",
       "      <th>p_type</th>\n",
       "      <th>page_url</th>\n",
       "      <th>post_time</th>\n",
       "      <th>s_area_name</th>\n",
       "      <th>s_name</th>\n",
       "      <th>title</th>\n",
       "      <th>post_time2</th>\n",
       "      <th>content2</th>\n",
       "      <th>label5566</th>\n",
       "    </tr>\n",
       "  </thead>\n",
       "  <tbody>\n",
       "    <tr>\n",
       "      <th>222</th>\n",
       "      <td>財訊快報</td>\n",
       "      <td>0</td>\n",
       "      <td>◆千億科技預算，張善政喊加碼，主計總處初步匡列1 061億、年增3%，可能再調高。&lt;BR&gt; ...</td>\n",
       "      <td>1451867210012_N01</td>\n",
       "      <td>news</td>\n",
       "      <td>https://tw.stock.yahoo.com/news_content/url/d/...</td>\n",
       "      <td>2016-01-04 07:56:00</td>\n",
       "      <td>重大要聞</td>\n",
       "      <td>yahoo股市</td>\n",
       "      <td>工商時報晨訊</td>\n",
       "      <td>2016-01-04</td>\n",
       "      <td>◆ 千億 科技 預算 ， 張善政 喊 加碼 ， 主計 總處 初步 匡列 1   061 億 ...</td>\n",
       "      <td>up</td>\n",
       "    </tr>\n",
       "    <tr>\n",
       "      <th>289</th>\n",
       "      <td>時報資訊</td>\n",
       "      <td>0</td>\n",
       "      <td>2016年開紅盤日，台股狂洩逾200點！儘管2015年最後一個交易日拉尾盤，守住8300點，...</td>\n",
       "      <td>1451879808470_N01</td>\n",
       "      <td>news</td>\n",
       "      <td>https://tw.stock.yahoo.com/news_content/url/d/...</td>\n",
       "      <td>2016-01-04 11:34:00</td>\n",
       "      <td>重大要聞</td>\n",
       "      <td>yahoo股市</td>\n",
       "      <td>《盤中解析》紅盤日變臉，台股狂洩逾200點</td>\n",
       "      <td>2016-01-04</td>\n",
       "      <td>2016 年開 紅盤 日 ， 台股 狂洩 逾 200 點 ！ 儘管 2015 年 最後 一個...</td>\n",
       "      <td>up</td>\n",
       "    </tr>\n",
       "  </tbody>\n",
       "</table>\n",
       "</div>"
      ],
      "text/plain": [
       "    author  comment_count                                            content  \\\n",
       "222   財訊快報              0  ◆千億科技預算，張善政喊加碼，主計總處初步匡列1 061億、年增3%，可能再調高。<BR> ...   \n",
       "289   時報資訊              0  2016年開紅盤日，台股狂洩逾200點！儘管2015年最後一個交易日拉尾盤，守住8300點，...   \n",
       "\n",
       "                    id p_type  \\\n",
       "222  1451867210012_N01   news   \n",
       "289  1451879808470_N01   news   \n",
       "\n",
       "                                              page_url           post_time  \\\n",
       "222  https://tw.stock.yahoo.com/news_content/url/d/... 2016-01-04 07:56:00   \n",
       "289  https://tw.stock.yahoo.com/news_content/url/d/... 2016-01-04 11:34:00   \n",
       "\n",
       "    s_area_name   s_name                  title  post_time2  \\\n",
       "222        重大要聞  yahoo股市                 工商時報晨訊  2016-01-04   \n",
       "289        重大要聞  yahoo股市  《盤中解析》紅盤日變臉，台股狂洩逾200點  2016-01-04   \n",
       "\n",
       "                                              content2 label5566  \n",
       "222  ◆ 千億 科技 預算 ， 張善政 喊 加碼 ， 主計 總處 初步 匡列 1   061 億 ...        up  \n",
       "289  2016 年開 紅盤 日 ， 台股 狂洩 逾 200 點 ！ 儘管 2015 年 最後 一個...        up  "
      ]
     },
     "execution_count": 47,
     "metadata": {},
     "output_type": "execute_result"
    }
   ],
   "source": [
    "print(len(df_company[df_company['label5566']=='up']))\n",
    "df_company[df_company['label5566']=='up'].head(2)"
   ]
  },
  {
   "cell_type": "code",
   "execution_count": 48,
   "metadata": {},
   "outputs": [
    {
     "name": "stdout",
     "output_type": "stream",
     "text": [
      "911\n"
     ]
    },
    {
     "data": {
      "text/html": [
       "<div>\n",
       "<style scoped>\n",
       "    .dataframe tbody tr th:only-of-type {\n",
       "        vertical-align: middle;\n",
       "    }\n",
       "\n",
       "    .dataframe tbody tr th {\n",
       "        vertical-align: top;\n",
       "    }\n",
       "\n",
       "    .dataframe thead th {\n",
       "        text-align: right;\n",
       "    }\n",
       "</style>\n",
       "<table border=\"1\" class=\"dataframe\">\n",
       "  <thead>\n",
       "    <tr style=\"text-align: right;\">\n",
       "      <th></th>\n",
       "      <th>author</th>\n",
       "      <th>comment_count</th>\n",
       "      <th>content</th>\n",
       "      <th>id</th>\n",
       "      <th>p_type</th>\n",
       "      <th>page_url</th>\n",
       "      <th>post_time</th>\n",
       "      <th>s_area_name</th>\n",
       "      <th>s_name</th>\n",
       "      <th>title</th>\n",
       "      <th>post_time2</th>\n",
       "      <th>content2</th>\n",
       "      <th>label5566</th>\n",
       "    </tr>\n",
       "  </thead>\n",
       "  <tbody>\n",
       "    <tr>\n",
       "      <th>3121</th>\n",
       "      <td>鉅亨網</td>\n",
       "      <td>0</td>\n",
       "      <td>受到月線反壓、外資籌碼面持續偏保守的影響下，台股期現貨今(20)日同步下壓，加權指數開低走低...</td>\n",
       "      <td>1453258680867_N01</td>\n",
       "      <td>news</td>\n",
       "      <td>https://tw.stock.yahoo.com/news_content/url/d/...</td>\n",
       "      <td>2016-01-20 10:42:00</td>\n",
       "      <td>重大要聞</td>\n",
       "      <td>yahoo股市</td>\n",
       "      <td>台股盤中─個股漲勢稀落 指數一度大跌百點 台指期難拉高結算</td>\n",
       "      <td>2016-01-20</td>\n",
       "      <td>受到 月線 反壓 、 外資 籌碼面 持續 偏 保守 的 影響 下 ， 台股 期 現貨 今 (...</td>\n",
       "      <td>even</td>\n",
       "    </tr>\n",
       "    <tr>\n",
       "      <th>3192</th>\n",
       "      <td>Moneydj理財網</td>\n",
       "      <td>0</td>\n",
       "      <td>1.歐美股市走穩，不過受期指結算影響，台股週三開低，加上港股重挫，指數震盪走低，盤面上部份生...</td>\n",
       "      <td>1453281180692_N01</td>\n",
       "      <td>news</td>\n",
       "      <td>https://tw.stock.yahoo.com/news_content/url/d/...</td>\n",
       "      <td>2016-01-20 16:16:00</td>\n",
       "      <td>重大要聞</td>\n",
       "      <td>yahoo股市</td>\n",
       "      <td>日盛投顧：台股短線參考區間7600-7900</td>\n",
       "      <td>2016-01-20</td>\n",
       "      <td>1 . 歐美 股市 走穩 ， 不過 受 期指 結算 影響 ， 台股 週三 開低 ， 加上 港...</td>\n",
       "      <td>even</td>\n",
       "    </tr>\n",
       "  </tbody>\n",
       "</table>\n",
       "</div>"
      ],
      "text/plain": [
       "          author  comment_count  \\\n",
       "3121         鉅亨網              0   \n",
       "3192  Moneydj理財網              0   \n",
       "\n",
       "                                                content                 id  \\\n",
       "3121  受到月線反壓、外資籌碼面持續偏保守的影響下，台股期現貨今(20)日同步下壓，加權指數開低走低...  1453258680867_N01   \n",
       "3192  1.歐美股市走穩，不過受期指結算影響，台股週三開低，加上港股重挫，指數震盪走低，盤面上部份生...  1453281180692_N01   \n",
       "\n",
       "     p_type                                           page_url  \\\n",
       "3121   news  https://tw.stock.yahoo.com/news_content/url/d/...   \n",
       "3192   news  https://tw.stock.yahoo.com/news_content/url/d/...   \n",
       "\n",
       "               post_time s_area_name   s_name                          title  \\\n",
       "3121 2016-01-20 10:42:00        重大要聞  yahoo股市  台股盤中─個股漲勢稀落 指數一度大跌百點 台指期難拉高結算   \n",
       "3192 2016-01-20 16:16:00        重大要聞  yahoo股市         日盛投顧：台股短線參考區間7600-7900   \n",
       "\n",
       "      post_time2                                           content2 label5566  \n",
       "3121  2016-01-20  受到 月線 反壓 、 外資 籌碼面 持續 偏 保守 的 影響 下 ， 台股 期 現貨 今 (...      even  \n",
       "3192  2016-01-20  1 . 歐美 股市 走穩 ， 不過 受 期指 結算 影響 ， 台股 週三 開低 ， 加上 港...      even  "
      ]
     },
     "execution_count": 48,
     "metadata": {},
     "output_type": "execute_result"
    }
   ],
   "source": [
    "print(len(df_company[df_company['label5566']=='even']))\n",
    "df_company[df_company['label5566']=='even'].head(2)"
   ]
  },
  {
   "cell_type": "code",
   "execution_count": 50,
   "metadata": {},
   "outputs": [],
   "source": [
    "#df_company2 = df_company[df_company['label5566'].str.contains('up|down|even')]\n",
    "#df_company2.to_csv('5pa.csv')"
   ]
  },
  {
   "cell_type": "code",
   "execution_count": 51,
   "metadata": {},
   "outputs": [
    {
     "name": "stdout",
     "output_type": "stream",
     "text": [
      "3405\n",
      "<class 'list'>\n"
     ]
    },
    {
     "data": {
      "text/plain": [
       "['營收', '交易', '成長', '上漲', '外資', '法人', '增加', '下跌', '獲利', '股']"
      ]
     },
     "execution_count": 51,
     "metadata": {},
     "output_type": "execute_result"
    }
   ],
   "source": [
    "import re\n",
    "features = []   # features=list()\n",
    "with open('finance.words.txt', 'r',encoding='utf-8') as data:\n",
    "    for line in data:\n",
    "#        line = re.sub('[a-zA-Z0-9\\W]', '', line)                     # 把數字英文去掉\n",
    "        line = re.sub('[0-9]', '', line)                              # 把數字去掉\n",
    "        features.append(line.replace('\\n', '').replace(' ', ''))      # 空格 \\n去掉\n",
    "\n",
    "print(len(features))\n",
    "print(type(features))\n",
    "features[:10]"
   ]
  },
  {
   "cell_type": "code",
   "execution_count": 52,
   "metadata": {},
   "outputs": [],
   "source": [
    "#df_keyword1 = pd.read_csv(\"final_higher_tf_idf_part.csv\",encoding=\"utf-8\") #上漲形容詞\n",
    "#df_keyword2 = pd.read_csv(\"final_lower_tf_idf_part.csv\",encoding=\"utf-8\")  #下跌形容詞\n",
    "#df_keyword = pd.concat([df_keyword1,df_keyword2])\n",
    "#del df_keyword1,df_keyword2\n",
    "#df_keyword.head()"
   ]
  },
  {
   "cell_type": "code",
   "execution_count": 53,
   "metadata": {},
   "outputs": [],
   "source": [
    "#features = df_keyword['key'].to_numpy()\n",
    "#features"
   ]
  },
  {
   "cell_type": "code",
   "execution_count": 54,
   "metadata": {},
   "outputs": [
    {
     "data": {
      "text/html": [
       "<div>\n",
       "<style scoped>\n",
       "    .dataframe tbody tr th:only-of-type {\n",
       "        vertical-align: middle;\n",
       "    }\n",
       "\n",
       "    .dataframe tbody tr th {\n",
       "        vertical-align: top;\n",
       "    }\n",
       "\n",
       "    .dataframe thead th {\n",
       "        text-align: right;\n",
       "    }\n",
       "</style>\n",
       "<table border=\"1\" class=\"dataframe\">\n",
       "  <thead>\n",
       "    <tr style=\"text-align: right;\">\n",
       "      <th></th>\n",
       "      <th>營收</th>\n",
       "      <th>交易</th>\n",
       "      <th>成長</th>\n",
       "      <th>上漲</th>\n",
       "      <th>外資</th>\n",
       "      <th>法人</th>\n",
       "      <th>增加</th>\n",
       "      <th>下跌</th>\n",
       "      <th>獲利</th>\n",
       "      <th>股</th>\n",
       "      <th>...</th>\n",
       "      <th>跌停價</th>\n",
       "      <th>死魚</th>\n",
       "      <th>抬轎</th>\n",
       "      <th>高殖利率股</th>\n",
       "      <th>不弱</th>\n",
       "      <th>有守</th>\n",
       "      <th>續貶</th>\n",
       "      <th>跌回</th>\n",
       "      <th>轉空</th>\n",
       "      <th>執行率</th>\n",
       "    </tr>\n",
       "  </thead>\n",
       "  <tbody>\n",
       "    <tr>\n",
       "      <th>30</th>\n",
       "      <td>0.0</td>\n",
       "      <td>0.0</td>\n",
       "      <td>0.0</td>\n",
       "      <td>0.056979</td>\n",
       "      <td>0.000000</td>\n",
       "      <td>0.0</td>\n",
       "      <td>0.0</td>\n",
       "      <td>0.0</td>\n",
       "      <td>0.0</td>\n",
       "      <td>0.0</td>\n",
       "      <td>...</td>\n",
       "      <td>0.0</td>\n",
       "      <td>0.0</td>\n",
       "      <td>0.0</td>\n",
       "      <td>0.0</td>\n",
       "      <td>0.0</td>\n",
       "      <td>0.0</td>\n",
       "      <td>0.0</td>\n",
       "      <td>0.0</td>\n",
       "      <td>0.0</td>\n",
       "      <td>0.0</td>\n",
       "    </tr>\n",
       "    <tr>\n",
       "      <th>97</th>\n",
       "      <td>0.0</td>\n",
       "      <td>0.0</td>\n",
       "      <td>0.0</td>\n",
       "      <td>0.042293</td>\n",
       "      <td>0.036978</td>\n",
       "      <td>0.0</td>\n",
       "      <td>0.0</td>\n",
       "      <td>0.0</td>\n",
       "      <td>0.0</td>\n",
       "      <td>0.0</td>\n",
       "      <td>...</td>\n",
       "      <td>0.0</td>\n",
       "      <td>0.0</td>\n",
       "      <td>0.0</td>\n",
       "      <td>0.0</td>\n",
       "      <td>0.0</td>\n",
       "      <td>0.0</td>\n",
       "      <td>0.0</td>\n",
       "      <td>0.0</td>\n",
       "      <td>0.0</td>\n",
       "      <td>0.0</td>\n",
       "    </tr>\n",
       "  </tbody>\n",
       "</table>\n",
       "<p>2 rows × 3405 columns</p>\n",
       "</div>"
      ],
      "text/plain": [
       "     營收   交易   成長        上漲        外資   法人   增加   下跌   獲利    股  ...  跌停價   死魚  \\\n",
       "30  0.0  0.0  0.0  0.056979  0.000000  0.0  0.0  0.0  0.0  0.0  ...  0.0  0.0   \n",
       "97  0.0  0.0  0.0  0.042293  0.036978  0.0  0.0  0.0  0.0  0.0  ...  0.0  0.0   \n",
       "\n",
       "     抬轎  高殖利率股   不弱   有守   續貶   跌回   轉空  執行率  \n",
       "30  0.0    0.0  0.0  0.0  0.0  0.0  0.0  0.0  \n",
       "97  0.0    0.0  0.0  0.0  0.0  0.0  0.0  0.0  \n",
       "\n",
       "[2 rows x 3405 columns]"
      ]
     },
     "execution_count": 54,
     "metadata": {},
     "output_type": "execute_result"
    }
   ],
   "source": [
    "from sklearn.feature_extraction.text import TfidfVectorizer\n",
    "\n",
    "#features = [ '上漲','下跌','看好','走高','走低','漲停','跌停']\n",
    "#features = features[:1000]\n",
    "#cv = TfidfVectorizer()   #預設有空格就一個feature\n",
    "cv = TfidfVectorizer(vocabulary = features) # 設定自己要的詞 \n",
    "\n",
    "r = pd.SparseDataFrame(cv.fit_transform(df_company['content2']), \n",
    "                       df_company.index,\n",
    "                       cv.get_feature_names(), \n",
    "                       default_fill_value=0)\n",
    "\n",
    "r.fillna(value=0.0, inplace=True)\n",
    "r.head(2)"
   ]
  },
  {
   "cell_type": "code",
   "execution_count": 55,
   "metadata": {},
   "outputs": [],
   "source": [
    "# from sklearn.feature_extraction.text import CountVectorizer\n",
    "\n",
    "# #features = [ '上漲','下跌','看好','走高','走低','漲停','跌停']\n",
    "# #features = features[:1000]\n",
    "# #cv = CountVectorizer()   #預設有空格就一個feature\n",
    "# cv = CountVectorizer(vocabulary = features) # 設定自己要的詞 \n",
    "\n",
    "# r = pd.SparseDataFrame(cv.fit_transform(df_company['content2']), \n",
    "#                        df_company.index,\n",
    "#                        cv.get_feature_names(), \n",
    "#                        default_fill_value=0)\n",
    "\n",
    "# r.head(2)"
   ]
  },
  {
   "cell_type": "code",
   "execution_count": 56,
   "metadata": {},
   "outputs": [
    {
     "data": {
      "text/html": [
       "<div>\n",
       "<style scoped>\n",
       "    .dataframe tbody tr th:only-of-type {\n",
       "        vertical-align: middle;\n",
       "    }\n",
       "\n",
       "    .dataframe tbody tr th {\n",
       "        vertical-align: top;\n",
       "    }\n",
       "\n",
       "    .dataframe thead th {\n",
       "        text-align: right;\n",
       "    }\n",
       "</style>\n",
       "<table border=\"1\" class=\"dataframe\">\n",
       "  <thead>\n",
       "    <tr style=\"text-align: right;\">\n",
       "      <th></th>\n",
       "      <th>author</th>\n",
       "      <th>comment_count</th>\n",
       "      <th>content</th>\n",
       "      <th>id</th>\n",
       "      <th>p_type</th>\n",
       "      <th>page_url</th>\n",
       "      <th>post_time</th>\n",
       "      <th>s_area_name</th>\n",
       "      <th>s_name</th>\n",
       "      <th>title</th>\n",
       "      <th>...</th>\n",
       "      <th>跌停價</th>\n",
       "      <th>死魚</th>\n",
       "      <th>抬轎</th>\n",
       "      <th>高殖利率股</th>\n",
       "      <th>不弱</th>\n",
       "      <th>有守</th>\n",
       "      <th>續貶</th>\n",
       "      <th>跌回</th>\n",
       "      <th>轉空</th>\n",
       "      <th>執行率</th>\n",
       "    </tr>\n",
       "  </thead>\n",
       "  <tbody>\n",
       "    <tr>\n",
       "      <th>30</th>\n",
       "      <td>時報資訊</td>\n",
       "      <td>0</td>\n",
       "      <td>台股2015年下半年跌勢洶洶，全年跌幅達10.14％，但12檔具利多題材個股，股價多頭氣盛，...</td>\n",
       "      <td>1451618809219_N01</td>\n",
       "      <td>news</td>\n",
       "      <td>https://tw.stock.yahoo.com/news_content/url/d/...</td>\n",
       "      <td>2016-01-01 10:59:00</td>\n",
       "      <td>重大要聞</td>\n",
       "      <td>yahoo股市</td>\n",
       "      <td>《熱門族群》12檔話題當紅股，完美封關</td>\n",
       "      <td>...</td>\n",
       "      <td>0.0</td>\n",
       "      <td>0.0</td>\n",
       "      <td>0.0</td>\n",
       "      <td>0.0</td>\n",
       "      <td>0.0</td>\n",
       "      <td>0.0</td>\n",
       "      <td>0.0</td>\n",
       "      <td>0.0</td>\n",
       "      <td>0.0</td>\n",
       "      <td>0.0</td>\n",
       "    </tr>\n",
       "    <tr>\n",
       "      <th>97</th>\n",
       "      <td>鉅亨網</td>\n",
       "      <td>0</td>\n",
       "      <td>鉅亨網記者王莞甯 台北台股2015年封關日最後一檔有神秘買盤進場，強拉加權指數上漲39點，元...</td>\n",
       "      <td>1451715108530_N01</td>\n",
       "      <td>news</td>\n",
       "      <td>https://tw.stock.yahoo.com/news_content/url/d/...</td>\n",
       "      <td>2016-01-02 13:50:00</td>\n",
       "      <td>重大要聞</td>\n",
       "      <td>yahoo股市</td>\n",
       "      <td>錢冠州：總統大選不再是大變數 元月行情伺機而動！</td>\n",
       "      <td>...</td>\n",
       "      <td>0.0</td>\n",
       "      <td>0.0</td>\n",
       "      <td>0.0</td>\n",
       "      <td>0.0</td>\n",
       "      <td>0.0</td>\n",
       "      <td>0.0</td>\n",
       "      <td>0.0</td>\n",
       "      <td>0.0</td>\n",
       "      <td>0.0</td>\n",
       "      <td>0.0</td>\n",
       "    </tr>\n",
       "  </tbody>\n",
       "</table>\n",
       "<p>2 rows × 3418 columns</p>\n",
       "</div>"
      ],
      "text/plain": [
       "   author  comment_count                                            content  \\\n",
       "30   時報資訊              0  台股2015年下半年跌勢洶洶，全年跌幅達10.14％，但12檔具利多題材個股，股價多頭氣盛，...   \n",
       "97    鉅亨網              0  鉅亨網記者王莞甯 台北台股2015年封關日最後一檔有神秘買盤進場，強拉加權指數上漲39點，元...   \n",
       "\n",
       "                   id p_type  \\\n",
       "30  1451618809219_N01   news   \n",
       "97  1451715108530_N01   news   \n",
       "\n",
       "                                             page_url           post_time  \\\n",
       "30  https://tw.stock.yahoo.com/news_content/url/d/... 2016-01-01 10:59:00   \n",
       "97  https://tw.stock.yahoo.com/news_content/url/d/... 2016-01-02 13:50:00   \n",
       "\n",
       "   s_area_name   s_name                     title  ...  跌停價   死魚   抬轎  高殖利率股  \\\n",
       "30        重大要聞  yahoo股市       《熱門族群》12檔話題當紅股，完美封關  ...  0.0  0.0  0.0    0.0   \n",
       "97        重大要聞  yahoo股市  錢冠州：總統大選不再是大變數 元月行情伺機而動！  ...  0.0  0.0  0.0    0.0   \n",
       "\n",
       "     不弱   有守   續貶   跌回   轉空  執行率  \n",
       "30  0.0  0.0  0.0  0.0  0.0  0.0  \n",
       "97  0.0  0.0  0.0  0.0  0.0  0.0  \n",
       "\n",
       "[2 rows x 3418 columns]"
      ]
     },
     "execution_count": 56,
     "metadata": {},
     "output_type": "execute_result"
    }
   ],
   "source": [
    "df_company2 = pd.concat([df_company,r], axis=1)\n",
    "df_company2.head(2)"
   ]
  },
  {
   "cell_type": "code",
   "execution_count": 62,
   "metadata": {},
   "outputs": [
    {
     "name": "stderr",
     "output_type": "stream",
     "text": [
      "/home/barry/miniconda3/envs/stockenv/lib/python3.6/site-packages/pandas/core/frame.py:4034: SettingWithCopyWarning: \n",
      "A value is trying to be set on a copy of a slice from a DataFrame\n",
      "\n",
      "See the caveats in the documentation: http://pandas.pydata.org/pandas-docs/stable/indexing.html#indexing-view-versus-copy\n",
      "  downcast=downcast, **kwargs)\n"
     ]
    },
    {
     "data": {
      "text/html": [
       "<div>\n",
       "<style scoped>\n",
       "    .dataframe tbody tr th:only-of-type {\n",
       "        vertical-align: middle;\n",
       "    }\n",
       "\n",
       "    .dataframe tbody tr th {\n",
       "        vertical-align: top;\n",
       "    }\n",
       "\n",
       "    .dataframe thead th {\n",
       "        text-align: right;\n",
       "    }\n",
       "</style>\n",
       "<table border=\"1\" class=\"dataframe\">\n",
       "  <thead>\n",
       "    <tr style=\"text-align: right;\">\n",
       "      <th></th>\n",
       "      <th>營收</th>\n",
       "      <th>交易</th>\n",
       "      <th>成長</th>\n",
       "      <th>上漲</th>\n",
       "      <th>外資</th>\n",
       "      <th>法人</th>\n",
       "      <th>增加</th>\n",
       "      <th>下跌</th>\n",
       "      <th>獲利</th>\n",
       "      <th>股</th>\n",
       "      <th>...</th>\n",
       "      <th>跌停價</th>\n",
       "      <th>死魚</th>\n",
       "      <th>抬轎</th>\n",
       "      <th>高殖利率股</th>\n",
       "      <th>不弱</th>\n",
       "      <th>有守</th>\n",
       "      <th>續貶</th>\n",
       "      <th>跌回</th>\n",
       "      <th>轉空</th>\n",
       "      <th>執行率</th>\n",
       "    </tr>\n",
       "  </thead>\n",
       "  <tbody>\n",
       "    <tr>\n",
       "      <th>222</th>\n",
       "      <td>0.035882</td>\n",
       "      <td>0.057439</td>\n",
       "      <td>0.114125</td>\n",
       "      <td>0.0</td>\n",
       "      <td>0.032471</td>\n",
       "      <td>0.000000</td>\n",
       "      <td>0.0</td>\n",
       "      <td>0.041307</td>\n",
       "      <td>0.039377</td>\n",
       "      <td>0.0</td>\n",
       "      <td>...</td>\n",
       "      <td>0.0</td>\n",
       "      <td>0.0</td>\n",
       "      <td>0.0</td>\n",
       "      <td>0.0</td>\n",
       "      <td>0.0</td>\n",
       "      <td>0.0</td>\n",
       "      <td>0.00000</td>\n",
       "      <td>0.0</td>\n",
       "      <td>0.0</td>\n",
       "      <td>0.0</td>\n",
       "    </tr>\n",
       "    <tr>\n",
       "      <th>289</th>\n",
       "      <td>0.000000</td>\n",
       "      <td>0.000000</td>\n",
       "      <td>0.000000</td>\n",
       "      <td>0.0</td>\n",
       "      <td>0.070488</td>\n",
       "      <td>0.048611</td>\n",
       "      <td>0.0</td>\n",
       "      <td>0.239114</td>\n",
       "      <td>0.028493</td>\n",
       "      <td>0.0</td>\n",
       "      <td>...</td>\n",
       "      <td>0.0</td>\n",
       "      <td>0.0</td>\n",
       "      <td>0.0</td>\n",
       "      <td>0.0</td>\n",
       "      <td>0.0</td>\n",
       "      <td>0.0</td>\n",
       "      <td>0.08156</td>\n",
       "      <td>0.0</td>\n",
       "      <td>0.0</td>\n",
       "      <td>0.0</td>\n",
       "    </tr>\n",
       "  </tbody>\n",
       "</table>\n",
       "<p>2 rows × 3405 columns</p>\n",
       "</div>"
      ],
      "text/plain": [
       "           營收        交易        成長   上漲        外資        法人   增加        下跌  \\\n",
       "222  0.035882  0.057439  0.114125  0.0  0.032471  0.000000  0.0  0.041307   \n",
       "289  0.000000  0.000000  0.000000  0.0  0.070488  0.048611  0.0  0.239114   \n",
       "\n",
       "           獲利    股  ...  跌停價   死魚   抬轎  高殖利率股   不弱   有守       續貶   跌回   轉空  \\\n",
       "222  0.039377  0.0  ...  0.0  0.0  0.0    0.0  0.0  0.0  0.00000  0.0  0.0   \n",
       "289  0.028493  0.0  ...  0.0  0.0  0.0    0.0  0.0  0.0  0.08156  0.0  0.0   \n",
       "\n",
       "     執行率  \n",
       "222  0.0  \n",
       "289  0.0  \n",
       "\n",
       "[2 rows x 3405 columns]"
      ]
     },
     "execution_count": 62,
     "metadata": {},
     "output_type": "execute_result"
    }
   ],
   "source": [
    "df_company2 = df_company2[df_company2['label5566'].str.contains('up|down|even')]   #只取漲跌\n",
    "Y = df_company2['label5566']\n",
    "X = df_company2[features]\n",
    "X.fillna(value=0.0, inplace=True)\n",
    "X.head(2)"
   ]
  },
  {
   "cell_type": "code",
   "execution_count": 63,
   "metadata": {},
   "outputs": [
    {
     "data": {
      "text/plain": [
       "222    up\n",
       "289    up\n",
       "Name: label5566, dtype: object"
      ]
     },
     "execution_count": 63,
     "metadata": {},
     "output_type": "execute_result"
    }
   ],
   "source": [
    "Y.head(2)"
   ]
  },
  {
   "cell_type": "code",
   "execution_count": 64,
   "metadata": {},
   "outputs": [],
   "source": [
    "X = X.to_numpy()\n",
    "Y = Y.to_numpy()"
   ]
  },
  {
   "cell_type": "code",
   "execution_count": 65,
   "metadata": {},
   "outputs": [
    {
     "name": "stdout",
     "output_type": "stream",
     "text": [
      "2468 618\n"
     ]
    }
   ],
   "source": [
    "#將X:features array, Y:lable array 都切成 1:4\n",
    "\n",
    "validation_size = 0.20\n",
    "seed = 7\n",
    "X_train, X_validation, Y_train, Y_validation = model_selection.train_test_split(X, Y, test_size=validation_size, random_state=seed)\n",
    "print(len(X_train),len(X_validation))"
   ]
  },
  {
   "cell_type": "code",
   "execution_count": 66,
   "metadata": {},
   "outputs": [
    {
     "name": "stderr",
     "output_type": "stream",
     "text": [
      "/home/barry/miniconda3/envs/stockenv/lib/python3.6/site-packages/sklearn/ensemble/forest.py:246: FutureWarning: The default value of n_estimators will change from 10 in version 0.20 to 100 in 0.22.\n",
      "  \"10 in version 0.20 to 100 in 0.22.\", FutureWarning)\n"
     ]
    },
    {
     "name": "stdout",
     "output_type": "stream",
     "text": [
      "0.9813614262560778\n",
      "0.5242718446601942\n",
      "[[196  27  36]\n",
      " [ 84  70  34]\n",
      " [ 77  36  58]]\n",
      "              precision    recall  f1-score   support\n",
      "\n",
      "        down       0.55      0.76      0.64       259\n",
      "        even       0.53      0.37      0.44       188\n",
      "          up       0.45      0.34      0.39       171\n",
      "\n",
      "   micro avg       0.52      0.52      0.52       618\n",
      "   macro avg       0.51      0.49      0.49       618\n",
      "weighted avg       0.52      0.52      0.51       618\n",
      "\n"
     ]
    }
   ],
   "source": [
    "model_RandomForest = RandomForestClassifier()\n",
    "model_RandomForest.fit(X_train, Y_train)\n",
    "print(model_RandomForest.score(X_train, Y_train))\n",
    "\n",
    "predictions = model_RandomForest.predict(X_validation)\n",
    "print(accuracy_score(Y_validation, predictions))\n",
    "print(confusion_matrix(Y_validation, predictions))\n",
    "print(classification_report(Y_validation, predictions))"
   ]
  },
  {
   "cell_type": "code",
   "execution_count": 67,
   "metadata": {},
   "outputs": [
    {
     "name": "stdout",
     "output_type": "stream",
     "text": [
      "[0.56680162 0.51214575 0.53036437 0.51926978 0.52941176]\n",
      "XGBClassifier: 0.531599 (0.018847)\n"
     ]
    }
   ],
   "source": [
    "# 用10-Fold CV並且列出平均的效率\n",
    "\n",
    "\n",
    "# 呼叫單個model MLP\n",
    "model_XGBClassifier = XGBClassifier()\n",
    "name = 'XGBClassifier'\n",
    "kfold = model_selection.KFold(n_splits=5, random_state=seed)   #分割 10% cross validation\n",
    "\n",
    "cv_results = model_selection.cross_val_score(model_XGBClassifier, X_train, Y_train, cv=kfold, scoring='accuracy')\n",
    "#model用MLP()                cross valitation \n",
    "\n",
    "print(cv_results)\n",
    "print(\"%s: %f (%f)\" % (name, cv_results.mean(), cv_results.std()))"
   ]
  },
  {
   "cell_type": "code",
   "execution_count": 68,
   "metadata": {},
   "outputs": [
    {
     "name": "stdout",
     "output_type": "stream",
     "text": [
      "0.7807941653160454\n",
      "0.5485436893203883\n",
      "[[211  24  24]\n",
      " [ 87  69  32]\n",
      " [ 93  19  59]]\n",
      "              precision    recall  f1-score   support\n",
      "\n",
      "        down       0.54      0.81      0.65       259\n",
      "        even       0.62      0.37      0.46       188\n",
      "          up       0.51      0.35      0.41       171\n",
      "\n",
      "   micro avg       0.55      0.55      0.55       618\n",
      "   macro avg       0.56      0.51      0.51       618\n",
      "weighted avg       0.56      0.55      0.53       618\n",
      "\n"
     ]
    }
   ],
   "source": [
    "model_XGBClassifier = XGBClassifier()\n",
    "model_XGBClassifier.fit(X_train, Y_train)\n",
    "print(model_XGBClassifier.score(X_train, Y_train))\n",
    "\n",
    "predictions = model_XGBClassifier.predict(X_validation)\n",
    "print(accuracy_score(Y_validation, predictions))\n",
    "print(confusion_matrix(Y_validation, predictions))\n",
    "print(classification_report(Y_validation, predictions))"
   ]
  },
  {
   "cell_type": "code",
   "execution_count": 69,
   "metadata": {},
   "outputs": [
    {
     "name": "stdout",
     "output_type": "stream",
     "text": [
      "[0.5465587  0.51417004 0.53441296 0.53955375 0.53549696]\n",
      "GradientBoost: 0.534038 (0.010809)\n"
     ]
    }
   ],
   "source": [
    "# 用10-Fold CV並且列出平均的效率\n",
    "\n",
    "\n",
    "# 呼叫單個model MLP\n",
    "model_GradientBoost = GradientBoostingClassifier()\n",
    "name = 'GradientBoost'\n",
    "kfold = model_selection.KFold(n_splits=5, random_state=seed)   #分割 10% cross validation\n",
    "\n",
    "cv_results = model_selection.cross_val_score(model_GradientBoost, X_train, Y_train, cv=kfold, scoring='accuracy')\n",
    "#model用MLP()                cross valitation \n",
    "\n",
    "print(cv_results)\n",
    "print(\"%s: %f (%f)\" % (name, cv_results.mean(), cv_results.std()))"
   ]
  },
  {
   "cell_type": "code",
   "execution_count": 70,
   "metadata": {},
   "outputs": [
    {
     "name": "stdout",
     "output_type": "stream",
     "text": [
      "0.8354943273905997\n",
      "0.5372168284789643\n",
      "[[203  30  26]\n",
      " [ 85  69  34]\n",
      " [ 89  22  60]]\n",
      "              precision    recall  f1-score   support\n",
      "\n",
      "        down       0.54      0.78      0.64       259\n",
      "        even       0.57      0.37      0.45       188\n",
      "          up       0.50      0.35      0.41       171\n",
      "\n",
      "   micro avg       0.54      0.54      0.54       618\n",
      "   macro avg       0.54      0.50      0.50       618\n",
      "weighted avg       0.54      0.54      0.52       618\n",
      "\n"
     ]
    }
   ],
   "source": [
    "model_GradientBoost = GradientBoostingClassifier()\n",
    "model_GradientBoost.fit(X_train, Y_train)\n",
    "print(model_GradientBoost.score(X_train, Y_train))\n",
    "\n",
    "predictions = model_GradientBoost.predict(X_validation)\n",
    "print(accuracy_score(Y_validation, predictions))\n",
    "print(confusion_matrix(Y_validation, predictions))\n",
    "print(classification_report(Y_validation, predictions))"
   ]
  },
  {
   "cell_type": "code",
   "execution_count": 71,
   "metadata": {},
   "outputs": [
    {
     "name": "stdout",
     "output_type": "stream",
     "text": [
      "0.9959481361426256\n",
      "0.4967637540453074\n",
      "[[150  50  59]\n",
      " [ 53  87  48]\n",
      " [ 59  42  70]]\n",
      "              precision    recall  f1-score   support\n",
      "\n",
      "        down       0.57      0.58      0.58       259\n",
      "        even       0.49      0.46      0.47       188\n",
      "          up       0.40      0.41      0.40       171\n",
      "\n",
      "   micro avg       0.50      0.50      0.50       618\n",
      "   macro avg       0.48      0.48      0.48       618\n",
      "weighted avg       0.50      0.50      0.50       618\n",
      "\n"
     ]
    }
   ],
   "source": [
    "model_DecisionTree = DecisionTreeClassifier()\n",
    "model_DecisionTree.fit(X_train, Y_train)\n",
    "print(model_DecisionTree.score(X_train, Y_train))\n",
    "\n",
    "predictions = model_DecisionTree.predict(X_validation)\n",
    "print(accuracy_score(Y_validation, predictions))\n",
    "print(confusion_matrix(Y_validation, predictions))\n",
    "print(classification_report(Y_validation, predictions))"
   ]
  },
  {
   "cell_type": "code",
   "execution_count": 72,
   "metadata": {},
   "outputs": [
    {
     "name": "stdout",
     "output_type": "stream",
     "text": [
      "[0.51012146 0.5        0.52226721 0.52332657 0.54563895]\n",
      "KNN: 0.520271 (0.015302)\n"
     ]
    }
   ],
   "source": [
    "# 用10-Fold CV並且列出平均的效率\n",
    "\n",
    "\n",
    "# 呼叫單個model MLP\n",
    "model_KNeighbors = KNeighborsClassifier()\n",
    "name = 'KNN'\n",
    "kfold = model_selection.KFold(n_splits=5, random_state=seed)   #分割 10% cross validation\n",
    "\n",
    "cv_results = model_selection.cross_val_score(model_KNeighbors, X_train, Y_train, cv=kfold, scoring='accuracy')\n",
    "#model用MLP()                cross valitation \n",
    "\n",
    "print(cv_results)\n",
    "print(\"%s: %f (%f)\" % (name, cv_results.mean(), cv_results.std()))"
   ]
  },
  {
   "cell_type": "code",
   "execution_count": 73,
   "metadata": {},
   "outputs": [
    {
     "name": "stdout",
     "output_type": "stream",
     "text": [
      "0.6961102106969206\n",
      "0.5533980582524272\n",
      "[[203  28  28]\n",
      " [ 85  81  22]\n",
      " [ 84  29  58]]\n",
      "              precision    recall  f1-score   support\n",
      "\n",
      "        down       0.55      0.78      0.64       259\n",
      "        even       0.59      0.43      0.50       188\n",
      "          up       0.54      0.34      0.42       171\n",
      "\n",
      "   micro avg       0.55      0.55      0.55       618\n",
      "   macro avg       0.56      0.52      0.52       618\n",
      "weighted avg       0.56      0.55      0.54       618\n",
      "\n"
     ]
    }
   ],
   "source": [
    "model_KNeighbors = KNeighborsClassifier()\n",
    "model_KNeighbors.fit(X_train, Y_train)\n",
    "print(model_KNeighbors.score(X_train, Y_train))\n",
    "\n",
    "predictions = model_KNeighbors.predict(X_validation)\n",
    "print(accuracy_score(Y_validation, predictions))\n",
    "print(confusion_matrix(Y_validation, predictions))\n",
    "print(classification_report(Y_validation, predictions))"
   ]
  },
  {
   "cell_type": "code",
   "execution_count": 74,
   "metadata": {},
   "outputs": [
    {
     "name": "stdout",
     "output_type": "stream",
     "text": [
      "0.743517017828201\n",
      "0.45792880258899676\n",
      "[[ 85  57 117]\n",
      " [ 32  86  70]\n",
      " [ 27  32 112]]\n",
      "              precision    recall  f1-score   support\n",
      "\n",
      "        down       0.59      0.33      0.42       259\n",
      "        even       0.49      0.46      0.47       188\n",
      "          up       0.37      0.65      0.48       171\n",
      "\n",
      "   micro avg       0.46      0.46      0.46       618\n",
      "   macro avg       0.49      0.48      0.46       618\n",
      "weighted avg       0.50      0.46      0.45       618\n",
      "\n"
     ]
    }
   ],
   "source": [
    "model_GaussianNB = GaussianNB()\n",
    "model_GaussianNB.fit(X_train, Y_train)\n",
    "print(model_GaussianNB.score(X_train, Y_train))\n",
    "\n",
    "predictions = model_GaussianNB.predict(X_validation)\n",
    "print(accuracy_score(Y_validation, predictions))\n",
    "print(confusion_matrix(Y_validation, predictions))\n",
    "print(classification_report(Y_validation, predictions))"
   ]
  },
  {
   "cell_type": "code",
   "execution_count": 75,
   "metadata": {},
   "outputs": [
    {
     "name": "stdout",
     "output_type": "stream",
     "text": [
      "0.6203403565640194\n",
      "0.5\n",
      "[[240   7  12]\n",
      " [134  45   9]\n",
      " [138   9  24]]\n",
      "              precision    recall  f1-score   support\n",
      "\n",
      "        down       0.47      0.93      0.62       259\n",
      "        even       0.74      0.24      0.36       188\n",
      "          up       0.53      0.14      0.22       171\n",
      "\n",
      "   micro avg       0.50      0.50      0.50       618\n",
      "   macro avg       0.58      0.44      0.40       618\n",
      "weighted avg       0.57      0.50      0.43       618\n",
      "\n"
     ]
    }
   ],
   "source": [
    "model_MultinomialNB = MultinomialNB()\n",
    "model_MultinomialNB.fit(X_train, Y_train)\n",
    "print(model_MultinomialNB.score(X_train, Y_train) )\n",
    "\n",
    "predictions = model_MultinomialNB.predict(X_validation)\n",
    "print(accuracy_score(Y_validation, predictions))\n",
    "print(confusion_matrix(Y_validation, predictions))\n",
    "print(classification_report(Y_validation, predictions))"
   ]
  },
  {
   "cell_type": "code",
   "execution_count": 76,
   "metadata": {},
   "outputs": [
    {
     "name": "stderr",
     "output_type": "stream",
     "text": [
      "/home/barry/miniconda3/envs/stockenv/lib/python3.6/site-packages/sklearn/linear_model/logistic.py:433: FutureWarning: Default solver will be changed to 'lbfgs' in 0.22. Specify a solver to silence this warning.\n",
      "  FutureWarning)\n",
      "/home/barry/miniconda3/envs/stockenv/lib/python3.6/site-packages/sklearn/linear_model/logistic.py:460: FutureWarning: Default multi_class will be changed to 'auto' in 0.22. Specify the multi_class option to silence this warning.\n",
      "  \"this warning.\", FutureWarning)\n",
      "/home/barry/miniconda3/envs/stockenv/lib/python3.6/site-packages/sklearn/linear_model/logistic.py:433: FutureWarning: Default solver will be changed to 'lbfgs' in 0.22. Specify a solver to silence this warning.\n",
      "  FutureWarning)\n",
      "/home/barry/miniconda3/envs/stockenv/lib/python3.6/site-packages/sklearn/linear_model/logistic.py:460: FutureWarning: Default multi_class will be changed to 'auto' in 0.22. Specify the multi_class option to silence this warning.\n",
      "  \"this warning.\", FutureWarning)\n",
      "/home/barry/miniconda3/envs/stockenv/lib/python3.6/site-packages/sklearn/linear_model/logistic.py:433: FutureWarning: Default solver will be changed to 'lbfgs' in 0.22. Specify a solver to silence this warning.\n",
      "  FutureWarning)\n",
      "/home/barry/miniconda3/envs/stockenv/lib/python3.6/site-packages/sklearn/linear_model/logistic.py:460: FutureWarning: Default multi_class will be changed to 'auto' in 0.22. Specify the multi_class option to silence this warning.\n",
      "  \"this warning.\", FutureWarning)\n",
      "/home/barry/miniconda3/envs/stockenv/lib/python3.6/site-packages/sklearn/linear_model/logistic.py:433: FutureWarning: Default solver will be changed to 'lbfgs' in 0.22. Specify a solver to silence this warning.\n",
      "  FutureWarning)\n",
      "/home/barry/miniconda3/envs/stockenv/lib/python3.6/site-packages/sklearn/linear_model/logistic.py:460: FutureWarning: Default multi_class will be changed to 'auto' in 0.22. Specify the multi_class option to silence this warning.\n",
      "  \"this warning.\", FutureWarning)\n"
     ]
    },
    {
     "name": "stdout",
     "output_type": "stream",
     "text": [
      "[0.548583   0.53846154 0.56072874 0.56795132 0.55578093]\n",
      "MLP: 0.554301 (0.010133)\n"
     ]
    },
    {
     "name": "stderr",
     "output_type": "stream",
     "text": [
      "/home/barry/miniconda3/envs/stockenv/lib/python3.6/site-packages/sklearn/linear_model/logistic.py:433: FutureWarning: Default solver will be changed to 'lbfgs' in 0.22. Specify a solver to silence this warning.\n",
      "  FutureWarning)\n",
      "/home/barry/miniconda3/envs/stockenv/lib/python3.6/site-packages/sklearn/linear_model/logistic.py:460: FutureWarning: Default multi_class will be changed to 'auto' in 0.22. Specify the multi_class option to silence this warning.\n",
      "  \"this warning.\", FutureWarning)\n"
     ]
    }
   ],
   "source": [
    "# 用10-Fold CV並且列出平均的效率\n",
    "\n",
    "\n",
    "# 呼叫單個model MLP\n",
    "model_LogisticRegression = LogisticRegression()\n",
    "name = 'MLP'\n",
    "kfold = model_selection.KFold(n_splits=5, random_state=seed)   #分割 10% cross validation\n",
    "\n",
    "cv_results = model_selection.cross_val_score(model_LogisticRegression, X_train, Y_train, cv=kfold, scoring='accuracy')\n",
    "#model用MLP()                cross valitation \n",
    "\n",
    "print(cv_results)\n",
    "print(\"%s: %f (%f)\" % (name, cv_results.mean(), cv_results.std()))"
   ]
  },
  {
   "cell_type": "code",
   "execution_count": 77,
   "metadata": {},
   "outputs": [
    {
     "name": "stdout",
     "output_type": "stream",
     "text": [
      "0.7690437601296597\n",
      "0.5501618122977346\n",
      "[[197  28  34]\n",
      " [ 78  77  33]\n",
      " [ 86  19  66]]\n",
      "              precision    recall  f1-score   support\n",
      "\n",
      "        down       0.55      0.76      0.64       259\n",
      "        even       0.62      0.41      0.49       188\n",
      "          up       0.50      0.39      0.43       171\n",
      "\n",
      "   micro avg       0.55      0.55      0.55       618\n",
      "   macro avg       0.55      0.52      0.52       618\n",
      "weighted avg       0.55      0.55      0.54       618\n",
      "\n"
     ]
    },
    {
     "name": "stderr",
     "output_type": "stream",
     "text": [
      "/home/barry/miniconda3/envs/stockenv/lib/python3.6/site-packages/sklearn/linear_model/logistic.py:433: FutureWarning: Default solver will be changed to 'lbfgs' in 0.22. Specify a solver to silence this warning.\n",
      "  FutureWarning)\n",
      "/home/barry/miniconda3/envs/stockenv/lib/python3.6/site-packages/sklearn/linear_model/logistic.py:460: FutureWarning: Default multi_class will be changed to 'auto' in 0.22. Specify the multi_class option to silence this warning.\n",
      "  \"this warning.\", FutureWarning)\n"
     ]
    }
   ],
   "source": [
    "model_LogisticRegression = LogisticRegression()\n",
    "model_LogisticRegression.fit(X_train, Y_train)\n",
    "print(model_LogisticRegression.score(X_train, Y_train))\n",
    "\n",
    "predictions = model_LogisticRegression.predict(X_validation)\n",
    "print(accuracy_score(Y_validation, predictions))\n",
    "print(confusion_matrix(Y_validation, predictions))\n",
    "print(classification_report(Y_validation, predictions))"
   ]
  },
  {
   "cell_type": "code",
   "execution_count": 78,
   "metadata": {},
   "outputs": [
    {
     "name": "stdout",
     "output_type": "stream",
     "text": [
      "[0.56072874 0.55668016 0.55870445 0.56186613 0.54969574]\n",
      "SVC: 0.557535 (0.004301)\n"
     ]
    }
   ],
   "source": [
    "# 用10-Fold CV並且列出平均的效率\n",
    "\n",
    "\n",
    "# 呼叫單個model MLP\n",
    "model_svclinear = SVC(kernel='linear')\n",
    "name = 'SVC'\n",
    "kfold = model_selection.KFold(n_splits=5, random_state=seed)   #分割 10% cross validation\n",
    "\n",
    "cv_results = model_selection.cross_val_score(model_svclinear, X_train, Y_train, cv=kfold, scoring='accuracy')\n",
    "#model用MLP()                cross valitation \n",
    "\n",
    "print(cv_results)\n",
    "print(\"%s: %f (%f)\" % (name, cv_results.mean(), cv_results.std()))"
   ]
  },
  {
   "cell_type": "code",
   "execution_count": 79,
   "metadata": {},
   "outputs": [
    {
     "name": "stdout",
     "output_type": "stream",
     "text": [
      "0.813614262560778\n",
      "0.5614886731391586\n",
      "[[189  30  40]\n",
      " [ 77  78  33]\n",
      " [ 71  20  80]]\n",
      "              precision    recall  f1-score   support\n",
      "\n",
      "        down       0.56      0.73      0.63       259\n",
      "        even       0.61      0.41      0.49       188\n",
      "          up       0.52      0.47      0.49       171\n",
      "\n",
      "   micro avg       0.56      0.56      0.56       618\n",
      "   macro avg       0.56      0.54      0.54       618\n",
      "weighted avg       0.57      0.56      0.55       618\n",
      "\n"
     ]
    }
   ],
   "source": [
    "model_svclinear = SVC(kernel='linear')\n",
    "model_svclinear.fit(X_train, Y_train)\n",
    "print(model_svclinear.score(X_train, Y_train))\n",
    "predictions = model_svclinear.predict(X_validation)\n",
    "print(accuracy_score(Y_validation, predictions))\n",
    "print(confusion_matrix(Y_validation, predictions))\n",
    "print(classification_report(Y_validation, predictions))"
   ]
  },
  {
   "cell_type": "code",
   "execution_count": 83,
   "metadata": {},
   "outputs": [
    {
     "name": "stdout",
     "output_type": "stream",
     "text": [
      "[0.58097166 0.5465587  0.56275304 0.57809331 0.56997972]\n",
      "MLP: 0.567671 (0.012335)\n"
     ]
    }
   ],
   "source": [
    "# 用10-Fold CV並且列出平均的效率\n",
    "\n",
    "\n",
    "# 呼叫單個model MLP\n",
    "model_MLP = MLPClassifier(hidden_layer_sizes=(256,256, ),max_iter=256)\n",
    "name = 'MLP'\n",
    "kfold = model_selection.KFold(n_splits=5, random_state=seed)   #分割 10% cross validation\n",
    "\n",
    "cv_results = model_selection.cross_val_score(model_MLP, X_train, Y_train, cv=kfold, scoring='accuracy')\n",
    "#model用MLP()                cross valitation \n",
    "\n",
    "print(cv_results)\n",
    "print(\"%s: %f (%f)\" % (name, cv_results.mean(), cv_results.std()))"
   ]
  },
  {
   "cell_type": "code",
   "execution_count": 82,
   "metadata": {},
   "outputs": [
    {
     "name": "stdout",
     "output_type": "stream",
     "text": [
      "0.9955429497568882\n",
      "0.5889967637540453\n",
      "[[172  42  45]\n",
      " [ 56  98  34]\n",
      " [ 53  24  94]]\n",
      "              precision    recall  f1-score   support\n",
      "\n",
      "        down       0.61      0.66      0.64       259\n",
      "        even       0.60      0.52      0.56       188\n",
      "          up       0.54      0.55      0.55       171\n",
      "\n",
      "   micro avg       0.59      0.59      0.59       618\n",
      "   macro avg       0.58      0.58      0.58       618\n",
      "weighted avg       0.59      0.59      0.59       618\n",
      "\n"
     ]
    }
   ],
   "source": [
    "model_MLP = MLPClassifier(hidden_layer_sizes=(256, 256,), max_iter=256)\n",
    "model_MLP.fit(X_train, Y_train)\n",
    "print(model_MLP.score(X_train, Y_train))\n",
    "\n",
    "predictions = model_MLP.predict(X_validation)\n",
    "print(accuracy_score(Y_validation, predictions))\n",
    "print(confusion_matrix(Y_validation, predictions))\n",
    "print(classification_report(Y_validation, predictions))"
   ]
  },
  {
   "cell_type": "code",
   "execution_count": null,
   "metadata": {},
   "outputs": [],
   "source": [
    "#df_company2.to_csv('5pa.csv')"
   ]
  },
  {
   "cell_type": "code",
   "execution_count": null,
   "metadata": {},
   "outputs": [],
   "source": []
  }
 ],
 "metadata": {
  "kernelspec": {
   "display_name": "Python 3",
   "language": "python",
   "name": "python3"
  },
  "language_info": {
   "codemirror_mode": {
    "name": "ipython",
    "version": 3
   },
   "file_extension": ".py",
   "mimetype": "text/x-python",
   "name": "python",
   "nbconvert_exporter": "python",
   "pygments_lexer": "ipython3",
   "version": "3.6.8"
  }
 },
 "nbformat": 4,
 "nbformat_minor": 2
}
