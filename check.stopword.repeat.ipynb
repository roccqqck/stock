{
 "cells": [
  {
   "cell_type": "code",
   "execution_count": 4,
   "metadata": {},
   "outputs": [
    {
     "data": {
      "text/plain": [
       "2057"
      ]
     },
     "execution_count": 4,
     "metadata": {},
     "output_type": "execute_result"
    }
   ],
   "source": [
    "stopwords=list()\n",
    "with open('stopword.goatwang.kang.txt', 'r',encoding='utf-8') as data:\n",
    "    for stopword in data:\n",
    "        stopwords.append(stopword.strip('\\n'))\n",
    "        \n",
    "len(stopwords)"
   ]
  },
  {
   "cell_type": "code",
   "execution_count": 3,
   "metadata": {},
   "outputs": [
    {
     "data": {
      "text/plain": [
       "1444"
      ]
     },
     "execution_count": 3,
     "metadata": {},
     "output_type": "execute_result"
    }
   ],
   "source": [
    "wordcount = {}      # dictionary\n",
    "for word in stopwords:\n",
    "        try:\n",
    "            wordcount[word] = wordcount[word] + 1\n",
    "        except:\n",
    "            wordcount[word] = 1\n",
    "            \n",
    "stopwordcount = list(wordcount.items())\n",
    "len(stopwordcount)"
   ]
  },
  {
   "cell_type": "code",
   "execution_count": 5,
   "metadata": {},
   "outputs": [],
   "source": [
    "for word, number in stopwordcount:\n",
    "        print(str(word) ,file=open(\"stopword.goatwang.kang.txt.\", \"a\"))  # print存成txt"
   ]
  },
  {
   "cell_type": "code",
   "execution_count": null,
   "metadata": {},
   "outputs": [],
   "source": []
  }
 ],
 "metadata": {
  "kernelspec": {
   "display_name": "Python 3",
   "language": "python",
   "name": "python3"
  },
  "language_info": {
   "codemirror_mode": {
    "name": "ipython",
    "version": 3
   },
   "file_extension": ".py",
   "mimetype": "text/x-python",
   "name": "python",
   "nbconvert_exporter": "python",
   "pygments_lexer": "ipython3",
   "version": "3.6.8"
  }
 },
 "nbformat": 4,
 "nbformat_minor": 2
}
