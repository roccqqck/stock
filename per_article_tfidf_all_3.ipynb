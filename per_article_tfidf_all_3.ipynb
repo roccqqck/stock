{
 "cells": [
  {
   "cell_type": "code",
   "execution_count": 1,
   "metadata": {},
   "outputs": [],
   "source": [
    "import numpy as np\n",
    "import pandas as pd\n",
    "\n",
    "from sklearn import model_selection\n",
    "from sklearn.metrics import classification_report\n",
    "from sklearn.metrics import confusion_matrix\n",
    "from sklearn.metrics import accuracy_score\n",
    "from sklearn.linear_model import LogisticRegression\n",
    "from sklearn.tree import DecisionTreeClassifier\n",
    "from sklearn.neighbors import KNeighborsClassifier\n",
    "#from sklearn.discriminant_analysis import LinearDiscriminantAnalysis\n",
    "from sklearn.naive_bayes import GaussianNB\n",
    "from sklearn.naive_bayes import MultinomialNB\n",
    "from sklearn.svm import SVC\n",
    "from sklearn.ensemble import RandomForestClassifier\n",
    "from sklearn.neural_network import MLPClassifier\n",
    "from sklearn.ensemble import GradientBoostingClassifier\n",
    "import xgboost as xgb\n",
    "from xgboost.sklearn import XGBClassifier\n",
    "\n",
    "#time\n",
    "from datetime import datetime\n",
    "from datetime import timedelta\n",
    "\n",
    "import jieba\n",
    "import jieba.analyse\n",
    "jieba.set_dictionary('dict.idkrsi.txt')     # 改預設字典\n",
    "jieba.analyse.set_stop_words(\"stopword.goatwang.kang.txt\") #指定stopwords字典\n",
    "\n",
    "# get data\n",
    "# ! conda install pandas-datareader s\n",
    "#import pandas_datareader as pdr\n",
    "\n",
    "# visual\n",
    "# ! pip install mpl-finance\n",
    "#import matplotlib.pyplot as plt\n",
    "#import mpl_finance as mpf\n",
    "\n",
    "#import seaborn as sns\n",
    "\n",
    "\n",
    "# https://github.com/mrjbq7/ta-lib\n",
    "# ! pip install ta-lib\n",
    "#import talib"
   ]
  },
  {
   "cell_type": "code",
   "execution_count": 2,
   "metadata": {},
   "outputs": [
    {
     "name": "stderr",
     "output_type": "stream",
     "text": [
      "/home/barry/miniconda3/envs/stockenv/lib/python3.6/site-packages/ipykernel_launcher.py:6: FutureWarning: Sorting because non-concatenation axis is not aligned. A future version\n",
      "of pandas will change to not sort by default.\n",
      "\n",
      "To accept the future behavior, pass 'sort=False'.\n",
      "\n",
      "To retain the current behavior and silence the warning, pass 'sort=True'.\n",
      "\n",
      "  \n"
     ]
    },
    {
     "data": {
      "text/html": [
       "<div>\n",
       "<style scoped>\n",
       "    .dataframe tbody tr th:only-of-type {\n",
       "        vertical-align: middle;\n",
       "    }\n",
       "\n",
       "    .dataframe tbody tr th {\n",
       "        vertical-align: top;\n",
       "    }\n",
       "\n",
       "    .dataframe thead th {\n",
       "        text-align: right;\n",
       "    }\n",
       "</style>\n",
       "<table border=\"1\" class=\"dataframe\">\n",
       "  <thead>\n",
       "    <tr style=\"text-align: right;\">\n",
       "      <th></th>\n",
       "      <th>author</th>\n",
       "      <th>comment_count</th>\n",
       "      <th>content</th>\n",
       "      <th>id</th>\n",
       "      <th>p_type</th>\n",
       "      <th>page_url</th>\n",
       "      <th>post_time</th>\n",
       "      <th>s_area_name</th>\n",
       "      <th>s_name</th>\n",
       "      <th>title</th>\n",
       "      <th>post_time2</th>\n",
       "    </tr>\n",
       "  </thead>\n",
       "  <tbody>\n",
       "    <tr>\n",
       "      <th>0</th>\n",
       "      <td>鉅亨網</td>\n",
       "      <td>0</td>\n",
       "      <td>鉅亨網編譯郭照青這一年，獲利真是難上難。&lt;BR&gt;根據CNBC分析報導，興業銀行的數據顯示，2...</td>\n",
       "      <td>1451580107540_N01</td>\n",
       "      <td>news</td>\n",
       "      <td>https://tw.stock.yahoo.com/news_content/url/d/...</td>\n",
       "      <td>2016-01-01 00:06:00</td>\n",
       "      <td>重大要聞</td>\n",
       "      <td>yahoo股市</td>\n",
       "      <td>淪落的2015 竟是78年來最難獲利的一年</td>\n",
       "      <td>2016-01-01</td>\n",
       "    </tr>\n",
       "    <tr>\n",
       "      <th>1</th>\n",
       "      <td>Bokolo</td>\n",
       "      <td>10</td>\n",
       "      <td>1.原文連結(必須檢附)： http://magazine.chinatimes.com/m...</td>\n",
       "      <td>1451580710262_PTT02R</td>\n",
       "      <td>bbs</td>\n",
       "      <td>http://www.ptt.cc/bbs/Stock/M.1451580509.A.722...</td>\n",
       "      <td>2016-01-01 00:48:25</td>\n",
       "      <td>Stock</td>\n",
       "      <td>Ptt</td>\n",
       "      <td>[新聞] 第三方支付 台灣普及關鍵年</td>\n",
       "      <td>2016-01-01</td>\n",
       "    </tr>\n",
       "  </tbody>\n",
       "</table>\n",
       "</div>"
      ],
      "text/plain": [
       "   author  comment_count                                            content  \\\n",
       "0     鉅亨網              0  鉅亨網編譯郭照青這一年，獲利真是難上難。<BR>根據CNBC分析報導，興業銀行的數據顯示，2...   \n",
       "1  Bokolo             10  1.原文連結(必須檢附)： http://magazine.chinatimes.com/m...   \n",
       "\n",
       "                     id p_type  \\\n",
       "0     1451580107540_N01   news   \n",
       "1  1451580710262_PTT02R    bbs   \n",
       "\n",
       "                                            page_url           post_time  \\\n",
       "0  https://tw.stock.yahoo.com/news_content/url/d/... 2016-01-01 00:06:00   \n",
       "1  http://www.ptt.cc/bbs/Stock/M.1451580509.A.722... 2016-01-01 00:48:25   \n",
       "\n",
       "  s_area_name   s_name                  title  post_time2  \n",
       "0        重大要聞  yahoo股市  淪落的2015 竟是78年來最難獲利的一年  2016-01-01  \n",
       "1       Stock      Ptt     [新聞] 第三方支付 台灣普及關鍵年  2016-01-01  "
      ]
     },
     "execution_count": 2,
     "metadata": {},
     "output_type": "execute_result"
    }
   ],
   "source": [
    "df_bbs = pd.read_csv(\"bda2019_dataset/bbs2.csv\",encoding=\"utf-8\")\n",
    "df_forum = pd.read_csv(\"bda2019_dataset/forum2.csv\",encoding=\"utf-8\")\n",
    "df_news = pd.read_csv(\"bda2019_dataset/news2.csv\",encoding=\"utf-8\")\n",
    "df_news['comment_count']=0\n",
    "\n",
    "df_article = pd.concat([df_forum, df_bbs, df_news])  #三個合併\n",
    "del df_bbs, df_forum, df_news\n",
    "\n",
    "df_article['post_time'] = pd.to_datetime(df_article['post_time'])\n",
    "df_article['post_time2'] = df_article['post_time'].dt.date   # .dt.date用在dataframe  .date()用在一個 #只留日期\n",
    "#df_article['label'] = 'even'\n",
    "df_article['content'] = df_article['content'].astype(str).str.replace(',' , ' ').str.replace('\\n' , ' ').str.replace('\"' , ' ').str.replace(\"'\" , ' ')\n",
    "df_article['title'] = df_article['title'].astype(str).str.replace(',' , ' ').str.replace('\\n' , ' ').str.replace('\"' , ' ').str.replace(\"'\" , ' ')\n",
    "df_article = df_article.sort_values(by=['post_time']).reset_index(drop=True) # 用post_time排序 # 在重設index\n",
    "df_article.head(2)\n",
    "#df_article2 = df_article[['post_time2','title','content']]"
   ]
  },
  {
   "cell_type": "code",
   "execution_count": 3,
   "metadata": {},
   "outputs": [
    {
     "data": {
      "text/html": [
       "<div>\n",
       "<style scoped>\n",
       "    .dataframe tbody tr th:only-of-type {\n",
       "        vertical-align: middle;\n",
       "    }\n",
       "\n",
       "    .dataframe tbody tr th {\n",
       "        vertical-align: top;\n",
       "    }\n",
       "\n",
       "    .dataframe thead th {\n",
       "        text-align: right;\n",
       "    }\n",
       "</style>\n",
       "<table border=\"1\" class=\"dataframe\">\n",
       "  <thead>\n",
       "    <tr style=\"text-align: right;\">\n",
       "      <th></th>\n",
       "      <th>證券代碼</th>\n",
       "      <th>年月日</th>\n",
       "      <th>開盤價(元)</th>\n",
       "      <th>最高價(元)</th>\n",
       "      <th>最低價(元)</th>\n",
       "      <th>收盤價(元)</th>\n",
       "      <th>成交量(千股)</th>\n",
       "      <th>成交值(千元)</th>\n",
       "      <th>成交筆數(筆)</th>\n",
       "      <th>流通在外股數(千股)</th>\n",
       "      <th>本益比-TSE</th>\n",
       "      <th>股價淨值比-TSE</th>\n",
       "    </tr>\n",
       "  </thead>\n",
       "  <tbody>\n",
       "    <tr>\n",
       "      <th>0</th>\n",
       "      <td>1101 台泥</td>\n",
       "      <td>2016-12-30</td>\n",
       "      <td>29.09</td>\n",
       "      <td>29.64</td>\n",
       "      <td>28.93</td>\n",
       "      <td>29.64</td>\n",
       "      <td>6121.0</td>\n",
       "      <td>213121.0</td>\n",
       "      <td>2939</td>\n",
       "      <td>3692175.0</td>\n",
       "      <td>20.56</td>\n",
       "      <td>1.23</td>\n",
       "    </tr>\n",
       "    <tr>\n",
       "      <th>1</th>\n",
       "      <td>1102 亞泥</td>\n",
       "      <td>2016-12-30</td>\n",
       "      <td>24.91</td>\n",
       "      <td>24.91</td>\n",
       "      <td>24.67</td>\n",
       "      <td>24.81</td>\n",
       "      <td>3347.0</td>\n",
       "      <td>88078.0</td>\n",
       "      <td>1227</td>\n",
       "      <td>3361447.0</td>\n",
       "      <td>31.75</td>\n",
       "      <td>0.73</td>\n",
       "    </tr>\n",
       "  </tbody>\n",
       "</table>\n",
       "</div>"
      ],
      "text/plain": [
       "      證券代碼        年月日  開盤價(元)  最高價(元)  最低價(元)  收盤價(元)  成交量(千股)   成交值(千元)  \\\n",
       "0  1101 台泥 2016-12-30   29.09   29.64   28.93   29.64   6121.0  213121.0   \n",
       "1  1102 亞泥 2016-12-30   24.91   24.91   24.67   24.81   3347.0   88078.0   \n",
       "\n",
       "   成交筆數(筆)  流通在外股數(千股)  本益比-TSE  股價淨值比-TSE  \n",
       "0     2939   3692175.0    20.56       1.23  \n",
       "1     1227   3361447.0    31.75       0.73  "
      ]
     },
     "execution_count": 3,
     "metadata": {},
     "output_type": "execute_result"
    }
   ],
   "source": [
    "df_TWSE2018 = pd.read_csv(\"bda2019_dataset/TWSE2018.csv\",encoding=\"utf-8\")\n",
    "df_TWSE2017 = pd.read_csv(\"bda2019_dataset/TWSE2017.csv\",encoding=\"utf-8\")\n",
    "df_TWSE2016 = pd.read_csv(\"bda2019_dataset/TWSE2016.csv\",encoding=\"utf-8\")\n",
    "\n",
    "df_TWSE = pd.concat([df_TWSE2016, df_TWSE2017, df_TWSE2018])  #三年合併\n",
    "del df_TWSE2016, df_TWSE2017, df_TWSE2018\n",
    "\n",
    "# ['開盤價(元)', '最高價(元)', '最低價(元)', '收盤價(元)', '成交量(千股)', '成交值(千元)', '成交筆數(筆)', '流通在外股數(千股)', '本益比-TSE', '股價淨值比-TSE']\n",
    "df_TWSE['證券代碼'] = df_TWSE['證券代碼'].astype(str)\n",
    "df_TWSE['年月日'] = pd.to_datetime(df_TWSE['年月日'])\n",
    "df_TWSE['開盤價(元)'] = df_TWSE['開盤價(元)'].str.replace(',' , '').astype('float64') # 1,000 to 1000 to float\n",
    "df_TWSE['最高價(元)'] = df_TWSE['最高價(元)'].str.replace(',' , '').astype('float64')\n",
    "df_TWSE['最低價(元)'] = df_TWSE['最低價(元)'].str.replace(',' , '').astype('float64')\n",
    "df_TWSE['收盤價(元)'] = df_TWSE['收盤價(元)'].str.replace(',' , '').astype('float64')\n",
    "df_TWSE['成交量(千股)'] = df_TWSE['成交量(千股)'].str.replace(',' , '').astype('float64')\n",
    "df_TWSE['成交值(千元)'] = df_TWSE['成交值(千元)'].str.replace(',' , '').astype('float64')\n",
    "df_TWSE['成交筆數(筆)'] = df_TWSE['成交筆數(筆)'].str.replace(',' , '').astype('int64')\n",
    "df_TWSE['流通在外股數(千股)'] = df_TWSE['流通在外股數(千股)'].str.replace(',' , '').astype('float64')\n",
    "df_TWSE['本益比-TSE'] = df_TWSE['本益比-TSE'].str.replace(',' , '').astype('float64')\n",
    "df_TWSE['股價淨值比-TSE'] = df_TWSE['股價淨值比-TSE'].astype('float64')\n",
    "df_TWSE.head(2) "
   ]
  },
  {
   "cell_type": "code",
   "execution_count": 4,
   "metadata": {},
   "outputs": [],
   "source": [
    "# 選那家股票\n",
    "#company_name = '國巨'\n",
    "company_name = '奇力新'\n",
    "\n",
    "\n",
    "# 文章包含那家字\n",
    "#company_words = '被動元件|積層陶瓷電容|MLCC|電感|晶片電阻|車用電子|凱美|同欣電|大毅|君耀|普斯|國巨'\n",
    "company_words = '被動元件|積層陶瓷電容|MLCC|電感|晶片電阻|車用電子|飛磁|旺詮|美磊|美桀|向華科技|奇力新'\n",
    "\n",
    "# 漲跌幾%\n",
    "PA = 0.05\n",
    "\n",
    "# even幾%\n",
    "PAE = 0.003"
   ]
  },
  {
   "cell_type": "code",
   "execution_count": 5,
   "metadata": {},
   "outputs": [
    {
     "data": {
      "text/html": [
       "<div>\n",
       "<style scoped>\n",
       "    .dataframe tbody tr th:only-of-type {\n",
       "        vertical-align: middle;\n",
       "    }\n",
       "\n",
       "    .dataframe tbody tr th {\n",
       "        vertical-align: top;\n",
       "    }\n",
       "\n",
       "    .dataframe thead th {\n",
       "        text-align: right;\n",
       "    }\n",
       "</style>\n",
       "<table border=\"1\" class=\"dataframe\">\n",
       "  <thead>\n",
       "    <tr style=\"text-align: right;\">\n",
       "      <th></th>\n",
       "      <th>證券代碼</th>\n",
       "      <th>年月日</th>\n",
       "      <th>開盤價(元)</th>\n",
       "      <th>最高價(元)</th>\n",
       "      <th>最低價(元)</th>\n",
       "      <th>收盤價(元)</th>\n",
       "      <th>成交量(千股)</th>\n",
       "      <th>成交值(千元)</th>\n",
       "      <th>成交筆數(筆)</th>\n",
       "      <th>流通在外股數(千股)</th>\n",
       "      <th>本益比-TSE</th>\n",
       "      <th>股價淨值比-TSE</th>\n",
       "    </tr>\n",
       "  </thead>\n",
       "  <tbody>\n",
       "    <tr>\n",
       "      <th>0</th>\n",
       "      <td>2456 奇力新</td>\n",
       "      <td>2016-01-04</td>\n",
       "      <td>80.44</td>\n",
       "      <td>81.74</td>\n",
       "      <td>78.18</td>\n",
       "      <td>80.20</td>\n",
       "      <td>4389.0</td>\n",
       "      <td>297206.0</td>\n",
       "      <td>2710</td>\n",
       "      <td>126969.0</td>\n",
       "      <td>15.89</td>\n",
       "      <td>2.32</td>\n",
       "    </tr>\n",
       "    <tr>\n",
       "      <th>1</th>\n",
       "      <td>2456 奇力新</td>\n",
       "      <td>2016-01-05</td>\n",
       "      <td>80.55</td>\n",
       "      <td>85.06</td>\n",
       "      <td>79.25</td>\n",
       "      <td>85.06</td>\n",
       "      <td>6701.0</td>\n",
       "      <td>468760.0</td>\n",
       "      <td>4200</td>\n",
       "      <td>126969.0</td>\n",
       "      <td>16.85</td>\n",
       "      <td>2.46</td>\n",
       "    </tr>\n",
       "  </tbody>\n",
       "</table>\n",
       "</div>"
      ],
      "text/plain": [
       "       證券代碼        年月日  開盤價(元)  最高價(元)  最低價(元)  收盤價(元)  成交量(千股)   成交值(千元)  \\\n",
       "0  2456 奇力新 2016-01-04   80.44   81.74   78.18   80.20   4389.0  297206.0   \n",
       "1  2456 奇力新 2016-01-05   80.55   85.06   79.25   85.06   6701.0  468760.0   \n",
       "\n",
       "   成交筆數(筆)  流通在外股數(千股)  本益比-TSE  股價淨值比-TSE  \n",
       "0     2710    126969.0    15.89       2.32  \n",
       "1     4200    126969.0    16.85       2.46  "
      ]
     },
     "execution_count": 5,
     "metadata": {},
     "output_type": "execute_result"
    }
   ],
   "source": [
    "# 用日期排序 再把index重排\n",
    "#2327 \n",
    "#df_trend = df_TWSE[df_TWSE['證券代碼'].str.contains('國巨')].sort_values(by=['年月日']).reset_index(drop=True)\n",
    "#2456 \n",
    "#df_trend = df_TWSE[df_TWSE['證券代碼'].str.contains('奇力新')].sort_values(by=['年月日']).reset_index(drop=True)\n",
    "#2478 \n",
    "#df_trend = df_TWSE[df_TWSE['證券代碼'].str.contains('大毅')].sort_values(by=['年月日']).reset_index(drop=True)\n",
    "#6271 \n",
    "#df_trend = df_TWSE[df_TWSE['證券代碼'].str.contains('同欣電')].sort_values(by=['年月日']).reset_index(drop=True)\n",
    "\n",
    "df_trend = df_TWSE[df_TWSE['證券代碼'].str.contains(company_name)].sort_values(by=['年月日']).reset_index(drop=True)\n",
    "del df_TWSE\n",
    "df_trend.head(2)"
   ]
  },
  {
   "cell_type": "code",
   "execution_count": 6,
   "metadata": {},
   "outputs": [
    {
     "data": {
      "text/html": [
       "<div>\n",
       "<style scoped>\n",
       "    .dataframe tbody tr th:only-of-type {\n",
       "        vertical-align: middle;\n",
       "    }\n",
       "\n",
       "    .dataframe tbody tr th {\n",
       "        vertical-align: top;\n",
       "    }\n",
       "\n",
       "    .dataframe thead th {\n",
       "        text-align: right;\n",
       "    }\n",
       "</style>\n",
       "<table border=\"1\" class=\"dataframe\">\n",
       "  <thead>\n",
       "    <tr style=\"text-align: right;\">\n",
       "      <th></th>\n",
       "      <th>證券代碼</th>\n",
       "      <th>年月日</th>\n",
       "      <th>開盤價(元)</th>\n",
       "      <th>最高價(元)</th>\n",
       "      <th>最低價(元)</th>\n",
       "      <th>收盤價(元)</th>\n",
       "      <th>成交量(千股)</th>\n",
       "      <th>成交值(千元)</th>\n",
       "      <th>成交筆數(筆)</th>\n",
       "      <th>流通在外股數(千股)</th>\n",
       "      <th>本益比-TSE</th>\n",
       "      <th>股價淨值比-TSE</th>\n",
       "      <th>fluctuation</th>\n",
       "      <th>tag</th>\n",
       "      <th>closeshift</th>\n",
       "    </tr>\n",
       "  </thead>\n",
       "  <tbody>\n",
       "    <tr>\n",
       "      <th>0</th>\n",
       "      <td>2456 奇力新</td>\n",
       "      <td>2016-01-04</td>\n",
       "      <td>80.44</td>\n",
       "      <td>81.74</td>\n",
       "      <td>78.18</td>\n",
       "      <td>80.20</td>\n",
       "      <td>4389.0</td>\n",
       "      <td>297206.0</td>\n",
       "      <td>2710</td>\n",
       "      <td>126969.0</td>\n",
       "      <td>15.89</td>\n",
       "      <td>2.32</td>\n",
       "      <td>0.0</td>\n",
       "      <td>--</td>\n",
       "      <td>0.0</td>\n",
       "    </tr>\n",
       "    <tr>\n",
       "      <th>1</th>\n",
       "      <td>2456 奇力新</td>\n",
       "      <td>2016-01-05</td>\n",
       "      <td>80.55</td>\n",
       "      <td>85.06</td>\n",
       "      <td>79.25</td>\n",
       "      <td>85.06</td>\n",
       "      <td>6701.0</td>\n",
       "      <td>468760.0</td>\n",
       "      <td>4200</td>\n",
       "      <td>126969.0</td>\n",
       "      <td>16.85</td>\n",
       "      <td>2.46</td>\n",
       "      <td>0.0</td>\n",
       "      <td>--</td>\n",
       "      <td>0.0</td>\n",
       "    </tr>\n",
       "  </tbody>\n",
       "</table>\n",
       "</div>"
      ],
      "text/plain": [
       "       證券代碼        年月日  開盤價(元)  最高價(元)  最低價(元)  收盤價(元)  成交量(千股)   成交值(千元)  \\\n",
       "0  2456 奇力新 2016-01-04   80.44   81.74   78.18   80.20   4389.0  297206.0   \n",
       "1  2456 奇力新 2016-01-05   80.55   85.06   79.25   85.06   6701.0  468760.0   \n",
       "\n",
       "   成交筆數(筆)  流通在外股數(千股)  本益比-TSE  股價淨值比-TSE  fluctuation tag  closeshift  \n",
       "0     2710    126969.0    15.89       2.32          0.0  --         0.0  \n",
       "1     4200    126969.0    16.85       2.46          0.0  --         0.0  "
      ]
     },
     "execution_count": 6,
     "metadata": {},
     "output_type": "execute_result"
    }
   ],
   "source": [
    "##增欄位:fluctuation幅度 tag漲跌平\n",
    "df_trend['fluctuation'] = 0.0\n",
    "df_trend['tag']='--'\n",
    "df_trend['closeshift'] = 0.0\n",
    "df_trend.head(2)"
   ]
  },
  {
   "cell_type": "code",
   "execution_count": 7,
   "metadata": {},
   "outputs": [],
   "source": [
    "# ##增欄位:fluctuation幅度 tag漲跌平\n",
    "# df_trend['fluctuation'] = 0.0\n",
    "# df_trend['tag']='--'\n",
    "\n",
    "# ###計算漲跌\n",
    "# for index, row in df_trend.iterrows():\n",
    "#     try:\n",
    "#         margin =(float(df_trend.loc[index,'收盤價(元)']) - float(df_trend.loc[index-1,'收盤價(元)']) )/ float(df_trend.loc[index-1,'收盤價(元)'])\n",
    "#         df_trend.loc[index,'fluctuation']=margin\n",
    "#         if margin >=0.03:\n",
    "#             df_trend.loc[index,'tag']='up'\n",
    "#         elif margin <= -0.03:\n",
    "#             df_trend.loc[index,'tag']='down'\n",
    "#         else:\n",
    "#             df_trend.loc[index,'tag']='even'\n",
    "#     except:\n",
    "#         continue"
   ]
  },
  {
   "cell_type": "code",
   "execution_count": 8,
   "metadata": {},
   "outputs": [
    {
     "data": {
      "text/html": [
       "<div>\n",
       "<style scoped>\n",
       "    .dataframe tbody tr th:only-of-type {\n",
       "        vertical-align: middle;\n",
       "    }\n",
       "\n",
       "    .dataframe tbody tr th {\n",
       "        vertical-align: top;\n",
       "    }\n",
       "\n",
       "    .dataframe thead th {\n",
       "        text-align: right;\n",
       "    }\n",
       "</style>\n",
       "<table border=\"1\" class=\"dataframe\">\n",
       "  <thead>\n",
       "    <tr style=\"text-align: right;\">\n",
       "      <th></th>\n",
       "      <th>證券代碼</th>\n",
       "      <th>年月日</th>\n",
       "      <th>開盤價(元)</th>\n",
       "      <th>最高價(元)</th>\n",
       "      <th>最低價(元)</th>\n",
       "      <th>收盤價(元)</th>\n",
       "      <th>成交量(千股)</th>\n",
       "      <th>成交值(千元)</th>\n",
       "      <th>成交筆數(筆)</th>\n",
       "      <th>流通在外股數(千股)</th>\n",
       "      <th>本益比-TSE</th>\n",
       "      <th>股價淨值比-TSE</th>\n",
       "      <th>fluctuation</th>\n",
       "      <th>tag</th>\n",
       "      <th>closeshift</th>\n",
       "    </tr>\n",
       "  </thead>\n",
       "  <tbody>\n",
       "    <tr>\n",
       "      <th>0</th>\n",
       "      <td>2456 奇力新</td>\n",
       "      <td>2016-01-04</td>\n",
       "      <td>80.44</td>\n",
       "      <td>81.74</td>\n",
       "      <td>78.18</td>\n",
       "      <td>80.20</td>\n",
       "      <td>4389.0</td>\n",
       "      <td>297206.0</td>\n",
       "      <td>2710</td>\n",
       "      <td>126969.0</td>\n",
       "      <td>15.89</td>\n",
       "      <td>2.32</td>\n",
       "      <td>0.0</td>\n",
       "      <td>--</td>\n",
       "      <td>NaN</td>\n",
       "    </tr>\n",
       "    <tr>\n",
       "      <th>1</th>\n",
       "      <td>2456 奇力新</td>\n",
       "      <td>2016-01-05</td>\n",
       "      <td>80.55</td>\n",
       "      <td>85.06</td>\n",
       "      <td>79.25</td>\n",
       "      <td>85.06</td>\n",
       "      <td>6701.0</td>\n",
       "      <td>468760.0</td>\n",
       "      <td>4200</td>\n",
       "      <td>126969.0</td>\n",
       "      <td>16.85</td>\n",
       "      <td>2.46</td>\n",
       "      <td>0.0</td>\n",
       "      <td>--</td>\n",
       "      <td>80.2</td>\n",
       "    </tr>\n",
       "  </tbody>\n",
       "</table>\n",
       "</div>"
      ],
      "text/plain": [
       "       證券代碼        年月日  開盤價(元)  最高價(元)  最低價(元)  收盤價(元)  成交量(千股)   成交值(千元)  \\\n",
       "0  2456 奇力新 2016-01-04   80.44   81.74   78.18   80.20   4389.0  297206.0   \n",
       "1  2456 奇力新 2016-01-05   80.55   85.06   79.25   85.06   6701.0  468760.0   \n",
       "\n",
       "   成交筆數(筆)  流通在外股數(千股)  本益比-TSE  股價淨值比-TSE  fluctuation tag  closeshift  \n",
       "0     2710    126969.0    15.89       2.32          0.0  --         NaN  \n",
       "1     4200    126969.0    16.85       2.46          0.0  --        80.2  "
      ]
     },
     "execution_count": 8,
     "metadata": {},
     "output_type": "execute_result"
    }
   ],
   "source": [
    "df_trend['closeshift'] = df_trend['收盤價(元)'].shift(periods=1)#.fillna(value=0.0, inplace=True)\n",
    "#df_trend['closeshift'].fillna(value= 0.0, inplace=True)\n",
    "df_trend.head(2)"
   ]
  },
  {
   "cell_type": "code",
   "execution_count": 9,
   "metadata": {},
   "outputs": [
    {
     "data": {
      "text/html": [
       "<div>\n",
       "<style scoped>\n",
       "    .dataframe tbody tr th:only-of-type {\n",
       "        vertical-align: middle;\n",
       "    }\n",
       "\n",
       "    .dataframe tbody tr th {\n",
       "        vertical-align: top;\n",
       "    }\n",
       "\n",
       "    .dataframe thead th {\n",
       "        text-align: right;\n",
       "    }\n",
       "</style>\n",
       "<table border=\"1\" class=\"dataframe\">\n",
       "  <thead>\n",
       "    <tr style=\"text-align: right;\">\n",
       "      <th></th>\n",
       "      <th>證券代碼</th>\n",
       "      <th>年月日</th>\n",
       "      <th>開盤價(元)</th>\n",
       "      <th>最高價(元)</th>\n",
       "      <th>最低價(元)</th>\n",
       "      <th>收盤價(元)</th>\n",
       "      <th>成交量(千股)</th>\n",
       "      <th>成交值(千元)</th>\n",
       "      <th>成交筆數(筆)</th>\n",
       "      <th>流通在外股數(千股)</th>\n",
       "      <th>本益比-TSE</th>\n",
       "      <th>股價淨值比-TSE</th>\n",
       "      <th>fluctuation</th>\n",
       "      <th>tag</th>\n",
       "      <th>closeshift</th>\n",
       "    </tr>\n",
       "  </thead>\n",
       "  <tbody>\n",
       "    <tr>\n",
       "      <th>0</th>\n",
       "      <td>2456 奇力新</td>\n",
       "      <td>2016-01-04</td>\n",
       "      <td>80.44</td>\n",
       "      <td>81.74</td>\n",
       "      <td>78.18</td>\n",
       "      <td>80.20</td>\n",
       "      <td>4389.0</td>\n",
       "      <td>297206.0</td>\n",
       "      <td>2710</td>\n",
       "      <td>126969.0</td>\n",
       "      <td>15.89</td>\n",
       "      <td>2.32</td>\n",
       "      <td>NaN</td>\n",
       "      <td>--</td>\n",
       "      <td>NaN</td>\n",
       "    </tr>\n",
       "    <tr>\n",
       "      <th>1</th>\n",
       "      <td>2456 奇力新</td>\n",
       "      <td>2016-01-05</td>\n",
       "      <td>80.55</td>\n",
       "      <td>85.06</td>\n",
       "      <td>79.25</td>\n",
       "      <td>85.06</td>\n",
       "      <td>6701.0</td>\n",
       "      <td>468760.0</td>\n",
       "      <td>4200</td>\n",
       "      <td>126969.0</td>\n",
       "      <td>16.85</td>\n",
       "      <td>2.46</td>\n",
       "      <td>0.060599</td>\n",
       "      <td>--</td>\n",
       "      <td>80.2</td>\n",
       "    </tr>\n",
       "  </tbody>\n",
       "</table>\n",
       "</div>"
      ],
      "text/plain": [
       "       證券代碼        年月日  開盤價(元)  最高價(元)  最低價(元)  收盤價(元)  成交量(千股)   成交值(千元)  \\\n",
       "0  2456 奇力新 2016-01-04   80.44   81.74   78.18   80.20   4389.0  297206.0   \n",
       "1  2456 奇力新 2016-01-05   80.55   85.06   79.25   85.06   6701.0  468760.0   \n",
       "\n",
       "   成交筆數(筆)  流通在外股數(千股)  本益比-TSE  股價淨值比-TSE  fluctuation tag  closeshift  \n",
       "0     2710    126969.0    15.89       2.32          NaN  --         NaN  \n",
       "1     4200    126969.0    16.85       2.46     0.060599  --        80.2  "
      ]
     },
     "execution_count": 9,
     "metadata": {},
     "output_type": "execute_result"
    }
   ],
   "source": [
    "df_trend['fluctuation'] = (df_trend['收盤價(元)'] - df_trend['closeshift']) / df_trend['closeshift']\n",
    "df_trend.head(2)"
   ]
  },
  {
   "cell_type": "code",
   "execution_count": 10,
   "metadata": {},
   "outputs": [
    {
     "name": "stdout",
     "output_type": "stream",
     "text": [
      "fluctuation std =  0.030403952190342375\n",
      "fluctuation mean =  0.0004319276970365839\n"
     ]
    }
   ],
   "source": [
    "print('fluctuation std = ',df_trend['fluctuation'].std(axis=0))\n",
    "print('fluctuation mean = ',df_trend['fluctuation'].mean(axis=0))"
   ]
  },
  {
   "cell_type": "code",
   "execution_count": 11,
   "metadata": {},
   "outputs": [
    {
     "data": {
      "text/html": [
       "<div>\n",
       "<style scoped>\n",
       "    .dataframe tbody tr th:only-of-type {\n",
       "        vertical-align: middle;\n",
       "    }\n",
       "\n",
       "    .dataframe tbody tr th {\n",
       "        vertical-align: top;\n",
       "    }\n",
       "\n",
       "    .dataframe thead th {\n",
       "        text-align: right;\n",
       "    }\n",
       "</style>\n",
       "<table border=\"1\" class=\"dataframe\">\n",
       "  <thead>\n",
       "    <tr style=\"text-align: right;\">\n",
       "      <th></th>\n",
       "      <th>證券代碼</th>\n",
       "      <th>年月日</th>\n",
       "      <th>開盤價(元)</th>\n",
       "      <th>最高價(元)</th>\n",
       "      <th>最低價(元)</th>\n",
       "      <th>收盤價(元)</th>\n",
       "      <th>成交量(千股)</th>\n",
       "      <th>成交值(千元)</th>\n",
       "      <th>成交筆數(筆)</th>\n",
       "      <th>流通在外股數(千股)</th>\n",
       "      <th>本益比-TSE</th>\n",
       "      <th>股價淨值比-TSE</th>\n",
       "      <th>fluctuation</th>\n",
       "      <th>tag</th>\n",
       "      <th>closeshift</th>\n",
       "    </tr>\n",
       "  </thead>\n",
       "  <tbody>\n",
       "    <tr>\n",
       "      <th>0</th>\n",
       "      <td>2456 奇力新</td>\n",
       "      <td>2016-01-04</td>\n",
       "      <td>80.44</td>\n",
       "      <td>81.74</td>\n",
       "      <td>78.18</td>\n",
       "      <td>80.20</td>\n",
       "      <td>4389.0</td>\n",
       "      <td>297206.0</td>\n",
       "      <td>2710</td>\n",
       "      <td>126969.0</td>\n",
       "      <td>15.89</td>\n",
       "      <td>2.32</td>\n",
       "      <td>NaN</td>\n",
       "      <td>--</td>\n",
       "      <td>NaN</td>\n",
       "    </tr>\n",
       "    <tr>\n",
       "      <th>1</th>\n",
       "      <td>2456 奇力新</td>\n",
       "      <td>2016-01-05</td>\n",
       "      <td>80.55</td>\n",
       "      <td>85.06</td>\n",
       "      <td>79.25</td>\n",
       "      <td>85.06</td>\n",
       "      <td>6701.0</td>\n",
       "      <td>468760.0</td>\n",
       "      <td>4200</td>\n",
       "      <td>126969.0</td>\n",
       "      <td>16.85</td>\n",
       "      <td>2.46</td>\n",
       "      <td>0.060599</td>\n",
       "      <td>up</td>\n",
       "      <td>80.2</td>\n",
       "    </tr>\n",
       "  </tbody>\n",
       "</table>\n",
       "</div>"
      ],
      "text/plain": [
       "       證券代碼        年月日  開盤價(元)  最高價(元)  最低價(元)  收盤價(元)  成交量(千股)   成交值(千元)  \\\n",
       "0  2456 奇力新 2016-01-04   80.44   81.74   78.18   80.20   4389.0  297206.0   \n",
       "1  2456 奇力新 2016-01-05   80.55   85.06   79.25   85.06   6701.0  468760.0   \n",
       "\n",
       "   成交筆數(筆)  流通在外股數(千股)  本益比-TSE  股價淨值比-TSE  fluctuation tag  closeshift  \n",
       "0     2710    126969.0    15.89       2.32          NaN  --         NaN  \n",
       "1     4200    126969.0    16.85       2.46     0.060599  up        80.2  "
      ]
     },
     "execution_count": 11,
     "metadata": {},
     "output_type": "execute_result"
    }
   ],
   "source": [
    "df_trend.loc[df_trend['fluctuation'] >=  PA, 'tag'] = 'up'\n",
    "df_trend.loc[df_trend['fluctuation'] <= -PA, 'tag'] = 'down'\n",
    "df_trend.loc[(df_trend['fluctuation'] >= -PAE) & (df_trend['fluctuation'] <= PAE), 'tag'] = 'even'\n",
    "df_trend.head(2)"
   ]
  },
  {
   "cell_type": "code",
   "execution_count": 12,
   "metadata": {},
   "outputs": [
    {
     "data": {
      "text/plain": [
       "37"
      ]
     },
     "execution_count": 12,
     "metadata": {},
     "output_type": "execute_result"
    }
   ],
   "source": [
    "len(df_trend[df_trend['tag']=='up'])"
   ]
  },
  {
   "cell_type": "code",
   "execution_count": 13,
   "metadata": {},
   "outputs": [
    {
     "data": {
      "text/plain": [
       "39"
      ]
     },
     "execution_count": 13,
     "metadata": {},
     "output_type": "execute_result"
    }
   ],
   "source": [
    "len(df_trend[df_trend['tag']=='down'])"
   ]
  },
  {
   "cell_type": "code",
   "execution_count": 14,
   "metadata": {},
   "outputs": [
    {
     "data": {
      "text/plain": [
       "90"
      ]
     },
     "execution_count": 14,
     "metadata": {},
     "output_type": "execute_result"
    }
   ],
   "source": [
    "len(df_trend[df_trend['tag']=='even'])"
   ]
  },
  {
   "cell_type": "code",
   "execution_count": 15,
   "metadata": {},
   "outputs": [
    {
     "name": "stdout",
     "output_type": "stream",
     "text": [
      "10553\n"
     ]
    },
    {
     "data": {
      "text/html": [
       "<div>\n",
       "<style scoped>\n",
       "    .dataframe tbody tr th:only-of-type {\n",
       "        vertical-align: middle;\n",
       "    }\n",
       "\n",
       "    .dataframe tbody tr th {\n",
       "        vertical-align: top;\n",
       "    }\n",
       "\n",
       "    .dataframe thead th {\n",
       "        text-align: right;\n",
       "    }\n",
       "</style>\n",
       "<table border=\"1\" class=\"dataframe\">\n",
       "  <thead>\n",
       "    <tr style=\"text-align: right;\">\n",
       "      <th></th>\n",
       "      <th>author</th>\n",
       "      <th>comment_count</th>\n",
       "      <th>content</th>\n",
       "      <th>id</th>\n",
       "      <th>p_type</th>\n",
       "      <th>page_url</th>\n",
       "      <th>post_time</th>\n",
       "      <th>s_area_name</th>\n",
       "      <th>s_name</th>\n",
       "      <th>title</th>\n",
       "      <th>post_time2</th>\n",
       "    </tr>\n",
       "  </thead>\n",
       "  <tbody>\n",
       "    <tr>\n",
       "      <th>30</th>\n",
       "      <td>時報資訊</td>\n",
       "      <td>0</td>\n",
       "      <td>台股2015年下半年跌勢洶洶，全年跌幅達10.14％，但12檔具利多題材個股，股價多頭氣盛，...</td>\n",
       "      <td>1451618809219_N01</td>\n",
       "      <td>news</td>\n",
       "      <td>https://tw.stock.yahoo.com/news_content/url/d/...</td>\n",
       "      <td>2016-01-01 10:59:00</td>\n",
       "      <td>重大要聞</td>\n",
       "      <td>yahoo股市</td>\n",
       "      <td>《熱門族群》12檔話題當紅股，完美封關</td>\n",
       "      <td>2016-01-01</td>\n",
       "    </tr>\n",
       "    <tr>\n",
       "      <th>97</th>\n",
       "      <td>鉅亨網</td>\n",
       "      <td>0</td>\n",
       "      <td>鉅亨網記者王莞甯 台北台股2015年封關日最後一檔有神秘買盤進場，強拉加權指數上漲39點，元...</td>\n",
       "      <td>1451715108530_N01</td>\n",
       "      <td>news</td>\n",
       "      <td>https://tw.stock.yahoo.com/news_content/url/d/...</td>\n",
       "      <td>2016-01-02 13:50:00</td>\n",
       "      <td>重大要聞</td>\n",
       "      <td>yahoo股市</td>\n",
       "      <td>錢冠州：總統大選不再是大變數 元月行情伺機而動！</td>\n",
       "      <td>2016-01-02</td>\n",
       "    </tr>\n",
       "  </tbody>\n",
       "</table>\n",
       "</div>"
      ],
      "text/plain": [
       "   author  comment_count                                            content  \\\n",
       "30   時報資訊              0  台股2015年下半年跌勢洶洶，全年跌幅達10.14％，但12檔具利多題材個股，股價多頭氣盛，...   \n",
       "97    鉅亨網              0  鉅亨網記者王莞甯 台北台股2015年封關日最後一檔有神秘買盤進場，強拉加權指數上漲39點，元...   \n",
       "\n",
       "                   id p_type  \\\n",
       "30  1451618809219_N01   news   \n",
       "97  1451715108530_N01   news   \n",
       "\n",
       "                                             page_url           post_time  \\\n",
       "30  https://tw.stock.yahoo.com/news_content/url/d/... 2016-01-01 10:59:00   \n",
       "97  https://tw.stock.yahoo.com/news_content/url/d/... 2016-01-02 13:50:00   \n",
       "\n",
       "   s_area_name   s_name                     title  post_time2  \n",
       "30        重大要聞  yahoo股市       《熱門族群》12檔話題當紅股，完美封關  2016-01-01  \n",
       "97        重大要聞  yahoo股市  錢冠州：總統大選不再是大變數 元月行情伺機而動！  2016-01-02  "
      ]
     },
     "execution_count": 15,
     "metadata": {},
     "output_type": "execute_result"
    }
   ],
   "source": [
    "#df_company = df_article[ df_article['content'].str.contains('國巨')]   # df 某欄位 string contains \"國巨\"\n",
    "#df_company = df_article[ df_article['content'].str.contains('奇力新')] \n",
    "#df_company = df_article[ df_article['content'].str.contains('大毅')]  \n",
    "#df_company = df_article[ df_article['content'].str.contains('同欣電 ')]\n",
    "df_company = df_article[ df_article['content'].str.contains(company_words)]   \n",
    "print(len(df_company))\n",
    "del df_article\n",
    "df_company.head(2)"
   ]
  },
  {
   "cell_type": "code",
   "execution_count": 16,
   "metadata": {},
   "outputs": [],
   "source": [
    "stopwords=list()\n",
    "with open('stopword.goatwang.kang.txt', 'r',encoding='utf-8') as data:\n",
    "    for stopword in data:\n",
    "        stopwords.append(stopword.strip('\\n'))"
   ]
  },
  {
   "cell_type": "code",
   "execution_count": 17,
   "metadata": {},
   "outputs": [
    {
     "name": "stderr",
     "output_type": "stream",
     "text": [
      "Building prefix dict from /media/1tb/barry/projects/stock/dict.idkrsi.txt ...\n",
      "Loading model from cache /tmp/jieba.uf2a0578bcd12a258b328002a38330ff0.cache\n",
      "Loading model cost 0.450 seconds.\n",
      "Prefix dict has been built succesfully.\n"
     ]
    }
   ],
   "source": [
    "# 'content'全部切詞\n",
    "corpus = []  # array\n",
    "for index, row in df_company.iterrows():  \n",
    "    not_cut = df_company.loc[index,'content']\n",
    "#     not_cut = row['description']                    # 跟上一行一樣意思\n",
    "    seg_generator = jieba.cut(not_cut, cut_all=False)  # genarator\n",
    "    seglist = list(seg_generator)                     # 整篇文章string切出來的list\n",
    "#    seglist = list(filter(lambda a: a not in stopwords and a != '\\n', seglist ))  #去除停用詞 #未必需要這步驟\n",
    "    corpus.append(' '.join(seglist))          # ' '.join(seg_generator)也可\n",
    "\n",
    "df_company[\"content2\"]=corpus  "
   ]
  },
  {
   "cell_type": "code",
   "execution_count": 18,
   "metadata": {},
   "outputs": [
    {
     "data": {
      "text/html": [
       "<div>\n",
       "<style scoped>\n",
       "    .dataframe tbody tr th:only-of-type {\n",
       "        vertical-align: middle;\n",
       "    }\n",
       "\n",
       "    .dataframe tbody tr th {\n",
       "        vertical-align: top;\n",
       "    }\n",
       "\n",
       "    .dataframe thead th {\n",
       "        text-align: right;\n",
       "    }\n",
       "</style>\n",
       "<table border=\"1\" class=\"dataframe\">\n",
       "  <thead>\n",
       "    <tr style=\"text-align: right;\">\n",
       "      <th></th>\n",
       "      <th>author</th>\n",
       "      <th>comment_count</th>\n",
       "      <th>content</th>\n",
       "      <th>id</th>\n",
       "      <th>p_type</th>\n",
       "      <th>page_url</th>\n",
       "      <th>post_time</th>\n",
       "      <th>s_area_name</th>\n",
       "      <th>s_name</th>\n",
       "      <th>title</th>\n",
       "      <th>post_time2</th>\n",
       "      <th>content2</th>\n",
       "    </tr>\n",
       "  </thead>\n",
       "  <tbody>\n",
       "    <tr>\n",
       "      <th>30</th>\n",
       "      <td>時報資訊</td>\n",
       "      <td>0</td>\n",
       "      <td>台股2015年下半年跌勢洶洶，全年跌幅達10.14％，但12檔具利多題材個股，股價多頭氣盛，...</td>\n",
       "      <td>1451618809219_N01</td>\n",
       "      <td>news</td>\n",
       "      <td>https://tw.stock.yahoo.com/news_content/url/d/...</td>\n",
       "      <td>2016-01-01 10:59:00</td>\n",
       "      <td>重大要聞</td>\n",
       "      <td>yahoo股市</td>\n",
       "      <td>《熱門族群》12檔話題當紅股，完美封關</td>\n",
       "      <td>2016-01-01</td>\n",
       "      <td>台股 2015 年 下半年 跌勢 洶洶 ， 全年 跌幅 達 10.14 ％ ， 但 12 檔...</td>\n",
       "    </tr>\n",
       "    <tr>\n",
       "      <th>97</th>\n",
       "      <td>鉅亨網</td>\n",
       "      <td>0</td>\n",
       "      <td>鉅亨網記者王莞甯 台北台股2015年封關日最後一檔有神秘買盤進場，強拉加權指數上漲39點，元...</td>\n",
       "      <td>1451715108530_N01</td>\n",
       "      <td>news</td>\n",
       "      <td>https://tw.stock.yahoo.com/news_content/url/d/...</td>\n",
       "      <td>2016-01-02 13:50:00</td>\n",
       "      <td>重大要聞</td>\n",
       "      <td>yahoo股市</td>\n",
       "      <td>錢冠州：總統大選不再是大變數 元月行情伺機而動！</td>\n",
       "      <td>2016-01-02</td>\n",
       "      <td>鉅亨網 記者 王莞 甯   台北 台股 2015 年 封關日 最後 一檔 有 神秘 買盤 進...</td>\n",
       "    </tr>\n",
       "  </tbody>\n",
       "</table>\n",
       "</div>"
      ],
      "text/plain": [
       "   author  comment_count                                            content  \\\n",
       "30   時報資訊              0  台股2015年下半年跌勢洶洶，全年跌幅達10.14％，但12檔具利多題材個股，股價多頭氣盛，...   \n",
       "97    鉅亨網              0  鉅亨網記者王莞甯 台北台股2015年封關日最後一檔有神秘買盤進場，強拉加權指數上漲39點，元...   \n",
       "\n",
       "                   id p_type  \\\n",
       "30  1451618809219_N01   news   \n",
       "97  1451715108530_N01   news   \n",
       "\n",
       "                                             page_url           post_time  \\\n",
       "30  https://tw.stock.yahoo.com/news_content/url/d/... 2016-01-01 10:59:00   \n",
       "97  https://tw.stock.yahoo.com/news_content/url/d/... 2016-01-02 13:50:00   \n",
       "\n",
       "   s_area_name   s_name                     title  post_time2  \\\n",
       "30        重大要聞  yahoo股市       《熱門族群》12檔話題當紅股，完美封關  2016-01-01   \n",
       "97        重大要聞  yahoo股市  錢冠州：總統大選不再是大變數 元月行情伺機而動！  2016-01-02   \n",
       "\n",
       "                                             content2  \n",
       "30  台股 2015 年 下半年 跌勢 洶洶 ， 全年 跌幅 達 10.14 ％ ， 但 12 檔...  \n",
       "97  鉅亨網 記者 王莞 甯   台北 台股 2015 年 封關日 最後 一檔 有 神秘 買盤 進...  "
      ]
     },
     "execution_count": 18,
     "metadata": {},
     "output_type": "execute_result"
    }
   ],
   "source": [
    "df_company.head(2)"
   ]
  },
  {
   "cell_type": "code",
   "execution_count": 19,
   "metadata": {},
   "outputs": [
    {
     "data": {
      "text/plain": [
       "True"
      ]
     },
     "execution_count": 19,
     "metadata": {},
     "output_type": "execute_result"
    }
   ],
   "source": [
    "df_trend.loc[2,'年月日'].date() +  timedelta(days=-1) == df_trend.loc[1,'年月日'].date()"
   ]
  },
  {
   "cell_type": "code",
   "execution_count": 20,
   "metadata": {},
   "outputs": [
    {
     "data": {
      "text/plain": [
       "False"
      ]
     },
     "execution_count": 20,
     "metadata": {},
     "output_type": "execute_result"
    }
   ],
   "source": [
    "df_trend.loc[5,'年月日'].date() +  timedelta(days=-1) == df_trend.loc[4,'年月日'].date()"
   ]
  },
  {
   "cell_type": "code",
   "execution_count": 21,
   "metadata": {},
   "outputs": [
    {
     "data": {
      "text/plain": [
       "datetime.timedelta(1)"
      ]
     },
     "execution_count": 21,
     "metadata": {},
     "output_type": "execute_result"
    }
   ],
   "source": [
    "d = df_trend.loc[1,'年月日'].date() - df_trend.loc[ 1-1 ,'年月日'].date() #相減差幾天\n",
    "d"
   ]
  },
  {
   "cell_type": "code",
   "execution_count": 22,
   "metadata": {},
   "outputs": [
    {
     "data": {
      "text/plain": [
       "1"
      ]
     },
     "execution_count": 22,
     "metadata": {},
     "output_type": "execute_result"
    }
   ],
   "source": [
    "d.days #只取天數"
   ]
  },
  {
   "cell_type": "code",
   "execution_count": 23,
   "metadata": {},
   "outputs": [
    {
     "data": {
      "text/plain": [
       "1"
      ]
     },
     "execution_count": 23,
     "metadata": {},
     "output_type": "execute_result"
    }
   ],
   "source": [
    "int(d.days) #幾天 轉整數"
   ]
  },
  {
   "cell_type": "code",
   "execution_count": 24,
   "metadata": {},
   "outputs": [
    {
     "data": {
      "text/plain": [
       "datetime.date(2016, 1, 7)"
      ]
     },
     "execution_count": 24,
     "metadata": {},
     "output_type": "execute_result"
    }
   ],
   "source": [
    "df_trend.loc[3,'年月日'].date() "
   ]
  },
  {
   "cell_type": "code",
   "execution_count": 25,
   "metadata": {},
   "outputs": [
    {
     "data": {
      "text/html": [
       "<div>\n",
       "<style scoped>\n",
       "    .dataframe tbody tr th:only-of-type {\n",
       "        vertical-align: middle;\n",
       "    }\n",
       "\n",
       "    .dataframe tbody tr th {\n",
       "        vertical-align: top;\n",
       "    }\n",
       "\n",
       "    .dataframe thead th {\n",
       "        text-align: right;\n",
       "    }\n",
       "</style>\n",
       "<table border=\"1\" class=\"dataframe\">\n",
       "  <thead>\n",
       "    <tr style=\"text-align: right;\">\n",
       "      <th></th>\n",
       "      <th>author</th>\n",
       "      <th>comment_count</th>\n",
       "      <th>content</th>\n",
       "      <th>id</th>\n",
       "      <th>p_type</th>\n",
       "      <th>page_url</th>\n",
       "      <th>post_time</th>\n",
       "      <th>s_area_name</th>\n",
       "      <th>s_name</th>\n",
       "      <th>title</th>\n",
       "      <th>post_time2</th>\n",
       "      <th>content2</th>\n",
       "    </tr>\n",
       "  </thead>\n",
       "  <tbody>\n",
       "    <tr>\n",
       "      <th>999</th>\n",
       "      <td>Moneydj理財網</td>\n",
       "      <td>0</td>\n",
       "      <td>1.週三台股在美股重挫以及陸股再度啟動融斷機制之下，指數重挫點，指數跌破十年線，所幸尾盤大型...</td>\n",
       "      <td>1452156767683_N01</td>\n",
       "      <td>news</td>\n",
       "      <td>https://tw.stock.yahoo.com/news_content/url/d/...</td>\n",
       "      <td>2016-01-07 16:29:00</td>\n",
       "      <td>重大要聞</td>\n",
       "      <td>yahoo股市</td>\n",
       "      <td>日盛投顧：台股短線有反彈機會</td>\n",
       "      <td>2016-01-07</td>\n",
       "      <td>1 . 週三 台股 在 美股 重挫 以及 陸股 再度 啟動 融斷 機制 之下 ， 指數 重挫...</td>\n",
       "    </tr>\n",
       "  </tbody>\n",
       "</table>\n",
       "</div>"
      ],
      "text/plain": [
       "         author  comment_count  \\\n",
       "999  Moneydj理財網              0   \n",
       "\n",
       "                                               content                 id  \\\n",
       "999  1.週三台股在美股重挫以及陸股再度啟動融斷機制之下，指數重挫點，指數跌破十年線，所幸尾盤大型...  1452156767683_N01   \n",
       "\n",
       "    p_type                                           page_url  \\\n",
       "999   news  https://tw.stock.yahoo.com/news_content/url/d/...   \n",
       "\n",
       "              post_time s_area_name   s_name           title  post_time2  \\\n",
       "999 2016-01-07 16:29:00        重大要聞  yahoo股市  日盛投顧：台股短線有反彈機會  2016-01-07   \n",
       "\n",
       "                                              content2  \n",
       "999  1 . 週三 台股 在 美股 重挫 以及 陸股 再度 啟動 融斷 機制 之下 ， 指數 重挫...  "
      ]
     },
     "execution_count": 25,
     "metadata": {},
     "output_type": "execute_result"
    }
   ],
   "source": [
    "df_company[ df_company['post_time2'] == df_trend.loc[3,'年月日'].date() ].head() # 某欄位 == n 的 全部撈出來"
   ]
  },
  {
   "cell_type": "code",
   "execution_count": 26,
   "metadata": {},
   "outputs": [],
   "source": [
    "# # 演算法 \n",
    "# for index, row in df_2327.iterrows():\n",
    "#     try:\n",
    "#         if df_2327.loc[index,'年月日'].date() +  timedelta(days=-1) == df_2327.loc[index-1,'年月日'].date():                        \n",
    "#             df_forum.loc[df_forum['post_time2'] ==  df_2327.loc[index,'年月日'].date() +  timedelta(days=-1), 'label'] = df_2327.loc[index,'tag']\n",
    "#             # 如果股票前一筆差1天  # 那前1天的文章標上當天的漲跌   \n",
    "        \n",
    "#         elif df_2327.loc[index,'年月日'].date() +  timedelta(days=-2) == df_2327.loc[index-1,'年月日'].date():           \n",
    "#             df_forum.loc[df_forum['post_time2'] ==  df_2327.loc[index,'年月日'].date() +  timedelta(days=-1), 'label'] = df_2327.loc[index,'tag']\n",
    "#             df_forum.loc[df_forum['post_time2'] ==  df_2327.loc[index,'年月日'].date() +  timedelta(days=-2), 'label'] = df_2327.loc[index,'tag']\n",
    "#             # 如果股票前一筆差2天 #那前2天的文章標上當天的漲跌\n",
    "            \n",
    "#         elif df_2327.loc[index,'年月日'].date() +  timedelta(days=-3) == df_2327.loc[index-1,'年月日'].date():\n",
    "#             df_forum.loc[df_forum['post_time2'] ==  df_2327.loc[index,'年月日'].date() +  timedelta(days=-1), 'label'] = df_2327.loc[index,'tag']\n",
    "#             df_forum.loc[df_forum['post_time2'] ==  df_2327.loc[index,'年月日'].date() +  timedelta(days=-2), 'label'] = df_2327.loc[index,'tag']\n",
    "#             df_forum.loc[df_forum['post_time2'] ==  df_2327.loc[index,'年月日'].date() +  timedelta(days=-3), 'label'] = df_2327.loc[index,'tag']\n",
    "#         elif df_2327.loc[index,'年月日'].date() +  timedelta(days=-4) == df_2327.loc[index-1,'年月日'].date():\n",
    "#             df_forum.loc[df_forum['post_time2'] ==  df_2327.loc[index,'年月日'].date() +  timedelta(days=-1), 'label'] = df_2327.loc[index,'tag']\n",
    "#             df_forum.loc[df_forum['post_time2'] ==  df_2327.loc[index,'年月日'].date() +  timedelta(days=-2), 'label'] = df_2327.loc[index,'tag']\n",
    "#             df_forum.loc[df_forum['post_time2'] ==  df_2327.loc[index,'年月日'].date() +  timedelta(days=-3), 'label'] = df_2327.loc[index,'tag']\n",
    "#             df_forum.loc[df_forum['post_time2'] ==  df_2327.loc[index,'年月日'].date() +  timedelta(days=-4), 'label'] = df_2327.loc[index,'tag']\n",
    "\n",
    "\n",
    "#     except:\n",
    "#         continue"
   ]
  },
  {
   "cell_type": "code",
   "execution_count": 27,
   "metadata": {},
   "outputs": [],
   "source": [
    "# 看所有相差的天數\n",
    "# for index, row in df_2327.iterrows():\n",
    "#     try:\n",
    "#         n = df_2327.loc[index,'年月日'].date() - df_2327.loc[index-1,'年月日'].date()\n",
    "#         print(n)\n",
    "#     except:\n",
    "#         continue\n",
    "\n",
    "# 最多12天"
   ]
  },
  {
   "cell_type": "code",
   "execution_count": 28,
   "metadata": {},
   "outputs": [],
   "source": [
    "# 如果股票前一筆差n天  # 那前n天的文章標上當天的漲跌 \n",
    "df_company['label5566']='--'\n",
    "for index, row in df_trend.iterrows():\n",
    "    try:\n",
    "        n = int((df_trend.loc[index,'年月日'].date() - df_trend.loc[index-1,'年月日'].date()).days ) # 差幾個datetime # 轉天數 # 再轉整數\n",
    "#        print(n)\n",
    "\n",
    "        for i in range(1, n+1):\n",
    "#            print(i)\n",
    "            df_company.loc[df_company['post_time2'] ==  df_trend.loc[index,'年月日'].date() +  timedelta(days=-i), 'label5566'] = df_trend.loc[index,'tag']\n",
    "    except:\n",
    "        continue"
   ]
  },
  {
   "cell_type": "code",
   "execution_count": 29,
   "metadata": {},
   "outputs": [
    {
     "name": "stdout",
     "output_type": "stream",
     "text": [
      "1284\n"
     ]
    },
    {
     "data": {
      "text/html": [
       "<div>\n",
       "<style scoped>\n",
       "    .dataframe tbody tr th:only-of-type {\n",
       "        vertical-align: middle;\n",
       "    }\n",
       "\n",
       "    .dataframe tbody tr th {\n",
       "        vertical-align: top;\n",
       "    }\n",
       "\n",
       "    .dataframe thead th {\n",
       "        text-align: right;\n",
       "    }\n",
       "</style>\n",
       "<table border=\"1\" class=\"dataframe\">\n",
       "  <thead>\n",
       "    <tr style=\"text-align: right;\">\n",
       "      <th></th>\n",
       "      <th>author</th>\n",
       "      <th>comment_count</th>\n",
       "      <th>content</th>\n",
       "      <th>id</th>\n",
       "      <th>p_type</th>\n",
       "      <th>page_url</th>\n",
       "      <th>post_time</th>\n",
       "      <th>s_area_name</th>\n",
       "      <th>s_name</th>\n",
       "      <th>title</th>\n",
       "      <th>post_time2</th>\n",
       "      <th>content2</th>\n",
       "      <th>label5566</th>\n",
       "    </tr>\n",
       "  </thead>\n",
       "  <tbody>\n",
       "    <tr>\n",
       "      <th>1522</th>\n",
       "      <td>財訊快報</td>\n",
       "      <td>0</td>\n",
       "      <td>◆全台勞檢啟動，11類行業小心，其中284家電子零組件企業，實施全面普查。&lt;BR&gt; ◆海外分...</td>\n",
       "      <td>1452472319234_N01</td>\n",
       "      <td>news</td>\n",
       "      <td>https://tw.stock.yahoo.com/news_content/url/d/...</td>\n",
       "      <td>2016-01-11 08:05:00</td>\n",
       "      <td>重大要聞</td>\n",
       "      <td>yahoo股市</td>\n",
       "      <td>工商時報晨訊</td>\n",
       "      <td>2016-01-11</td>\n",
       "      <td>◆ 全台 勞檢 啟動 ， 11 類 行業 小心 ， 其中 284 家 電子 零組件 企業 ，...</td>\n",
       "      <td>down</td>\n",
       "    </tr>\n",
       "    <tr>\n",
       "      <th>1530</th>\n",
       "      <td>時報資訊</td>\n",
       "      <td>0</td>\n",
       "      <td>陸股暫停熔斷機制，減緩市場對於系統性風險的疑慮，法人指出，台股短線壓力仍大，若結構出現惡化現...</td>\n",
       "      <td>1452472329341_N01</td>\n",
       "      <td>news</td>\n",
       "      <td>https://tw.stock.yahoo.com/news_content/url/d/...</td>\n",
       "      <td>2016-01-11 08:15:00</td>\n",
       "      <td>重大要聞</td>\n",
       "      <td>yahoo股市</td>\n",
       "      <td>《基金》全球經濟趨緩，慎選台股標的</td>\n",
       "      <td>2016-01-11</td>\n",
       "      <td>陸股 暫停 熔斷 機制 ， 減緩 市場 對於 系統性 風險 的 疑慮 ， 法人 指出 ， 台...</td>\n",
       "      <td>down</td>\n",
       "    </tr>\n",
       "  </tbody>\n",
       "</table>\n",
       "</div>"
      ],
      "text/plain": [
       "     author  comment_count                                            content  \\\n",
       "1522   財訊快報              0  ◆全台勞檢啟動，11類行業小心，其中284家電子零組件企業，實施全面普查。<BR> ◆海外分...   \n",
       "1530   時報資訊              0  陸股暫停熔斷機制，減緩市場對於系統性風險的疑慮，法人指出，台股短線壓力仍大，若結構出現惡化現...   \n",
       "\n",
       "                     id p_type  \\\n",
       "1522  1452472319234_N01   news   \n",
       "1530  1452472329341_N01   news   \n",
       "\n",
       "                                               page_url           post_time  \\\n",
       "1522  https://tw.stock.yahoo.com/news_content/url/d/... 2016-01-11 08:05:00   \n",
       "1530  https://tw.stock.yahoo.com/news_content/url/d/... 2016-01-11 08:15:00   \n",
       "\n",
       "     s_area_name   s_name              title  post_time2  \\\n",
       "1522        重大要聞  yahoo股市             工商時報晨訊  2016-01-11   \n",
       "1530        重大要聞  yahoo股市  《基金》全球經濟趨緩，慎選台股標的  2016-01-11   \n",
       "\n",
       "                                               content2 label5566  \n",
       "1522  ◆ 全台 勞檢 啟動 ， 11 類 行業 小心 ， 其中 284 家 電子 零組件 企業 ，...      down  \n",
       "1530  陸股 暫停 熔斷 機制 ， 減緩 市場 對於 系統性 風險 的 疑慮 ， 法人 指出 ， 台...      down  "
      ]
     },
     "execution_count": 29,
     "metadata": {},
     "output_type": "execute_result"
    }
   ],
   "source": [
    "print(len(df_company[df_company['label5566']=='down']))\n",
    "df_company[df_company['label5566']=='down'].head(2)"
   ]
  },
  {
   "cell_type": "code",
   "execution_count": 30,
   "metadata": {},
   "outputs": [
    {
     "name": "stdout",
     "output_type": "stream",
     "text": [
      "891\n"
     ]
    },
    {
     "data": {
      "text/html": [
       "<div>\n",
       "<style scoped>\n",
       "    .dataframe tbody tr th:only-of-type {\n",
       "        vertical-align: middle;\n",
       "    }\n",
       "\n",
       "    .dataframe tbody tr th {\n",
       "        vertical-align: top;\n",
       "    }\n",
       "\n",
       "    .dataframe thead th {\n",
       "        text-align: right;\n",
       "    }\n",
       "</style>\n",
       "<table border=\"1\" class=\"dataframe\">\n",
       "  <thead>\n",
       "    <tr style=\"text-align: right;\">\n",
       "      <th></th>\n",
       "      <th>author</th>\n",
       "      <th>comment_count</th>\n",
       "      <th>content</th>\n",
       "      <th>id</th>\n",
       "      <th>p_type</th>\n",
       "      <th>page_url</th>\n",
       "      <th>post_time</th>\n",
       "      <th>s_area_name</th>\n",
       "      <th>s_name</th>\n",
       "      <th>title</th>\n",
       "      <th>post_time2</th>\n",
       "      <th>content2</th>\n",
       "      <th>label5566</th>\n",
       "    </tr>\n",
       "  </thead>\n",
       "  <tbody>\n",
       "    <tr>\n",
       "      <th>222</th>\n",
       "      <td>財訊快報</td>\n",
       "      <td>0</td>\n",
       "      <td>◆千億科技預算，張善政喊加碼，主計總處初步匡列1 061億、年增3%，可能再調高。&lt;BR&gt; ...</td>\n",
       "      <td>1451867210012_N01</td>\n",
       "      <td>news</td>\n",
       "      <td>https://tw.stock.yahoo.com/news_content/url/d/...</td>\n",
       "      <td>2016-01-04 07:56:00</td>\n",
       "      <td>重大要聞</td>\n",
       "      <td>yahoo股市</td>\n",
       "      <td>工商時報晨訊</td>\n",
       "      <td>2016-01-04</td>\n",
       "      <td>◆ 千億 科技 預算 ， 張善政 喊 加碼 ， 主計 總處 初步 匡列 1   061 億 ...</td>\n",
       "      <td>up</td>\n",
       "    </tr>\n",
       "    <tr>\n",
       "      <th>289</th>\n",
       "      <td>時報資訊</td>\n",
       "      <td>0</td>\n",
       "      <td>2016年開紅盤日，台股狂洩逾200點！儘管2015年最後一個交易日拉尾盤，守住8300點，...</td>\n",
       "      <td>1451879808470_N01</td>\n",
       "      <td>news</td>\n",
       "      <td>https://tw.stock.yahoo.com/news_content/url/d/...</td>\n",
       "      <td>2016-01-04 11:34:00</td>\n",
       "      <td>重大要聞</td>\n",
       "      <td>yahoo股市</td>\n",
       "      <td>《盤中解析》紅盤日變臉，台股狂洩逾200點</td>\n",
       "      <td>2016-01-04</td>\n",
       "      <td>2016 年開 紅盤 日 ， 台股 狂洩 逾 200 點 ！ 儘管 2015 年 最後 一個...</td>\n",
       "      <td>up</td>\n",
       "    </tr>\n",
       "  </tbody>\n",
       "</table>\n",
       "</div>"
      ],
      "text/plain": [
       "    author  comment_count                                            content  \\\n",
       "222   財訊快報              0  ◆千億科技預算，張善政喊加碼，主計總處初步匡列1 061億、年增3%，可能再調高。<BR> ...   \n",
       "289   時報資訊              0  2016年開紅盤日，台股狂洩逾200點！儘管2015年最後一個交易日拉尾盤，守住8300點，...   \n",
       "\n",
       "                    id p_type  \\\n",
       "222  1451867210012_N01   news   \n",
       "289  1451879808470_N01   news   \n",
       "\n",
       "                                              page_url           post_time  \\\n",
       "222  https://tw.stock.yahoo.com/news_content/url/d/... 2016-01-04 07:56:00   \n",
       "289  https://tw.stock.yahoo.com/news_content/url/d/... 2016-01-04 11:34:00   \n",
       "\n",
       "    s_area_name   s_name                  title  post_time2  \\\n",
       "222        重大要聞  yahoo股市                 工商時報晨訊  2016-01-04   \n",
       "289        重大要聞  yahoo股市  《盤中解析》紅盤日變臉，台股狂洩逾200點  2016-01-04   \n",
       "\n",
       "                                              content2 label5566  \n",
       "222  ◆ 千億 科技 預算 ， 張善政 喊 加碼 ， 主計 總處 初步 匡列 1   061 億 ...        up  \n",
       "289  2016 年開 紅盤 日 ， 台股 狂洩 逾 200 點 ！ 儘管 2015 年 最後 一個...        up  "
      ]
     },
     "execution_count": 30,
     "metadata": {},
     "output_type": "execute_result"
    }
   ],
   "source": [
    "print(len(df_company[df_company['label5566']=='up']))\n",
    "df_company[df_company['label5566']=='up'].head(2)"
   ]
  },
  {
   "cell_type": "code",
   "execution_count": 31,
   "metadata": {},
   "outputs": [
    {
     "name": "stdout",
     "output_type": "stream",
     "text": [
      "911\n"
     ]
    },
    {
     "data": {
      "text/html": [
       "<div>\n",
       "<style scoped>\n",
       "    .dataframe tbody tr th:only-of-type {\n",
       "        vertical-align: middle;\n",
       "    }\n",
       "\n",
       "    .dataframe tbody tr th {\n",
       "        vertical-align: top;\n",
       "    }\n",
       "\n",
       "    .dataframe thead th {\n",
       "        text-align: right;\n",
       "    }\n",
       "</style>\n",
       "<table border=\"1\" class=\"dataframe\">\n",
       "  <thead>\n",
       "    <tr style=\"text-align: right;\">\n",
       "      <th></th>\n",
       "      <th>author</th>\n",
       "      <th>comment_count</th>\n",
       "      <th>content</th>\n",
       "      <th>id</th>\n",
       "      <th>p_type</th>\n",
       "      <th>page_url</th>\n",
       "      <th>post_time</th>\n",
       "      <th>s_area_name</th>\n",
       "      <th>s_name</th>\n",
       "      <th>title</th>\n",
       "      <th>post_time2</th>\n",
       "      <th>content2</th>\n",
       "      <th>label5566</th>\n",
       "    </tr>\n",
       "  </thead>\n",
       "  <tbody>\n",
       "    <tr>\n",
       "      <th>3121</th>\n",
       "      <td>鉅亨網</td>\n",
       "      <td>0</td>\n",
       "      <td>受到月線反壓、外資籌碼面持續偏保守的影響下，台股期現貨今(20)日同步下壓，加權指數開低走低...</td>\n",
       "      <td>1453258680867_N01</td>\n",
       "      <td>news</td>\n",
       "      <td>https://tw.stock.yahoo.com/news_content/url/d/...</td>\n",
       "      <td>2016-01-20 10:42:00</td>\n",
       "      <td>重大要聞</td>\n",
       "      <td>yahoo股市</td>\n",
       "      <td>台股盤中─個股漲勢稀落 指數一度大跌百點 台指期難拉高結算</td>\n",
       "      <td>2016-01-20</td>\n",
       "      <td>受到 月線 反壓 、 外資 籌碼面 持續 偏 保守 的 影響 下 ， 台股 期 現貨 今 (...</td>\n",
       "      <td>even</td>\n",
       "    </tr>\n",
       "    <tr>\n",
       "      <th>3192</th>\n",
       "      <td>Moneydj理財網</td>\n",
       "      <td>0</td>\n",
       "      <td>1.歐美股市走穩，不過受期指結算影響，台股週三開低，加上港股重挫，指數震盪走低，盤面上部份生...</td>\n",
       "      <td>1453281180692_N01</td>\n",
       "      <td>news</td>\n",
       "      <td>https://tw.stock.yahoo.com/news_content/url/d/...</td>\n",
       "      <td>2016-01-20 16:16:00</td>\n",
       "      <td>重大要聞</td>\n",
       "      <td>yahoo股市</td>\n",
       "      <td>日盛投顧：台股短線參考區間7600-7900</td>\n",
       "      <td>2016-01-20</td>\n",
       "      <td>1 . 歐美 股市 走穩 ， 不過 受 期指 結算 影響 ， 台股 週三 開低 ， 加上 港...</td>\n",
       "      <td>even</td>\n",
       "    </tr>\n",
       "  </tbody>\n",
       "</table>\n",
       "</div>"
      ],
      "text/plain": [
       "          author  comment_count  \\\n",
       "3121         鉅亨網              0   \n",
       "3192  Moneydj理財網              0   \n",
       "\n",
       "                                                content                 id  \\\n",
       "3121  受到月線反壓、外資籌碼面持續偏保守的影響下，台股期現貨今(20)日同步下壓，加權指數開低走低...  1453258680867_N01   \n",
       "3192  1.歐美股市走穩，不過受期指結算影響，台股週三開低，加上港股重挫，指數震盪走低，盤面上部份生...  1453281180692_N01   \n",
       "\n",
       "     p_type                                           page_url  \\\n",
       "3121   news  https://tw.stock.yahoo.com/news_content/url/d/...   \n",
       "3192   news  https://tw.stock.yahoo.com/news_content/url/d/...   \n",
       "\n",
       "               post_time s_area_name   s_name                          title  \\\n",
       "3121 2016-01-20 10:42:00        重大要聞  yahoo股市  台股盤中─個股漲勢稀落 指數一度大跌百點 台指期難拉高結算   \n",
       "3192 2016-01-20 16:16:00        重大要聞  yahoo股市         日盛投顧：台股短線參考區間7600-7900   \n",
       "\n",
       "      post_time2                                           content2 label5566  \n",
       "3121  2016-01-20  受到 月線 反壓 、 外資 籌碼面 持續 偏 保守 的 影響 下 ， 台股 期 現貨 今 (...      even  \n",
       "3192  2016-01-20  1 . 歐美 股市 走穩 ， 不過 受 期指 結算 影響 ， 台股 週三 開低 ， 加上 港...      even  "
      ]
     },
     "execution_count": 31,
     "metadata": {},
     "output_type": "execute_result"
    }
   ],
   "source": [
    "print(len(df_company[df_company['label5566']=='even']))\n",
    "df_company[df_company['label5566']=='even'].head(2)"
   ]
  },
  {
   "cell_type": "code",
   "execution_count": 32,
   "metadata": {},
   "outputs": [],
   "source": [
    "df_company = df_company[df_company['label5566'].str.contains('up|down|even')]"
   ]
  },
  {
   "cell_type": "code",
   "execution_count": 33,
   "metadata": {},
   "outputs": [
    {
     "name": "stdout",
     "output_type": "stream",
     "text": [
      "3403\n",
      "<class 'list'>\n"
     ]
    },
    {
     "data": {
      "text/plain": [
       "['營收', '交易', '成長', '上漲', '外資', '法人', '增加', '下跌', '獲利', '股']"
      ]
     },
     "execution_count": 33,
     "metadata": {},
     "output_type": "execute_result"
    }
   ],
   "source": [
    "import re\n",
    "features = []   # features=list()\n",
    "with open('finance.words.txt', 'r',encoding='utf-8') as data:\n",
    "    for line in data:\n",
    "#        line = re.sub('[a-zA-Z0-9\\W]', '', line)                     # 把數字英文去掉\n",
    "        line = re.sub('[0-9]', '', line)                              # 把數字去掉\n",
    "        features.append(line.replace('\\n', '').replace(' ', ''))      # 空格 \\n去掉\n",
    "\n",
    "print(len(features))\n",
    "print(type(features))\n",
    "features[:10]"
   ]
  },
  {
   "cell_type": "code",
   "execution_count": 34,
   "metadata": {},
   "outputs": [],
   "source": [
    "#df_keyword1 = pd.read_csv(\"final_higher_tf_idf_part.csv\",encoding=\"utf-8\") #上漲形容詞\n",
    "#df_keyword2 = pd.read_csv(\"final_lower_tf_idf_part.csv\",encoding=\"utf-8\")  #下跌形容詞\n",
    "#df_keyword = pd.concat([df_keyword1,df_keyword2])\n",
    "#del df_keyword1,df_keyword2\n",
    "#df_keyword.head()"
   ]
  },
  {
   "cell_type": "code",
   "execution_count": 35,
   "metadata": {},
   "outputs": [],
   "source": [
    "#features = df_keyword['key'].to_numpy()\n",
    "#features"
   ]
  },
  {
   "cell_type": "code",
   "execution_count": 36,
   "metadata": {},
   "outputs": [
    {
     "data": {
      "text/html": [
       "<div>\n",
       "<style scoped>\n",
       "    .dataframe tbody tr th:only-of-type {\n",
       "        vertical-align: middle;\n",
       "    }\n",
       "\n",
       "    .dataframe tbody tr th {\n",
       "        vertical-align: top;\n",
       "    }\n",
       "\n",
       "    .dataframe thead th {\n",
       "        text-align: right;\n",
       "    }\n",
       "</style>\n",
       "<table border=\"1\" class=\"dataframe\">\n",
       "  <thead>\n",
       "    <tr style=\"text-align: right;\">\n",
       "      <th></th>\n",
       "      <th>00</th>\n",
       "      <th>000</th>\n",
       "      <th>000000001</th>\n",
       "      <th>000000002</th>\n",
       "      <th>000000003</th>\n",
       "      <th>000000004</th>\n",
       "      <th>000000005</th>\n",
       "      <th>000000006</th>\n",
       "      <th>000000007</th>\n",
       "      <th>000000008</th>\n",
       "      <th>...</th>\n",
       "      <th>龍澤科</th>\n",
       "      <th>龍燈</th>\n",
       "      <th>龍華</th>\n",
       "      <th>龍邦</th>\n",
       "      <th>龍頭</th>\n",
       "      <th>龍頭廠</th>\n",
       "      <th>龍馬</th>\n",
       "      <th>龐培</th>\n",
       "      <th>龐大</th>\n",
       "      <th>龔明鑫</th>\n",
       "    </tr>\n",
       "  </thead>\n",
       "  <tbody>\n",
       "    <tr>\n",
       "      <th>222</th>\n",
       "      <td>0.0</td>\n",
       "      <td>0.0</td>\n",
       "      <td>0.0</td>\n",
       "      <td>0.0</td>\n",
       "      <td>0.0</td>\n",
       "      <td>0.0</td>\n",
       "      <td>0.0</td>\n",
       "      <td>0.0</td>\n",
       "      <td>0.0</td>\n",
       "      <td>0.0</td>\n",
       "      <td>...</td>\n",
       "      <td>0.0</td>\n",
       "      <td>0.0</td>\n",
       "      <td>0.0</td>\n",
       "      <td>0.0</td>\n",
       "      <td>0.025144</td>\n",
       "      <td>0.03842</td>\n",
       "      <td>0.0</td>\n",
       "      <td>0.0</td>\n",
       "      <td>0.0</td>\n",
       "      <td>0.0</td>\n",
       "    </tr>\n",
       "    <tr>\n",
       "      <th>289</th>\n",
       "      <td>0.0</td>\n",
       "      <td>0.0</td>\n",
       "      <td>0.0</td>\n",
       "      <td>0.0</td>\n",
       "      <td>0.0</td>\n",
       "      <td>0.0</td>\n",
       "      <td>0.0</td>\n",
       "      <td>0.0</td>\n",
       "      <td>0.0</td>\n",
       "      <td>0.0</td>\n",
       "      <td>...</td>\n",
       "      <td>0.0</td>\n",
       "      <td>0.0</td>\n",
       "      <td>0.0</td>\n",
       "      <td>0.0</td>\n",
       "      <td>0.000000</td>\n",
       "      <td>0.00000</td>\n",
       "      <td>0.0</td>\n",
       "      <td>0.0</td>\n",
       "      <td>0.0</td>\n",
       "      <td>0.0</td>\n",
       "    </tr>\n",
       "  </tbody>\n",
       "</table>\n",
       "<p>2 rows × 40391 columns</p>\n",
       "</div>"
      ],
      "text/plain": [
       "      00  000  000000001  000000002  000000003  000000004  000000005  \\\n",
       "222  0.0  0.0        0.0        0.0        0.0        0.0        0.0   \n",
       "289  0.0  0.0        0.0        0.0        0.0        0.0        0.0   \n",
       "\n",
       "     000000006  000000007  000000008  ...  龍澤科   龍燈   龍華   龍邦        龍頭  \\\n",
       "222        0.0        0.0        0.0  ...  0.0  0.0  0.0  0.0  0.025144   \n",
       "289        0.0        0.0        0.0  ...  0.0  0.0  0.0  0.0  0.000000   \n",
       "\n",
       "         龍頭廠   龍馬   龐培   龐大  龔明鑫  \n",
       "222  0.03842  0.0  0.0  0.0  0.0  \n",
       "289  0.00000  0.0  0.0  0.0  0.0  \n",
       "\n",
       "[2 rows x 40391 columns]"
      ]
     },
     "execution_count": 36,
     "metadata": {},
     "output_type": "execute_result"
    }
   ],
   "source": [
    "from sklearn.feature_extraction.text import TfidfVectorizer\n",
    "\n",
    "#features = [ '上漲','下跌','看好','走高','走低','漲停','跌停']\n",
    "#features = features[:1000]\n",
    "cv = TfidfVectorizer()   #預設有空格就一個feature\n",
    "#cv = TfidfVectorizer(features) # 設定自己要的詞 \n",
    "\n",
    "r = pd.SparseDataFrame(cv.fit_transform(df_company['content2']), \n",
    "                       df_company.index,\n",
    "                       cv.get_feature_names(), \n",
    "                       default_fill_value=0)\n",
    "\n",
    "r.fillna(value=0.0, inplace=True)\n",
    "r.head(2)"
   ]
  },
  {
   "cell_type": "code",
   "execution_count": 37,
   "metadata": {},
   "outputs": [],
   "source": [
    "# from sklearn.feature_extraction.text import CountVectorizer\n",
    "\n",
    "# #features = [ '上漲','下跌','看好','走高','走低','漲停','跌停']\n",
    "# #features = features[:1000]\n",
    "# #cv = CountVectorizer()   #預設有空格就一個feature\n",
    "# cv = CountVectorizer(vocabulary = features) # 設定自己要的詞 \n",
    "\n",
    "# r = pd.SparseDataFrame(cv.fit_transform(df_company['content2']), \n",
    "#                        df_company.index,\n",
    "#                        cv.get_feature_names(), \n",
    "#                        default_fill_value=0)\n",
    "\n",
    "# r.head(2)"
   ]
  },
  {
   "cell_type": "code",
   "execution_count": 38,
   "metadata": {},
   "outputs": [
    {
     "data": {
      "text/html": [
       "<div>\n",
       "<style scoped>\n",
       "    .dataframe tbody tr th:only-of-type {\n",
       "        vertical-align: middle;\n",
       "    }\n",
       "\n",
       "    .dataframe tbody tr th {\n",
       "        vertical-align: top;\n",
       "    }\n",
       "\n",
       "    .dataframe thead th {\n",
       "        text-align: right;\n",
       "    }\n",
       "</style>\n",
       "<table border=\"1\" class=\"dataframe\">\n",
       "  <thead>\n",
       "    <tr style=\"text-align: right;\">\n",
       "      <th></th>\n",
       "      <th>author</th>\n",
       "      <th>comment_count</th>\n",
       "      <th>content</th>\n",
       "      <th>id</th>\n",
       "      <th>p_type</th>\n",
       "      <th>page_url</th>\n",
       "      <th>post_time</th>\n",
       "      <th>s_area_name</th>\n",
       "      <th>s_name</th>\n",
       "      <th>title</th>\n",
       "      <th>...</th>\n",
       "      <th>龍澤科</th>\n",
       "      <th>龍燈</th>\n",
       "      <th>龍華</th>\n",
       "      <th>龍邦</th>\n",
       "      <th>龍頭</th>\n",
       "      <th>龍頭廠</th>\n",
       "      <th>龍馬</th>\n",
       "      <th>龐培</th>\n",
       "      <th>龐大</th>\n",
       "      <th>龔明鑫</th>\n",
       "    </tr>\n",
       "  </thead>\n",
       "  <tbody>\n",
       "    <tr>\n",
       "      <th>222</th>\n",
       "      <td>財訊快報</td>\n",
       "      <td>0</td>\n",
       "      <td>◆千億科技預算，張善政喊加碼，主計總處初步匡列1 061億、年增3%，可能再調高。&lt;BR&gt; ...</td>\n",
       "      <td>1451867210012_N01</td>\n",
       "      <td>news</td>\n",
       "      <td>https://tw.stock.yahoo.com/news_content/url/d/...</td>\n",
       "      <td>2016-01-04 07:56:00</td>\n",
       "      <td>重大要聞</td>\n",
       "      <td>yahoo股市</td>\n",
       "      <td>工商時報晨訊</td>\n",
       "      <td>...</td>\n",
       "      <td>0.0</td>\n",
       "      <td>0.0</td>\n",
       "      <td>0.0</td>\n",
       "      <td>0.0</td>\n",
       "      <td>0.025144</td>\n",
       "      <td>0.03842</td>\n",
       "      <td>0.0</td>\n",
       "      <td>0.0</td>\n",
       "      <td>0.0</td>\n",
       "      <td>0.0</td>\n",
       "    </tr>\n",
       "    <tr>\n",
       "      <th>289</th>\n",
       "      <td>時報資訊</td>\n",
       "      <td>0</td>\n",
       "      <td>2016年開紅盤日，台股狂洩逾200點！儘管2015年最後一個交易日拉尾盤，守住8300點，...</td>\n",
       "      <td>1451879808470_N01</td>\n",
       "      <td>news</td>\n",
       "      <td>https://tw.stock.yahoo.com/news_content/url/d/...</td>\n",
       "      <td>2016-01-04 11:34:00</td>\n",
       "      <td>重大要聞</td>\n",
       "      <td>yahoo股市</td>\n",
       "      <td>《盤中解析》紅盤日變臉，台股狂洩逾200點</td>\n",
       "      <td>...</td>\n",
       "      <td>0.0</td>\n",
       "      <td>0.0</td>\n",
       "      <td>0.0</td>\n",
       "      <td>0.0</td>\n",
       "      <td>0.000000</td>\n",
       "      <td>0.00000</td>\n",
       "      <td>0.0</td>\n",
       "      <td>0.0</td>\n",
       "      <td>0.0</td>\n",
       "      <td>0.0</td>\n",
       "    </tr>\n",
       "  </tbody>\n",
       "</table>\n",
       "<p>2 rows × 40404 columns</p>\n",
       "</div>"
      ],
      "text/plain": [
       "    author  comment_count                                            content  \\\n",
       "222   財訊快報              0  ◆千億科技預算，張善政喊加碼，主計總處初步匡列1 061億、年增3%，可能再調高。<BR> ...   \n",
       "289   時報資訊              0  2016年開紅盤日，台股狂洩逾200點！儘管2015年最後一個交易日拉尾盤，守住8300點，...   \n",
       "\n",
       "                    id p_type  \\\n",
       "222  1451867210012_N01   news   \n",
       "289  1451879808470_N01   news   \n",
       "\n",
       "                                              page_url           post_time  \\\n",
       "222  https://tw.stock.yahoo.com/news_content/url/d/... 2016-01-04 07:56:00   \n",
       "289  https://tw.stock.yahoo.com/news_content/url/d/... 2016-01-04 11:34:00   \n",
       "\n",
       "    s_area_name   s_name                  title  ...  龍澤科   龍燈   龍華   龍邦  \\\n",
       "222        重大要聞  yahoo股市                 工商時報晨訊  ...  0.0  0.0  0.0  0.0   \n",
       "289        重大要聞  yahoo股市  《盤中解析》紅盤日變臉，台股狂洩逾200點  ...  0.0  0.0  0.0  0.0   \n",
       "\n",
       "           龍頭      龍頭廠   龍馬   龐培   龐大  龔明鑫  \n",
       "222  0.025144  0.03842  0.0  0.0  0.0  0.0  \n",
       "289  0.000000  0.00000  0.0  0.0  0.0  0.0  \n",
       "\n",
       "[2 rows x 40404 columns]"
      ]
     },
     "execution_count": 38,
     "metadata": {},
     "output_type": "execute_result"
    }
   ],
   "source": [
    "df_company2 = pd.concat([df_company,r], axis=1)\n",
    "df_company2.head(2)"
   ]
  },
  {
   "cell_type": "code",
   "execution_count": 39,
   "metadata": {},
   "outputs": [
    {
     "name": "stderr",
     "output_type": "stream",
     "text": [
      "/home/barry/miniconda3/envs/stockenv/lib/python3.6/site-packages/pandas/core/frame.py:4034: SettingWithCopyWarning: \n",
      "A value is trying to be set on a copy of a slice from a DataFrame\n",
      "\n",
      "See the caveats in the documentation: http://pandas.pydata.org/pandas-docs/stable/indexing.html#indexing-view-versus-copy\n",
      "  downcast=downcast, **kwargs)\n"
     ]
    },
    {
     "data": {
      "text/html": [
       "<div>\n",
       "<style scoped>\n",
       "    .dataframe tbody tr th:only-of-type {\n",
       "        vertical-align: middle;\n",
       "    }\n",
       "\n",
       "    .dataframe tbody tr th {\n",
       "        vertical-align: top;\n",
       "    }\n",
       "\n",
       "    .dataframe thead th {\n",
       "        text-align: right;\n",
       "    }\n",
       "</style>\n",
       "<table border=\"1\" class=\"dataframe\">\n",
       "  <thead>\n",
       "    <tr style=\"text-align: right;\">\n",
       "      <th></th>\n",
       "      <th>00</th>\n",
       "      <th>000</th>\n",
       "      <th>000000001</th>\n",
       "      <th>000000002</th>\n",
       "      <th>000000003</th>\n",
       "      <th>000000004</th>\n",
       "      <th>000000005</th>\n",
       "      <th>000000006</th>\n",
       "      <th>000000007</th>\n",
       "      <th>000000008</th>\n",
       "      <th>...</th>\n",
       "      <th>龍澤科</th>\n",
       "      <th>龍燈</th>\n",
       "      <th>龍華</th>\n",
       "      <th>龍邦</th>\n",
       "      <th>龍頭</th>\n",
       "      <th>龍頭廠</th>\n",
       "      <th>龍馬</th>\n",
       "      <th>龐培</th>\n",
       "      <th>龐大</th>\n",
       "      <th>龔明鑫</th>\n",
       "    </tr>\n",
       "  </thead>\n",
       "  <tbody>\n",
       "    <tr>\n",
       "      <th>222</th>\n",
       "      <td>0.0</td>\n",
       "      <td>0.0</td>\n",
       "      <td>0.0</td>\n",
       "      <td>0.0</td>\n",
       "      <td>0.0</td>\n",
       "      <td>0.0</td>\n",
       "      <td>0.0</td>\n",
       "      <td>0.0</td>\n",
       "      <td>0.0</td>\n",
       "      <td>0.0</td>\n",
       "      <td>...</td>\n",
       "      <td>0.0</td>\n",
       "      <td>0.0</td>\n",
       "      <td>0.0</td>\n",
       "      <td>0.0</td>\n",
       "      <td>0.025144</td>\n",
       "      <td>0.03842</td>\n",
       "      <td>0.0</td>\n",
       "      <td>0.0</td>\n",
       "      <td>0.0</td>\n",
       "      <td>0.0</td>\n",
       "    </tr>\n",
       "    <tr>\n",
       "      <th>289</th>\n",
       "      <td>0.0</td>\n",
       "      <td>0.0</td>\n",
       "      <td>0.0</td>\n",
       "      <td>0.0</td>\n",
       "      <td>0.0</td>\n",
       "      <td>0.0</td>\n",
       "      <td>0.0</td>\n",
       "      <td>0.0</td>\n",
       "      <td>0.0</td>\n",
       "      <td>0.0</td>\n",
       "      <td>...</td>\n",
       "      <td>0.0</td>\n",
       "      <td>0.0</td>\n",
       "      <td>0.0</td>\n",
       "      <td>0.0</td>\n",
       "      <td>0.000000</td>\n",
       "      <td>0.00000</td>\n",
       "      <td>0.0</td>\n",
       "      <td>0.0</td>\n",
       "      <td>0.0</td>\n",
       "      <td>0.0</td>\n",
       "    </tr>\n",
       "  </tbody>\n",
       "</table>\n",
       "<p>2 rows × 40389 columns</p>\n",
       "</div>"
      ],
      "text/plain": [
       "      00  000  000000001  000000002  000000003  000000004  000000005  \\\n",
       "222  0.0  0.0        0.0        0.0        0.0        0.0        0.0   \n",
       "289  0.0  0.0        0.0        0.0        0.0        0.0        0.0   \n",
       "\n",
       "     000000006  000000007  000000008  ...  龍澤科   龍燈   龍華   龍邦        龍頭  \\\n",
       "222        0.0        0.0        0.0  ...  0.0  0.0  0.0  0.0  0.025144   \n",
       "289        0.0        0.0        0.0  ...  0.0  0.0  0.0  0.0  0.000000   \n",
       "\n",
       "         龍頭廠   龍馬   龐培   龐大  龔明鑫  \n",
       "222  0.03842  0.0  0.0  0.0  0.0  \n",
       "289  0.00000  0.0  0.0  0.0  0.0  \n",
       "\n",
       "[2 rows x 40389 columns]"
      ]
     },
     "execution_count": 39,
     "metadata": {},
     "output_type": "execute_result"
    }
   ],
   "source": [
    "#df_company2 = df_company2[df_company2['label5566'].str.contains('up|down|even')]   #只取漲跌\n",
    "Y = df_company2['label5566']\n",
    "X = df_company2.drop(columns=['author','comment_count','content','id','p_type','page_url','post_time','s_area_name','s_name','title','post_time2','content2','label5566'])\n",
    "X.fillna(value=0.0, inplace=True)\n",
    "X.head(2)"
   ]
  },
  {
   "cell_type": "code",
   "execution_count": 40,
   "metadata": {},
   "outputs": [
    {
     "data": {
      "text/plain": [
       "222    up\n",
       "289    up\n",
       "Name: label5566, dtype: object"
      ]
     },
     "execution_count": 40,
     "metadata": {},
     "output_type": "execute_result"
    }
   ],
   "source": [
    "Y.head(2)"
   ]
  },
  {
   "cell_type": "code",
   "execution_count": 41,
   "metadata": {},
   "outputs": [],
   "source": [
    "X = X.to_numpy()\n",
    "Y = Y.to_numpy()"
   ]
  },
  {
   "cell_type": "code",
   "execution_count": 42,
   "metadata": {},
   "outputs": [
    {
     "name": "stdout",
     "output_type": "stream",
     "text": [
      "2468 618\n"
     ]
    }
   ],
   "source": [
    "#將X:features array, Y:lable array 都切成 1:4\n",
    "\n",
    "validation_size = 0.20\n",
    "seed = 7\n",
    "X_train, X_validation, Y_train, Y_validation = model_selection.train_test_split(X, Y, test_size=validation_size, random_state=seed, stratify=Y ) \n",
    "# 設定 stratify = Y 把每個類別平均\n",
    "print(len(X_train),len(X_validation))"
   ]
  },
  {
   "cell_type": "code",
   "execution_count": 43,
   "metadata": {},
   "outputs": [
    {
     "name": "stderr",
     "output_type": "stream",
     "text": [
      "/home/barry/miniconda3/envs/stockenv/lib/python3.6/site-packages/sklearn/ensemble/forest.py:246: FutureWarning: The default value of n_estimators will change from 10 in version 0.20 to 100 in 0.22.\n",
      "  \"10 in version 0.20 to 100 in 0.22.\", FutureWarning)\n"
     ]
    },
    {
     "name": "stdout",
     "output_type": "stream",
     "text": [
      "0.986223662884927\n",
      "0.5161812297734628\n",
      "[[188  29  40]\n",
      " [ 88  76  19]\n",
      " [ 85  38  55]]\n",
      "              precision    recall  f1-score   support\n",
      "\n",
      "        down       0.52      0.73      0.61       257\n",
      "        even       0.53      0.42      0.47       183\n",
      "          up       0.48      0.31      0.38       178\n",
      "\n",
      "   micro avg       0.52      0.52      0.52       618\n",
      "   macro avg       0.51      0.49      0.48       618\n",
      "weighted avg       0.51      0.52      0.50       618\n",
      "\n"
     ]
    }
   ],
   "source": [
    "model_RandomForest = RandomForestClassifier()\n",
    "model_RandomForest.fit(X_train, Y_train)\n",
    "print(model_RandomForest.score(X_train, Y_train))\n",
    "\n",
    "predictions = model_RandomForest.predict(X_validation)\n",
    "print(accuracy_score(Y_validation, predictions))\n",
    "print(confusion_matrix(Y_validation, predictions))\n",
    "print(classification_report(Y_validation, predictions))"
   ]
  },
  {
   "cell_type": "code",
   "execution_count": 44,
   "metadata": {},
   "outputs": [
    {
     "name": "stdout",
     "output_type": "stream",
     "text": [
      "0.9991896272285251\n",
      "0.49838187702265374\n",
      "[[162  42  53]\n",
      " [ 66  79  38]\n",
      " [ 58  53  67]]\n",
      "              precision    recall  f1-score   support\n",
      "\n",
      "        down       0.57      0.63      0.60       257\n",
      "        even       0.45      0.43      0.44       183\n",
      "          up       0.42      0.38      0.40       178\n",
      "\n",
      "   micro avg       0.50      0.50      0.50       618\n",
      "   macro avg       0.48      0.48      0.48       618\n",
      "weighted avg       0.49      0.50      0.49       618\n",
      "\n"
     ]
    }
   ],
   "source": [
    "model_DecisionTree = DecisionTreeClassifier()\n",
    "model_DecisionTree.fit(X_train, Y_train)\n",
    "print(model_DecisionTree.score(X_train, Y_train))\n",
    "\n",
    "predictions = model_DecisionTree.predict(X_validation)\n",
    "print(accuracy_score(Y_validation, predictions))\n",
    "print(confusion_matrix(Y_validation, predictions))\n",
    "print(classification_report(Y_validation, predictions))"
   ]
  },
  {
   "cell_type": "code",
   "execution_count": 45,
   "metadata": {},
   "outputs": [
    {
     "name": "stdout",
     "output_type": "stream",
     "text": [
      "0.9817666126418152\n",
      "0.6035598705501618\n",
      "[[178  37  42]\n",
      " [ 49 101  33]\n",
      " [ 57  27  94]]\n",
      "              precision    recall  f1-score   support\n",
      "\n",
      "        down       0.63      0.69      0.66       257\n",
      "        even       0.61      0.55      0.58       183\n",
      "          up       0.56      0.53      0.54       178\n",
      "\n",
      "   micro avg       0.60      0.60      0.60       618\n",
      "   macro avg       0.60      0.59      0.59       618\n",
      "weighted avg       0.60      0.60      0.60       618\n",
      "\n"
     ]
    }
   ],
   "source": [
    "model_GaussianNB = GaussianNB()\n",
    "model_GaussianNB.fit(X_train, Y_train)\n",
    "print(model_GaussianNB.score(X_train, Y_train))\n",
    "\n",
    "predictions = model_GaussianNB.predict(X_validation)\n",
    "print(accuracy_score(Y_validation, predictions))\n",
    "print(confusion_matrix(Y_validation, predictions))\n",
    "print(classification_report(Y_validation, predictions))"
   ]
  },
  {
   "cell_type": "code",
   "execution_count": 46,
   "metadata": {},
   "outputs": [
    {
     "name": "stdout",
     "output_type": "stream",
     "text": [
      "0.49189627228525123\n",
      "0.4320388349514563\n",
      "[[257   0   0]\n",
      " [173  10   0]\n",
      " [175   3   0]]\n",
      "              precision    recall  f1-score   support\n",
      "\n",
      "        down       0.42      1.00      0.60       257\n",
      "        even       0.77      0.05      0.10       183\n",
      "          up       0.00      0.00      0.00       178\n",
      "\n",
      "   micro avg       0.43      0.43      0.43       618\n",
      "   macro avg       0.40      0.35      0.23       618\n",
      "weighted avg       0.40      0.43      0.28       618\n",
      "\n",
      "[[ -8.47359068  -8.63953867 -10.84762262 ... -10.78610467 -10.3756694\n",
      "  -10.84762262]\n",
      " [ -8.39788254  -9.03565822 -10.79244699 ... -10.79244699 -10.38647168\n",
      "  -10.79244699]\n",
      " [ -9.04710786  -8.91940686 -10.7859615  ... -10.7859615  -10.66900348\n",
      "  -10.7859615 ]]\n"
     ]
    },
    {
     "name": "stderr",
     "output_type": "stream",
     "text": [
      "/home/barry/miniconda3/envs/stockenv/lib/python3.6/site-packages/sklearn/metrics/classification.py:1143: UndefinedMetricWarning: Precision and F-score are ill-defined and being set to 0.0 in labels with no predicted samples.\n",
      "  'precision', 'predicted', average, warn_for)\n"
     ]
    }
   ],
   "source": [
    "model_MultinomialNB = MultinomialNB()\n",
    "model_MultinomialNB.fit(X_train, Y_train)\n",
    "print(model_MultinomialNB.score(X_train, Y_train) )\n",
    "\n",
    "predictions = model_MultinomialNB.predict(X_validation)\n",
    "print(accuracy_score(Y_validation, predictions))\n",
    "print(confusion_matrix(Y_validation, predictions))\n",
    "print(classification_report(Y_validation, predictions))\n",
    "print(model_MultinomialNB.coef_)"
   ]
  },
  {
   "cell_type": "code",
   "execution_count": 47,
   "metadata": {},
   "outputs": [
    {
     "name": "stderr",
     "output_type": "stream",
     "text": [
      "/home/barry/miniconda3/envs/stockenv/lib/python3.6/site-packages/sklearn/linear_model/logistic.py:433: FutureWarning: Default solver will be changed to 'lbfgs' in 0.22. Specify a solver to silence this warning.\n",
      "  FutureWarning)\n",
      "/home/barry/miniconda3/envs/stockenv/lib/python3.6/site-packages/sklearn/linear_model/logistic.py:460: FutureWarning: Default multi_class will be changed to 'auto' in 0.22. Specify the multi_class option to silence this warning.\n",
      "  \"this warning.\", FutureWarning)\n",
      "/home/barry/miniconda3/envs/stockenv/lib/python3.6/site-packages/sklearn/linear_model/logistic.py:433: FutureWarning: Default solver will be changed to 'lbfgs' in 0.22. Specify a solver to silence this warning.\n",
      "  FutureWarning)\n",
      "/home/barry/miniconda3/envs/stockenv/lib/python3.6/site-packages/sklearn/linear_model/logistic.py:460: FutureWarning: Default multi_class will be changed to 'auto' in 0.22. Specify the multi_class option to silence this warning.\n",
      "  \"this warning.\", FutureWarning)\n",
      "/home/barry/miniconda3/envs/stockenv/lib/python3.6/site-packages/sklearn/linear_model/logistic.py:433: FutureWarning: Default solver will be changed to 'lbfgs' in 0.22. Specify a solver to silence this warning.\n",
      "  FutureWarning)\n",
      "/home/barry/miniconda3/envs/stockenv/lib/python3.6/site-packages/sklearn/linear_model/logistic.py:460: FutureWarning: Default multi_class will be changed to 'auto' in 0.22. Specify the multi_class option to silence this warning.\n",
      "  \"this warning.\", FutureWarning)\n",
      "/home/barry/miniconda3/envs/stockenv/lib/python3.6/site-packages/sklearn/linear_model/logistic.py:433: FutureWarning: Default solver will be changed to 'lbfgs' in 0.22. Specify a solver to silence this warning.\n",
      "  FutureWarning)\n",
      "/home/barry/miniconda3/envs/stockenv/lib/python3.6/site-packages/sklearn/linear_model/logistic.py:460: FutureWarning: Default multi_class will be changed to 'auto' in 0.22. Specify the multi_class option to silence this warning.\n",
      "  \"this warning.\", FutureWarning)\n",
      "/home/barry/miniconda3/envs/stockenv/lib/python3.6/site-packages/sklearn/linear_model/logistic.py:433: FutureWarning: Default solver will be changed to 'lbfgs' in 0.22. Specify a solver to silence this warning.\n",
      "  FutureWarning)\n",
      "/home/barry/miniconda3/envs/stockenv/lib/python3.6/site-packages/sklearn/linear_model/logistic.py:460: FutureWarning: Default multi_class will be changed to 'auto' in 0.22. Specify the multi_class option to silence this warning.\n",
      "  \"this warning.\", FutureWarning)\n"
     ]
    },
    {
     "name": "stdout",
     "output_type": "stream",
     "text": [
      "[0.58319871 0.61102107 0.60615883 0.6012966  0.60064935]\n",
      "LogisticRegression: 0.600465 (0.009410)\n",
      "[0.8686664  0.86391252 0.86269745 0.86674767 0.86356275]\n",
      "[4.93448734 3.87944627 3.91621566 4.058465   3.96334434]\n",
      "[0.0460453  0.0308888  0.04823804 0.04085231 0.03393149]\n"
     ]
    },
    {
     "name": "stderr",
     "output_type": "stream",
     "text": [
      "/home/barry/miniconda3/envs/stockenv/lib/python3.6/site-packages/sklearn/utils/deprecation.py:125: FutureWarning: You are accessing a training score ('train_score'), which will not be available by default any more in 0.21. If you need training scores, please set return_train_score=True\n",
      "  warnings.warn(*warn_args, **warn_kwargs)\n"
     ]
    }
   ],
   "source": [
    "# 用10-Fold CV並且列出平均的效率\n",
    "from sklearn.model_selection import cross_validate\n",
    "from sklearn.model_selection import RepeatedStratifiedKFold\n",
    "# 呼叫單個model MLP\n",
    "model_LogisticRegression = LogisticRegression()\n",
    "name = 'LogisticRegression'\n",
    "kfold = model_selection.RepeatedStratifiedKFold(n_splits=5, n_repeats=1, random_state=seed)   #分割 10% cross validation\n",
    "\n",
    "cv_results = model_selection.cross_validate(model_LogisticRegression, X, Y, cv=kfold, scoring='accuracy')\n",
    "#model用MLP()                cross valitation \n",
    "\n",
    "print(cv_results['test_score'])\n",
    "print(\"%s: %f (%f)\" % (name, cv_results['test_score'].mean(), cv_results['test_score'].std()))\n",
    "\n",
    "print(cv_results['train_score'])\n",
    "print(cv_results['fit_time'])\n",
    "print(cv_results['score_time'])"
   ]
  },
  {
   "cell_type": "code",
   "execution_count": 48,
   "metadata": {},
   "outputs": [
    {
     "name": "stderr",
     "output_type": "stream",
     "text": [
      "/home/barry/miniconda3/envs/stockenv/lib/python3.6/site-packages/sklearn/linear_model/logistic.py:433: FutureWarning: Default solver will be changed to 'lbfgs' in 0.22. Specify a solver to silence this warning.\n",
      "  FutureWarning)\n",
      "/home/barry/miniconda3/envs/stockenv/lib/python3.6/site-packages/sklearn/linear_model/logistic.py:460: FutureWarning: Default multi_class will be changed to 'auto' in 0.22. Specify the multi_class option to silence this warning.\n",
      "  \"this warning.\", FutureWarning)\n"
     ]
    },
    {
     "name": "stdout",
     "output_type": "stream",
     "text": [
      "0.8638573743922204\n",
      "0.6084142394822006\n",
      "[[223  11  23]\n",
      " [ 78  94  11]\n",
      " [ 84  35  59]]\n",
      "              precision    recall  f1-score   support\n",
      "\n",
      "        down       0.58      0.87      0.69       257\n",
      "        even       0.67      0.51      0.58       183\n",
      "          up       0.63      0.33      0.44       178\n",
      "\n",
      "   micro avg       0.61      0.61      0.61       618\n",
      "   macro avg       0.63      0.57      0.57       618\n",
      "weighted avg       0.62      0.61      0.59       618\n",
      "\n",
      "[[-0.18924348 -0.35295836  0.         ...  0.0365238   0.14378688\n",
      "   0.        ]\n",
      " [ 0.69652592  0.18673648  0.         ... -0.02953141  0.04521966\n",
      "   0.        ]\n",
      " [-0.54909781  0.18528106  0.         ... -0.00848663 -0.18551765\n",
      "   0.        ]]\n"
     ]
    }
   ],
   "source": [
    "model_LogisticRegression = LogisticRegression()\n",
    "model_LogisticRegression.fit(X_train, Y_train)\n",
    "print(model_LogisticRegression.score(X_train, Y_train))\n",
    "\n",
    "predictions = model_LogisticRegression.predict(X_validation)\n",
    "print(accuracy_score(Y_validation, predictions))\n",
    "print(confusion_matrix(Y_validation, predictions))\n",
    "print(classification_report(Y_validation, predictions))\n",
    "print(model_LogisticRegression.coef_)"
   ]
  },
  {
   "cell_type": "code",
   "execution_count": 49,
   "metadata": {},
   "outputs": [],
   "source": [
    "# # 用10-Fold CV並且列出平均的效率\n",
    "\n",
    "\n",
    "# # 呼叫單個model MLP\n",
    "# model_svclinear = SVC(kernel='linear')\n",
    "# name = 'SVC'\n",
    "# kfold = model_selection.KFold(n_splits=5, random_state=seed)   #分割 10% cross validation\n",
    "\n",
    "# cv_results = model_selection.cross_val_score(model_svclinear, X_train, Y_train, cv=kfold, scoring='accuracy')\n",
    "# #model用MLP()                cross valitation \n",
    "\n",
    "# print(cv_results)\n",
    "# print(\"%s: %f (%f)\" % (name, cv_results.mean(), cv_results.std()))"
   ]
  },
  {
   "cell_type": "code",
   "execution_count": 50,
   "metadata": {},
   "outputs": [],
   "source": [
    "# model_svclinear = SVC(kernel='linear')\n",
    "# model_svclinear.fit(X_train, Y_train)\n",
    "# print(model_svclinear.score(X_train, Y_train))\n",
    "# predictions = model_svclinear.predict(X_validation)\n",
    "# print(accuracy_score(Y_validation, predictions))\n",
    "# print(confusion_matrix(Y_validation, predictions))\n",
    "# print(classification_report(Y_validation, predictions))\n",
    "# print(model_svclinear.coef_)"
   ]
  },
  {
   "cell_type": "code",
   "execution_count": 51,
   "metadata": {},
   "outputs": [
    {
     "name": "stdout",
     "output_type": "stream",
     "text": [
      "[0.64458805 0.64829822 0.67585089 0.64505673 0.63798701]\n",
      "LinearSVC: 0.650356 (0.013180)\n",
      "[0.98702878 0.9890644  0.98784933 0.98744431 0.98623482]\n",
      "[3.81608677 3.79883051 3.83606958 3.7911191  3.81960678]\n",
      "[0.02869987 0.02805901 0.04066586 0.03562808 0.03275776]\n"
     ]
    },
    {
     "name": "stderr",
     "output_type": "stream",
     "text": [
      "/home/barry/miniconda3/envs/stockenv/lib/python3.6/site-packages/sklearn/utils/deprecation.py:125: FutureWarning: You are accessing a training score ('train_score'), which will not be available by default any more in 0.21. If you need training scores, please set return_train_score=True\n",
      "  warnings.warn(*warn_args, **warn_kwargs)\n"
     ]
    }
   ],
   "source": [
    "# 用10-Fold CV並且列出平均的效率\n",
    "from sklearn.model_selection import cross_validate\n",
    "from sklearn.model_selection import RepeatedStratifiedKFold\n",
    "# 呼叫單個model MLP\n",
    "from sklearn.svm import LinearSVC\n",
    "model_LinearSVC = LinearSVC()\n",
    "name = 'LinearSVC'\n",
    "kfold = model_selection.RepeatedStratifiedKFold(n_splits=5, n_repeats=1, random_state=seed)   #分割 10% cross validation\n",
    "\n",
    "cv_results = model_selection.cross_validate(model_LinearSVC, X, Y, cv=kfold, scoring='accuracy')\n",
    "#model用MLP()                cross valitation \n",
    "\n",
    "print(cv_results['test_score'])\n",
    "print(\"%s: %f (%f)\" % (name, cv_results['test_score'].mean(), cv_results['test_score'].std()))\n",
    "\n",
    "print(cv_results['train_score'])\n",
    "print(cv_results['fit_time'])\n",
    "print(cv_results['score_time'])"
   ]
  },
  {
   "cell_type": "code",
   "execution_count": 52,
   "metadata": {},
   "outputs": [
    {
     "name": "stdout",
     "output_type": "stream",
     "text": [
      "0.986223662884927\n",
      "0.63915857605178\n",
      "[[197  21  39]\n",
      " [ 48 114  21]\n",
      " [ 56  38  84]]\n",
      "              precision    recall  f1-score   support\n",
      "\n",
      "        down       0.65      0.77      0.71       257\n",
      "        even       0.66      0.62      0.64       183\n",
      "          up       0.58      0.47      0.52       178\n",
      "\n",
      "   micro avg       0.64      0.64      0.64       618\n",
      "   macro avg       0.63      0.62      0.62       618\n",
      "weighted avg       0.64      0.64      0.63       618\n",
      "\n",
      "[[ 0.02097546 -0.45265782  0.         ...  0.10039975  0.28100748\n",
      "   0.        ]\n",
      " [ 0.14465809  0.46268549  0.         ... -0.10973311 -0.01648837\n",
      "   0.        ]\n",
      " [-0.12778659 -0.00425823  0.         ...  0.         -0.2842639\n",
      "   0.        ]]\n"
     ]
    }
   ],
   "source": [
    "from sklearn.svm import LinearSVC\n",
    "model_LinearSVC = LinearSVC()\n",
    "model_LinearSVC.fit(X_train, Y_train)\n",
    "print(model_LinearSVC.score(X_train, Y_train))\n",
    "predictions = model_LinearSVC.predict(X_validation)\n",
    "print(accuracy_score(Y_validation, predictions))\n",
    "print(confusion_matrix(Y_validation, predictions))\n",
    "print(classification_report(Y_validation, predictions))\n",
    "print(model_LinearSVC.coef_)"
   ]
  },
  {
   "cell_type": "code",
   "execution_count": 53,
   "metadata": {},
   "outputs": [
    {
     "name": "stderr",
     "output_type": "stream",
     "text": [
      "/home/barry/miniconda3/envs/stockenv/lib/python3.6/site-packages/sklearn/linear_model/stochastic_gradient.py:166: FutureWarning: max_iter and tol parameters have been added in SGDClassifier in 0.19. If both are left unset, they default to max_iter=5 and tol=None. If tol is not None, max_iter defaults to max_iter=1000. From 0.21, default max_iter will be 1000, and default tol will be 1e-3.\n",
      "  FutureWarning)\n",
      "/home/barry/miniconda3/envs/stockenv/lib/python3.6/site-packages/sklearn/linear_model/stochastic_gradient.py:166: FutureWarning: max_iter and tol parameters have been added in SGDClassifier in 0.19. If both are left unset, they default to max_iter=5 and tol=None. If tol is not None, max_iter defaults to max_iter=1000. From 0.21, default max_iter will be 1000, and default tol will be 1e-3.\n",
      "  FutureWarning)\n",
      "/home/barry/miniconda3/envs/stockenv/lib/python3.6/site-packages/sklearn/linear_model/stochastic_gradient.py:166: FutureWarning: max_iter and tol parameters have been added in SGDClassifier in 0.19. If both are left unset, they default to max_iter=5 and tol=None. If tol is not None, max_iter defaults to max_iter=1000. From 0.21, default max_iter will be 1000, and default tol will be 1e-3.\n",
      "  FutureWarning)\n",
      "/home/barry/miniconda3/envs/stockenv/lib/python3.6/site-packages/sklearn/linear_model/stochastic_gradient.py:166: FutureWarning: max_iter and tol parameters have been added in SGDClassifier in 0.19. If both are left unset, they default to max_iter=5 and tol=None. If tol is not None, max_iter defaults to max_iter=1000. From 0.21, default max_iter will be 1000, and default tol will be 1e-3.\n",
      "  FutureWarning)\n",
      "/home/barry/miniconda3/envs/stockenv/lib/python3.6/site-packages/sklearn/linear_model/stochastic_gradient.py:166: FutureWarning: max_iter and tol parameters have been added in SGDClassifier in 0.19. If both are left unset, they default to max_iter=5 and tol=None. If tol is not None, max_iter defaults to max_iter=1000. From 0.21, default max_iter will be 1000, and default tol will be 1e-3.\n",
      "  FutureWarning)\n"
     ]
    },
    {
     "name": "stdout",
     "output_type": "stream",
     "text": [
      "[0.60323887 0.58299595 0.60121457 0.5841785  0.65314402]\n",
      "SVC: 0.604954 (0.025507)\n"
     ]
    }
   ],
   "source": [
    "from sklearn.linear_model import SGDClassifier\n",
    "\n",
    "# 用10-Fold CV並且列出平均的效率\n",
    "\n",
    "\n",
    "# 呼叫單個model MLP\n",
    "model_SGDClassifier = SGDClassifier(loss='hinge')\n",
    "#model_SGDClassifier = SGDClassifier(loss='log')\n",
    "name = 'SVC'\n",
    "kfold = model_selection.KFold(n_splits=5, random_state=seed)   #分割 10% cross validation\n",
    "\n",
    "cv_results = model_selection.cross_val_score(model_SGDClassifier, X_train, Y_train, cv=kfold, scoring='accuracy')\n",
    "#model用MLP()                cross valitation \n",
    "\n",
    "print(cv_results)\n",
    "print(\"%s: %f (%f)\" % (name, cv_results.mean(), cv_results.std()))\n"
   ]
  },
  {
   "cell_type": "code",
   "execution_count": 54,
   "metadata": {},
   "outputs": [
    {
     "name": "stderr",
     "output_type": "stream",
     "text": [
      "/home/barry/miniconda3/envs/stockenv/lib/python3.6/site-packages/sklearn/linear_model/stochastic_gradient.py:166: FutureWarning: max_iter and tol parameters have been added in SGDClassifier in 0.19. If both are left unset, they default to max_iter=5 and tol=None. If tol is not None, max_iter defaults to max_iter=1000. From 0.21, default max_iter will be 1000, and default tol will be 1e-3.\n",
      "  FutureWarning)\n"
     ]
    },
    {
     "name": "stdout",
     "output_type": "stream",
     "text": [
      "0.973257698541329\n",
      "0.63915857605178\n",
      "[[186  43  28]\n",
      " [ 34 137  12]\n",
      " [ 39  67  72]]\n",
      "              precision    recall  f1-score   support\n",
      "\n",
      "        down       0.72      0.72      0.72       257\n",
      "        even       0.55      0.75      0.64       183\n",
      "          up       0.64      0.40      0.50       178\n",
      "\n",
      "   micro avg       0.64      0.64      0.64       618\n",
      "   macro avg       0.64      0.63      0.62       618\n",
      "weighted avg       0.65      0.64      0.63       618\n",
      "\n",
      "[[-0.28395778 -1.73170296  0.         ...  0.19026788  0.78594076\n",
      "   0.        ]\n",
      " [ 0.29897121  1.21410303  0.         ... -0.23783485  0.07164148\n",
      "   0.        ]\n",
      " [-0.87936115 -0.19905737  0.         ...  0.         -0.66780611\n",
      "   0.        ]]\n"
     ]
    }
   ],
   "source": [
    "from sklearn.linear_model import SGDClassifier\n",
    "model_SGDClassifier = SGDClassifier(loss='hinge')\n",
    "model_SGDClassifier.fit(X_train, Y_train)\n",
    "print(model_SGDClassifier.score(X_train, Y_train))\n",
    "predictions = model_SGDClassifier.predict(X_validation)\n",
    "print(accuracy_score(Y_validation, predictions))\n",
    "print(confusion_matrix(Y_validation, predictions))\n",
    "print(classification_report(Y_validation, predictions))\n",
    "print(model_SGDClassifier.coef_)"
   ]
  },
  {
   "cell_type": "code",
   "execution_count": 55,
   "metadata": {},
   "outputs": [
    {
     "name": "stdout",
     "output_type": "stream",
     "text": [
      "0.9987844408427877\n",
      "0.6634304207119741\n",
      "[[194  27  36]\n",
      " [ 40 117  26]\n",
      " [ 39  40  99]]\n",
      "              precision    recall  f1-score   support\n",
      "\n",
      "        down       0.71      0.75      0.73       257\n",
      "        even       0.64      0.64      0.64       183\n",
      "          up       0.61      0.56      0.58       178\n",
      "\n",
      "   micro avg       0.66      0.66      0.66       618\n",
      "   macro avg       0.65      0.65      0.65       618\n",
      "weighted avg       0.66      0.66      0.66       618\n",
      "\n",
      "[array([[-3.12894328e-02,  2.74705129e-02, -2.87448752e-02, ...,\n",
      "         7.95641873e-03, -3.81332536e-02,  2.26636841e-02],\n",
      "       [ 5.32778843e-03,  4.85740264e-02, -1.03079087e-02, ...,\n",
      "         2.77132826e-02, -4.21465948e-03, -4.40034749e-03],\n",
      "       [ 3.49316281e-29, -3.88484131e-31,  4.63057943e-29, ...,\n",
      "         7.00457546e-30, -3.43159204e-30, -4.39369712e-29],\n",
      "       ...,\n",
      "       [ 7.62908840e-02, -7.82956863e-02,  7.08711157e-02, ...,\n",
      "        -5.92281767e-02,  7.05957266e-02,  3.59873726e-02],\n",
      "       [-5.90652781e-02,  7.10263357e-02, -7.06180939e-03, ...,\n",
      "        -4.31042751e-02, -3.40246610e-02,  1.11805219e-01],\n",
      "       [ 9.45766612e-30,  5.00363046e-31,  4.51818585e-29, ...,\n",
      "         4.91275312e-29,  3.95431305e-31,  4.63887066e-29]]), array([[ 0.23541377, -0.52301707,  0.46962209],\n",
      "       [-0.43266657,  0.53927274, -0.56237411],\n",
      "       [ 0.35584668, -0.33757631,  0.28980954],\n",
      "       [ 0.29871705, -0.47257568,  0.35342012],\n",
      "       [ 0.52196316, -0.4700155 , -0.43710265],\n",
      "       [-0.44936254, -0.44128728,  0.30772807],\n",
      "       [-0.66209921,  0.65129303, -0.53747853],\n",
      "       [-0.52971838,  0.31956075,  0.35136347],\n",
      "       [-0.53100818,  0.30127987,  0.25171484],\n",
      "       [ 0.50910723, -0.43855531,  0.1225923 ],\n",
      "       [ 0.49004474, -0.41603726, -0.00734247],\n",
      "       [-0.37893589,  0.49698411, -0.27125578],\n",
      "       [-0.46445043, -0.40248259,  0.40522467],\n",
      "       [-0.45256232, -0.41469012,  0.42536753],\n",
      "       [-0.24094397,  0.4473019 , -0.34533773],\n",
      "       [-0.41010139,  0.24169925,  0.50575398],\n",
      "       [-0.40770609,  0.46948343, -0.52341445],\n",
      "       [-0.4921133 ,  0.62562157, -0.66727962],\n",
      "       [-0.46536935, -0.03592762,  0.45576279],\n",
      "       [ 0.30724131, -0.40103174, -0.47659046],\n",
      "       [-0.55649741,  0.33919959,  0.32395223],\n",
      "       [-0.3689154 ,  0.3898192 ,  0.41607385],\n",
      "       [ 0.41420239, -0.28152549, -0.36456141],\n",
      "       [-0.42582431, -0.41813357,  0.41755139],\n",
      "       [-0.50478741, -0.46094286,  0.40337193],\n",
      "       [ 0.27264624,  0.25543854, -0.48123522],\n",
      "       [-0.2747821 ,  0.52588387, -0.23456632],\n",
      "       [-0.35079008,  0.3363243 , -0.37174825],\n",
      "       [ 0.38905127, -0.28912708, -0.28216337],\n",
      "       [-0.55150507, -0.62845087,  0.7213299 ],\n",
      "       [ 0.33513611, -0.46641699, -0.44964042],\n",
      "       [-0.32847561, -0.39536133,  0.48176998],\n",
      "       [ 0.41370501, -0.28910236,  0.41158403],\n",
      "       [ 0.51741673, -0.21908136, -0.28601257],\n",
      "       [ 0.3195271 , -0.50118642, -0.57543824],\n",
      "       [ 0.06154122,  0.41570851, -0.46096496],\n",
      "       [ 0.32872763, -0.51187422,  0.27570372],\n",
      "       [-0.56647505,  0.07160778,  0.1452271 ],\n",
      "       [-0.45879513,  0.43576031, -0.30633717],\n",
      "       [ 0.49316998, -0.31764239,  0.179607  ],\n",
      "       [-0.19478784,  0.44635933,  0.51464986],\n",
      "       [ 0.48250928, -0.41246445, -0.49631558],\n",
      "       [-0.33399059,  0.30660187,  0.43671408],\n",
      "       [-0.36026117, -0.35100988,  0.31533531],\n",
      "       [-0.69882478,  0.23441323,  0.37029292],\n",
      "       [-0.38125038,  0.438591  ,  0.50628863],\n",
      "       [ 0.3972395 , -0.47361515,  0.35368753],\n",
      "       [ 0.38483299, -0.34891043, -0.34215618],\n",
      "       [ 0.42433965,  0.36571825, -0.43758751],\n",
      "       [ 0.4339074 , -0.46138799, -0.38572632],\n",
      "       [ 0.44519567,  0.38007879, -0.30579588],\n",
      "       [ 0.35040071,  0.30762391, -0.41795963],\n",
      "       [ 0.45826125,  0.45603405, -0.40183222],\n",
      "       [ 0.21753543, -0.37147032,  0.24334196],\n",
      "       [-0.47993239,  0.43071402,  0.40486127],\n",
      "       [-0.40918285,  0.36581942,  0.4430179 ],\n",
      "       [-0.44240402, -0.45772392,  0.31053692],\n",
      "       [-0.33945762,  0.3300251 ,  0.38729905],\n",
      "       [-0.32571322,  0.42575691, -0.3283897 ],\n",
      "       [ 0.28072838, -0.40820568,  0.28774071],\n",
      "       [-0.49186118,  0.31037774,  0.17277718],\n",
      "       [-0.22849756, -0.33611337,  0.54724962],\n",
      "       [-0.48051325,  0.40065225,  0.34120127],\n",
      "       [-0.37479773,  0.61317294, -0.39142302],\n",
      "       [-0.53287593,  0.10974753,  0.27889614],\n",
      "       [ 0.46724024,  0.23431542, -0.51110539],\n",
      "       [ 0.42240035,  0.39902895, -0.35128402],\n",
      "       [-0.42078359,  0.2357464 , -0.44532197],\n",
      "       [ 0.4586417 , -0.39685472, -0.50046375],\n",
      "       [ 0.4823154 , -0.32687632, -0.50972373],\n",
      "       [-0.45757707, -0.38840416,  0.54084788],\n",
      "       [ 0.33120767, -0.4975747 ,  0.43606672],\n",
      "       [ 0.28589345,  0.31851502, -0.53704296],\n",
      "       [ 0.41249584,  0.44410685, -0.378316  ],\n",
      "       [ 0.36551648,  0.00439714, -0.50688187],\n",
      "       [-0.10757454,  0.60462223, -0.57782   ],\n",
      "       [-0.46479688,  0.37881764, -0.4828096 ],\n",
      "       [ 0.40646395,  0.35488236, -0.33163694],\n",
      "       [ 0.40051456, -0.30790989, -0.3471049 ],\n",
      "       [-0.34824787,  0.37206965, -0.40242381],\n",
      "       [-0.26630927,  0.42835484, -0.28697516],\n",
      "       [-0.34855304, -0.3418232 ,  0.44843044],\n",
      "       [ 0.36841443, -0.42814198,  0.2685618 ],\n",
      "       [-0.52585048,  0.4198998 , -0.4154016 ],\n",
      "       [ 0.36496474, -0.29506789, -0.33638283],\n",
      "       [-0.28681477,  0.38660349,  0.42348894],\n",
      "       [-0.50173915,  0.42325896, -0.4707134 ],\n",
      "       [-0.31394829,  0.44736042, -0.25349948],\n",
      "       [-0.55975564,  0.2331542 ,  0.41046328],\n",
      "       [ 0.36350623, -0.37867185,  0.4748462 ],\n",
      "       [ 0.43666364, -0.46745284, -0.50945705],\n",
      "       [-0.51857553,  0.25232361, -0.55475964],\n",
      "       [-0.36129719, -0.41684124,  0.4205323 ],\n",
      "       [ 0.44093571, -0.48392834,  0.26963183],\n",
      "       [ 0.38934985, -0.43816402,  0.48101954],\n",
      "       [-0.45209881,  0.29736367,  0.34373078],\n",
      "       [ 0.38122847, -0.4167475 , -0.50643902],\n",
      "       [-0.43997646,  0.22216912,  0.39063556],\n",
      "       [ 0.41998858, -0.42347071,  0.45471515],\n",
      "       [ 0.40485111,  0.30764103, -0.45464482]])]\n"
     ]
    }
   ],
   "source": [
    "model_MLP = MLPClassifier(hidden_layer_sizes=(100,), max_iter=200)\n",
    "model_MLP.fit(X_train, Y_train)\n",
    "print(model_MLP.score(X_train, Y_train))\n",
    "\n",
    "predictions = model_MLP.predict(X_validation)\n",
    "print(accuracy_score(Y_validation, predictions))\n",
    "print(confusion_matrix(Y_validation, predictions))\n",
    "print(classification_report(Y_validation, predictions))\n",
    "#print(model_MLP.coefs_)"
   ]
  },
  {
   "cell_type": "code",
   "execution_count": 56,
   "metadata": {},
   "outputs": [
    {
     "name": "stdout",
     "output_type": "stream",
     "text": [
      "[0.64620355 0.65153971 0.6726094  0.68881686 0.65746753]\n",
      "MLP: 0.663327 (0.015507)\n",
      "[0.99878395 0.99918996 0.99837991 0.99878493 0.99878543]\n",
      "[288.60743809 266.57465577 163.71603084 169.15406442 193.94162226]\n",
      "[0.06605864 0.0471735  0.0339725  0.0347867  0.03366089]\n"
     ]
    },
    {
     "name": "stderr",
     "output_type": "stream",
     "text": [
      "/home/barry/miniconda3/envs/stockenv/lib/python3.6/site-packages/sklearn/utils/deprecation.py:125: FutureWarning: You are accessing a training score ('train_score'), which will not be available by default any more in 0.21. If you need training scores, please set return_train_score=True\n",
      "  warnings.warn(*warn_args, **warn_kwargs)\n"
     ]
    }
   ],
   "source": [
    "# 用10-Fold CV並且列出平均的效率\n",
    "from sklearn.model_selection import cross_validate\n",
    "from sklearn.model_selection import RepeatedStratifiedKFold\n",
    "# 呼叫單個model MLP\n",
    "model_MLP = MLPClassifier(hidden_layer_sizes=(100, ),max_iter=200)\n",
    "name = 'MLP'\n",
    "kfold = model_selection.RepeatedStratifiedKFold(n_splits=5, n_repeats=1, random_state=seed)   #分割 10% cross validation\n",
    "\n",
    "cv_results = model_selection.cross_validate(model_MLP, X, Y, cv=kfold, scoring='accuracy')\n",
    "#model用MLP()                cross valitation \n",
    "\n",
    "print(cv_results['test_score'])\n",
    "print(\"%s: %f (%f)\" % (name, cv_results['test_score'].mean(), cv_results['test_score'].std()))\n",
    "\n",
    "print(cv_results['train_score'])\n",
    "print(cv_results['fit_time'])\n",
    "print(cv_results['score_time'])"
   ]
  },
  {
   "cell_type": "code",
   "execution_count": null,
   "metadata": {},
   "outputs": [],
   "source": [
    "cv.get_feature_names()[-100:] # 尾巴100個"
   ]
  },
  {
   "cell_type": "code",
   "execution_count": null,
   "metadata": {},
   "outputs": [],
   "source": []
  }
 ],
 "metadata": {
  "kernelspec": {
   "display_name": "Python 3",
   "language": "python",
   "name": "python3"
  },
  "language_info": {
   "codemirror_mode": {
    "name": "ipython",
    "version": 3
   },
   "file_extension": ".py",
   "mimetype": "text/x-python",
   "name": "python",
   "nbconvert_exporter": "python",
   "pygments_lexer": "ipython3",
   "version": "3.6.8"
  }
 },
 "nbformat": 4,
 "nbformat_minor": 2
}
