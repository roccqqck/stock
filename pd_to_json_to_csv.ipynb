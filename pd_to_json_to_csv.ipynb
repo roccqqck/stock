{
 "cells": [
  {
   "cell_type": "code",
   "execution_count": 9,
   "metadata": {},
   "outputs": [],
   "source": [
    "import pandas as pd"
   ]
  },
  {
   "cell_type": "code",
   "execution_count": 10,
   "metadata": {},
   "outputs": [
    {
     "data": {
      "text/html": [
       "<div>\n",
       "<style scoped>\n",
       "    .dataframe tbody tr th:only-of-type {\n",
       "        vertical-align: middle;\n",
       "    }\n",
       "\n",
       "    .dataframe tbody tr th {\n",
       "        vertical-align: top;\n",
       "    }\n",
       "\n",
       "    .dataframe thead th {\n",
       "        text-align: right;\n",
       "    }\n",
       "</style>\n",
       "<table border=\"1\" class=\"dataframe\">\n",
       "  <thead>\n",
       "    <tr style=\"text-align: right;\">\n",
       "      <th></th>\n",
       "      <th>id</th>\n",
       "      <th>p_type</th>\n",
       "      <th>s_name</th>\n",
       "      <th>s_area_name</th>\n",
       "      <th>comment_count</th>\n",
       "      <th>post_time</th>\n",
       "      <th>title</th>\n",
       "      <th>author</th>\n",
       "      <th>content</th>\n",
       "      <th>page_url</th>\n",
       "    </tr>\n",
       "  </thead>\n",
       "  <tbody>\n",
       "    <tr>\n",
       "      <th>0</th>\n",
       "      <td>1451580710262_PTT02R</td>\n",
       "      <td>bbs</td>\n",
       "      <td>Ptt</td>\n",
       "      <td>Stock</td>\n",
       "      <td>10</td>\n",
       "      <td>2016/1/1 00:48:25</td>\n",
       "      <td>[新聞] 第三方支付 台灣普及關鍵年</td>\n",
       "      <td>Bokolo</td>\n",
       "      <td>1.原文連結(必須檢附)：\\nhttp://magazine.chinatimes.com/...</td>\n",
       "      <td>http://www.ptt.cc/bbs/Stock/M.1451580509.A.722...</td>\n",
       "    </tr>\n",
       "    <tr>\n",
       "      <th>1</th>\n",
       "      <td>1451580711002_PTT02R</td>\n",
       "      <td>bbs</td>\n",
       "      <td>Ptt</td>\n",
       "      <td>Stock</td>\n",
       "      <td>28</td>\n",
       "      <td>2016/1/1 00:50:54</td>\n",
       "      <td>[新聞] 曾銘宗：電子支付拼5年倍增</td>\n",
       "      <td>Bokolo</td>\n",
       "      <td>1.原文連結(必須檢附)：\\nhttp://www.appledaily.com.tw/re...</td>\n",
       "      <td>http://www.ptt.cc/bbs/Stock/M.1451580658.A.D8B...</td>\n",
       "    </tr>\n",
       "  </tbody>\n",
       "</table>\n",
       "</div>"
      ],
      "text/plain": [
       "                     id p_type s_name s_area_name  comment_count  \\\n",
       "0  1451580710262_PTT02R    bbs    Ptt       Stock             10   \n",
       "1  1451580711002_PTT02R    bbs    Ptt       Stock             28   \n",
       "\n",
       "           post_time               title  author  \\\n",
       "0  2016/1/1 00:48:25  [新聞] 第三方支付 台灣普及關鍵年  Bokolo   \n",
       "1  2016/1/1 00:50:54  [新聞] 曾銘宗：電子支付拼5年倍增  Bokolo   \n",
       "\n",
       "                                             content  \\\n",
       "0  1.原文連結(必須檢附)：\\nhttp://magazine.chinatimes.com/...   \n",
       "1  1.原文連結(必須檢附)：\\nhttp://www.appledaily.com.tw/re...   \n",
       "\n",
       "                                            page_url  \n",
       "0  http://www.ptt.cc/bbs/Stock/M.1451580509.A.722...  \n",
       "1  http://www.ptt.cc/bbs/Stock/M.1451580658.A.D8B...  "
      ]
     },
     "execution_count": 10,
     "metadata": {},
     "output_type": "execute_result"
    }
   ],
   "source": [
    "df_bbs = pd.read_csv(\"bda2019_dataset/bbs2.csv\",encoding=\"utf-8\")\n",
    "df_bbs.head(2)"
   ]
  },
  {
   "cell_type": "code",
   "execution_count": 3,
   "metadata": {},
   "outputs": [],
   "source": [
    "df_bbs.to_json('bda2019_dataset/bbs2.json', orient='records')"
   ]
  },
  {
   "cell_type": "code",
   "execution_count": 4,
   "metadata": {},
   "outputs": [
    {
     "data": {
      "text/html": [
       "<div>\n",
       "<style scoped>\n",
       "    .dataframe tbody tr th:only-of-type {\n",
       "        vertical-align: middle;\n",
       "    }\n",
       "\n",
       "    .dataframe tbody tr th {\n",
       "        vertical-align: top;\n",
       "    }\n",
       "\n",
       "    .dataframe thead th {\n",
       "        text-align: right;\n",
       "    }\n",
       "</style>\n",
       "<table border=\"1\" class=\"dataframe\">\n",
       "  <thead>\n",
       "    <tr style=\"text-align: right;\">\n",
       "      <th></th>\n",
       "      <th>author</th>\n",
       "      <th>comment_count</th>\n",
       "      <th>content</th>\n",
       "      <th>id</th>\n",
       "      <th>p_type</th>\n",
       "      <th>page_url</th>\n",
       "      <th>post_time</th>\n",
       "      <th>s_area_name</th>\n",
       "      <th>s_name</th>\n",
       "      <th>title</th>\n",
       "    </tr>\n",
       "  </thead>\n",
       "  <tbody>\n",
       "    <tr>\n",
       "      <th>0</th>\n",
       "      <td>Bokolo</td>\n",
       "      <td>10</td>\n",
       "      <td>1.原文連結(必須檢附)：\\nhttp://magazine.chinatimes.com/...</td>\n",
       "      <td>1451580710262_PTT02R</td>\n",
       "      <td>bbs</td>\n",
       "      <td>http://www.ptt.cc/bbs/Stock/M.1451580509.A.722...</td>\n",
       "      <td>2016-01-01 00:48:25</td>\n",
       "      <td>Stock</td>\n",
       "      <td>Ptt</td>\n",
       "      <td>[新聞] 第三方支付 台灣普及關鍵年</td>\n",
       "    </tr>\n",
       "    <tr>\n",
       "      <th>1</th>\n",
       "      <td>Bokolo</td>\n",
       "      <td>28</td>\n",
       "      <td>1.原文連結(必須檢附)：\\nhttp://www.appledaily.com.tw/re...</td>\n",
       "      <td>1451580711002_PTT02R</td>\n",
       "      <td>bbs</td>\n",
       "      <td>http://www.ptt.cc/bbs/Stock/M.1451580658.A.D8B...</td>\n",
       "      <td>2016-01-01 00:50:54</td>\n",
       "      <td>Stock</td>\n",
       "      <td>Ptt</td>\n",
       "      <td>[新聞] 曾銘宗：電子支付拼5年倍增</td>\n",
       "    </tr>\n",
       "  </tbody>\n",
       "</table>\n",
       "</div>"
      ],
      "text/plain": [
       "   author  comment_count                                            content  \\\n",
       "0  Bokolo             10  1.原文連結(必須檢附)：\\nhttp://magazine.chinatimes.com/...   \n",
       "1  Bokolo             28  1.原文連結(必須檢附)：\\nhttp://www.appledaily.com.tw/re...   \n",
       "\n",
       "                     id p_type  \\\n",
       "0  1451580710262_PTT02R    bbs   \n",
       "1  1451580711002_PTT02R    bbs   \n",
       "\n",
       "                                            page_url           post_time  \\\n",
       "0  http://www.ptt.cc/bbs/Stock/M.1451580509.A.722... 2016-01-01 00:48:25   \n",
       "1  http://www.ptt.cc/bbs/Stock/M.1451580658.A.D8B... 2016-01-01 00:50:54   \n",
       "\n",
       "  s_area_name s_name               title  \n",
       "0       Stock    Ptt  [新聞] 第三方支付 台灣普及關鍵年  \n",
       "1       Stock    Ptt  [新聞] 曾銘宗：電子支付拼5年倍增  "
      ]
     },
     "execution_count": 4,
     "metadata": {},
     "output_type": "execute_result"
    }
   ],
   "source": [
    "df_bbs = pd.read_json(\"bda2019_dataset/bbs2.json\",encoding=\"utf-8\")\n",
    "df_bbs.head(2)"
   ]
  },
  {
   "cell_type": "code",
   "execution_count": 13,
   "metadata": {},
   "outputs": [
    {
     "data": {
      "text/html": [
       "<div>\n",
       "<style scoped>\n",
       "    .dataframe tbody tr th:only-of-type {\n",
       "        vertical-align: middle;\n",
       "    }\n",
       "\n",
       "    .dataframe tbody tr th {\n",
       "        vertical-align: top;\n",
       "    }\n",
       "\n",
       "    .dataframe thead th {\n",
       "        text-align: right;\n",
       "    }\n",
       "</style>\n",
       "<table border=\"1\" class=\"dataframe\">\n",
       "  <thead>\n",
       "    <tr style=\"text-align: right;\">\n",
       "      <th></th>\n",
       "      <th>content</th>\n",
       "      <th>title</th>\n",
       "    </tr>\n",
       "  </thead>\n",
       "  <tbody>\n",
       "    <tr>\n",
       "      <th>0</th>\n",
       "      <td>1.原文連結(必須檢附)：\\nhttp://magazine.chinatimes.com/...</td>\n",
       "      <td>[新聞] 第三方支付 台灣普及關鍵年</td>\n",
       "    </tr>\n",
       "    <tr>\n",
       "      <th>1</th>\n",
       "      <td>1.原文連結(必須檢附)：\\nhttp://www.appledaily.com.tw/re...</td>\n",
       "      <td>[新聞] 曾銘宗：電子支付拼5年倍增</td>\n",
       "    </tr>\n",
       "    <tr>\n",
       "      <th>2</th>\n",
       "      <td>寡人在手機上2014年12月30日買了生平第一支股票\\n\\n訊息顯示成交了 成交總金額約3萬...</td>\n",
       "      <td>[請益] 交割帳戶什麼時候會扣款??</td>\n",
       "    </tr>\n",
       "    <tr>\n",
       "      <th>3</th>\n",
       "      <td>1.原文連結(必須檢附)：\\nhttp://www.appledaily.com.tw/re...</td>\n",
       "      <td>[新聞] 睽違8年　大宇資重返2016台北電玩展</td>\n",
       "    </tr>\n",
       "    <tr>\n",
       "      <th>4</th>\n",
       "      <td>1.原文連結(必須檢附)：\\nhttp://news.ltn.com.tw/news/bus...</td>\n",
       "      <td>[新聞] 人工撮合將成歷史！ 那斯達克啟用區塊鍊</td>\n",
       "    </tr>\n",
       "  </tbody>\n",
       "</table>\n",
       "</div>"
      ],
      "text/plain": [
       "                                             content                     title\n",
       "0  1.原文連結(必須檢附)：\\nhttp://magazine.chinatimes.com/...        [新聞] 第三方支付 台灣普及關鍵年\n",
       "1  1.原文連結(必須檢附)：\\nhttp://www.appledaily.com.tw/re...        [新聞] 曾銘宗：電子支付拼5年倍增\n",
       "2  寡人在手機上2014年12月30日買了生平第一支股票\\n\\n訊息顯示成交了 成交總金額約3萬...        [請益] 交割帳戶什麼時候會扣款??\n",
       "3  1.原文連結(必須檢附)：\\nhttp://www.appledaily.com.tw/re...  [新聞] 睽違8年　大宇資重返2016台北電玩展\n",
       "4  1.原文連結(必須檢附)：\\nhttp://news.ltn.com.tw/news/bus...  [新聞] 人工撮合將成歷史！ 那斯達克啟用區塊鍊"
      ]
     },
     "execution_count": 13,
     "metadata": {},
     "output_type": "execute_result"
    }
   ],
   "source": [
    "df2 = df_bbs[[\"content\",\"title\"]] #取2個column\n",
    "df2.head()"
   ]
  },
  {
   "cell_type": "code",
   "execution_count": 14,
   "metadata": {},
   "outputs": [],
   "source": [
    "df2.to_csv('df2.csv')"
   ]
  },
  {
   "cell_type": "code",
   "execution_count": null,
   "metadata": {},
   "outputs": [],
   "source": []
  }
 ],
 "metadata": {
  "kernelspec": {
   "display_name": "Python 3",
   "language": "python",
   "name": "python3"
  },
  "language_info": {
   "codemirror_mode": {
    "name": "ipython",
    "version": 3
   },
   "file_extension": ".py",
   "mimetype": "text/x-python",
   "name": "python",
   "nbconvert_exporter": "python",
   "pygments_lexer": "ipython3",
   "version": "3.6.7"
  }
 },
 "nbformat": 4,
 "nbformat_minor": 2
}
