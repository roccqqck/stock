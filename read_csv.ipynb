{
 "cells": [
  {
   "cell_type": "code",
   "execution_count": 1,
   "metadata": {},
   "outputs": [],
   "source": [
    "import pandas as pd"
   ]
  },
  {
   "cell_type": "code",
   "execution_count": 2,
   "metadata": {},
   "outputs": [
    {
     "name": "stderr",
     "output_type": "stream",
     "text": [
      "/home/barry/miniconda3/envs/stockenv/lib/python3.6/site-packages/IPython/core/interactiveshell.py:3020: DtypeWarning: Columns (2,3,4,5) have mixed types. Specify dtype option on import or set low_memory=False.\n",
      "  interactivity=interactivity, compiler=compiler, result=result)\n"
     ]
    }
   ],
   "source": [
    "df_OTC2018 = pd.read_csv(\"bda2019_dataset/OTC2018.csv\",encoding=\"utf-8\")\n",
    "df_OTC2017 = pd.read_csv(\"bda2019_dataset/OTC2017.csv\",encoding=\"utf-8\")\n",
    "df_OTC2016 = pd.read_csv(\"bda2019_dataset/OTC2016.csv\",encoding=\"utf-8\")\n",
    "df_TWSE2018 = pd.read_csv(\"bda2019_dataset/TWSE2018.csv\",encoding=\"utf-8\")\n",
    "df_TWSE2017 = pd.read_csv(\"bda2019_dataset/TWSE2017.csv\",encoding=\"utf-8\")\n",
    "df_TWSE2016 = pd.read_csv(\"bda2019_dataset/TWSE2016.csv\",encoding=\"utf-8\")\n",
    "df_bbs = pd.read_csv(\"bda2019_dataset/bbs2.csv\",encoding=\"utf-8\")\n",
    "df_forum = pd.read_csv(\"bda2019_dataset/forum2.csv\",encoding=\"utf-8\")\n",
    "df_news = pd.read_csv(\"bda2019_dataset/news2.csv\",encoding=\"utf-8\")"
   ]
  },
  {
   "cell_type": "code",
   "execution_count": 3,
   "metadata": {},
   "outputs": [
    {
     "data": {
      "text/html": [
       "<div>\n",
       "<style scoped>\n",
       "    .dataframe tbody tr th:only-of-type {\n",
       "        vertical-align: middle;\n",
       "    }\n",
       "\n",
       "    .dataframe tbody tr th {\n",
       "        vertical-align: top;\n",
       "    }\n",
       "\n",
       "    .dataframe thead th {\n",
       "        text-align: right;\n",
       "    }\n",
       "</style>\n",
       "<table border=\"1\" class=\"dataframe\">\n",
       "  <thead>\n",
       "    <tr style=\"text-align: right;\">\n",
       "      <th></th>\n",
       "      <th>證券代碼</th>\n",
       "      <th>年月日</th>\n",
       "      <th>開盤價(元)</th>\n",
       "      <th>最高價(元)</th>\n",
       "      <th>最低價(元)</th>\n",
       "      <th>收盤價(元)</th>\n",
       "      <th>成交量(千股)</th>\n",
       "      <th>成交值(千元)</th>\n",
       "      <th>成交筆數(筆)</th>\n",
       "      <th>流通在外股數(千股)</th>\n",
       "      <th>本益比-TSE</th>\n",
       "      <th>股價淨值比-TSE</th>\n",
       "    </tr>\n",
       "  </thead>\n",
       "  <tbody>\n",
       "    <tr>\n",
       "      <th>0</th>\n",
       "      <td>1240 茂生農經</td>\n",
       "      <td>2018/12/28</td>\n",
       "      <td>36.7</td>\n",
       "      <td>36.95</td>\n",
       "      <td>36.5</td>\n",
       "      <td>36.5</td>\n",
       "      <td>38</td>\n",
       "      <td>1,393</td>\n",
       "      <td>25</td>\n",
       "      <td>33,000</td>\n",
       "      <td>14.48</td>\n",
       "      <td>1.02</td>\n",
       "    </tr>\n",
       "    <tr>\n",
       "      <th>1</th>\n",
       "      <td>1258 其祥-KY</td>\n",
       "      <td>2018/12/28</td>\n",
       "      <td>21.65</td>\n",
       "      <td>21.65</td>\n",
       "      <td>21.25</td>\n",
       "      <td>21.3</td>\n",
       "      <td>16</td>\n",
       "      <td>340</td>\n",
       "      <td>8</td>\n",
       "      <td>36,816</td>\n",
       "      <td>NaN</td>\n",
       "      <td>1.06</td>\n",
       "    </tr>\n",
       "  </tbody>\n",
       "</table>\n",
       "</div>"
      ],
      "text/plain": [
       "         證券代碼         年月日 開盤價(元) 最高價(元) 最低價(元) 收盤價(元) 成交量(千股) 成交值(千元) 成交筆數(筆)  \\\n",
       "0   1240 茂生農經  2018/12/28   36.7  36.95   36.5   36.5      38   1,393      25   \n",
       "1  1258 其祥-KY  2018/12/28  21.65  21.65  21.25   21.3      16     340       8   \n",
       "\n",
       "  流通在外股數(千股) 本益比-TSE  股價淨值比-TSE  \n",
       "0     33,000   14.48       1.02  \n",
       "1     36,816     NaN       1.06  "
      ]
     },
     "execution_count": 3,
     "metadata": {},
     "output_type": "execute_result"
    }
   ],
   "source": [
    "df_OTC2018.head(2)"
   ]
  },
  {
   "cell_type": "code",
   "execution_count": null,
   "metadata": {},
   "outputs": [],
   "source": [
    "df_OTC2017.head(2)"
   ]
  },
  {
   "cell_type": "code",
   "execution_count": null,
   "metadata": {},
   "outputs": [],
   "source": [
    "df_OTC2016.head(2)"
   ]
  },
  {
   "cell_type": "code",
   "execution_count": 4,
   "metadata": {},
   "outputs": [
    {
     "data": {
      "text/html": [
       "<div>\n",
       "<style scoped>\n",
       "    .dataframe tbody tr th:only-of-type {\n",
       "        vertical-align: middle;\n",
       "    }\n",
       "\n",
       "    .dataframe tbody tr th {\n",
       "        vertical-align: top;\n",
       "    }\n",
       "\n",
       "    .dataframe thead th {\n",
       "        text-align: right;\n",
       "    }\n",
       "</style>\n",
       "<table border=\"1\" class=\"dataframe\">\n",
       "  <thead>\n",
       "    <tr style=\"text-align: right;\">\n",
       "      <th></th>\n",
       "      <th>證券代碼</th>\n",
       "      <th>年月日</th>\n",
       "      <th>開盤價(元)</th>\n",
       "      <th>最高價(元)</th>\n",
       "      <th>最低價(元)</th>\n",
       "      <th>收盤價(元)</th>\n",
       "      <th>成交量(千股)</th>\n",
       "      <th>成交值(千元)</th>\n",
       "      <th>成交筆數(筆)</th>\n",
       "      <th>流通在外股數(千股)</th>\n",
       "      <th>本益比-TSE</th>\n",
       "      <th>股價淨值比-TSE</th>\n",
       "    </tr>\n",
       "  </thead>\n",
       "  <tbody>\n",
       "    <tr>\n",
       "      <th>0</th>\n",
       "      <td>1101 台泥</td>\n",
       "      <td>2018/12/28</td>\n",
       "      <td>35.4</td>\n",
       "      <td>35.75</td>\n",
       "      <td>35.4</td>\n",
       "      <td>35.6</td>\n",
       "      <td>8,117</td>\n",
       "      <td>288,722</td>\n",
       "      <td>3,471</td>\n",
       "      <td>5,108,059</td>\n",
       "      <td>9.78</td>\n",
       "      <td>1.07</td>\n",
       "    </tr>\n",
       "    <tr>\n",
       "      <th>1</th>\n",
       "      <td>1102 亞泥</td>\n",
       "      <td>2018/12/28</td>\n",
       "      <td>33.55</td>\n",
       "      <td>34.3</td>\n",
       "      <td>33.55</td>\n",
       "      <td>33.95</td>\n",
       "      <td>5,297</td>\n",
       "      <td>180,516</td>\n",
       "      <td>1,916</td>\n",
       "      <td>3,361,447</td>\n",
       "      <td>10.38</td>\n",
       "      <td>0.83</td>\n",
       "    </tr>\n",
       "  </tbody>\n",
       "</table>\n",
       "</div>"
      ],
      "text/plain": [
       "      證券代碼         年月日 開盤價(元) 最高價(元) 最低價(元) 收盤價(元) 成交量(千股)  成交值(千元) 成交筆數(筆)  \\\n",
       "0  1101 台泥  2018/12/28   35.4  35.75   35.4   35.6   8,117  288,722   3,471   \n",
       "1  1102 亞泥  2018/12/28  33.55   34.3  33.55  33.95   5,297  180,516   1,916   \n",
       "\n",
       "  流通在外股數(千股) 本益比-TSE  股價淨值比-TSE  \n",
       "0  5,108,059    9.78       1.07  \n",
       "1  3,361,447   10.38       0.83  "
      ]
     },
     "execution_count": 4,
     "metadata": {},
     "output_type": "execute_result"
    }
   ],
   "source": [
    "df_TWSE2018.head(2)"
   ]
  },
  {
   "cell_type": "code",
   "execution_count": null,
   "metadata": {},
   "outputs": [],
   "source": [
    "df_TWSE2017.head(2)"
   ]
  },
  {
   "cell_type": "code",
   "execution_count": null,
   "metadata": {},
   "outputs": [],
   "source": [
    "df_TWSE2016.head(2)"
   ]
  },
  {
   "cell_type": "code",
   "execution_count": 5,
   "metadata": {},
   "outputs": [
    {
     "data": {
      "text/html": [
       "<div>\n",
       "<style scoped>\n",
       "    .dataframe tbody tr th:only-of-type {\n",
       "        vertical-align: middle;\n",
       "    }\n",
       "\n",
       "    .dataframe tbody tr th {\n",
       "        vertical-align: top;\n",
       "    }\n",
       "\n",
       "    .dataframe thead th {\n",
       "        text-align: right;\n",
       "    }\n",
       "</style>\n",
       "<table border=\"1\" class=\"dataframe\">\n",
       "  <thead>\n",
       "    <tr style=\"text-align: right;\">\n",
       "      <th></th>\n",
       "      <th>id</th>\n",
       "      <th>p_type</th>\n",
       "      <th>s_name</th>\n",
       "      <th>s_area_name</th>\n",
       "      <th>comment_count</th>\n",
       "      <th>post_time</th>\n",
       "      <th>title</th>\n",
       "      <th>author</th>\n",
       "      <th>content</th>\n",
       "      <th>page_url</th>\n",
       "    </tr>\n",
       "  </thead>\n",
       "  <tbody>\n",
       "    <tr>\n",
       "      <th>0</th>\n",
       "      <td>1451580710262_PTT02R</td>\n",
       "      <td>bbs</td>\n",
       "      <td>Ptt</td>\n",
       "      <td>Stock</td>\n",
       "      <td>10</td>\n",
       "      <td>2016/1/1 00:48:25</td>\n",
       "      <td>[新聞] 第三方支付 台灣普及關鍵年</td>\n",
       "      <td>Bokolo</td>\n",
       "      <td>1.原文連結(必須檢附)：\\nhttp://magazine.chinatimes.com/...</td>\n",
       "      <td>http://www.ptt.cc/bbs/Stock/M.1451580509.A.722...</td>\n",
       "    </tr>\n",
       "    <tr>\n",
       "      <th>1</th>\n",
       "      <td>1451580711002_PTT02R</td>\n",
       "      <td>bbs</td>\n",
       "      <td>Ptt</td>\n",
       "      <td>Stock</td>\n",
       "      <td>28</td>\n",
       "      <td>2016/1/1 00:50:54</td>\n",
       "      <td>[新聞] 曾銘宗：電子支付拼5年倍增</td>\n",
       "      <td>Bokolo</td>\n",
       "      <td>1.原文連結(必須檢附)：\\nhttp://www.appledaily.com.tw/re...</td>\n",
       "      <td>http://www.ptt.cc/bbs/Stock/M.1451580658.A.D8B...</td>\n",
       "    </tr>\n",
       "  </tbody>\n",
       "</table>\n",
       "</div>"
      ],
      "text/plain": [
       "                     id p_type s_name s_area_name  comment_count  \\\n",
       "0  1451580710262_PTT02R    bbs    Ptt       Stock             10   \n",
       "1  1451580711002_PTT02R    bbs    Ptt       Stock             28   \n",
       "\n",
       "           post_time               title  author  \\\n",
       "0  2016/1/1 00:48:25  [新聞] 第三方支付 台灣普及關鍵年  Bokolo   \n",
       "1  2016/1/1 00:50:54  [新聞] 曾銘宗：電子支付拼5年倍增  Bokolo   \n",
       "\n",
       "                                             content  \\\n",
       "0  1.原文連結(必須檢附)：\\nhttp://magazine.chinatimes.com/...   \n",
       "1  1.原文連結(必須檢附)：\\nhttp://www.appledaily.com.tw/re...   \n",
       "\n",
       "                                            page_url  \n",
       "0  http://www.ptt.cc/bbs/Stock/M.1451580509.A.722...  \n",
       "1  http://www.ptt.cc/bbs/Stock/M.1451580658.A.D8B...  "
      ]
     },
     "execution_count": 5,
     "metadata": {},
     "output_type": "execute_result"
    }
   ],
   "source": [
    "df_bbs.head(2)"
   ]
  },
  {
   "cell_type": "code",
   "execution_count": 6,
   "metadata": {},
   "outputs": [
    {
     "data": {
      "text/html": [
       "<div>\n",
       "<style scoped>\n",
       "    .dataframe tbody tr th:only-of-type {\n",
       "        vertical-align: middle;\n",
       "    }\n",
       "\n",
       "    .dataframe tbody tr th {\n",
       "        vertical-align: top;\n",
       "    }\n",
       "\n",
       "    .dataframe thead th {\n",
       "        text-align: right;\n",
       "    }\n",
       "</style>\n",
       "<table border=\"1\" class=\"dataframe\">\n",
       "  <thead>\n",
       "    <tr style=\"text-align: right;\">\n",
       "      <th></th>\n",
       "      <th>id</th>\n",
       "      <th>p_type</th>\n",
       "      <th>s_name</th>\n",
       "      <th>s_area_name</th>\n",
       "      <th>comment_count</th>\n",
       "      <th>post_time</th>\n",
       "      <th>title</th>\n",
       "      <th>author</th>\n",
       "      <th>content</th>\n",
       "      <th>page_url</th>\n",
       "    </tr>\n",
       "  </thead>\n",
       "  <tbody>\n",
       "    <tr>\n",
       "      <th>0</th>\n",
       "      <td>1451585357153_F01</td>\n",
       "      <td>forum</td>\n",
       "      <td>mobile01</td>\n",
       "      <td>投資與理財(生活娛樂)</td>\n",
       "      <td>1</td>\n",
       "      <td>2016/1/1 2:01:00</td>\n",
       "      <td>自刪</td>\n",
       "      <td>famas2200</td>\n",
       "      <td>不小心發錯版主請幫忙刪除文章謝謝</td>\n",
       "      <td>http://www.mobile01.com/topicdetail.php?f=291&amp;...</td>\n",
       "    </tr>\n",
       "    <tr>\n",
       "      <th>1</th>\n",
       "      <td>1451616871574_F01</td>\n",
       "      <td>forum</td>\n",
       "      <td>mobile01</td>\n",
       "      <td>投資與理財(生活娛樂)</td>\n",
       "      <td>5</td>\n",
       "      <td>2016/1/1 10:41:00</td>\n",
       "      <td>傳超微已打算將訂單下給格羅方德</td>\n",
       "      <td>taiwan2008</td>\n",
       "      <td>台積電爭奪超微下一代繪圖處理器失利，因為傳超微已打算將訂單下給格羅方德（GlobalFoun...</td>\n",
       "      <td>http://www.mobile01.com/topicdetail.php?f=291&amp;...</td>\n",
       "    </tr>\n",
       "  </tbody>\n",
       "</table>\n",
       "</div>"
      ],
      "text/plain": [
       "                  id p_type    s_name  s_area_name  comment_count  \\\n",
       "0  1451585357153_F01  forum  mobile01  投資與理財(生活娛樂)              1   \n",
       "1  1451616871574_F01  forum  mobile01  投資與理財(生活娛樂)              5   \n",
       "\n",
       "           post_time            title      author  \\\n",
       "0   2016/1/1 2:01:00               自刪   famas2200   \n",
       "1  2016/1/1 10:41:00  傳超微已打算將訂單下給格羅方德  taiwan2008   \n",
       "\n",
       "                                             content  \\\n",
       "0                                   不小心發錯版主請幫忙刪除文章謝謝   \n",
       "1  台積電爭奪超微下一代繪圖處理器失利，因為傳超微已打算將訂單下給格羅方德（GlobalFoun...   \n",
       "\n",
       "                                            page_url  \n",
       "0  http://www.mobile01.com/topicdetail.php?f=291&...  \n",
       "1  http://www.mobile01.com/topicdetail.php?f=291&...  "
      ]
     },
     "execution_count": 6,
     "metadata": {},
     "output_type": "execute_result"
    }
   ],
   "source": [
    "df_forum.head(2)"
   ]
  },
  {
   "cell_type": "code",
   "execution_count": 7,
   "metadata": {},
   "outputs": [
    {
     "data": {
      "text/html": [
       "<div>\n",
       "<style scoped>\n",
       "    .dataframe tbody tr th:only-of-type {\n",
       "        vertical-align: middle;\n",
       "    }\n",
       "\n",
       "    .dataframe tbody tr th {\n",
       "        vertical-align: top;\n",
       "    }\n",
       "\n",
       "    .dataframe thead th {\n",
       "        text-align: right;\n",
       "    }\n",
       "</style>\n",
       "<table border=\"1\" class=\"dataframe\">\n",
       "  <thead>\n",
       "    <tr style=\"text-align: right;\">\n",
       "      <th></th>\n",
       "      <th>id</th>\n",
       "      <th>p_type</th>\n",
       "      <th>s_name</th>\n",
       "      <th>s_area_name</th>\n",
       "      <th>post_time</th>\n",
       "      <th>title</th>\n",
       "      <th>author</th>\n",
       "      <th>content</th>\n",
       "      <th>page_url</th>\n",
       "    </tr>\n",
       "  </thead>\n",
       "  <tbody>\n",
       "    <tr>\n",
       "      <th>0</th>\n",
       "      <td>1451580107540_N01</td>\n",
       "      <td>news</td>\n",
       "      <td>yahoo股市</td>\n",
       "      <td>重大要聞</td>\n",
       "      <td>2016/1/1 00:06:00</td>\n",
       "      <td>淪落的2015 竟是78年來最難獲利的一年</td>\n",
       "      <td>鉅亨網</td>\n",
       "      <td>鉅亨網編譯郭照青這一年，獲利真是難上難。&lt;BR&gt;根據CNBC分析報導，興業銀行的數據顯示，2...</td>\n",
       "      <td>https://tw.stock.yahoo.com/news_content/url/d/...</td>\n",
       "    </tr>\n",
       "    <tr>\n",
       "      <th>1</th>\n",
       "      <td>1451582807314_N01</td>\n",
       "      <td>news</td>\n",
       "      <td>yahoo股市</td>\n",
       "      <td>重大要聞</td>\n",
       "      <td>2016/1/1 00:52:00</td>\n",
       "      <td>美股盤中─今年最後交易日 道瓊大跌逾150點 注意油價走勢</td>\n",
       "      <td>鉅亨網</td>\n",
       "      <td>鉅亨網編譯郭照青今日為2015年最後交易日，美國股市中場走低，投資人注意油價走勢。&lt;BR&gt;道...</td>\n",
       "      <td>https://tw.stock.yahoo.com/news_content/url/d/...</td>\n",
       "    </tr>\n",
       "  </tbody>\n",
       "</table>\n",
       "</div>"
      ],
      "text/plain": [
       "                  id p_type   s_name s_area_name          post_time  \\\n",
       "0  1451580107540_N01   news  yahoo股市        重大要聞  2016/1/1 00:06:00   \n",
       "1  1451582807314_N01   news  yahoo股市        重大要聞  2016/1/1 00:52:00   \n",
       "\n",
       "                           title author  \\\n",
       "0          淪落的2015 竟是78年來最難獲利的一年    鉅亨網   \n",
       "1  美股盤中─今年最後交易日 道瓊大跌逾150點 注意油價走勢    鉅亨網   \n",
       "\n",
       "                                             content  \\\n",
       "0  鉅亨網編譯郭照青這一年，獲利真是難上難。<BR>根據CNBC分析報導，興業銀行的數據顯示，2...   \n",
       "1  鉅亨網編譯郭照青今日為2015年最後交易日，美國股市中場走低，投資人注意油價走勢。<BR>道...   \n",
       "\n",
       "                                            page_url  \n",
       "0  https://tw.stock.yahoo.com/news_content/url/d/...  \n",
       "1  https://tw.stock.yahoo.com/news_content/url/d/...  "
      ]
     },
     "execution_count": 7,
     "metadata": {},
     "output_type": "execute_result"
    }
   ],
   "source": [
    "df_news.head(2)"
   ]
  },
  {
   "cell_type": "code",
   "execution_count": null,
   "metadata": {},
   "outputs": [],
   "source": []
  }
 ],
 "metadata": {
  "kernelspec": {
   "display_name": "Python 3",
   "language": "python",
   "name": "python3"
  },
  "language_info": {
   "codemirror_mode": {
    "name": "ipython",
    "version": 3
   },
   "file_extension": ".py",
   "mimetype": "text/x-python",
   "name": "python",
   "nbconvert_exporter": "python",
   "pygments_lexer": "ipython3",
   "version": "3.6.7"
  }
 },
 "nbformat": 4,
 "nbformat_minor": 2
}
