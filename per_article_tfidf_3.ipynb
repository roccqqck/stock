{
 "cells": [
  {
   "cell_type": "code",
   "execution_count": 1,
   "metadata": {},
   "outputs": [],
   "source": [
    "import numpy as np\n",
    "import pandas as pd\n",
    "\n",
    "from sklearn import model_selection\n",
    "from sklearn.metrics import classification_report\n",
    "from sklearn.metrics import confusion_matrix\n",
    "from sklearn.metrics import accuracy_score\n",
    "from sklearn.linear_model import LogisticRegression\n",
    "from sklearn.tree import DecisionTreeClassifier\n",
    "from sklearn.neighbors import KNeighborsClassifier\n",
    "#from sklearn.discriminant_analysis import LinearDiscriminantAnalysis\n",
    "from sklearn.naive_bayes import GaussianNB\n",
    "from sklearn.naive_bayes import MultinomialNB\n",
    "from sklearn.svm import SVC\n",
    "from sklearn.ensemble import RandomForestClassifier\n",
    "from sklearn.neural_network import MLPClassifier\n",
    "from sklearn.ensemble import GradientBoostingClassifier\n",
    "import xgboost as xgb\n",
    "from xgboost.sklearn import XGBClassifier\n",
    "\n",
    "#time\n",
    "from datetime import datetime\n",
    "from datetime import timedelta\n",
    "\n",
    "import jieba\n",
    "import jieba.analyse\n",
    "jieba.set_dictionary('dict.idkrsi.txt')     # 改預設字典\n",
    "jieba.analyse.set_stop_words(\"stopword.goatwang.kang.txt\") #指定stopwords字典\n",
    "\n",
    "# get data\n",
    "# ! conda install pandas-datareader s\n",
    "#import pandas_datareader as pdr\n",
    "\n",
    "# visual\n",
    "# ! pip install mpl-finance\n",
    "#import matplotlib.pyplot as plt\n",
    "#import mpl_finance as mpf\n",
    "\n",
    "#import seaborn as sns\n",
    "\n",
    "\n",
    "# https://github.com/mrjbq7/ta-lib\n",
    "# ! pip install ta-lib\n",
    "#import talib"
   ]
  },
  {
   "cell_type": "code",
   "execution_count": 2,
   "metadata": {},
   "outputs": [
    {
     "name": "stderr",
     "output_type": "stream",
     "text": [
      "/home/barry/miniconda3/envs/stockenv/lib/python3.6/site-packages/ipykernel_launcher.py:6: FutureWarning: Sorting because non-concatenation axis is not aligned. A future version\n",
      "of pandas will change to not sort by default.\n",
      "\n",
      "To accept the future behavior, pass 'sort=False'.\n",
      "\n",
      "To retain the current behavior and silence the warning, pass 'sort=True'.\n",
      "\n",
      "  \n"
     ]
    },
    {
     "data": {
      "text/html": [
       "<div>\n",
       "<style scoped>\n",
       "    .dataframe tbody tr th:only-of-type {\n",
       "        vertical-align: middle;\n",
       "    }\n",
       "\n",
       "    .dataframe tbody tr th {\n",
       "        vertical-align: top;\n",
       "    }\n",
       "\n",
       "    .dataframe thead th {\n",
       "        text-align: right;\n",
       "    }\n",
       "</style>\n",
       "<table border=\"1\" class=\"dataframe\">\n",
       "  <thead>\n",
       "    <tr style=\"text-align: right;\">\n",
       "      <th></th>\n",
       "      <th>author</th>\n",
       "      <th>comment_count</th>\n",
       "      <th>content</th>\n",
       "      <th>id</th>\n",
       "      <th>p_type</th>\n",
       "      <th>page_url</th>\n",
       "      <th>post_time</th>\n",
       "      <th>s_area_name</th>\n",
       "      <th>s_name</th>\n",
       "      <th>title</th>\n",
       "      <th>post_time2</th>\n",
       "    </tr>\n",
       "  </thead>\n",
       "  <tbody>\n",
       "    <tr>\n",
       "      <th>0</th>\n",
       "      <td>鉅亨網</td>\n",
       "      <td>0</td>\n",
       "      <td>鉅亨網編譯郭照青這一年，獲利真是難上難。&lt;BR&gt;根據CNBC分析報導，興業銀行的數據顯示，2...</td>\n",
       "      <td>1451580107540_N01</td>\n",
       "      <td>news</td>\n",
       "      <td>https://tw.stock.yahoo.com/news_content/url/d/...</td>\n",
       "      <td>2016-01-01 00:06:00</td>\n",
       "      <td>重大要聞</td>\n",
       "      <td>yahoo股市</td>\n",
       "      <td>淪落的2015 竟是78年來最難獲利的一年</td>\n",
       "      <td>2016-01-01</td>\n",
       "    </tr>\n",
       "    <tr>\n",
       "      <th>1</th>\n",
       "      <td>Bokolo</td>\n",
       "      <td>10</td>\n",
       "      <td>1.原文連結(必須檢附)： http://magazine.chinatimes.com/m...</td>\n",
       "      <td>1451580710262_PTT02R</td>\n",
       "      <td>bbs</td>\n",
       "      <td>http://www.ptt.cc/bbs/Stock/M.1451580509.A.722...</td>\n",
       "      <td>2016-01-01 00:48:25</td>\n",
       "      <td>Stock</td>\n",
       "      <td>Ptt</td>\n",
       "      <td>[新聞] 第三方支付 台灣普及關鍵年</td>\n",
       "      <td>2016-01-01</td>\n",
       "    </tr>\n",
       "  </tbody>\n",
       "</table>\n",
       "</div>"
      ],
      "text/plain": [
       "   author  comment_count                                            content  \\\n",
       "0     鉅亨網              0  鉅亨網編譯郭照青這一年，獲利真是難上難。<BR>根據CNBC分析報導，興業銀行的數據顯示，2...   \n",
       "1  Bokolo             10  1.原文連結(必須檢附)： http://magazine.chinatimes.com/m...   \n",
       "\n",
       "                     id p_type  \\\n",
       "0     1451580107540_N01   news   \n",
       "1  1451580710262_PTT02R    bbs   \n",
       "\n",
       "                                            page_url           post_time  \\\n",
       "0  https://tw.stock.yahoo.com/news_content/url/d/... 2016-01-01 00:06:00   \n",
       "1  http://www.ptt.cc/bbs/Stock/M.1451580509.A.722... 2016-01-01 00:48:25   \n",
       "\n",
       "  s_area_name   s_name                  title  post_time2  \n",
       "0        重大要聞  yahoo股市  淪落的2015 竟是78年來最難獲利的一年  2016-01-01  \n",
       "1       Stock      Ptt     [新聞] 第三方支付 台灣普及關鍵年  2016-01-01  "
      ]
     },
     "execution_count": 2,
     "metadata": {},
     "output_type": "execute_result"
    }
   ],
   "source": [
    "df_bbs = pd.read_csv(\"bda2019_dataset/bbs2.csv\",encoding=\"utf-8\")\n",
    "df_forum = pd.read_csv(\"bda2019_dataset/forum2.csv\",encoding=\"utf-8\")\n",
    "df_news = pd.read_csv(\"bda2019_dataset/news2.csv\",encoding=\"utf-8\")\n",
    "df_news['comment_count']=0\n",
    "\n",
    "df_article = pd.concat([df_forum, df_bbs, df_news])  #三個合併\n",
    "del df_bbs, df_forum, df_news\n",
    "\n",
    "df_article['post_time'] = pd.to_datetime(df_article['post_time'])\n",
    "df_article['post_time2'] = df_article['post_time'].dt.date   # .dt.date用在dataframe  .date()用在一個 #只留日期\n",
    "#df_article['label'] = 'even'\n",
    "df_article['content'] = df_article['content'].astype(str).str.replace(',' , ' ').str.replace('\\n' , ' ').str.replace('\"' , ' ').str.replace(\"'\" , ' ')\n",
    "df_article['title'] = df_article['title'].astype(str).str.replace(',' , ' ').str.replace('\\n' , ' ').str.replace('\"' , ' ').str.replace(\"'\" , ' ')\n",
    "df_article = df_article.sort_values(by=['post_time']).reset_index(drop=True) # 用post_time排序 # 在重設index\n",
    "df_article.head(2)\n",
    "#df_article2 = df_article[['post_time2','title','content']]"
   ]
  },
  {
   "cell_type": "code",
   "execution_count": 3,
   "metadata": {},
   "outputs": [
    {
     "data": {
      "text/html": [
       "<div>\n",
       "<style scoped>\n",
       "    .dataframe tbody tr th:only-of-type {\n",
       "        vertical-align: middle;\n",
       "    }\n",
       "\n",
       "    .dataframe tbody tr th {\n",
       "        vertical-align: top;\n",
       "    }\n",
       "\n",
       "    .dataframe thead th {\n",
       "        text-align: right;\n",
       "    }\n",
       "</style>\n",
       "<table border=\"1\" class=\"dataframe\">\n",
       "  <thead>\n",
       "    <tr style=\"text-align: right;\">\n",
       "      <th></th>\n",
       "      <th>證券代碼</th>\n",
       "      <th>年月日</th>\n",
       "      <th>開盤價(元)</th>\n",
       "      <th>最高價(元)</th>\n",
       "      <th>最低價(元)</th>\n",
       "      <th>收盤價(元)</th>\n",
       "      <th>成交量(千股)</th>\n",
       "      <th>成交值(千元)</th>\n",
       "      <th>成交筆數(筆)</th>\n",
       "      <th>流通在外股數(千股)</th>\n",
       "      <th>本益比-TSE</th>\n",
       "      <th>股價淨值比-TSE</th>\n",
       "    </tr>\n",
       "  </thead>\n",
       "  <tbody>\n",
       "    <tr>\n",
       "      <th>0</th>\n",
       "      <td>1101 台泥</td>\n",
       "      <td>2016-12-30</td>\n",
       "      <td>29.09</td>\n",
       "      <td>29.64</td>\n",
       "      <td>28.93</td>\n",
       "      <td>29.64</td>\n",
       "      <td>6121.0</td>\n",
       "      <td>213121.0</td>\n",
       "      <td>2939</td>\n",
       "      <td>3692175.0</td>\n",
       "      <td>20.56</td>\n",
       "      <td>1.23</td>\n",
       "    </tr>\n",
       "    <tr>\n",
       "      <th>1</th>\n",
       "      <td>1102 亞泥</td>\n",
       "      <td>2016-12-30</td>\n",
       "      <td>24.91</td>\n",
       "      <td>24.91</td>\n",
       "      <td>24.67</td>\n",
       "      <td>24.81</td>\n",
       "      <td>3347.0</td>\n",
       "      <td>88078.0</td>\n",
       "      <td>1227</td>\n",
       "      <td>3361447.0</td>\n",
       "      <td>31.75</td>\n",
       "      <td>0.73</td>\n",
       "    </tr>\n",
       "  </tbody>\n",
       "</table>\n",
       "</div>"
      ],
      "text/plain": [
       "      證券代碼        年月日  開盤價(元)  最高價(元)  最低價(元)  收盤價(元)  成交量(千股)   成交值(千元)  \\\n",
       "0  1101 台泥 2016-12-30   29.09   29.64   28.93   29.64   6121.0  213121.0   \n",
       "1  1102 亞泥 2016-12-30   24.91   24.91   24.67   24.81   3347.0   88078.0   \n",
       "\n",
       "   成交筆數(筆)  流通在外股數(千股)  本益比-TSE  股價淨值比-TSE  \n",
       "0     2939   3692175.0    20.56       1.23  \n",
       "1     1227   3361447.0    31.75       0.73  "
      ]
     },
     "execution_count": 3,
     "metadata": {},
     "output_type": "execute_result"
    }
   ],
   "source": [
    "df_TWSE2018 = pd.read_csv(\"bda2019_dataset/TWSE2018.csv\",encoding=\"utf-8\")\n",
    "df_TWSE2017 = pd.read_csv(\"bda2019_dataset/TWSE2017.csv\",encoding=\"utf-8\")\n",
    "df_TWSE2016 = pd.read_csv(\"bda2019_dataset/TWSE2016.csv\",encoding=\"utf-8\")\n",
    "\n",
    "df_TWSE = pd.concat([df_TWSE2016, df_TWSE2017, df_TWSE2018])  #三年合併\n",
    "del df_TWSE2016, df_TWSE2017, df_TWSE2018\n",
    "\n",
    "# ['開盤價(元)', '最高價(元)', '最低價(元)', '收盤價(元)', '成交量(千股)', '成交值(千元)', '成交筆數(筆)', '流通在外股數(千股)', '本益比-TSE', '股價淨值比-TSE']\n",
    "df_TWSE['證券代碼'] = df_TWSE['證券代碼'].astype(str)\n",
    "df_TWSE['年月日'] = pd.to_datetime(df_TWSE['年月日'])\n",
    "df_TWSE['開盤價(元)'] = df_TWSE['開盤價(元)'].str.replace(',' , '').astype('float64') # 1,000 to 1000 to float\n",
    "df_TWSE['最高價(元)'] = df_TWSE['最高價(元)'].str.replace(',' , '').astype('float64')\n",
    "df_TWSE['最低價(元)'] = df_TWSE['最低價(元)'].str.replace(',' , '').astype('float64')\n",
    "df_TWSE['收盤價(元)'] = df_TWSE['收盤價(元)'].str.replace(',' , '').astype('float64')\n",
    "df_TWSE['成交量(千股)'] = df_TWSE['成交量(千股)'].str.replace(',' , '').astype('float64')\n",
    "df_TWSE['成交值(千元)'] = df_TWSE['成交值(千元)'].str.replace(',' , '').astype('float64')\n",
    "df_TWSE['成交筆數(筆)'] = df_TWSE['成交筆數(筆)'].str.replace(',' , '').astype('int64')\n",
    "df_TWSE['流通在外股數(千股)'] = df_TWSE['流通在外股數(千股)'].str.replace(',' , '').astype('float64')\n",
    "df_TWSE['本益比-TSE'] = df_TWSE['本益比-TSE'].str.replace(',' , '').astype('float64')\n",
    "df_TWSE['股價淨值比-TSE'] = df_TWSE['股價淨值比-TSE'].astype('float64')\n",
    "df_TWSE.head(2) "
   ]
  },
  {
   "cell_type": "code",
   "execution_count": 4,
   "metadata": {},
   "outputs": [],
   "source": [
    "# 選那家股票\n",
    "#company_name = '國巨'\n",
    "company_name = '奇力新'\n",
    "\n",
    "\n",
    "# 文章包含那家字\n",
    "#company_words = '被動元件|積層陶瓷電容|MLCC|電感|晶片電阻|車用電子|凱美|同欣電|大毅|君耀|普斯|國巨'\n",
    "company_words = '被動元件|積層陶瓷電容|MLCC|電感|晶片電阻|車用電子|飛磁|旺詮|美磊|美桀|向華科技|奇力新'\n",
    "\n",
    "# 漲跌幾%\n",
    "PA = 0.05\n",
    "\n",
    "# even幾%\n",
    "PAE = 0.003"
   ]
  },
  {
   "cell_type": "code",
   "execution_count": 5,
   "metadata": {},
   "outputs": [
    {
     "data": {
      "text/html": [
       "<div>\n",
       "<style scoped>\n",
       "    .dataframe tbody tr th:only-of-type {\n",
       "        vertical-align: middle;\n",
       "    }\n",
       "\n",
       "    .dataframe tbody tr th {\n",
       "        vertical-align: top;\n",
       "    }\n",
       "\n",
       "    .dataframe thead th {\n",
       "        text-align: right;\n",
       "    }\n",
       "</style>\n",
       "<table border=\"1\" class=\"dataframe\">\n",
       "  <thead>\n",
       "    <tr style=\"text-align: right;\">\n",
       "      <th></th>\n",
       "      <th>證券代碼</th>\n",
       "      <th>年月日</th>\n",
       "      <th>開盤價(元)</th>\n",
       "      <th>最高價(元)</th>\n",
       "      <th>最低價(元)</th>\n",
       "      <th>收盤價(元)</th>\n",
       "      <th>成交量(千股)</th>\n",
       "      <th>成交值(千元)</th>\n",
       "      <th>成交筆數(筆)</th>\n",
       "      <th>流通在外股數(千股)</th>\n",
       "      <th>本益比-TSE</th>\n",
       "      <th>股價淨值比-TSE</th>\n",
       "    </tr>\n",
       "  </thead>\n",
       "  <tbody>\n",
       "    <tr>\n",
       "      <th>0</th>\n",
       "      <td>2456 奇力新</td>\n",
       "      <td>2016-01-04</td>\n",
       "      <td>80.44</td>\n",
       "      <td>81.74</td>\n",
       "      <td>78.18</td>\n",
       "      <td>80.20</td>\n",
       "      <td>4389.0</td>\n",
       "      <td>297206.0</td>\n",
       "      <td>2710</td>\n",
       "      <td>126969.0</td>\n",
       "      <td>15.89</td>\n",
       "      <td>2.32</td>\n",
       "    </tr>\n",
       "    <tr>\n",
       "      <th>1</th>\n",
       "      <td>2456 奇力新</td>\n",
       "      <td>2016-01-05</td>\n",
       "      <td>80.55</td>\n",
       "      <td>85.06</td>\n",
       "      <td>79.25</td>\n",
       "      <td>85.06</td>\n",
       "      <td>6701.0</td>\n",
       "      <td>468760.0</td>\n",
       "      <td>4200</td>\n",
       "      <td>126969.0</td>\n",
       "      <td>16.85</td>\n",
       "      <td>2.46</td>\n",
       "    </tr>\n",
       "  </tbody>\n",
       "</table>\n",
       "</div>"
      ],
      "text/plain": [
       "       證券代碼        年月日  開盤價(元)  最高價(元)  最低價(元)  收盤價(元)  成交量(千股)   成交值(千元)  \\\n",
       "0  2456 奇力新 2016-01-04   80.44   81.74   78.18   80.20   4389.0  297206.0   \n",
       "1  2456 奇力新 2016-01-05   80.55   85.06   79.25   85.06   6701.0  468760.0   \n",
       "\n",
       "   成交筆數(筆)  流通在外股數(千股)  本益比-TSE  股價淨值比-TSE  \n",
       "0     2710    126969.0    15.89       2.32  \n",
       "1     4200    126969.0    16.85       2.46  "
      ]
     },
     "execution_count": 5,
     "metadata": {},
     "output_type": "execute_result"
    }
   ],
   "source": [
    "# 用日期排序 再把index重排\n",
    "#2327 \n",
    "#df_trend = df_TWSE[df_TWSE['證券代碼'].str.contains('國巨')].sort_values(by=['年月日']).reset_index(drop=True)\n",
    "#2456 \n",
    "#df_trend = df_TWSE[df_TWSE['證券代碼'].str.contains('奇力新')].sort_values(by=['年月日']).reset_index(drop=True)\n",
    "#2478 \n",
    "#df_trend = df_TWSE[df_TWSE['證券代碼'].str.contains('大毅')].sort_values(by=['年月日']).reset_index(drop=True)\n",
    "#6271 \n",
    "#df_trend = df_TWSE[df_TWSE['證券代碼'].str.contains('同欣電')].sort_values(by=['年月日']).reset_index(drop=True)\n",
    "\n",
    "df_trend = df_TWSE[df_TWSE['證券代碼'].str.contains(company_name)].sort_values(by=['年月日']).reset_index(drop=True)\n",
    "del df_TWSE\n",
    "df_trend.head(2)"
   ]
  },
  {
   "cell_type": "code",
   "execution_count": 6,
   "metadata": {},
   "outputs": [
    {
     "data": {
      "text/html": [
       "<div>\n",
       "<style scoped>\n",
       "    .dataframe tbody tr th:only-of-type {\n",
       "        vertical-align: middle;\n",
       "    }\n",
       "\n",
       "    .dataframe tbody tr th {\n",
       "        vertical-align: top;\n",
       "    }\n",
       "\n",
       "    .dataframe thead th {\n",
       "        text-align: right;\n",
       "    }\n",
       "</style>\n",
       "<table border=\"1\" class=\"dataframe\">\n",
       "  <thead>\n",
       "    <tr style=\"text-align: right;\">\n",
       "      <th></th>\n",
       "      <th>證券代碼</th>\n",
       "      <th>年月日</th>\n",
       "      <th>開盤價(元)</th>\n",
       "      <th>最高價(元)</th>\n",
       "      <th>最低價(元)</th>\n",
       "      <th>收盤價(元)</th>\n",
       "      <th>成交量(千股)</th>\n",
       "      <th>成交值(千元)</th>\n",
       "      <th>成交筆數(筆)</th>\n",
       "      <th>流通在外股數(千股)</th>\n",
       "      <th>本益比-TSE</th>\n",
       "      <th>股價淨值比-TSE</th>\n",
       "      <th>fluctuation</th>\n",
       "      <th>tag</th>\n",
       "      <th>closeshift</th>\n",
       "    </tr>\n",
       "  </thead>\n",
       "  <tbody>\n",
       "    <tr>\n",
       "      <th>0</th>\n",
       "      <td>2456 奇力新</td>\n",
       "      <td>2016-01-04</td>\n",
       "      <td>80.44</td>\n",
       "      <td>81.74</td>\n",
       "      <td>78.18</td>\n",
       "      <td>80.20</td>\n",
       "      <td>4389.0</td>\n",
       "      <td>297206.0</td>\n",
       "      <td>2710</td>\n",
       "      <td>126969.0</td>\n",
       "      <td>15.89</td>\n",
       "      <td>2.32</td>\n",
       "      <td>0.0</td>\n",
       "      <td>--</td>\n",
       "      <td>0.0</td>\n",
       "    </tr>\n",
       "    <tr>\n",
       "      <th>1</th>\n",
       "      <td>2456 奇力新</td>\n",
       "      <td>2016-01-05</td>\n",
       "      <td>80.55</td>\n",
       "      <td>85.06</td>\n",
       "      <td>79.25</td>\n",
       "      <td>85.06</td>\n",
       "      <td>6701.0</td>\n",
       "      <td>468760.0</td>\n",
       "      <td>4200</td>\n",
       "      <td>126969.0</td>\n",
       "      <td>16.85</td>\n",
       "      <td>2.46</td>\n",
       "      <td>0.0</td>\n",
       "      <td>--</td>\n",
       "      <td>0.0</td>\n",
       "    </tr>\n",
       "  </tbody>\n",
       "</table>\n",
       "</div>"
      ],
      "text/plain": [
       "       證券代碼        年月日  開盤價(元)  最高價(元)  最低價(元)  收盤價(元)  成交量(千股)   成交值(千元)  \\\n",
       "0  2456 奇力新 2016-01-04   80.44   81.74   78.18   80.20   4389.0  297206.0   \n",
       "1  2456 奇力新 2016-01-05   80.55   85.06   79.25   85.06   6701.0  468760.0   \n",
       "\n",
       "   成交筆數(筆)  流通在外股數(千股)  本益比-TSE  股價淨值比-TSE  fluctuation tag  closeshift  \n",
       "0     2710    126969.0    15.89       2.32          0.0  --         0.0  \n",
       "1     4200    126969.0    16.85       2.46          0.0  --         0.0  "
      ]
     },
     "execution_count": 6,
     "metadata": {},
     "output_type": "execute_result"
    }
   ],
   "source": [
    "##增欄位:fluctuation幅度 tag漲跌平\n",
    "df_trend['fluctuation'] = 0.0\n",
    "df_trend['tag']='--'\n",
    "df_trend['closeshift'] = 0.0\n",
    "df_trend.head(2)"
   ]
  },
  {
   "cell_type": "code",
   "execution_count": 7,
   "metadata": {},
   "outputs": [],
   "source": [
    "# ##增欄位:fluctuation幅度 tag漲跌平\n",
    "# df_trend['fluctuation'] = 0.0\n",
    "# df_trend['tag']='--'\n",
    "\n",
    "# ###計算漲跌\n",
    "# for index, row in df_trend.iterrows():\n",
    "#     try:\n",
    "#         margin =(float(df_trend.loc[index,'收盤價(元)']) - float(df_trend.loc[index-1,'收盤價(元)']) )/ float(df_trend.loc[index-1,'收盤價(元)'])\n",
    "#         df_trend.loc[index,'fluctuation']=margin\n",
    "#         if margin >=0.03:\n",
    "#             df_trend.loc[index,'tag']='up'\n",
    "#         elif margin <= -0.03:\n",
    "#             df_trend.loc[index,'tag']='down'\n",
    "#         else:\n",
    "#             df_trend.loc[index,'tag']='even'\n",
    "#     except:\n",
    "#         continue"
   ]
  },
  {
   "cell_type": "code",
   "execution_count": 8,
   "metadata": {},
   "outputs": [
    {
     "data": {
      "text/html": [
       "<div>\n",
       "<style scoped>\n",
       "    .dataframe tbody tr th:only-of-type {\n",
       "        vertical-align: middle;\n",
       "    }\n",
       "\n",
       "    .dataframe tbody tr th {\n",
       "        vertical-align: top;\n",
       "    }\n",
       "\n",
       "    .dataframe thead th {\n",
       "        text-align: right;\n",
       "    }\n",
       "</style>\n",
       "<table border=\"1\" class=\"dataframe\">\n",
       "  <thead>\n",
       "    <tr style=\"text-align: right;\">\n",
       "      <th></th>\n",
       "      <th>證券代碼</th>\n",
       "      <th>年月日</th>\n",
       "      <th>開盤價(元)</th>\n",
       "      <th>最高價(元)</th>\n",
       "      <th>最低價(元)</th>\n",
       "      <th>收盤價(元)</th>\n",
       "      <th>成交量(千股)</th>\n",
       "      <th>成交值(千元)</th>\n",
       "      <th>成交筆數(筆)</th>\n",
       "      <th>流通在外股數(千股)</th>\n",
       "      <th>本益比-TSE</th>\n",
       "      <th>股價淨值比-TSE</th>\n",
       "      <th>fluctuation</th>\n",
       "      <th>tag</th>\n",
       "      <th>closeshift</th>\n",
       "    </tr>\n",
       "  </thead>\n",
       "  <tbody>\n",
       "    <tr>\n",
       "      <th>0</th>\n",
       "      <td>2456 奇力新</td>\n",
       "      <td>2016-01-04</td>\n",
       "      <td>80.44</td>\n",
       "      <td>81.74</td>\n",
       "      <td>78.18</td>\n",
       "      <td>80.20</td>\n",
       "      <td>4389.0</td>\n",
       "      <td>297206.0</td>\n",
       "      <td>2710</td>\n",
       "      <td>126969.0</td>\n",
       "      <td>15.89</td>\n",
       "      <td>2.32</td>\n",
       "      <td>0.0</td>\n",
       "      <td>--</td>\n",
       "      <td>NaN</td>\n",
       "    </tr>\n",
       "    <tr>\n",
       "      <th>1</th>\n",
       "      <td>2456 奇力新</td>\n",
       "      <td>2016-01-05</td>\n",
       "      <td>80.55</td>\n",
       "      <td>85.06</td>\n",
       "      <td>79.25</td>\n",
       "      <td>85.06</td>\n",
       "      <td>6701.0</td>\n",
       "      <td>468760.0</td>\n",
       "      <td>4200</td>\n",
       "      <td>126969.0</td>\n",
       "      <td>16.85</td>\n",
       "      <td>2.46</td>\n",
       "      <td>0.0</td>\n",
       "      <td>--</td>\n",
       "      <td>80.2</td>\n",
       "    </tr>\n",
       "  </tbody>\n",
       "</table>\n",
       "</div>"
      ],
      "text/plain": [
       "       證券代碼        年月日  開盤價(元)  最高價(元)  最低價(元)  收盤價(元)  成交量(千股)   成交值(千元)  \\\n",
       "0  2456 奇力新 2016-01-04   80.44   81.74   78.18   80.20   4389.0  297206.0   \n",
       "1  2456 奇力新 2016-01-05   80.55   85.06   79.25   85.06   6701.0  468760.0   \n",
       "\n",
       "   成交筆數(筆)  流通在外股數(千股)  本益比-TSE  股價淨值比-TSE  fluctuation tag  closeshift  \n",
       "0     2710    126969.0    15.89       2.32          0.0  --         NaN  \n",
       "1     4200    126969.0    16.85       2.46          0.0  --        80.2  "
      ]
     },
     "execution_count": 8,
     "metadata": {},
     "output_type": "execute_result"
    }
   ],
   "source": [
    "df_trend['closeshift'] = df_trend['收盤價(元)'].shift(periods=1)#.fillna(value=0.0, inplace=True)\n",
    "#df_trend['closeshift'].fillna(value= 0.0, inplace=True)\n",
    "df_trend.head(2)"
   ]
  },
  {
   "cell_type": "code",
   "execution_count": 9,
   "metadata": {},
   "outputs": [
    {
     "data": {
      "text/html": [
       "<div>\n",
       "<style scoped>\n",
       "    .dataframe tbody tr th:only-of-type {\n",
       "        vertical-align: middle;\n",
       "    }\n",
       "\n",
       "    .dataframe tbody tr th {\n",
       "        vertical-align: top;\n",
       "    }\n",
       "\n",
       "    .dataframe thead th {\n",
       "        text-align: right;\n",
       "    }\n",
       "</style>\n",
       "<table border=\"1\" class=\"dataframe\">\n",
       "  <thead>\n",
       "    <tr style=\"text-align: right;\">\n",
       "      <th></th>\n",
       "      <th>證券代碼</th>\n",
       "      <th>年月日</th>\n",
       "      <th>開盤價(元)</th>\n",
       "      <th>最高價(元)</th>\n",
       "      <th>最低價(元)</th>\n",
       "      <th>收盤價(元)</th>\n",
       "      <th>成交量(千股)</th>\n",
       "      <th>成交值(千元)</th>\n",
       "      <th>成交筆數(筆)</th>\n",
       "      <th>流通在外股數(千股)</th>\n",
       "      <th>本益比-TSE</th>\n",
       "      <th>股價淨值比-TSE</th>\n",
       "      <th>fluctuation</th>\n",
       "      <th>tag</th>\n",
       "      <th>closeshift</th>\n",
       "    </tr>\n",
       "  </thead>\n",
       "  <tbody>\n",
       "    <tr>\n",
       "      <th>0</th>\n",
       "      <td>2456 奇力新</td>\n",
       "      <td>2016-01-04</td>\n",
       "      <td>80.44</td>\n",
       "      <td>81.74</td>\n",
       "      <td>78.18</td>\n",
       "      <td>80.20</td>\n",
       "      <td>4389.0</td>\n",
       "      <td>297206.0</td>\n",
       "      <td>2710</td>\n",
       "      <td>126969.0</td>\n",
       "      <td>15.89</td>\n",
       "      <td>2.32</td>\n",
       "      <td>NaN</td>\n",
       "      <td>--</td>\n",
       "      <td>NaN</td>\n",
       "    </tr>\n",
       "    <tr>\n",
       "      <th>1</th>\n",
       "      <td>2456 奇力新</td>\n",
       "      <td>2016-01-05</td>\n",
       "      <td>80.55</td>\n",
       "      <td>85.06</td>\n",
       "      <td>79.25</td>\n",
       "      <td>85.06</td>\n",
       "      <td>6701.0</td>\n",
       "      <td>468760.0</td>\n",
       "      <td>4200</td>\n",
       "      <td>126969.0</td>\n",
       "      <td>16.85</td>\n",
       "      <td>2.46</td>\n",
       "      <td>0.060599</td>\n",
       "      <td>--</td>\n",
       "      <td>80.2</td>\n",
       "    </tr>\n",
       "  </tbody>\n",
       "</table>\n",
       "</div>"
      ],
      "text/plain": [
       "       證券代碼        年月日  開盤價(元)  最高價(元)  最低價(元)  收盤價(元)  成交量(千股)   成交值(千元)  \\\n",
       "0  2456 奇力新 2016-01-04   80.44   81.74   78.18   80.20   4389.0  297206.0   \n",
       "1  2456 奇力新 2016-01-05   80.55   85.06   79.25   85.06   6701.0  468760.0   \n",
       "\n",
       "   成交筆數(筆)  流通在外股數(千股)  本益比-TSE  股價淨值比-TSE  fluctuation tag  closeshift  \n",
       "0     2710    126969.0    15.89       2.32          NaN  --         NaN  \n",
       "1     4200    126969.0    16.85       2.46     0.060599  --        80.2  "
      ]
     },
     "execution_count": 9,
     "metadata": {},
     "output_type": "execute_result"
    }
   ],
   "source": [
    "df_trend['fluctuation'] = (df_trend['收盤價(元)'] - df_trend['closeshift']) / df_trend['closeshift']\n",
    "df_trend.head(2)"
   ]
  },
  {
   "cell_type": "code",
   "execution_count": null,
   "metadata": {},
   "outputs": [],
   "source": [
    "print('fluctuation std = ',df_trend['fluctuation'].std(axis=0))\n",
    "print('fluctuation mean = ',df_trend['fluctuation'].mean(axis=0))"
   ]
  },
  {
   "cell_type": "code",
   "execution_count": 10,
   "metadata": {},
   "outputs": [
    {
     "data": {
      "text/html": [
       "<div>\n",
       "<style scoped>\n",
       "    .dataframe tbody tr th:only-of-type {\n",
       "        vertical-align: middle;\n",
       "    }\n",
       "\n",
       "    .dataframe tbody tr th {\n",
       "        vertical-align: top;\n",
       "    }\n",
       "\n",
       "    .dataframe thead th {\n",
       "        text-align: right;\n",
       "    }\n",
       "</style>\n",
       "<table border=\"1\" class=\"dataframe\">\n",
       "  <thead>\n",
       "    <tr style=\"text-align: right;\">\n",
       "      <th></th>\n",
       "      <th>證券代碼</th>\n",
       "      <th>年月日</th>\n",
       "      <th>開盤價(元)</th>\n",
       "      <th>最高價(元)</th>\n",
       "      <th>最低價(元)</th>\n",
       "      <th>收盤價(元)</th>\n",
       "      <th>成交量(千股)</th>\n",
       "      <th>成交值(千元)</th>\n",
       "      <th>成交筆數(筆)</th>\n",
       "      <th>流通在外股數(千股)</th>\n",
       "      <th>本益比-TSE</th>\n",
       "      <th>股價淨值比-TSE</th>\n",
       "      <th>fluctuation</th>\n",
       "      <th>tag</th>\n",
       "      <th>closeshift</th>\n",
       "    </tr>\n",
       "  </thead>\n",
       "  <tbody>\n",
       "    <tr>\n",
       "      <th>0</th>\n",
       "      <td>2456 奇力新</td>\n",
       "      <td>2016-01-04</td>\n",
       "      <td>80.44</td>\n",
       "      <td>81.74</td>\n",
       "      <td>78.18</td>\n",
       "      <td>80.20</td>\n",
       "      <td>4389.0</td>\n",
       "      <td>297206.0</td>\n",
       "      <td>2710</td>\n",
       "      <td>126969.0</td>\n",
       "      <td>15.89</td>\n",
       "      <td>2.32</td>\n",
       "      <td>NaN</td>\n",
       "      <td>--</td>\n",
       "      <td>NaN</td>\n",
       "    </tr>\n",
       "    <tr>\n",
       "      <th>1</th>\n",
       "      <td>2456 奇力新</td>\n",
       "      <td>2016-01-05</td>\n",
       "      <td>80.55</td>\n",
       "      <td>85.06</td>\n",
       "      <td>79.25</td>\n",
       "      <td>85.06</td>\n",
       "      <td>6701.0</td>\n",
       "      <td>468760.0</td>\n",
       "      <td>4200</td>\n",
       "      <td>126969.0</td>\n",
       "      <td>16.85</td>\n",
       "      <td>2.46</td>\n",
       "      <td>0.060599</td>\n",
       "      <td>up</td>\n",
       "      <td>80.2</td>\n",
       "    </tr>\n",
       "  </tbody>\n",
       "</table>\n",
       "</div>"
      ],
      "text/plain": [
       "       證券代碼        年月日  開盤價(元)  最高價(元)  最低價(元)  收盤價(元)  成交量(千股)   成交值(千元)  \\\n",
       "0  2456 奇力新 2016-01-04   80.44   81.74   78.18   80.20   4389.0  297206.0   \n",
       "1  2456 奇力新 2016-01-05   80.55   85.06   79.25   85.06   6701.0  468760.0   \n",
       "\n",
       "   成交筆數(筆)  流通在外股數(千股)  本益比-TSE  股價淨值比-TSE  fluctuation tag  closeshift  \n",
       "0     2710    126969.0    15.89       2.32          NaN  --         NaN  \n",
       "1     4200    126969.0    16.85       2.46     0.060599  up        80.2  "
      ]
     },
     "execution_count": 10,
     "metadata": {},
     "output_type": "execute_result"
    }
   ],
   "source": [
    "df_trend.loc[df_trend['fluctuation'] >=  PA, 'tag'] = 'up'\n",
    "df_trend.loc[df_trend['fluctuation'] <= -PA, 'tag'] = 'down'\n",
    "df_trend.loc[(df_trend['fluctuation'] >= -PAE) & (df_trend['fluctuation'] <= PAE), 'tag'] = 'even'\n",
    "df_trend.head(2)"
   ]
  },
  {
   "cell_type": "code",
   "execution_count": 11,
   "metadata": {},
   "outputs": [
    {
     "data": {
      "text/plain": [
       "37"
      ]
     },
     "execution_count": 11,
     "metadata": {},
     "output_type": "execute_result"
    }
   ],
   "source": [
    "len(df_trend[df_trend['tag']=='up'])"
   ]
  },
  {
   "cell_type": "code",
   "execution_count": 12,
   "metadata": {},
   "outputs": [
    {
     "data": {
      "text/plain": [
       "39"
      ]
     },
     "execution_count": 12,
     "metadata": {},
     "output_type": "execute_result"
    }
   ],
   "source": [
    "len(df_trend[df_trend['tag']=='down'])"
   ]
  },
  {
   "cell_type": "code",
   "execution_count": 13,
   "metadata": {},
   "outputs": [
    {
     "data": {
      "text/plain": [
       "90"
      ]
     },
     "execution_count": 13,
     "metadata": {},
     "output_type": "execute_result"
    }
   ],
   "source": [
    "len(df_trend[df_trend['tag']=='even'])"
   ]
  },
  {
   "cell_type": "code",
   "execution_count": 14,
   "metadata": {},
   "outputs": [
    {
     "name": "stdout",
     "output_type": "stream",
     "text": [
      "10553\n"
     ]
    },
    {
     "data": {
      "text/html": [
       "<div>\n",
       "<style scoped>\n",
       "    .dataframe tbody tr th:only-of-type {\n",
       "        vertical-align: middle;\n",
       "    }\n",
       "\n",
       "    .dataframe tbody tr th {\n",
       "        vertical-align: top;\n",
       "    }\n",
       "\n",
       "    .dataframe thead th {\n",
       "        text-align: right;\n",
       "    }\n",
       "</style>\n",
       "<table border=\"1\" class=\"dataframe\">\n",
       "  <thead>\n",
       "    <tr style=\"text-align: right;\">\n",
       "      <th></th>\n",
       "      <th>author</th>\n",
       "      <th>comment_count</th>\n",
       "      <th>content</th>\n",
       "      <th>id</th>\n",
       "      <th>p_type</th>\n",
       "      <th>page_url</th>\n",
       "      <th>post_time</th>\n",
       "      <th>s_area_name</th>\n",
       "      <th>s_name</th>\n",
       "      <th>title</th>\n",
       "      <th>post_time2</th>\n",
       "    </tr>\n",
       "  </thead>\n",
       "  <tbody>\n",
       "    <tr>\n",
       "      <th>30</th>\n",
       "      <td>時報資訊</td>\n",
       "      <td>0</td>\n",
       "      <td>台股2015年下半年跌勢洶洶，全年跌幅達10.14％，但12檔具利多題材個股，股價多頭氣盛，...</td>\n",
       "      <td>1451618809219_N01</td>\n",
       "      <td>news</td>\n",
       "      <td>https://tw.stock.yahoo.com/news_content/url/d/...</td>\n",
       "      <td>2016-01-01 10:59:00</td>\n",
       "      <td>重大要聞</td>\n",
       "      <td>yahoo股市</td>\n",
       "      <td>《熱門族群》12檔話題當紅股，完美封關</td>\n",
       "      <td>2016-01-01</td>\n",
       "    </tr>\n",
       "    <tr>\n",
       "      <th>97</th>\n",
       "      <td>鉅亨網</td>\n",
       "      <td>0</td>\n",
       "      <td>鉅亨網記者王莞甯 台北台股2015年封關日最後一檔有神秘買盤進場，強拉加權指數上漲39點，元...</td>\n",
       "      <td>1451715108530_N01</td>\n",
       "      <td>news</td>\n",
       "      <td>https://tw.stock.yahoo.com/news_content/url/d/...</td>\n",
       "      <td>2016-01-02 13:50:00</td>\n",
       "      <td>重大要聞</td>\n",
       "      <td>yahoo股市</td>\n",
       "      <td>錢冠州：總統大選不再是大變數 元月行情伺機而動！</td>\n",
       "      <td>2016-01-02</td>\n",
       "    </tr>\n",
       "  </tbody>\n",
       "</table>\n",
       "</div>"
      ],
      "text/plain": [
       "   author  comment_count                                            content  \\\n",
       "30   時報資訊              0  台股2015年下半年跌勢洶洶，全年跌幅達10.14％，但12檔具利多題材個股，股價多頭氣盛，...   \n",
       "97    鉅亨網              0  鉅亨網記者王莞甯 台北台股2015年封關日最後一檔有神秘買盤進場，強拉加權指數上漲39點，元...   \n",
       "\n",
       "                   id p_type  \\\n",
       "30  1451618809219_N01   news   \n",
       "97  1451715108530_N01   news   \n",
       "\n",
       "                                             page_url           post_time  \\\n",
       "30  https://tw.stock.yahoo.com/news_content/url/d/... 2016-01-01 10:59:00   \n",
       "97  https://tw.stock.yahoo.com/news_content/url/d/... 2016-01-02 13:50:00   \n",
       "\n",
       "   s_area_name   s_name                     title  post_time2  \n",
       "30        重大要聞  yahoo股市       《熱門族群》12檔話題當紅股，完美封關  2016-01-01  \n",
       "97        重大要聞  yahoo股市  錢冠州：總統大選不再是大變數 元月行情伺機而動！  2016-01-02  "
      ]
     },
     "execution_count": 14,
     "metadata": {},
     "output_type": "execute_result"
    }
   ],
   "source": [
    "#df_company = df_article[ df_article['content'].str.contains('國巨')]   # df 某欄位 string contains \"國巨\"\n",
    "#df_company = df_article[ df_article['content'].str.contains('奇力新')] \n",
    "#df_company = df_article[ df_article['content'].str.contains('大毅')]  \n",
    "#df_company = df_article[ df_article['content'].str.contains('同欣電 ')]\n",
    "df_company = df_article[ df_article['content'].str.contains(company_words)]   \n",
    "print(len(df_company))\n",
    "del df_article\n",
    "df_company.head(2)"
   ]
  },
  {
   "cell_type": "code",
   "execution_count": 15,
   "metadata": {},
   "outputs": [],
   "source": [
    "stopwords=list()\n",
    "with open('stopword.goatwang.kang.txt', 'r',encoding='utf-8') as data:\n",
    "    for stopword in data:\n",
    "        stopwords.append(stopword.strip('\\n'))"
   ]
  },
  {
   "cell_type": "code",
   "execution_count": 16,
   "metadata": {},
   "outputs": [
    {
     "name": "stderr",
     "output_type": "stream",
     "text": [
      "Building prefix dict from /home/barry/projects/stock/dict.idkrsi.txt ...\n",
      "Loading model from cache /tmp/jieba.ufc1c7fa02eb193cee2bb78b34d63c017.cache\n",
      "Loading model cost 0.424 seconds.\n",
      "Prefix dict has been built succesfully.\n"
     ]
    }
   ],
   "source": [
    "# 'content'全部切詞\n",
    "corpus = []  # array\n",
    "for index, row in df_company.iterrows():  \n",
    "    not_cut = df_company.loc[index,'content']\n",
    "#     not_cut = row['description']                    # 跟上一行一樣意思\n",
    "    seg_generator = jieba.cut(not_cut, cut_all=False)  # genarator\n",
    "    seglist = list(seg_generator)                     # 整篇文章string切出來的list\n",
    "#    seglist = list(filter(lambda a: a not in stopwords and a != '\\n', seglist ))  #去除停用詞 #未必需要這步驟\n",
    "    corpus.append(' '.join(seglist))          # ' '.join(seg_generator)也可\n",
    "\n",
    "df_company[\"content2\"]=corpus  "
   ]
  },
  {
   "cell_type": "code",
   "execution_count": 17,
   "metadata": {},
   "outputs": [
    {
     "data": {
      "text/html": [
       "<div>\n",
       "<style scoped>\n",
       "    .dataframe tbody tr th:only-of-type {\n",
       "        vertical-align: middle;\n",
       "    }\n",
       "\n",
       "    .dataframe tbody tr th {\n",
       "        vertical-align: top;\n",
       "    }\n",
       "\n",
       "    .dataframe thead th {\n",
       "        text-align: right;\n",
       "    }\n",
       "</style>\n",
       "<table border=\"1\" class=\"dataframe\">\n",
       "  <thead>\n",
       "    <tr style=\"text-align: right;\">\n",
       "      <th></th>\n",
       "      <th>author</th>\n",
       "      <th>comment_count</th>\n",
       "      <th>content</th>\n",
       "      <th>id</th>\n",
       "      <th>p_type</th>\n",
       "      <th>page_url</th>\n",
       "      <th>post_time</th>\n",
       "      <th>s_area_name</th>\n",
       "      <th>s_name</th>\n",
       "      <th>title</th>\n",
       "      <th>post_time2</th>\n",
       "      <th>content2</th>\n",
       "    </tr>\n",
       "  </thead>\n",
       "  <tbody>\n",
       "    <tr>\n",
       "      <th>30</th>\n",
       "      <td>時報資訊</td>\n",
       "      <td>0</td>\n",
       "      <td>台股2015年下半年跌勢洶洶，全年跌幅達10.14％，但12檔具利多題材個股，股價多頭氣盛，...</td>\n",
       "      <td>1451618809219_N01</td>\n",
       "      <td>news</td>\n",
       "      <td>https://tw.stock.yahoo.com/news_content/url/d/...</td>\n",
       "      <td>2016-01-01 10:59:00</td>\n",
       "      <td>重大要聞</td>\n",
       "      <td>yahoo股市</td>\n",
       "      <td>《熱門族群》12檔話題當紅股，完美封關</td>\n",
       "      <td>2016-01-01</td>\n",
       "      <td>台股 2015 年 下半年 跌勢 洶洶 ， 全年 跌幅 達 10.14 ％ ， 但 12 檔...</td>\n",
       "    </tr>\n",
       "    <tr>\n",
       "      <th>97</th>\n",
       "      <td>鉅亨網</td>\n",
       "      <td>0</td>\n",
       "      <td>鉅亨網記者王莞甯 台北台股2015年封關日最後一檔有神秘買盤進場，強拉加權指數上漲39點，元...</td>\n",
       "      <td>1451715108530_N01</td>\n",
       "      <td>news</td>\n",
       "      <td>https://tw.stock.yahoo.com/news_content/url/d/...</td>\n",
       "      <td>2016-01-02 13:50:00</td>\n",
       "      <td>重大要聞</td>\n",
       "      <td>yahoo股市</td>\n",
       "      <td>錢冠州：總統大選不再是大變數 元月行情伺機而動！</td>\n",
       "      <td>2016-01-02</td>\n",
       "      <td>鉅亨網 記者 王莞 甯   台北 台股 2015 年 封關日 最後 一檔 有 神秘 買盤 進...</td>\n",
       "    </tr>\n",
       "  </tbody>\n",
       "</table>\n",
       "</div>"
      ],
      "text/plain": [
       "   author  comment_count                                            content  \\\n",
       "30   時報資訊              0  台股2015年下半年跌勢洶洶，全年跌幅達10.14％，但12檔具利多題材個股，股價多頭氣盛，...   \n",
       "97    鉅亨網              0  鉅亨網記者王莞甯 台北台股2015年封關日最後一檔有神秘買盤進場，強拉加權指數上漲39點，元...   \n",
       "\n",
       "                   id p_type  \\\n",
       "30  1451618809219_N01   news   \n",
       "97  1451715108530_N01   news   \n",
       "\n",
       "                                             page_url           post_time  \\\n",
       "30  https://tw.stock.yahoo.com/news_content/url/d/... 2016-01-01 10:59:00   \n",
       "97  https://tw.stock.yahoo.com/news_content/url/d/... 2016-01-02 13:50:00   \n",
       "\n",
       "   s_area_name   s_name                     title  post_time2  \\\n",
       "30        重大要聞  yahoo股市       《熱門族群》12檔話題當紅股，完美封關  2016-01-01   \n",
       "97        重大要聞  yahoo股市  錢冠州：總統大選不再是大變數 元月行情伺機而動！  2016-01-02   \n",
       "\n",
       "                                             content2  \n",
       "30  台股 2015 年 下半年 跌勢 洶洶 ， 全年 跌幅 達 10.14 ％ ， 但 12 檔...  \n",
       "97  鉅亨網 記者 王莞 甯   台北 台股 2015 年 封關日 最後 一檔 有 神秘 買盤 進...  "
      ]
     },
     "execution_count": 17,
     "metadata": {},
     "output_type": "execute_result"
    }
   ],
   "source": [
    "df_company.head(2)"
   ]
  },
  {
   "cell_type": "code",
   "execution_count": 18,
   "metadata": {},
   "outputs": [
    {
     "data": {
      "text/plain": [
       "True"
      ]
     },
     "execution_count": 18,
     "metadata": {},
     "output_type": "execute_result"
    }
   ],
   "source": [
    "df_trend.loc[2,'年月日'].date() +  timedelta(days=-1) == df_trend.loc[1,'年月日'].date()"
   ]
  },
  {
   "cell_type": "code",
   "execution_count": 19,
   "metadata": {},
   "outputs": [
    {
     "data": {
      "text/plain": [
       "False"
      ]
     },
     "execution_count": 19,
     "metadata": {},
     "output_type": "execute_result"
    }
   ],
   "source": [
    "df_trend.loc[5,'年月日'].date() +  timedelta(days=-1) == df_trend.loc[4,'年月日'].date()"
   ]
  },
  {
   "cell_type": "code",
   "execution_count": 20,
   "metadata": {},
   "outputs": [
    {
     "data": {
      "text/plain": [
       "datetime.timedelta(1)"
      ]
     },
     "execution_count": 20,
     "metadata": {},
     "output_type": "execute_result"
    }
   ],
   "source": [
    "d = df_trend.loc[1,'年月日'].date() - df_trend.loc[ 1-1 ,'年月日'].date() #相減差幾天\n",
    "d"
   ]
  },
  {
   "cell_type": "code",
   "execution_count": 21,
   "metadata": {},
   "outputs": [
    {
     "data": {
      "text/plain": [
       "1"
      ]
     },
     "execution_count": 21,
     "metadata": {},
     "output_type": "execute_result"
    }
   ],
   "source": [
    "d.days #只取天數"
   ]
  },
  {
   "cell_type": "code",
   "execution_count": 22,
   "metadata": {},
   "outputs": [
    {
     "data": {
      "text/plain": [
       "1"
      ]
     },
     "execution_count": 22,
     "metadata": {},
     "output_type": "execute_result"
    }
   ],
   "source": [
    "int(d.days) #幾天 轉整數"
   ]
  },
  {
   "cell_type": "code",
   "execution_count": 23,
   "metadata": {},
   "outputs": [
    {
     "data": {
      "text/plain": [
       "datetime.date(2016, 1, 7)"
      ]
     },
     "execution_count": 23,
     "metadata": {},
     "output_type": "execute_result"
    }
   ],
   "source": [
    "df_trend.loc[3,'年月日'].date() "
   ]
  },
  {
   "cell_type": "code",
   "execution_count": 24,
   "metadata": {},
   "outputs": [
    {
     "data": {
      "text/html": [
       "<div>\n",
       "<style scoped>\n",
       "    .dataframe tbody tr th:only-of-type {\n",
       "        vertical-align: middle;\n",
       "    }\n",
       "\n",
       "    .dataframe tbody tr th {\n",
       "        vertical-align: top;\n",
       "    }\n",
       "\n",
       "    .dataframe thead th {\n",
       "        text-align: right;\n",
       "    }\n",
       "</style>\n",
       "<table border=\"1\" class=\"dataframe\">\n",
       "  <thead>\n",
       "    <tr style=\"text-align: right;\">\n",
       "      <th></th>\n",
       "      <th>author</th>\n",
       "      <th>comment_count</th>\n",
       "      <th>content</th>\n",
       "      <th>id</th>\n",
       "      <th>p_type</th>\n",
       "      <th>page_url</th>\n",
       "      <th>post_time</th>\n",
       "      <th>s_area_name</th>\n",
       "      <th>s_name</th>\n",
       "      <th>title</th>\n",
       "      <th>post_time2</th>\n",
       "      <th>content2</th>\n",
       "    </tr>\n",
       "  </thead>\n",
       "  <tbody>\n",
       "    <tr>\n",
       "      <th>999</th>\n",
       "      <td>Moneydj理財網</td>\n",
       "      <td>0</td>\n",
       "      <td>1.週三台股在美股重挫以及陸股再度啟動融斷機制之下，指數重挫點，指數跌破十年線，所幸尾盤大型...</td>\n",
       "      <td>1452156767683_N01</td>\n",
       "      <td>news</td>\n",
       "      <td>https://tw.stock.yahoo.com/news_content/url/d/...</td>\n",
       "      <td>2016-01-07 16:29:00</td>\n",
       "      <td>重大要聞</td>\n",
       "      <td>yahoo股市</td>\n",
       "      <td>日盛投顧：台股短線有反彈機會</td>\n",
       "      <td>2016-01-07</td>\n",
       "      <td>1 . 週三 台股 在 美股 重挫 以及 陸股 再度 啟動 融斷 機制 之下 ， 指數 重挫...</td>\n",
       "    </tr>\n",
       "  </tbody>\n",
       "</table>\n",
       "</div>"
      ],
      "text/plain": [
       "         author  comment_count  \\\n",
       "999  Moneydj理財網              0   \n",
       "\n",
       "                                               content                 id  \\\n",
       "999  1.週三台股在美股重挫以及陸股再度啟動融斷機制之下，指數重挫點，指數跌破十年線，所幸尾盤大型...  1452156767683_N01   \n",
       "\n",
       "    p_type                                           page_url  \\\n",
       "999   news  https://tw.stock.yahoo.com/news_content/url/d/...   \n",
       "\n",
       "              post_time s_area_name   s_name           title  post_time2  \\\n",
       "999 2016-01-07 16:29:00        重大要聞  yahoo股市  日盛投顧：台股短線有反彈機會  2016-01-07   \n",
       "\n",
       "                                              content2  \n",
       "999  1 . 週三 台股 在 美股 重挫 以及 陸股 再度 啟動 融斷 機制 之下 ， 指數 重挫...  "
      ]
     },
     "execution_count": 24,
     "metadata": {},
     "output_type": "execute_result"
    }
   ],
   "source": [
    "df_company[ df_company['post_time2'] == df_trend.loc[3,'年月日'].date() ].head() # 某欄位 == n 的 全部撈出來"
   ]
  },
  {
   "cell_type": "code",
   "execution_count": 25,
   "metadata": {},
   "outputs": [],
   "source": [
    "# # 演算法 \n",
    "# for index, row in df_2327.iterrows():\n",
    "#     try:\n",
    "#         if df_2327.loc[index,'年月日'].date() +  timedelta(days=-1) == df_2327.loc[index-1,'年月日'].date():                        \n",
    "#             df_forum.loc[df_forum['post_time2'] ==  df_2327.loc[index,'年月日'].date() +  timedelta(days=-1), 'label'] = df_2327.loc[index,'tag']\n",
    "#             # 如果股票前一筆差1天  # 那前1天的文章標上當天的漲跌   \n",
    "        \n",
    "#         elif df_2327.loc[index,'年月日'].date() +  timedelta(days=-2) == df_2327.loc[index-1,'年月日'].date():           \n",
    "#             df_forum.loc[df_forum['post_time2'] ==  df_2327.loc[index,'年月日'].date() +  timedelta(days=-1), 'label'] = df_2327.loc[index,'tag']\n",
    "#             df_forum.loc[df_forum['post_time2'] ==  df_2327.loc[index,'年月日'].date() +  timedelta(days=-2), 'label'] = df_2327.loc[index,'tag']\n",
    "#             # 如果股票前一筆差2天 #那前2天的文章標上當天的漲跌\n",
    "            \n",
    "#         elif df_2327.loc[index,'年月日'].date() +  timedelta(days=-3) == df_2327.loc[index-1,'年月日'].date():\n",
    "#             df_forum.loc[df_forum['post_time2'] ==  df_2327.loc[index,'年月日'].date() +  timedelta(days=-1), 'label'] = df_2327.loc[index,'tag']\n",
    "#             df_forum.loc[df_forum['post_time2'] ==  df_2327.loc[index,'年月日'].date() +  timedelta(days=-2), 'label'] = df_2327.loc[index,'tag']\n",
    "#             df_forum.loc[df_forum['post_time2'] ==  df_2327.loc[index,'年月日'].date() +  timedelta(days=-3), 'label'] = df_2327.loc[index,'tag']\n",
    "#         elif df_2327.loc[index,'年月日'].date() +  timedelta(days=-4) == df_2327.loc[index-1,'年月日'].date():\n",
    "#             df_forum.loc[df_forum['post_time2'] ==  df_2327.loc[index,'年月日'].date() +  timedelta(days=-1), 'label'] = df_2327.loc[index,'tag']\n",
    "#             df_forum.loc[df_forum['post_time2'] ==  df_2327.loc[index,'年月日'].date() +  timedelta(days=-2), 'label'] = df_2327.loc[index,'tag']\n",
    "#             df_forum.loc[df_forum['post_time2'] ==  df_2327.loc[index,'年月日'].date() +  timedelta(days=-3), 'label'] = df_2327.loc[index,'tag']\n",
    "#             df_forum.loc[df_forum['post_time2'] ==  df_2327.loc[index,'年月日'].date() +  timedelta(days=-4), 'label'] = df_2327.loc[index,'tag']\n",
    "\n",
    "\n",
    "#     except:\n",
    "#         continue"
   ]
  },
  {
   "cell_type": "code",
   "execution_count": 26,
   "metadata": {},
   "outputs": [],
   "source": [
    "# 看所有相差的天數\n",
    "# for index, row in df_2327.iterrows():\n",
    "#     try:\n",
    "#         n = df_2327.loc[index,'年月日'].date() - df_2327.loc[index-1,'年月日'].date()\n",
    "#         print(n)\n",
    "#     except:\n",
    "#         continue\n",
    "\n",
    "# 最多12天"
   ]
  },
  {
   "cell_type": "code",
   "execution_count": 27,
   "metadata": {},
   "outputs": [],
   "source": [
    "# 如果股票前一筆差n天  # 那前n天的文章標上當天的漲跌 \n",
    "df_company['label5566']='--'\n",
    "for index, row in df_trend.iterrows():\n",
    "    try:\n",
    "        n = int((df_trend.loc[index,'年月日'].date() - df_trend.loc[index-1,'年月日'].date()).days ) # 差幾個datetime # 轉天數 # 再轉整數\n",
    "#        print(n)\n",
    "\n",
    "        for i in range(1, n+1):\n",
    "#            print(i)\n",
    "            df_company.loc[df_company['post_time2'] ==  df_trend.loc[index,'年月日'].date() +  timedelta(days=-i), 'label5566'] = df_trend.loc[index,'tag']\n",
    "    except:\n",
    "        continue"
   ]
  },
  {
   "cell_type": "code",
   "execution_count": 28,
   "metadata": {},
   "outputs": [
    {
     "name": "stdout",
     "output_type": "stream",
     "text": [
      "1284\n"
     ]
    },
    {
     "data": {
      "text/html": [
       "<div>\n",
       "<style scoped>\n",
       "    .dataframe tbody tr th:only-of-type {\n",
       "        vertical-align: middle;\n",
       "    }\n",
       "\n",
       "    .dataframe tbody tr th {\n",
       "        vertical-align: top;\n",
       "    }\n",
       "\n",
       "    .dataframe thead th {\n",
       "        text-align: right;\n",
       "    }\n",
       "</style>\n",
       "<table border=\"1\" class=\"dataframe\">\n",
       "  <thead>\n",
       "    <tr style=\"text-align: right;\">\n",
       "      <th></th>\n",
       "      <th>author</th>\n",
       "      <th>comment_count</th>\n",
       "      <th>content</th>\n",
       "      <th>id</th>\n",
       "      <th>p_type</th>\n",
       "      <th>page_url</th>\n",
       "      <th>post_time</th>\n",
       "      <th>s_area_name</th>\n",
       "      <th>s_name</th>\n",
       "      <th>title</th>\n",
       "      <th>post_time2</th>\n",
       "      <th>content2</th>\n",
       "      <th>label5566</th>\n",
       "    </tr>\n",
       "  </thead>\n",
       "  <tbody>\n",
       "    <tr>\n",
       "      <th>1522</th>\n",
       "      <td>財訊快報</td>\n",
       "      <td>0</td>\n",
       "      <td>◆全台勞檢啟動，11類行業小心，其中284家電子零組件企業，實施全面普查。&lt;BR&gt; ◆海外分...</td>\n",
       "      <td>1452472319234_N01</td>\n",
       "      <td>news</td>\n",
       "      <td>https://tw.stock.yahoo.com/news_content/url/d/...</td>\n",
       "      <td>2016-01-11 08:05:00</td>\n",
       "      <td>重大要聞</td>\n",
       "      <td>yahoo股市</td>\n",
       "      <td>工商時報晨訊</td>\n",
       "      <td>2016-01-11</td>\n",
       "      <td>◆ 全台 勞檢 啟動 ， 11 類 行業 小心 ， 其中 284 家 電子 零組件 企業 ，...</td>\n",
       "      <td>down</td>\n",
       "    </tr>\n",
       "    <tr>\n",
       "      <th>1530</th>\n",
       "      <td>時報資訊</td>\n",
       "      <td>0</td>\n",
       "      <td>陸股暫停熔斷機制，減緩市場對於系統性風險的疑慮，法人指出，台股短線壓力仍大，若結構出現惡化現...</td>\n",
       "      <td>1452472329341_N01</td>\n",
       "      <td>news</td>\n",
       "      <td>https://tw.stock.yahoo.com/news_content/url/d/...</td>\n",
       "      <td>2016-01-11 08:15:00</td>\n",
       "      <td>重大要聞</td>\n",
       "      <td>yahoo股市</td>\n",
       "      <td>《基金》全球經濟趨緩，慎選台股標的</td>\n",
       "      <td>2016-01-11</td>\n",
       "      <td>陸股 暫停 熔斷 機制 ， 減緩 市場 對於 系統性 風險 的 疑慮 ， 法人 指出 ， 台...</td>\n",
       "      <td>down</td>\n",
       "    </tr>\n",
       "  </tbody>\n",
       "</table>\n",
       "</div>"
      ],
      "text/plain": [
       "     author  comment_count                                            content  \\\n",
       "1522   財訊快報              0  ◆全台勞檢啟動，11類行業小心，其中284家電子零組件企業，實施全面普查。<BR> ◆海外分...   \n",
       "1530   時報資訊              0  陸股暫停熔斷機制，減緩市場對於系統性風險的疑慮，法人指出，台股短線壓力仍大，若結構出現惡化現...   \n",
       "\n",
       "                     id p_type  \\\n",
       "1522  1452472319234_N01   news   \n",
       "1530  1452472329341_N01   news   \n",
       "\n",
       "                                               page_url           post_time  \\\n",
       "1522  https://tw.stock.yahoo.com/news_content/url/d/... 2016-01-11 08:05:00   \n",
       "1530  https://tw.stock.yahoo.com/news_content/url/d/... 2016-01-11 08:15:00   \n",
       "\n",
       "     s_area_name   s_name              title  post_time2  \\\n",
       "1522        重大要聞  yahoo股市             工商時報晨訊  2016-01-11   \n",
       "1530        重大要聞  yahoo股市  《基金》全球經濟趨緩，慎選台股標的  2016-01-11   \n",
       "\n",
       "                                               content2 label5566  \n",
       "1522  ◆ 全台 勞檢 啟動 ， 11 類 行業 小心 ， 其中 284 家 電子 零組件 企業 ，...      down  \n",
       "1530  陸股 暫停 熔斷 機制 ， 減緩 市場 對於 系統性 風險 的 疑慮 ， 法人 指出 ， 台...      down  "
      ]
     },
     "execution_count": 28,
     "metadata": {},
     "output_type": "execute_result"
    }
   ],
   "source": [
    "print(len(df_company[df_company['label5566']=='down']))\n",
    "df_company[df_company['label5566']=='down'].head(2)"
   ]
  },
  {
   "cell_type": "code",
   "execution_count": 29,
   "metadata": {},
   "outputs": [
    {
     "name": "stdout",
     "output_type": "stream",
     "text": [
      "891\n"
     ]
    },
    {
     "data": {
      "text/html": [
       "<div>\n",
       "<style scoped>\n",
       "    .dataframe tbody tr th:only-of-type {\n",
       "        vertical-align: middle;\n",
       "    }\n",
       "\n",
       "    .dataframe tbody tr th {\n",
       "        vertical-align: top;\n",
       "    }\n",
       "\n",
       "    .dataframe thead th {\n",
       "        text-align: right;\n",
       "    }\n",
       "</style>\n",
       "<table border=\"1\" class=\"dataframe\">\n",
       "  <thead>\n",
       "    <tr style=\"text-align: right;\">\n",
       "      <th></th>\n",
       "      <th>author</th>\n",
       "      <th>comment_count</th>\n",
       "      <th>content</th>\n",
       "      <th>id</th>\n",
       "      <th>p_type</th>\n",
       "      <th>page_url</th>\n",
       "      <th>post_time</th>\n",
       "      <th>s_area_name</th>\n",
       "      <th>s_name</th>\n",
       "      <th>title</th>\n",
       "      <th>post_time2</th>\n",
       "      <th>content2</th>\n",
       "      <th>label5566</th>\n",
       "    </tr>\n",
       "  </thead>\n",
       "  <tbody>\n",
       "    <tr>\n",
       "      <th>222</th>\n",
       "      <td>財訊快報</td>\n",
       "      <td>0</td>\n",
       "      <td>◆千億科技預算，張善政喊加碼，主計總處初步匡列1 061億、年增3%，可能再調高。&lt;BR&gt; ...</td>\n",
       "      <td>1451867210012_N01</td>\n",
       "      <td>news</td>\n",
       "      <td>https://tw.stock.yahoo.com/news_content/url/d/...</td>\n",
       "      <td>2016-01-04 07:56:00</td>\n",
       "      <td>重大要聞</td>\n",
       "      <td>yahoo股市</td>\n",
       "      <td>工商時報晨訊</td>\n",
       "      <td>2016-01-04</td>\n",
       "      <td>◆ 千億 科技 預算 ， 張善政 喊 加碼 ， 主計 總處 初步 匡列 1   061 億 ...</td>\n",
       "      <td>up</td>\n",
       "    </tr>\n",
       "    <tr>\n",
       "      <th>289</th>\n",
       "      <td>時報資訊</td>\n",
       "      <td>0</td>\n",
       "      <td>2016年開紅盤日，台股狂洩逾200點！儘管2015年最後一個交易日拉尾盤，守住8300點，...</td>\n",
       "      <td>1451879808470_N01</td>\n",
       "      <td>news</td>\n",
       "      <td>https://tw.stock.yahoo.com/news_content/url/d/...</td>\n",
       "      <td>2016-01-04 11:34:00</td>\n",
       "      <td>重大要聞</td>\n",
       "      <td>yahoo股市</td>\n",
       "      <td>《盤中解析》紅盤日變臉，台股狂洩逾200點</td>\n",
       "      <td>2016-01-04</td>\n",
       "      <td>2016 年開 紅盤 日 ， 台股 狂洩 逾 200 點 ！ 儘管 2015 年 最後 一個...</td>\n",
       "      <td>up</td>\n",
       "    </tr>\n",
       "  </tbody>\n",
       "</table>\n",
       "</div>"
      ],
      "text/plain": [
       "    author  comment_count                                            content  \\\n",
       "222   財訊快報              0  ◆千億科技預算，張善政喊加碼，主計總處初步匡列1 061億、年增3%，可能再調高。<BR> ...   \n",
       "289   時報資訊              0  2016年開紅盤日，台股狂洩逾200點！儘管2015年最後一個交易日拉尾盤，守住8300點，...   \n",
       "\n",
       "                    id p_type  \\\n",
       "222  1451867210012_N01   news   \n",
       "289  1451879808470_N01   news   \n",
       "\n",
       "                                              page_url           post_time  \\\n",
       "222  https://tw.stock.yahoo.com/news_content/url/d/... 2016-01-04 07:56:00   \n",
       "289  https://tw.stock.yahoo.com/news_content/url/d/... 2016-01-04 11:34:00   \n",
       "\n",
       "    s_area_name   s_name                  title  post_time2  \\\n",
       "222        重大要聞  yahoo股市                 工商時報晨訊  2016-01-04   \n",
       "289        重大要聞  yahoo股市  《盤中解析》紅盤日變臉，台股狂洩逾200點  2016-01-04   \n",
       "\n",
       "                                              content2 label5566  \n",
       "222  ◆ 千億 科技 預算 ， 張善政 喊 加碼 ， 主計 總處 初步 匡列 1   061 億 ...        up  \n",
       "289  2016 年開 紅盤 日 ， 台股 狂洩 逾 200 點 ！ 儘管 2015 年 最後 一個...        up  "
      ]
     },
     "execution_count": 29,
     "metadata": {},
     "output_type": "execute_result"
    }
   ],
   "source": [
    "print(len(df_company[df_company['label5566']=='up']))\n",
    "df_company[df_company['label5566']=='up'].head(2)"
   ]
  },
  {
   "cell_type": "code",
   "execution_count": 30,
   "metadata": {},
   "outputs": [
    {
     "name": "stdout",
     "output_type": "stream",
     "text": [
      "911\n"
     ]
    },
    {
     "data": {
      "text/html": [
       "<div>\n",
       "<style scoped>\n",
       "    .dataframe tbody tr th:only-of-type {\n",
       "        vertical-align: middle;\n",
       "    }\n",
       "\n",
       "    .dataframe tbody tr th {\n",
       "        vertical-align: top;\n",
       "    }\n",
       "\n",
       "    .dataframe thead th {\n",
       "        text-align: right;\n",
       "    }\n",
       "</style>\n",
       "<table border=\"1\" class=\"dataframe\">\n",
       "  <thead>\n",
       "    <tr style=\"text-align: right;\">\n",
       "      <th></th>\n",
       "      <th>author</th>\n",
       "      <th>comment_count</th>\n",
       "      <th>content</th>\n",
       "      <th>id</th>\n",
       "      <th>p_type</th>\n",
       "      <th>page_url</th>\n",
       "      <th>post_time</th>\n",
       "      <th>s_area_name</th>\n",
       "      <th>s_name</th>\n",
       "      <th>title</th>\n",
       "      <th>post_time2</th>\n",
       "      <th>content2</th>\n",
       "      <th>label5566</th>\n",
       "    </tr>\n",
       "  </thead>\n",
       "  <tbody>\n",
       "    <tr>\n",
       "      <th>3121</th>\n",
       "      <td>鉅亨網</td>\n",
       "      <td>0</td>\n",
       "      <td>受到月線反壓、外資籌碼面持續偏保守的影響下，台股期現貨今(20)日同步下壓，加權指數開低走低...</td>\n",
       "      <td>1453258680867_N01</td>\n",
       "      <td>news</td>\n",
       "      <td>https://tw.stock.yahoo.com/news_content/url/d/...</td>\n",
       "      <td>2016-01-20 10:42:00</td>\n",
       "      <td>重大要聞</td>\n",
       "      <td>yahoo股市</td>\n",
       "      <td>台股盤中─個股漲勢稀落 指數一度大跌百點 台指期難拉高結算</td>\n",
       "      <td>2016-01-20</td>\n",
       "      <td>受到 月線 反壓 、 外資 籌碼面 持續 偏 保守 的 影響 下 ， 台股 期 現貨 今 (...</td>\n",
       "      <td>even</td>\n",
       "    </tr>\n",
       "    <tr>\n",
       "      <th>3192</th>\n",
       "      <td>Moneydj理財網</td>\n",
       "      <td>0</td>\n",
       "      <td>1.歐美股市走穩，不過受期指結算影響，台股週三開低，加上港股重挫，指數震盪走低，盤面上部份生...</td>\n",
       "      <td>1453281180692_N01</td>\n",
       "      <td>news</td>\n",
       "      <td>https://tw.stock.yahoo.com/news_content/url/d/...</td>\n",
       "      <td>2016-01-20 16:16:00</td>\n",
       "      <td>重大要聞</td>\n",
       "      <td>yahoo股市</td>\n",
       "      <td>日盛投顧：台股短線參考區間7600-7900</td>\n",
       "      <td>2016-01-20</td>\n",
       "      <td>1 . 歐美 股市 走穩 ， 不過 受 期指 結算 影響 ， 台股 週三 開低 ， 加上 港...</td>\n",
       "      <td>even</td>\n",
       "    </tr>\n",
       "  </tbody>\n",
       "</table>\n",
       "</div>"
      ],
      "text/plain": [
       "          author  comment_count  \\\n",
       "3121         鉅亨網              0   \n",
       "3192  Moneydj理財網              0   \n",
       "\n",
       "                                                content                 id  \\\n",
       "3121  受到月線反壓、外資籌碼面持續偏保守的影響下，台股期現貨今(20)日同步下壓，加權指數開低走低...  1453258680867_N01   \n",
       "3192  1.歐美股市走穩，不過受期指結算影響，台股週三開低，加上港股重挫，指數震盪走低，盤面上部份生...  1453281180692_N01   \n",
       "\n",
       "     p_type                                           page_url  \\\n",
       "3121   news  https://tw.stock.yahoo.com/news_content/url/d/...   \n",
       "3192   news  https://tw.stock.yahoo.com/news_content/url/d/...   \n",
       "\n",
       "               post_time s_area_name   s_name                          title  \\\n",
       "3121 2016-01-20 10:42:00        重大要聞  yahoo股市  台股盤中─個股漲勢稀落 指數一度大跌百點 台指期難拉高結算   \n",
       "3192 2016-01-20 16:16:00        重大要聞  yahoo股市         日盛投顧：台股短線參考區間7600-7900   \n",
       "\n",
       "      post_time2                                           content2 label5566  \n",
       "3121  2016-01-20  受到 月線 反壓 、 外資 籌碼面 持續 偏 保守 的 影響 下 ， 台股 期 現貨 今 (...      even  \n",
       "3192  2016-01-20  1 . 歐美 股市 走穩 ， 不過 受 期指 結算 影響 ， 台股 週三 開低 ， 加上 港...      even  "
      ]
     },
     "execution_count": 30,
     "metadata": {},
     "output_type": "execute_result"
    }
   ],
   "source": [
    "print(len(df_company[df_company['label5566']=='even']))\n",
    "df_company[df_company['label5566']=='even'].head(2)"
   ]
  },
  {
   "cell_type": "code",
   "execution_count": 31,
   "metadata": {},
   "outputs": [],
   "source": [
    "#df_company2 = df_company[df_company['label5566'].str.contains('up|down|even')]\n",
    "#df_company2.to_csv('5pa.csv')"
   ]
  },
  {
   "cell_type": "code",
   "execution_count": 32,
   "metadata": {},
   "outputs": [
    {
     "name": "stdout",
     "output_type": "stream",
     "text": [
      "3405\n",
      "<class 'list'>\n"
     ]
    },
    {
     "data": {
      "text/plain": [
       "['營收', '交易', '成長', '上漲', '外資', '法人', '增加', '下跌', '獲利', '股']"
      ]
     },
     "execution_count": 32,
     "metadata": {},
     "output_type": "execute_result"
    }
   ],
   "source": [
    "import re\n",
    "features = []   # features=list()\n",
    "with open('finance.words.txt', 'r',encoding='utf-8') as data:\n",
    "    for line in data:\n",
    "#        line = re.sub('[a-zA-Z0-9\\W]', '', line)                     # 把數字英文去掉\n",
    "        line = re.sub('[0-9]', '', line)                              # 把數字去掉\n",
    "        features.append(line.replace('\\n', '').replace(' ', ''))      # 空格 \\n去掉\n",
    "\n",
    "print(len(features))\n",
    "print(type(features))\n",
    "features[:10]"
   ]
  },
  {
   "cell_type": "code",
   "execution_count": 33,
   "metadata": {},
   "outputs": [],
   "source": [
    "#df_keyword1 = pd.read_csv(\"final_higher_tf_idf_part.csv\",encoding=\"utf-8\") #上漲形容詞\n",
    "#df_keyword2 = pd.read_csv(\"final_lower_tf_idf_part.csv\",encoding=\"utf-8\")  #下跌形容詞\n",
    "#df_keyword = pd.concat([df_keyword1,df_keyword2])\n",
    "#del df_keyword1,df_keyword2\n",
    "#df_keyword.head()"
   ]
  },
  {
   "cell_type": "code",
   "execution_count": 34,
   "metadata": {},
   "outputs": [],
   "source": [
    "#features = df_keyword['key'].to_numpy()\n",
    "#features"
   ]
  },
  {
   "cell_type": "code",
   "execution_count": 35,
   "metadata": {},
   "outputs": [
    {
     "data": {
      "text/html": [
       "<div>\n",
       "<style scoped>\n",
       "    .dataframe tbody tr th:only-of-type {\n",
       "        vertical-align: middle;\n",
       "    }\n",
       "\n",
       "    .dataframe tbody tr th {\n",
       "        vertical-align: top;\n",
       "    }\n",
       "\n",
       "    .dataframe thead th {\n",
       "        text-align: right;\n",
       "    }\n",
       "</style>\n",
       "<table border=\"1\" class=\"dataframe\">\n",
       "  <thead>\n",
       "    <tr style=\"text-align: right;\">\n",
       "      <th></th>\n",
       "      <th>營收</th>\n",
       "      <th>交易</th>\n",
       "      <th>成長</th>\n",
       "      <th>上漲</th>\n",
       "      <th>外資</th>\n",
       "      <th>法人</th>\n",
       "      <th>增加</th>\n",
       "      <th>下跌</th>\n",
       "      <th>獲利</th>\n",
       "      <th>股</th>\n",
       "      <th>...</th>\n",
       "      <th>跌停價</th>\n",
       "      <th>死魚</th>\n",
       "      <th>抬轎</th>\n",
       "      <th>高殖利率股</th>\n",
       "      <th>不弱</th>\n",
       "      <th>有守</th>\n",
       "      <th>續貶</th>\n",
       "      <th>跌回</th>\n",
       "      <th>轉空</th>\n",
       "      <th>執行率</th>\n",
       "    </tr>\n",
       "  </thead>\n",
       "  <tbody>\n",
       "    <tr>\n",
       "      <th>30</th>\n",
       "      <td>0.0</td>\n",
       "      <td>0.0</td>\n",
       "      <td>0.0</td>\n",
       "      <td>0.056979</td>\n",
       "      <td>0.000000</td>\n",
       "      <td>0.0</td>\n",
       "      <td>0.0</td>\n",
       "      <td>0.0</td>\n",
       "      <td>0.0</td>\n",
       "      <td>0.0</td>\n",
       "      <td>...</td>\n",
       "      <td>0.0</td>\n",
       "      <td>0.0</td>\n",
       "      <td>0.0</td>\n",
       "      <td>0.0</td>\n",
       "      <td>0.0</td>\n",
       "      <td>0.0</td>\n",
       "      <td>0.0</td>\n",
       "      <td>0.0</td>\n",
       "      <td>0.0</td>\n",
       "      <td>0.0</td>\n",
       "    </tr>\n",
       "    <tr>\n",
       "      <th>97</th>\n",
       "      <td>0.0</td>\n",
       "      <td>0.0</td>\n",
       "      <td>0.0</td>\n",
       "      <td>0.042293</td>\n",
       "      <td>0.036978</td>\n",
       "      <td>0.0</td>\n",
       "      <td>0.0</td>\n",
       "      <td>0.0</td>\n",
       "      <td>0.0</td>\n",
       "      <td>0.0</td>\n",
       "      <td>...</td>\n",
       "      <td>0.0</td>\n",
       "      <td>0.0</td>\n",
       "      <td>0.0</td>\n",
       "      <td>0.0</td>\n",
       "      <td>0.0</td>\n",
       "      <td>0.0</td>\n",
       "      <td>0.0</td>\n",
       "      <td>0.0</td>\n",
       "      <td>0.0</td>\n",
       "      <td>0.0</td>\n",
       "    </tr>\n",
       "  </tbody>\n",
       "</table>\n",
       "<p>2 rows × 3405 columns</p>\n",
       "</div>"
      ],
      "text/plain": [
       "     營收   交易   成長        上漲        外資   法人   增加   下跌   獲利    股  ...  跌停價   死魚  \\\n",
       "30  0.0  0.0  0.0  0.056979  0.000000  0.0  0.0  0.0  0.0  0.0  ...  0.0  0.0   \n",
       "97  0.0  0.0  0.0  0.042293  0.036978  0.0  0.0  0.0  0.0  0.0  ...  0.0  0.0   \n",
       "\n",
       "     抬轎  高殖利率股   不弱   有守   續貶   跌回   轉空  執行率  \n",
       "30  0.0    0.0  0.0  0.0  0.0  0.0  0.0  0.0  \n",
       "97  0.0    0.0  0.0  0.0  0.0  0.0  0.0  0.0  \n",
       "\n",
       "[2 rows x 3405 columns]"
      ]
     },
     "execution_count": 35,
     "metadata": {},
     "output_type": "execute_result"
    }
   ],
   "source": [
    "from sklearn.feature_extraction.text import TfidfVectorizer\n",
    "\n",
    "#features = [ '上漲','下跌','看好','走高','走低','漲停','跌停']\n",
    "#features = features[:1000]\n",
    "#cv = TfidfVectorizer()   #預設有空格就一個feature\n",
    "cv = TfidfVectorizer(vocabulary = features) # 設定自己要的詞 \n",
    "\n",
    "r = pd.SparseDataFrame(cv.fit_transform(df_company['content2']), \n",
    "                       df_company.index,\n",
    "                       cv.get_feature_names(), \n",
    "                       default_fill_value=0)\n",
    "\n",
    "r.fillna(value=0.0, inplace=True)\n",
    "r.head(2)"
   ]
  },
  {
   "cell_type": "code",
   "execution_count": 36,
   "metadata": {},
   "outputs": [],
   "source": [
    "# from sklearn.feature_extraction.text import CountVectorizer\n",
    "\n",
    "# #features = [ '上漲','下跌','看好','走高','走低','漲停','跌停']\n",
    "# #features = features[:1000]\n",
    "# #cv = CountVectorizer()   #預設有空格就一個feature\n",
    "# cv = CountVectorizer(vocabulary = features) # 設定自己要的詞 \n",
    "\n",
    "# r = pd.SparseDataFrame(cv.fit_transform(df_company['content2']), \n",
    "#                        df_company.index,\n",
    "#                        cv.get_feature_names(), \n",
    "#                        default_fill_value=0)\n",
    "\n",
    "# r.head(2)"
   ]
  },
  {
   "cell_type": "code",
   "execution_count": 37,
   "metadata": {},
   "outputs": [
    {
     "data": {
      "text/html": [
       "<div>\n",
       "<style scoped>\n",
       "    .dataframe tbody tr th:only-of-type {\n",
       "        vertical-align: middle;\n",
       "    }\n",
       "\n",
       "    .dataframe tbody tr th {\n",
       "        vertical-align: top;\n",
       "    }\n",
       "\n",
       "    .dataframe thead th {\n",
       "        text-align: right;\n",
       "    }\n",
       "</style>\n",
       "<table border=\"1\" class=\"dataframe\">\n",
       "  <thead>\n",
       "    <tr style=\"text-align: right;\">\n",
       "      <th></th>\n",
       "      <th>author</th>\n",
       "      <th>comment_count</th>\n",
       "      <th>content</th>\n",
       "      <th>id</th>\n",
       "      <th>p_type</th>\n",
       "      <th>page_url</th>\n",
       "      <th>post_time</th>\n",
       "      <th>s_area_name</th>\n",
       "      <th>s_name</th>\n",
       "      <th>title</th>\n",
       "      <th>...</th>\n",
       "      <th>跌停價</th>\n",
       "      <th>死魚</th>\n",
       "      <th>抬轎</th>\n",
       "      <th>高殖利率股</th>\n",
       "      <th>不弱</th>\n",
       "      <th>有守</th>\n",
       "      <th>續貶</th>\n",
       "      <th>跌回</th>\n",
       "      <th>轉空</th>\n",
       "      <th>執行率</th>\n",
       "    </tr>\n",
       "  </thead>\n",
       "  <tbody>\n",
       "    <tr>\n",
       "      <th>30</th>\n",
       "      <td>時報資訊</td>\n",
       "      <td>0</td>\n",
       "      <td>台股2015年下半年跌勢洶洶，全年跌幅達10.14％，但12檔具利多題材個股，股價多頭氣盛，...</td>\n",
       "      <td>1451618809219_N01</td>\n",
       "      <td>news</td>\n",
       "      <td>https://tw.stock.yahoo.com/news_content/url/d/...</td>\n",
       "      <td>2016-01-01 10:59:00</td>\n",
       "      <td>重大要聞</td>\n",
       "      <td>yahoo股市</td>\n",
       "      <td>《熱門族群》12檔話題當紅股，完美封關</td>\n",
       "      <td>...</td>\n",
       "      <td>0.0</td>\n",
       "      <td>0.0</td>\n",
       "      <td>0.0</td>\n",
       "      <td>0.0</td>\n",
       "      <td>0.0</td>\n",
       "      <td>0.0</td>\n",
       "      <td>0.0</td>\n",
       "      <td>0.0</td>\n",
       "      <td>0.0</td>\n",
       "      <td>0.0</td>\n",
       "    </tr>\n",
       "    <tr>\n",
       "      <th>97</th>\n",
       "      <td>鉅亨網</td>\n",
       "      <td>0</td>\n",
       "      <td>鉅亨網記者王莞甯 台北台股2015年封關日最後一檔有神秘買盤進場，強拉加權指數上漲39點，元...</td>\n",
       "      <td>1451715108530_N01</td>\n",
       "      <td>news</td>\n",
       "      <td>https://tw.stock.yahoo.com/news_content/url/d/...</td>\n",
       "      <td>2016-01-02 13:50:00</td>\n",
       "      <td>重大要聞</td>\n",
       "      <td>yahoo股市</td>\n",
       "      <td>錢冠州：總統大選不再是大變數 元月行情伺機而動！</td>\n",
       "      <td>...</td>\n",
       "      <td>0.0</td>\n",
       "      <td>0.0</td>\n",
       "      <td>0.0</td>\n",
       "      <td>0.0</td>\n",
       "      <td>0.0</td>\n",
       "      <td>0.0</td>\n",
       "      <td>0.0</td>\n",
       "      <td>0.0</td>\n",
       "      <td>0.0</td>\n",
       "      <td>0.0</td>\n",
       "    </tr>\n",
       "  </tbody>\n",
       "</table>\n",
       "<p>2 rows × 3418 columns</p>\n",
       "</div>"
      ],
      "text/plain": [
       "   author  comment_count                                            content  \\\n",
       "30   時報資訊              0  台股2015年下半年跌勢洶洶，全年跌幅達10.14％，但12檔具利多題材個股，股價多頭氣盛，...   \n",
       "97    鉅亨網              0  鉅亨網記者王莞甯 台北台股2015年封關日最後一檔有神秘買盤進場，強拉加權指數上漲39點，元...   \n",
       "\n",
       "                   id p_type  \\\n",
       "30  1451618809219_N01   news   \n",
       "97  1451715108530_N01   news   \n",
       "\n",
       "                                             page_url           post_time  \\\n",
       "30  https://tw.stock.yahoo.com/news_content/url/d/... 2016-01-01 10:59:00   \n",
       "97  https://tw.stock.yahoo.com/news_content/url/d/... 2016-01-02 13:50:00   \n",
       "\n",
       "   s_area_name   s_name                     title  ...  跌停價   死魚   抬轎  高殖利率股  \\\n",
       "30        重大要聞  yahoo股市       《熱門族群》12檔話題當紅股，完美封關  ...  0.0  0.0  0.0    0.0   \n",
       "97        重大要聞  yahoo股市  錢冠州：總統大選不再是大變數 元月行情伺機而動！  ...  0.0  0.0  0.0    0.0   \n",
       "\n",
       "     不弱   有守   續貶   跌回   轉空  執行率  \n",
       "30  0.0  0.0  0.0  0.0  0.0  0.0  \n",
       "97  0.0  0.0  0.0  0.0  0.0  0.0  \n",
       "\n",
       "[2 rows x 3418 columns]"
      ]
     },
     "execution_count": 37,
     "metadata": {},
     "output_type": "execute_result"
    }
   ],
   "source": [
    "df_company2 = pd.concat([df_company,r], axis=1)\n",
    "df_company2.head(2)"
   ]
  },
  {
   "cell_type": "code",
   "execution_count": 38,
   "metadata": {},
   "outputs": [
    {
     "name": "stderr",
     "output_type": "stream",
     "text": [
      "/home/barry/miniconda3/envs/stockenv/lib/python3.6/site-packages/pandas/core/frame.py:4034: SettingWithCopyWarning: \n",
      "A value is trying to be set on a copy of a slice from a DataFrame\n",
      "\n",
      "See the caveats in the documentation: http://pandas.pydata.org/pandas-docs/stable/indexing.html#indexing-view-versus-copy\n",
      "  downcast=downcast, **kwargs)\n"
     ]
    },
    {
     "data": {
      "text/html": [
       "<div>\n",
       "<style scoped>\n",
       "    .dataframe tbody tr th:only-of-type {\n",
       "        vertical-align: middle;\n",
       "    }\n",
       "\n",
       "    .dataframe tbody tr th {\n",
       "        vertical-align: top;\n",
       "    }\n",
       "\n",
       "    .dataframe thead th {\n",
       "        text-align: right;\n",
       "    }\n",
       "</style>\n",
       "<table border=\"1\" class=\"dataframe\">\n",
       "  <thead>\n",
       "    <tr style=\"text-align: right;\">\n",
       "      <th></th>\n",
       "      <th>營收</th>\n",
       "      <th>交易</th>\n",
       "      <th>成長</th>\n",
       "      <th>上漲</th>\n",
       "      <th>外資</th>\n",
       "      <th>法人</th>\n",
       "      <th>增加</th>\n",
       "      <th>下跌</th>\n",
       "      <th>獲利</th>\n",
       "      <th>股</th>\n",
       "      <th>...</th>\n",
       "      <th>跌停價</th>\n",
       "      <th>死魚</th>\n",
       "      <th>抬轎</th>\n",
       "      <th>高殖利率股</th>\n",
       "      <th>不弱</th>\n",
       "      <th>有守</th>\n",
       "      <th>續貶</th>\n",
       "      <th>跌回</th>\n",
       "      <th>轉空</th>\n",
       "      <th>執行率</th>\n",
       "    </tr>\n",
       "  </thead>\n",
       "  <tbody>\n",
       "    <tr>\n",
       "      <th>222</th>\n",
       "      <td>0.035882</td>\n",
       "      <td>0.057439</td>\n",
       "      <td>0.114125</td>\n",
       "      <td>0.0</td>\n",
       "      <td>0.032471</td>\n",
       "      <td>0.000000</td>\n",
       "      <td>0.0</td>\n",
       "      <td>0.041307</td>\n",
       "      <td>0.039377</td>\n",
       "      <td>0.0</td>\n",
       "      <td>...</td>\n",
       "      <td>0.0</td>\n",
       "      <td>0.0</td>\n",
       "      <td>0.0</td>\n",
       "      <td>0.0</td>\n",
       "      <td>0.0</td>\n",
       "      <td>0.0</td>\n",
       "      <td>0.00000</td>\n",
       "      <td>0.0</td>\n",
       "      <td>0.0</td>\n",
       "      <td>0.0</td>\n",
       "    </tr>\n",
       "    <tr>\n",
       "      <th>289</th>\n",
       "      <td>0.000000</td>\n",
       "      <td>0.000000</td>\n",
       "      <td>0.000000</td>\n",
       "      <td>0.0</td>\n",
       "      <td>0.070488</td>\n",
       "      <td>0.048611</td>\n",
       "      <td>0.0</td>\n",
       "      <td>0.239114</td>\n",
       "      <td>0.028493</td>\n",
       "      <td>0.0</td>\n",
       "      <td>...</td>\n",
       "      <td>0.0</td>\n",
       "      <td>0.0</td>\n",
       "      <td>0.0</td>\n",
       "      <td>0.0</td>\n",
       "      <td>0.0</td>\n",
       "      <td>0.0</td>\n",
       "      <td>0.08156</td>\n",
       "      <td>0.0</td>\n",
       "      <td>0.0</td>\n",
       "      <td>0.0</td>\n",
       "    </tr>\n",
       "  </tbody>\n",
       "</table>\n",
       "<p>2 rows × 3405 columns</p>\n",
       "</div>"
      ],
      "text/plain": [
       "           營收        交易        成長   上漲        外資        法人   增加        下跌  \\\n",
       "222  0.035882  0.057439  0.114125  0.0  0.032471  0.000000  0.0  0.041307   \n",
       "289  0.000000  0.000000  0.000000  0.0  0.070488  0.048611  0.0  0.239114   \n",
       "\n",
       "           獲利    股  ...  跌停價   死魚   抬轎  高殖利率股   不弱   有守       續貶   跌回   轉空  \\\n",
       "222  0.039377  0.0  ...  0.0  0.0  0.0    0.0  0.0  0.0  0.00000  0.0  0.0   \n",
       "289  0.028493  0.0  ...  0.0  0.0  0.0    0.0  0.0  0.0  0.08156  0.0  0.0   \n",
       "\n",
       "     執行率  \n",
       "222  0.0  \n",
       "289  0.0  \n",
       "\n",
       "[2 rows x 3405 columns]"
      ]
     },
     "execution_count": 38,
     "metadata": {},
     "output_type": "execute_result"
    }
   ],
   "source": [
    "df_company2 = df_company2[df_company2['label5566'].str.contains('up|down|even')]   #只取漲跌\n",
    "Y = df_company2['label5566']\n",
    "X = df_company2[features]\n",
    "X.fillna(value=0.0, inplace=True)\n",
    "X.head(2)"
   ]
  },
  {
   "cell_type": "code",
   "execution_count": 39,
   "metadata": {},
   "outputs": [
    {
     "data": {
      "text/plain": [
       "222    up\n",
       "289    up\n",
       "Name: label5566, dtype: object"
      ]
     },
     "execution_count": 39,
     "metadata": {},
     "output_type": "execute_result"
    }
   ],
   "source": [
    "Y.head(2)"
   ]
  },
  {
   "cell_type": "code",
   "execution_count": 40,
   "metadata": {},
   "outputs": [],
   "source": [
    "X = X.to_numpy()\n",
    "Y = Y.to_numpy()"
   ]
  },
  {
   "cell_type": "code",
   "execution_count": 41,
   "metadata": {},
   "outputs": [
    {
     "name": "stdout",
     "output_type": "stream",
     "text": [
      "2468 618\n"
     ]
    }
   ],
   "source": [
    "#將X:features array, Y:lable array 都切成 1:4\n",
    "\n",
    "validation_size = 0.20\n",
    "seed = 7\n",
    "X_train, X_validation, Y_train, Y_validation = model_selection.train_test_split(X, Y, test_size=validation_size, random_state=seed)\n",
    "print(len(X_train),len(X_validation))"
   ]
  },
  {
   "cell_type": "code",
   "execution_count": 42,
   "metadata": {},
   "outputs": [
    {
     "name": "stderr",
     "output_type": "stream",
     "text": [
      "/home/barry/miniconda3/envs/stockenv/lib/python3.6/site-packages/sklearn/ensemble/forest.py:246: FutureWarning: The default value of n_estimators will change from 10 in version 0.20 to 100 in 0.22.\n",
      "  \"10 in version 0.20 to 100 in 0.22.\", FutureWarning)\n"
     ]
    },
    {
     "name": "stdout",
     "output_type": "stream",
     "text": [
      "0.9866288492706645\n",
      "0.5226537216828478\n",
      "[[192  29  38]\n",
      " [ 82  73  33]\n",
      " [ 78  35  58]]\n",
      "              precision    recall  f1-score   support\n",
      "\n",
      "        down       0.55      0.74      0.63       259\n",
      "        even       0.53      0.39      0.45       188\n",
      "          up       0.45      0.34      0.39       171\n",
      "\n",
      "   micro avg       0.52      0.52      0.52       618\n",
      "   macro avg       0.51      0.49      0.49       618\n",
      "weighted avg       0.52      0.52      0.51       618\n",
      "\n"
     ]
    }
   ],
   "source": [
    "model_RandomForest = RandomForestClassifier()\n",
    "model_RandomForest.fit(X_train, Y_train)\n",
    "print(model_RandomForest.score(X_train, Y_train))\n",
    "\n",
    "predictions = model_RandomForest.predict(X_validation)\n",
    "print(accuracy_score(Y_validation, predictions))\n",
    "print(confusion_matrix(Y_validation, predictions))\n",
    "print(classification_report(Y_validation, predictions))"
   ]
  },
  {
   "cell_type": "code",
   "execution_count": 43,
   "metadata": {},
   "outputs": [
    {
     "name": "stdout",
     "output_type": "stream",
     "text": [
      "[0.56680162 0.51214575 0.53036437 0.51926978 0.52941176]\n",
      "XGBClassifier: 0.531599 (0.018847)\n"
     ]
    }
   ],
   "source": [
    "# 用10-Fold CV並且列出平均的效率\n",
    "\n",
    "\n",
    "# 呼叫單個model MLP\n",
    "model_XGBClassifier = XGBClassifier()\n",
    "name = 'XGBClassifier'\n",
    "kfold = model_selection.KFold(n_splits=5, random_state=seed)   #分割 10% cross validation\n",
    "\n",
    "cv_results = model_selection.cross_val_score(model_XGBClassifier, X_train, Y_train, cv=kfold, scoring='accuracy')\n",
    "#model用MLP()                cross valitation \n",
    "\n",
    "print(cv_results)\n",
    "print(\"%s: %f (%f)\" % (name, cv_results.mean(), cv_results.std()))"
   ]
  },
  {
   "cell_type": "code",
   "execution_count": 44,
   "metadata": {},
   "outputs": [
    {
     "name": "stdout",
     "output_type": "stream",
     "text": [
      "0.7807941653160454\n",
      "0.5485436893203883\n",
      "[[211  24  24]\n",
      " [ 87  69  32]\n",
      " [ 93  19  59]]\n",
      "              precision    recall  f1-score   support\n",
      "\n",
      "        down       0.54      0.81      0.65       259\n",
      "        even       0.62      0.37      0.46       188\n",
      "          up       0.51      0.35      0.41       171\n",
      "\n",
      "   micro avg       0.55      0.55      0.55       618\n",
      "   macro avg       0.56      0.51      0.51       618\n",
      "weighted avg       0.56      0.55      0.53       618\n",
      "\n"
     ]
    }
   ],
   "source": [
    "model_XGBClassifier = XGBClassifier()\n",
    "model_XGBClassifier.fit(X_train, Y_train)\n",
    "print(model_XGBClassifier.score(X_train, Y_train))\n",
    "\n",
    "predictions = model_XGBClassifier.predict(X_validation)\n",
    "print(accuracy_score(Y_validation, predictions))\n",
    "print(confusion_matrix(Y_validation, predictions))\n",
    "print(classification_report(Y_validation, predictions))"
   ]
  },
  {
   "cell_type": "code",
   "execution_count": 45,
   "metadata": {},
   "outputs": [
    {
     "name": "stdout",
     "output_type": "stream",
     "text": [
      "[0.5465587  0.50809717 0.53036437 0.54158215 0.53752535]\n",
      "GradientBoost: 0.532826 (0.013453)\n"
     ]
    }
   ],
   "source": [
    "# 用10-Fold CV並且列出平均的效率\n",
    "\n",
    "\n",
    "# 呼叫單個model MLP\n",
    "model_GradientBoost = GradientBoostingClassifier()\n",
    "name = 'GradientBoost'\n",
    "kfold = model_selection.KFold(n_splits=5, random_state=seed)   #分割 10% cross validation\n",
    "\n",
    "cv_results = model_selection.cross_val_score(model_GradientBoost, X_train, Y_train, cv=kfold, scoring='accuracy')\n",
    "#model用MLP()                cross valitation \n",
    "\n",
    "print(cv_results)\n",
    "print(\"%s: %f (%f)\" % (name, cv_results.mean(), cv_results.std()))"
   ]
  },
  {
   "cell_type": "code",
   "execution_count": 46,
   "metadata": {},
   "outputs": [
    {
     "name": "stdout",
     "output_type": "stream",
     "text": [
      "0.8354943273905997\n",
      "0.5307443365695793\n",
      "[[202  30  27]\n",
      " [ 84  67  37]\n",
      " [ 90  22  59]]\n",
      "              precision    recall  f1-score   support\n",
      "\n",
      "        down       0.54      0.78      0.64       259\n",
      "        even       0.56      0.36      0.44       188\n",
      "          up       0.48      0.35      0.40       171\n",
      "\n",
      "   micro avg       0.53      0.53      0.53       618\n",
      "   macro avg       0.53      0.49      0.49       618\n",
      "weighted avg       0.53      0.53      0.51       618\n",
      "\n"
     ]
    }
   ],
   "source": [
    "model_GradientBoost = GradientBoostingClassifier()\n",
    "model_GradientBoost.fit(X_train, Y_train)\n",
    "print(model_GradientBoost.score(X_train, Y_train))\n",
    "\n",
    "predictions = model_GradientBoost.predict(X_validation)\n",
    "print(accuracy_score(Y_validation, predictions))\n",
    "print(confusion_matrix(Y_validation, predictions))\n",
    "print(classification_report(Y_validation, predictions))"
   ]
  },
  {
   "cell_type": "code",
   "execution_count": 47,
   "metadata": {},
   "outputs": [
    {
     "name": "stdout",
     "output_type": "stream",
     "text": [
      "0.9959481361426256\n",
      "0.47572815533980584\n",
      "[[138  60  61]\n",
      " [ 57  88  43]\n",
      " [ 56  47  68]]\n",
      "              precision    recall  f1-score   support\n",
      "\n",
      "        down       0.55      0.53      0.54       259\n",
      "        even       0.45      0.47      0.46       188\n",
      "          up       0.40      0.40      0.40       171\n",
      "\n",
      "   micro avg       0.48      0.48      0.48       618\n",
      "   macro avg       0.47      0.47      0.47       618\n",
      "weighted avg       0.48      0.48      0.48       618\n",
      "\n"
     ]
    }
   ],
   "source": [
    "model_DecisionTree = DecisionTreeClassifier()\n",
    "model_DecisionTree.fit(X_train, Y_train)\n",
    "print(model_DecisionTree.score(X_train, Y_train))\n",
    "\n",
    "predictions = model_DecisionTree.predict(X_validation)\n",
    "print(accuracy_score(Y_validation, predictions))\n",
    "print(confusion_matrix(Y_validation, predictions))\n",
    "print(classification_report(Y_validation, predictions))"
   ]
  },
  {
   "cell_type": "code",
   "execution_count": 48,
   "metadata": {},
   "outputs": [
    {
     "name": "stdout",
     "output_type": "stream",
     "text": [
      "[0.51012146 0.5        0.52226721 0.52332657 0.54563895]\n",
      "KNN: 0.520271 (0.015302)\n"
     ]
    }
   ],
   "source": [
    "# 用10-Fold CV並且列出平均的效率\n",
    "\n",
    "\n",
    "# 呼叫單個model MLP\n",
    "model_KNeighbors = KNeighborsClassifier()\n",
    "name = 'KNN'\n",
    "kfold = model_selection.KFold(n_splits=5, random_state=seed)   #分割 10% cross validation\n",
    "\n",
    "cv_results = model_selection.cross_val_score(model_KNeighbors, X_train, Y_train, cv=kfold, scoring='accuracy')\n",
    "#model用MLP()                cross valitation \n",
    "\n",
    "print(cv_results)\n",
    "print(\"%s: %f (%f)\" % (name, cv_results.mean(), cv_results.std()))"
   ]
  },
  {
   "cell_type": "code",
   "execution_count": 49,
   "metadata": {},
   "outputs": [
    {
     "name": "stdout",
     "output_type": "stream",
     "text": [
      "0.6961102106969206\n",
      "0.5533980582524272\n",
      "[[203  28  28]\n",
      " [ 85  81  22]\n",
      " [ 84  29  58]]\n",
      "              precision    recall  f1-score   support\n",
      "\n",
      "        down       0.55      0.78      0.64       259\n",
      "        even       0.59      0.43      0.50       188\n",
      "          up       0.54      0.34      0.42       171\n",
      "\n",
      "   micro avg       0.55      0.55      0.55       618\n",
      "   macro avg       0.56      0.52      0.52       618\n",
      "weighted avg       0.56      0.55      0.54       618\n",
      "\n"
     ]
    }
   ],
   "source": [
    "model_KNeighbors = KNeighborsClassifier()\n",
    "model_KNeighbors.fit(X_train, Y_train)\n",
    "print(model_KNeighbors.score(X_train, Y_train))\n",
    "\n",
    "predictions = model_KNeighbors.predict(X_validation)\n",
    "print(accuracy_score(Y_validation, predictions))\n",
    "print(confusion_matrix(Y_validation, predictions))\n",
    "print(classification_report(Y_validation, predictions))"
   ]
  },
  {
   "cell_type": "code",
   "execution_count": 50,
   "metadata": {},
   "outputs": [
    {
     "name": "stdout",
     "output_type": "stream",
     "text": [
      "0.743517017828201\n",
      "0.45792880258899676\n",
      "[[ 85  57 117]\n",
      " [ 32  86  70]\n",
      " [ 27  32 112]]\n",
      "              precision    recall  f1-score   support\n",
      "\n",
      "        down       0.59      0.33      0.42       259\n",
      "        even       0.49      0.46      0.47       188\n",
      "          up       0.37      0.65      0.48       171\n",
      "\n",
      "   micro avg       0.46      0.46      0.46       618\n",
      "   macro avg       0.49      0.48      0.46       618\n",
      "weighted avg       0.50      0.46      0.45       618\n",
      "\n"
     ]
    }
   ],
   "source": [
    "model_GaussianNB = GaussianNB()\n",
    "model_GaussianNB.fit(X_train, Y_train)\n",
    "print(model_GaussianNB.score(X_train, Y_train))\n",
    "\n",
    "predictions = model_GaussianNB.predict(X_validation)\n",
    "print(accuracy_score(Y_validation, predictions))\n",
    "print(confusion_matrix(Y_validation, predictions))\n",
    "print(classification_report(Y_validation, predictions))"
   ]
  },
  {
   "cell_type": "code",
   "execution_count": 51,
   "metadata": {},
   "outputs": [
    {
     "name": "stdout",
     "output_type": "stream",
     "text": [
      "0.6203403565640194\n",
      "0.5\n",
      "[[240   7  12]\n",
      " [134  45   9]\n",
      " [138   9  24]]\n",
      "              precision    recall  f1-score   support\n",
      "\n",
      "        down       0.47      0.93      0.62       259\n",
      "        even       0.74      0.24      0.36       188\n",
      "          up       0.53      0.14      0.22       171\n",
      "\n",
      "   micro avg       0.50      0.50      0.50       618\n",
      "   macro avg       0.58      0.44      0.40       618\n",
      "weighted avg       0.57      0.50      0.43       618\n",
      "\n",
      "[[-5.16123509 -6.43105967 -5.75413568 ... -8.53045762 -8.83310566\n",
      "  -8.33153976]\n",
      " [-5.34622712 -6.6030668  -5.91352778 ... -8.85047485 -8.48671262\n",
      "  -8.75208851]\n",
      " [-5.63701636 -6.4978394  -5.96500728 ... -8.76323265 -8.67042093\n",
      "  -8.98185222]]\n"
     ]
    }
   ],
   "source": [
    "model_MultinomialNB = MultinomialNB()\n",
    "model_MultinomialNB.fit(X_train, Y_train)\n",
    "print(model_MultinomialNB.score(X_train, Y_train) )\n",
    "\n",
    "predictions = model_MultinomialNB.predict(X_validation)\n",
    "print(accuracy_score(Y_validation, predictions))\n",
    "print(confusion_matrix(Y_validation, predictions))\n",
    "print(classification_report(Y_validation, predictions))\n",
    "print(model_MultinomialNB.coef_)"
   ]
  },
  {
   "cell_type": "code",
   "execution_count": 52,
   "metadata": {},
   "outputs": [
    {
     "name": "stderr",
     "output_type": "stream",
     "text": [
      "/home/barry/miniconda3/envs/stockenv/lib/python3.6/site-packages/sklearn/linear_model/logistic.py:433: FutureWarning: Default solver will be changed to 'lbfgs' in 0.22. Specify a solver to silence this warning.\n",
      "  FutureWarning)\n",
      "/home/barry/miniconda3/envs/stockenv/lib/python3.6/site-packages/sklearn/linear_model/logistic.py:460: FutureWarning: Default multi_class will be changed to 'auto' in 0.22. Specify the multi_class option to silence this warning.\n",
      "  \"this warning.\", FutureWarning)\n",
      "/home/barry/miniconda3/envs/stockenv/lib/python3.6/site-packages/sklearn/linear_model/logistic.py:433: FutureWarning: Default solver will be changed to 'lbfgs' in 0.22. Specify a solver to silence this warning.\n",
      "  FutureWarning)\n",
      "/home/barry/miniconda3/envs/stockenv/lib/python3.6/site-packages/sklearn/linear_model/logistic.py:460: FutureWarning: Default multi_class will be changed to 'auto' in 0.22. Specify the multi_class option to silence this warning.\n",
      "  \"this warning.\", FutureWarning)\n",
      "/home/barry/miniconda3/envs/stockenv/lib/python3.6/site-packages/sklearn/linear_model/logistic.py:433: FutureWarning: Default solver will be changed to 'lbfgs' in 0.22. Specify a solver to silence this warning.\n",
      "  FutureWarning)\n",
      "/home/barry/miniconda3/envs/stockenv/lib/python3.6/site-packages/sklearn/linear_model/logistic.py:460: FutureWarning: Default multi_class will be changed to 'auto' in 0.22. Specify the multi_class option to silence this warning.\n",
      "  \"this warning.\", FutureWarning)\n",
      "/home/barry/miniconda3/envs/stockenv/lib/python3.6/site-packages/sklearn/linear_model/logistic.py:433: FutureWarning: Default solver will be changed to 'lbfgs' in 0.22. Specify a solver to silence this warning.\n",
      "  FutureWarning)\n",
      "/home/barry/miniconda3/envs/stockenv/lib/python3.6/site-packages/sklearn/linear_model/logistic.py:460: FutureWarning: Default multi_class will be changed to 'auto' in 0.22. Specify the multi_class option to silence this warning.\n",
      "  \"this warning.\", FutureWarning)\n"
     ]
    },
    {
     "name": "stdout",
     "output_type": "stream",
     "text": [
      "[0.548583   0.53846154 0.56072874 0.56795132 0.55578093]\n",
      "MLP: 0.554301 (0.010133)\n"
     ]
    },
    {
     "name": "stderr",
     "output_type": "stream",
     "text": [
      "/home/barry/miniconda3/envs/stockenv/lib/python3.6/site-packages/sklearn/linear_model/logistic.py:433: FutureWarning: Default solver will be changed to 'lbfgs' in 0.22. Specify a solver to silence this warning.\n",
      "  FutureWarning)\n",
      "/home/barry/miniconda3/envs/stockenv/lib/python3.6/site-packages/sklearn/linear_model/logistic.py:460: FutureWarning: Default multi_class will be changed to 'auto' in 0.22. Specify the multi_class option to silence this warning.\n",
      "  \"this warning.\", FutureWarning)\n"
     ]
    }
   ],
   "source": [
    "# 用10-Fold CV並且列出平均的效率\n",
    "\n",
    "\n",
    "# 呼叫單個model MLP\n",
    "model_LogisticRegression = LogisticRegression()\n",
    "name = 'MLP'\n",
    "kfold = model_selection.KFold(n_splits=5, random_state=seed)   #分割 10% cross validation\n",
    "\n",
    "cv_results = model_selection.cross_val_score(model_LogisticRegression, X_train, Y_train, cv=kfold, scoring='accuracy')\n",
    "#model用MLP()                cross valitation \n",
    "\n",
    "print(cv_results)\n",
    "print(\"%s: %f (%f)\" % (name, cv_results.mean(), cv_results.std()))"
   ]
  },
  {
   "cell_type": "code",
   "execution_count": 53,
   "metadata": {},
   "outputs": [
    {
     "name": "stdout",
     "output_type": "stream",
     "text": [
      "0.7690437601296597\n",
      "0.5501618122977346\n",
      "[[197  28  34]\n",
      " [ 78  77  33]\n",
      " [ 86  19  66]]\n",
      "              precision    recall  f1-score   support\n",
      "\n",
      "        down       0.55      0.76      0.64       259\n",
      "        even       0.62      0.41      0.49       188\n",
      "          up       0.50      0.39      0.43       171\n",
      "\n",
      "   micro avg       0.55      0.55      0.55       618\n",
      "   macro avg       0.55      0.52      0.52       618\n",
      "weighted avg       0.55      0.55      0.54       618\n",
      "\n",
      "[[ 0.74926918 -0.32351664  0.2740103  ...  0.27070718 -0.14616277\n",
      "   0.12816046]\n",
      " [ 0.56763204  0.5051961  -0.72221118 ... -0.16680815  0.19311156\n",
      "   0.0720945 ]\n",
      " [-1.46129017 -0.18181303  0.55212731 ... -0.10711875 -0.03562943\n",
      "  -0.23779484]]\n"
     ]
    },
    {
     "name": "stderr",
     "output_type": "stream",
     "text": [
      "/home/barry/miniconda3/envs/stockenv/lib/python3.6/site-packages/sklearn/linear_model/logistic.py:433: FutureWarning: Default solver will be changed to 'lbfgs' in 0.22. Specify a solver to silence this warning.\n",
      "  FutureWarning)\n",
      "/home/barry/miniconda3/envs/stockenv/lib/python3.6/site-packages/sklearn/linear_model/logistic.py:460: FutureWarning: Default multi_class will be changed to 'auto' in 0.22. Specify the multi_class option to silence this warning.\n",
      "  \"this warning.\", FutureWarning)\n"
     ]
    }
   ],
   "source": [
    "model_LogisticRegression = LogisticRegression()\n",
    "model_LogisticRegression.fit(X_train, Y_train)\n",
    "print(model_LogisticRegression.score(X_train, Y_train))\n",
    "\n",
    "predictions = model_LogisticRegression.predict(X_validation)\n",
    "print(accuracy_score(Y_validation, predictions))\n",
    "print(confusion_matrix(Y_validation, predictions))\n",
    "print(classification_report(Y_validation, predictions))\n",
    "print(model_LogisticRegression.coef_)"
   ]
  },
  {
   "cell_type": "code",
   "execution_count": 54,
   "metadata": {},
   "outputs": [
    {
     "name": "stdout",
     "output_type": "stream",
     "text": [
      "[0.56072874 0.55668016 0.55870445 0.56186613 0.54969574]\n",
      "SVC: 0.557535 (0.004301)\n"
     ]
    }
   ],
   "source": [
    "# 用10-Fold CV並且列出平均的效率\n",
    "\n",
    "\n",
    "# 呼叫單個model MLP\n",
    "model_svclinear = SVC(kernel='linear')\n",
    "name = 'SVC'\n",
    "kfold = model_selection.KFold(n_splits=5, random_state=seed)   #分割 10% cross validation\n",
    "\n",
    "cv_results = model_selection.cross_val_score(model_svclinear, X_train, Y_train, cv=kfold, scoring='accuracy')\n",
    "#model用MLP()                cross valitation \n",
    "\n",
    "print(cv_results)\n",
    "print(\"%s: %f (%f)\" % (name, cv_results.mean(), cv_results.std()))"
   ]
  },
  {
   "cell_type": "code",
   "execution_count": 55,
   "metadata": {},
   "outputs": [
    {
     "name": "stdout",
     "output_type": "stream",
     "text": [
      "0.813614262560778\n",
      "0.5614886731391586\n",
      "[[189  30  40]\n",
      " [ 77  78  33]\n",
      " [ 71  20  80]]\n",
      "              precision    recall  f1-score   support\n",
      "\n",
      "        down       0.56      0.73      0.63       259\n",
      "        even       0.61      0.41      0.49       188\n",
      "          up       0.52      0.47      0.49       171\n",
      "\n",
      "   micro avg       0.56      0.56      0.56       618\n",
      "   macro avg       0.56      0.54      0.54       618\n",
      "weighted avg       0.57      0.56      0.55       618\n",
      "\n",
      "[[ 0.19989865 -0.87457917  0.63648201 ...  0.3732277  -0.32702633\n",
      "  -0.14398031]\n",
      " [ 1.01245976 -0.73640668 -0.19090208 ...  0.35160933 -0.1701005\n",
      "   0.11601424]\n",
      " [ 1.50939762  0.56176704 -1.1762605  ... -0.10275471  0.19039302\n",
      "   0.29019981]]\n"
     ]
    }
   ],
   "source": [
    "model_svclinear = SVC(kernel='linear')\n",
    "model_svclinear.fit(X_train, Y_train)\n",
    "print(model_svclinear.score(X_train, Y_train))\n",
    "predictions = model_svclinear.predict(X_validation)\n",
    "print(accuracy_score(Y_validation, predictions))\n",
    "print(confusion_matrix(Y_validation, predictions))\n",
    "print(classification_report(Y_validation, predictions))\n",
    "print(model_svclinear.coef_)"
   ]
  },
  {
   "cell_type": "code",
   "execution_count": 99,
   "metadata": {},
   "outputs": [
    {
     "name": "stdout",
     "output_type": "stream",
     "text": [
      "[0.57287449 0.55668016 0.56882591 0.57809331 0.57606491]\n",
      "SVC: 0.570508 (0.007590)\n"
     ]
    }
   ],
   "source": [
    "from sklearn.svm import LinearSVC\n",
    "# 用10-Fold CV並且列出平均的效率\n",
    "\n",
    "\n",
    "# 呼叫單個model MLP\n",
    "model_LinearSVC = LinearSVC()\n",
    "#model_LinearSVC = LinearSVC(loss='hinge')\n",
    "name = 'SVC'\n",
    "kfold = model_selection.KFold(n_splits=5, random_state=seed)   #分割 10% cross validation\n",
    "\n",
    "cv_results = model_selection.cross_val_score(model_LinearSVC, X_train, Y_train, cv=kfold, scoring='accuracy')\n",
    "#model用MLP()                cross valitation \n",
    "\n",
    "print(cv_results)\n",
    "print(\"%s: %f (%f)\" % (name, cv_results.mean(), cv_results.std()))\n"
   ]
  },
  {
   "cell_type": "code",
   "execution_count": 100,
   "metadata": {},
   "outputs": [
    {
     "name": "stdout",
     "output_type": "stream",
     "text": [
      "0.9128849270664505\n",
      "0.6035598705501618\n",
      "[[189  36  34]\n",
      " [ 56  90  42]\n",
      " [ 59  18  94]]\n",
      "              precision    recall  f1-score   support\n",
      "\n",
      "        down       0.62      0.73      0.67       259\n",
      "        even       0.62      0.48      0.54       188\n",
      "          up       0.55      0.55      0.55       171\n",
      "\n",
      "   micro avg       0.60      0.60      0.60       618\n",
      "   macro avg       0.60      0.59      0.59       618\n",
      "weighted avg       0.60      0.60      0.60       618\n",
      "\n",
      "[[ 0.38271324 -0.33023118  0.18668157 ...  0.67244527 -0.3720315\n",
      "  -0.00801004]\n",
      " [ 0.3850045   0.7555056  -0.90723168 ... -0.43632667  0.59154736\n",
      "   0.46679365]\n",
      " [-0.80402316 -0.37130509  0.82961492 ... -0.31165536 -0.14847256\n",
      "  -0.47101681]]\n"
     ]
    }
   ],
   "source": [
    "model_LinearSVC = LinearSVC()\n",
    "model_LinearSVC.fit(X_train, Y_train)\n",
    "print(model_LinearSVC.score(X_train, Y_train))\n",
    "predictions = model_LinearSVC.predict(X_validation)\n",
    "print(accuracy_score(Y_validation, predictions))\n",
    "print(confusion_matrix(Y_validation, predictions))\n",
    "print(classification_report(Y_validation, predictions))\n",
    "print(model_LinearSVC.coef_)"
   ]
  },
  {
   "cell_type": "code",
   "execution_count": 92,
   "metadata": {},
   "outputs": [
    {
     "name": "stderr",
     "output_type": "stream",
     "text": [
      "/home/barry/miniconda3/envs/stockenv/lib/python3.6/site-packages/sklearn/linear_model/stochastic_gradient.py:166: FutureWarning: max_iter and tol parameters have been added in SGDClassifier in 0.19. If both are left unset, they default to max_iter=5 and tol=None. If tol is not None, max_iter defaults to max_iter=1000. From 0.21, default max_iter will be 1000, and default tol will be 1e-3.\n",
      "  FutureWarning)\n",
      "/home/barry/miniconda3/envs/stockenv/lib/python3.6/site-packages/sklearn/linear_model/stochastic_gradient.py:166: FutureWarning: max_iter and tol parameters have been added in SGDClassifier in 0.19. If both are left unset, they default to max_iter=5 and tol=None. If tol is not None, max_iter defaults to max_iter=1000. From 0.21, default max_iter will be 1000, and default tol will be 1e-3.\n",
      "  FutureWarning)\n",
      "/home/barry/miniconda3/envs/stockenv/lib/python3.6/site-packages/sklearn/linear_model/stochastic_gradient.py:166: FutureWarning: max_iter and tol parameters have been added in SGDClassifier in 0.19. If both are left unset, they default to max_iter=5 and tol=None. If tol is not None, max_iter defaults to max_iter=1000. From 0.21, default max_iter will be 1000, and default tol will be 1e-3.\n",
      "  FutureWarning)\n",
      "/home/barry/miniconda3/envs/stockenv/lib/python3.6/site-packages/sklearn/linear_model/stochastic_gradient.py:166: FutureWarning: max_iter and tol parameters have been added in SGDClassifier in 0.19. If both are left unset, they default to max_iter=5 and tol=None. If tol is not None, max_iter defaults to max_iter=1000. From 0.21, default max_iter will be 1000, and default tol will be 1e-3.\n",
      "  FutureWarning)\n"
     ]
    },
    {
     "name": "stdout",
     "output_type": "stream",
     "text": [
      "[0.56680162 0.54048583 0.52834008 0.47667343 0.55983773]\n",
      "SVC: 0.534428 (0.031947)\n"
     ]
    },
    {
     "name": "stderr",
     "output_type": "stream",
     "text": [
      "/home/barry/miniconda3/envs/stockenv/lib/python3.6/site-packages/sklearn/linear_model/stochastic_gradient.py:166: FutureWarning: max_iter and tol parameters have been added in SGDClassifier in 0.19. If both are left unset, they default to max_iter=5 and tol=None. If tol is not None, max_iter defaults to max_iter=1000. From 0.21, default max_iter will be 1000, and default tol will be 1e-3.\n",
      "  FutureWarning)\n"
     ]
    }
   ],
   "source": [
    "from sklearn.linear_model import SGDClassifier\n",
    "\n",
    "# 用10-Fold CV並且列出平均的效率\n",
    "\n",
    "\n",
    "# 呼叫單個model MLP\n",
    "model_SGDClassifier = SGDClassifier(loss='hinge')\n",
    "#model_SGDClassifier = SGDClassifier(loss='log')\n",
    "name = 'SVC'\n",
    "kfold = model_selection.KFold(n_splits=5, random_state=seed)   #分割 10% cross validation\n",
    "\n",
    "cv_results = model_selection.cross_val_score(model_SGDClassifier, X_train, Y_train, cv=kfold, scoring='accuracy')\n",
    "#model用MLP()                cross valitation \n",
    "\n",
    "print(cv_results)\n",
    "print(\"%s: %f (%f)\" % (name, cv_results.mean(), cv_results.std()))\n"
   ]
  },
  {
   "cell_type": "code",
   "execution_count": 91,
   "metadata": {},
   "outputs": [
    {
     "name": "stderr",
     "output_type": "stream",
     "text": [
      "/home/barry/miniconda3/envs/stockenv/lib/python3.6/site-packages/sklearn/linear_model/stochastic_gradient.py:166: FutureWarning: max_iter and tol parameters have been added in SGDClassifier in 0.19. If both are left unset, they default to max_iter=5 and tol=None. If tol is not None, max_iter defaults to max_iter=1000. From 0.21, default max_iter will be 1000, and default tol will be 1e-3.\n",
      "  FutureWarning)\n"
     ]
    },
    {
     "name": "stdout",
     "output_type": "stream",
     "text": [
      "0.8573743922204214\n",
      "0.5711974110032363\n",
      "[[194  26  39]\n",
      " [ 71  74  43]\n",
      " [ 71  15  85]]\n",
      "              precision    recall  f1-score   support\n",
      "\n",
      "        down       0.58      0.75      0.65       259\n",
      "        even       0.64      0.39      0.49       188\n",
      "          up       0.51      0.50      0.50       171\n",
      "\n",
      "   micro avg       0.57      0.57      0.57       618\n",
      "   macro avg       0.58      0.55      0.55       618\n",
      "weighted avg       0.58      0.57      0.56       618\n",
      "\n",
      "[[ 0.69879999 -1.15367525  0.27421264 ...  0.99615086 -0.55054423\n",
      "  -0.20953561]\n",
      " [ 1.09554113  1.80250954 -2.6579582  ... -0.65878216  1.10747626\n",
      "   0.56043432]\n",
      " [-1.78418489 -0.75221912  1.83978979 ... -0.38981182  0.12426555\n",
      "  -0.68127591]]\n"
     ]
    }
   ],
   "source": [
    "model_SGDClassifier = SGDClassifier(loss='hinge')\n",
    "model_SGDClassifier.fit(X_train, Y_train)\n",
    "print(model_SGDClassifier.score(X_train, Y_train))\n",
    "predictions = model_SGDClassifier.predict(X_validation)\n",
    "print(accuracy_score(Y_validation, predictions))\n",
    "print(confusion_matrix(Y_validation, predictions))\n",
    "print(classification_report(Y_validation, predictions))\n",
    "print(model_SGDClassifier.coef_)"
   ]
  },
  {
   "cell_type": "code",
   "execution_count": 65,
   "metadata": {},
   "outputs": [
    {
     "name": "stderr",
     "output_type": "stream",
     "text": [
      "/home/barry/miniconda3/envs/stockenv/lib/python3.6/site-packages/sklearn/neural_network/multilayer_perceptron.py:564: UserWarning: Training interrupted by user.\n",
      "  warnings.warn(\"Training interrupted by user.\")\n",
      "/home/barry/miniconda3/envs/stockenv/lib/python3.6/site-packages/sklearn/neural_network/multilayer_perceptron.py:564: UserWarning: Training interrupted by user.\n",
      "  warnings.warn(\"Training interrupted by user.\")\n",
      "/home/barry/miniconda3/envs/stockenv/lib/python3.6/site-packages/sklearn/neural_network/multilayer_perceptron.py:564: UserWarning: Training interrupted by user.\n",
      "  warnings.warn(\"Training interrupted by user.\")\n",
      "/home/barry/miniconda3/envs/stockenv/lib/python3.6/site-packages/sklearn/neural_network/multilayer_perceptron.py:564: UserWarning: Training interrupted by user.\n",
      "  warnings.warn(\"Training interrupted by user.\")\n"
     ]
    },
    {
     "name": "stdout",
     "output_type": "stream",
     "text": [
      "[0.57894737 0.55870445 0.4757085  0.49290061 0.48275862]\n",
      "MLP: 0.517804 (0.042501)\n"
     ]
    },
    {
     "name": "stderr",
     "output_type": "stream",
     "text": [
      "/home/barry/miniconda3/envs/stockenv/lib/python3.6/site-packages/sklearn/neural_network/multilayer_perceptron.py:564: UserWarning: Training interrupted by user.\n",
      "  warnings.warn(\"Training interrupted by user.\")\n"
     ]
    }
   ],
   "source": [
    "# 用10-Fold CV並且列出平均的效率\n",
    "\n",
    "\n",
    "# 呼叫單個model MLP\n",
    "model_MLP = MLPClassifier(hidden_layer_sizes=(256,256, ),max_iter=256)\n",
    "name = 'MLP'\n",
    "kfold = model_selection.KFold(n_splits=5, random_state=seed)   #分割 10% cross validation\n",
    "\n",
    "cv_results = model_selection.cross_val_score(model_MLP, X_train, Y_train, cv=kfold, scoring='accuracy')\n",
    "#model用MLP()                cross valitation \n",
    "\n",
    "print(cv_results)\n",
    "print(\"%s: %f (%f)\" % (name, cv_results.mean(), cv_results.std()))"
   ]
  },
  {
   "cell_type": "code",
   "execution_count": 61,
   "metadata": {},
   "outputs": [
    {
     "name": "stdout",
     "output_type": "stream",
     "text": [
      "0.9959481361426256\n",
      "0.5889967637540453\n",
      "[[168  45  46]\n",
      " [ 52  97  39]\n",
      " [ 48  24  99]]\n",
      "              precision    recall  f1-score   support\n",
      "\n",
      "        down       0.63      0.65      0.64       259\n",
      "        even       0.58      0.52      0.55       188\n",
      "          up       0.54      0.58      0.56       171\n",
      "\n",
      "   micro avg       0.59      0.59      0.59       618\n",
      "   macro avg       0.58      0.58      0.58       618\n",
      "weighted avg       0.59      0.59      0.59       618\n",
      "\n",
      "[array([[ 0.01382281,  0.00283722,  0.01496462, ...,  0.02167184,\n",
      "        -0.00815316, -0.0150259 ],\n",
      "       [ 0.01928047,  0.03447127, -0.01210945, ...,  0.0032665 ,\n",
      "         0.03205267, -0.02527464],\n",
      "       [ 0.01242762,  0.03348187,  0.07025189, ...,  0.03994585,\n",
      "         0.03789878,  0.02756364],\n",
      "       ...,\n",
      "       [ 0.05053714, -0.02739861, -0.00891893, ...,  0.05908764,\n",
      "         0.02003674, -0.00259416],\n",
      "       [-0.02711615,  0.01101429, -0.01204093, ...,  0.01767039,\n",
      "         0.0144524 , -0.02602398],\n",
      "       [-0.00149117, -0.06788955, -0.01506552, ..., -0.00434457,\n",
      "         0.0184568 , -0.03484795]]), array([[-2.05899148e-12,  6.95159502e-02, -6.69758635e-02, ...,\n",
      "         1.56812896e-04, -1.82865214e-03,  1.89027290e-01],\n",
      "       [-1.50144338e-06, -1.31073045e-01,  6.77427852e-02, ...,\n",
      "         9.70042041e-02, -2.55227709e-02, -2.25866876e-02],\n",
      "       [ 1.47548689e-09,  1.44958067e-01,  1.02627021e-01, ...,\n",
      "        -2.62583710e-02, -3.39692940e-03,  1.03996494e-01],\n",
      "       ...,\n",
      "       [-9.66229607e-08,  1.31453840e-01,  3.49409494e-03, ...,\n",
      "        -6.85506010e-02, -1.69077323e-12,  5.31689769e-02],\n",
      "       [-2.21859155e-16, -2.06500107e-01,  1.21718191e-01, ...,\n",
      "        -2.95273578e-02, -8.37954648e-03, -1.27712285e-01],\n",
      "       [-1.02944540e-13,  3.24927955e-02,  1.59063032e-02, ...,\n",
      "        -7.31318907e-02, -1.89767467e-10, -3.33085018e-02]]), array([[-1.11813022e-04, -3.51762643e-06,  6.70932258e-13],\n",
      "       [ 2.66033587e-01, -1.08880480e-01, -6.16418604e-02],\n",
      "       [-1.64813950e-01,  2.61741510e-01,  1.35851567e-01],\n",
      "       [-2.74828293e-01, -1.64137549e-01,  3.00503533e-01],\n",
      "       [-9.29545188e-02,  6.37281345e-02,  2.44281078e-01],\n",
      "       [-2.04236702e-01, -1.62980318e-01,  1.62455262e-01],\n",
      "       [-1.49648448e-01,  2.60411862e-01,  1.51168778e-01],\n",
      "       [ 5.11556651e-14, -1.69370955e-04, -3.54440791e-05],\n",
      "       [ 1.92980614e-01,  1.47116731e-01, -6.72830563e-02],\n",
      "       [ 1.83140515e-01, -1.86498125e-01,  8.96940166e-02],\n",
      "       [ 2.62246824e-05,  1.87667614e-04, -9.52025590e-08],\n",
      "       [ 5.63971575e-02,  1.10324573e-01, -2.76371242e-01],\n",
      "       [ 2.29090786e-01,  8.28282345e-02, -2.00658234e-01],\n",
      "       [ 4.77698704e-02,  9.43764602e-02, -2.27212142e-01],\n",
      "       [-2.05278530e-01, -1.51268012e-01,  1.77343210e-01],\n",
      "       [-1.15123030e-01,  2.08447826e-01, -2.69261480e-01],\n",
      "       [ 1.08331602e-06, -2.78579725e-12, -1.40108133e-10],\n",
      "       [-9.82998085e-03,  2.53914051e-01, -4.12647728e-02],\n",
      "       [ 2.18905059e-01, -4.61811930e-02, -8.30581960e-02],\n",
      "       [-2.24385141e-01,  2.35057701e-01, -7.39676445e-02],\n",
      "       [-4.89419138e-09,  5.88937826e-07,  1.17548741e-04],\n",
      "       [ 4.69990380e-08, -2.12273172e-05, -5.99472941e-05],\n",
      "       [-1.35751251e-01,  2.17589253e-01,  2.16041540e-01],\n",
      "       [ 2.36054008e-01,  1.10648093e-02, -1.68320827e-01],\n",
      "       [ 1.02605397e-01, -3.80885498e-01,  1.10684904e-01],\n",
      "       [-3.10013327e-05,  1.02890339e-05, -4.89461042e-08],\n",
      "       [ 2.91312909e-05, -3.49497856e-05,  1.81883085e-04],\n",
      "       [ 1.53903388e-01,  1.08792868e-01, -1.65176057e-01],\n",
      "       [ 1.03816244e-01,  2.07108867e-01, -2.49754746e-01],\n",
      "       [-8.06916344e-02, -9.20835193e-02, -1.17202857e-01],\n",
      "       [-2.06343755e-01,  2.12979692e-01, -9.24305838e-02],\n",
      "       [ 9.16314368e-02, -2.54440378e-01, -1.39630809e-01],\n",
      "       [-2.20511234e-01,  4.88951441e-02,  2.06617115e-01],\n",
      "       [ 1.33903390e-04, -1.81194442e-05, -7.38977265e-07],\n",
      "       [ 1.92853495e-01, -1.76989728e-01, -1.71500772e-01],\n",
      "       [ 2.16904962e-01, -1.07734260e-01, -1.32095536e-01],\n",
      "       [-1.26226601e-01, -1.93199953e-01,  2.07123024e-01],\n",
      "       [-1.03890979e-01, -8.04676947e-02, -4.74259129e-02],\n",
      "       [ 3.08358886e-05,  1.09522609e-05, -1.37936885e-05],\n",
      "       [ 1.83243242e-01, -2.45331064e-01, -8.56393143e-02],\n",
      "       [-2.22554961e-01,  2.77195144e-01, -4.77007187e-02],\n",
      "       [-1.24873436e-02,  6.27986466e-02, -2.10982805e-01],\n",
      "       [ 1.40026686e-01, -2.07289729e-01, -1.72832079e-01],\n",
      "       [ 2.68199652e-01, -1.89005683e-01,  8.35011912e-02],\n",
      "       [ 9.24263448e-02, -1.59033128e-01, -1.18347457e-01],\n",
      "       [ 8.07250389e-14,  1.47959979e-04, -3.98791192e-07],\n",
      "       [ 3.82720854e-08, -2.22632878e-14,  5.31403096e-15],\n",
      "       [-2.35650257e-01, -2.74261761e-01,  2.20171928e-01],\n",
      "       [-2.04483935e-01, -2.57668199e-01,  1.71585440e-01],\n",
      "       [ 2.77645736e-01, -1.88254405e-01, -1.88348860e-01],\n",
      "       [-1.80063229e-01,  1.63499410e-01,  2.47310146e-01],\n",
      "       [-2.09643684e-01, -2.09888399e-01,  2.27296372e-01],\n",
      "       [-2.17065484e-04, -7.17970608e-05, -4.68430546e-17],\n",
      "       [ 2.01120685e-01, -1.24329535e-01, -1.63187957e-01],\n",
      "       [-1.70497488e-01,  7.03595583e-02, -7.84494537e-02],\n",
      "       [ 1.67294509e-01,  2.09468878e-01, -1.15371599e-01],\n",
      "       [ 1.20087701e-01, -1.81041323e-01,  5.48726125e-03],\n",
      "       [-1.36642025e-01,  1.78512274e-01, -2.19517935e-01],\n",
      "       [ 6.82358097e-02,  2.37534325e-02,  7.22483559e-02],\n",
      "       [ 1.75241577e-01, -2.28437236e-01, -1.48002547e-01],\n",
      "       [-1.17086934e-01,  2.53730304e-01,  1.24010264e-01],\n",
      "       [-2.07326795e-01,  2.42848379e-01,  3.45696164e-02],\n",
      "       [-1.19677841e-01, -2.17924767e-01,  2.48433533e-01],\n",
      "       [ 2.09926684e-01, -3.20233583e-02, -1.54169874e-01],\n",
      "       [ 5.72808320e-02, -2.63954517e-01,  1.69489239e-01],\n",
      "       [-2.48167811e-01, -2.56699710e-01,  1.14392417e-01],\n",
      "       [-3.04906860e-02,  6.45077046e-02,  2.03212230e-02],\n",
      "       [-1.92557367e-01, -1.95847192e-01,  2.66708447e-01],\n",
      "       [ 2.48224093e-01, -1.73093633e-01,  3.69530579e-02],\n",
      "       [-1.03276313e-03, -8.47226715e-02, -4.26904396e-03],\n",
      "       [ 2.45199959e-06, -1.10434495e-03,  6.41364689e-04],\n",
      "       [ 1.27816623e-01, -2.21236375e-01,  2.37678483e-01],\n",
      "       [ 1.44943218e-01, -9.71988556e-02, -2.65483005e-01],\n",
      "       [ 8.05148182e-17,  8.04131029e-05,  2.32808837e-05],\n",
      "       [-2.56944362e-01,  1.83927710e-01,  1.04733380e-01],\n",
      "       [ 2.86478445e-12,  2.93507371e-05,  1.61991949e-07],\n",
      "       [-8.03496832e-02, -1.04703707e-01,  2.68915643e-01],\n",
      "       [ 2.74400906e-01, -3.17865278e-02,  3.05395448e-02],\n",
      "       [ 7.68988565e-02, -2.94370707e-01, -4.49815100e-02],\n",
      "       [-1.11648885e-01,  1.26729999e-02,  8.92352856e-02],\n",
      "       [-2.83033547e-01,  2.69013406e-02, -2.04709246e-01],\n",
      "       [-1.53953296e-01,  1.61740424e-01, -1.07448928e-01],\n",
      "       [-8.26381440e-02, -2.02085618e-01,  2.55604857e-01],\n",
      "       [-1.05690385e-01,  1.61683028e-01,  2.06127058e-01],\n",
      "       [ 2.57784724e-06, -3.11590735e-12,  4.98162607e-06],\n",
      "       [ 4.29470788e-02, -2.36296657e-03,  1.18213246e-02],\n",
      "       [-2.96738859e-03, -2.43992595e-01,  1.14656465e-01],\n",
      "       [ 4.89026274e-02, -1.28274209e-01,  7.66085404e-02],\n",
      "       [ 1.17475491e-05, -4.38958704e-05,  1.72321879e-09],\n",
      "       [ 6.32803593e-02,  2.56205497e-01, -1.89368044e-01],\n",
      "       [ 1.07630457e-07,  7.70692671e-13, -1.81461376e-07],\n",
      "       [-8.20454721e-02,  1.99482201e-01, -2.87976244e-01],\n",
      "       [-9.86099190e-02, -2.14002885e-01,  1.16479189e-01],\n",
      "       [-2.65326991e-01,  1.32028248e-01,  4.03140674e-02],\n",
      "       [ 2.45326067e-01,  8.85149637e-02, -2.62505039e-01],\n",
      "       [-2.80405240e-01, -2.43944186e-01,  1.99002867e-01],\n",
      "       [ 2.01539654e-01,  2.27651500e-01, -3.86808525e-02],\n",
      "       [-3.75583182e-02, -1.05232305e-01,  2.59676957e-01],\n",
      "       [ 9.71845132e-02, -9.43912227e-02, -1.49462652e-01],\n",
      "       [ 9.86827920e-03, -2.66970687e-01,  3.59422262e-02],\n",
      "       [ 2.28021492e-01, -1.98249088e-01,  1.46196666e-01],\n",
      "       [ 2.18986943e-01,  2.54769410e-01, -9.44999975e-02],\n",
      "       [ 1.87765510e-01, -1.73389724e-01,  1.83963011e-01],\n",
      "       [ 1.61881663e-01,  3.55860842e-02, -2.85108769e-01],\n",
      "       [ 1.72832097e-01,  7.15572283e-02, -2.04686781e-01],\n",
      "       [-3.52678503e-06, -2.01397746e-04,  7.69962627e-07],\n",
      "       [-2.22820885e-01, -1.72612892e-01,  2.07729752e-01],\n",
      "       [ 3.72512961e-02, -2.27836719e-01,  4.70959705e-02],\n",
      "       [-1.75529188e-01,  1.63752487e-01,  2.46515738e-01],\n",
      "       [-3.92969881e-05,  1.27255483e-08, -4.34915338e-06],\n",
      "       [ 8.37928890e-05,  4.15144200e-05, -7.40118103e-05],\n",
      "       [ 1.75251932e-12, -5.68543195e-07,  3.28121334e-16],\n",
      "       [-2.54302737e-01,  1.43006116e-01,  2.22517348e-01],\n",
      "       [ 2.69256038e-01, -1.06429271e-01, -1.39047553e-01],\n",
      "       [-2.83756572e-01, -2.75772535e-01,  2.97751592e-01],\n",
      "       [ 1.12882487e-01, -1.21910366e-01,  1.35702833e-01],\n",
      "       [ 8.76272603e-02, -4.44487157e-02, -1.09057285e-02],\n",
      "       [ 2.91088254e-02,  2.15567293e-01, -2.60430335e-01],\n",
      "       [-1.64700456e-07,  8.44270841e-05,  3.85384382e-09],\n",
      "       [-1.77211824e-01,  1.87160335e-01,  1.42636270e-01],\n",
      "       [ 2.20327286e-01, -1.73669840e-01, -2.69636668e-01],\n",
      "       [-4.22090265e-02, -2.00120361e-02,  7.92271459e-02],\n",
      "       [ 6.51414930e-02, -1.12036525e-02, -2.58156250e-01],\n",
      "       [-1.82666118e-01,  2.31886962e-01, -2.19794435e-01],\n",
      "       [ 2.04831820e-01, -2.57608701e-01, -1.57641390e-01],\n",
      "       [-8.91419996e-02, -1.08984838e-01, -5.33230591e-02],\n",
      "       [ 8.09098398e-02, -2.51560039e-01,  7.90065056e-02],\n",
      "       [-2.33056772e-01, -2.76906008e-01,  2.77815734e-01],\n",
      "       [ 6.15535108e-10,  6.17764880e-12, -6.37872922e-08],\n",
      "       [-1.46168435e-04, -7.43134654e-08,  8.01272625e-05],\n",
      "       [-1.58165674e-01,  1.45041805e-01, -1.15071646e-01],\n",
      "       [-1.17203553e-01, -2.92652499e-01,  9.24196216e-03],\n",
      "       [ 2.11502736e-01, -2.43547377e-01,  3.16984333e-02],\n",
      "       [ 2.86116848e-10, -5.64573285e-05, -4.57933350e-12],\n",
      "       [-2.57551001e-01,  4.84171877e-02, -4.63503391e-02],\n",
      "       [-2.54175196e-05, -1.48955770e-05, -1.65955724e-05],\n",
      "       [-8.94077516e-02,  2.62558363e-01,  8.97780253e-02],\n",
      "       [-1.28980516e-01,  1.03469402e-01, -2.48362347e-01],\n",
      "       [-2.66687144e-01, -2.20101212e-01,  1.37156924e-01],\n",
      "       [ 2.51784509e-01, -4.81372211e-02, -1.67830992e-01],\n",
      "       [-4.43665913e-07,  1.44375347e-04, -1.29380591e-07],\n",
      "       [-1.56716120e-01,  1.56013706e-01, -2.31566414e-01],\n",
      "       [-2.19638398e-01,  1.59814696e-01, -7.89415915e-03],\n",
      "       [ 4.33999913e-02, -1.11793124e-01,  5.28870864e-03],\n",
      "       [ 7.23224008e-02,  1.55055479e-01, -1.61023317e-01],\n",
      "       [-1.95228677e-01,  1.82891253e-01,  1.92002402e-02],\n",
      "       [ 2.48149591e-02,  1.86650986e-02, -2.76080148e-01],\n",
      "       [-6.98307320e-02,  1.21372307e-01, -1.60999287e-01],\n",
      "       [-2.64097753e-01,  2.20485460e-01, -1.38972082e-01],\n",
      "       [-2.58017130e-01,  1.94528333e-01,  1.83392707e-02],\n",
      "       [-1.71591222e-01,  7.18429204e-02,  2.50746604e-01],\n",
      "       [ 8.16635383e-02,  5.82255811e-02,  4.74900076e-03],\n",
      "       [ 2.26393853e-01,  5.48950956e-02, -3.81537573e-02],\n",
      "       [ 3.61218846e-02, -8.11335075e-02, -2.41980430e-01],\n",
      "       [ 2.22916589e-01,  1.26803404e-02, -2.51140049e-01],\n",
      "       [ 3.27209057e-12,  1.10900848e-10,  2.12470065e-05],\n",
      "       [-1.90572678e-01,  2.61718169e-01, -2.81706772e-03],\n",
      "       [ 1.10897432e-04,  5.04486534e-06,  2.37680998e-07],\n",
      "       [ 7.83609410e-03,  7.07333901e-02, -1.00049854e-01],\n",
      "       [-2.00272404e-01,  1.60672786e-01,  1.00885411e-01],\n",
      "       [-2.20819956e-02, -3.03158418e-01,  1.65029039e-01],\n",
      "       [-1.45879744e-01,  2.37906622e-01,  1.75281015e-01],\n",
      "       [ 1.42236317e-01,  5.96706419e-02, -2.25553852e-01],\n",
      "       [ 9.99983844e-02, -2.08191580e-01, -1.99305548e-01],\n",
      "       [ 5.55394665e-02,  1.36934215e-01, -1.31926378e-01],\n",
      "       [-2.48819827e-01,  1.09878545e-01,  3.19233635e-02],\n",
      "       [ 2.47425744e-01, -2.39422276e-01,  1.01540439e-02],\n",
      "       [ 7.14664674e-02, -3.25058498e-01,  1.36245979e-01],\n",
      "       [ 1.78567448e-01,  1.53951509e-01, -2.14239118e-01],\n",
      "       [ 2.13580379e-01, -2.88370565e-01,  7.40403407e-02],\n",
      "       [-1.07983649e-01,  8.66203516e-02, -8.07197130e-02],\n",
      "       [ 1.62851433e-01, -1.33945519e-01, -1.18324431e-01],\n",
      "       [-1.80090130e-01,  2.43843322e-01,  2.11476812e-01],\n",
      "       [-1.10623867e-01,  1.93961575e-01, -8.82667542e-02],\n",
      "       [-1.00439049e-01, -2.62342322e-01,  2.87467358e-01],\n",
      "       [-5.88450530e-02,  1.87101618e-01, -2.78040556e-02],\n",
      "       [-1.44889451e-01,  1.80575047e-01,  1.02739151e-01],\n",
      "       [ 2.27473249e-01, -1.65370340e-01, -2.21698043e-01],\n",
      "       [-1.93580414e-03,  2.61412176e-01, -2.47532091e-01],\n",
      "       [-2.58221388e-01,  4.64730419e-02,  2.04158503e-01],\n",
      "       [ 1.48972240e-01, -2.59276115e-01,  6.68282983e-02],\n",
      "       [ 1.59571418e-01, -1.31332365e-01, -1.43756874e-01],\n",
      "       [ 2.70851176e-01, -2.21568712e-01, -2.09448766e-01],\n",
      "       [ 6.58422110e-04,  2.49104956e-01, -2.06907659e-01],\n",
      "       [-7.86633686e-05, -1.03228674e-13, -7.29223581e-06],\n",
      "       [ 1.70596778e-01,  1.57315588e-01, -1.22361284e-01],\n",
      "       [ 1.43669479e-01, -1.82278760e-01,  5.11405480e-03],\n",
      "       [-2.60721932e-06, -2.24151099e-04, -1.67898446e-15],\n",
      "       [ 2.36750774e-01,  2.86487117e-02, -2.73830951e-01],\n",
      "       [ 1.54014535e-01, -1.67716739e-01, -5.20884630e-02],\n",
      "       [-1.28400245e-01,  2.13003965e-01, -1.05761069e-01],\n",
      "       [-2.26057078e-01, -2.34137799e-01,  2.40415282e-01],\n",
      "       [ 1.87925224e-01, -1.62720392e-01, -2.07981303e-01],\n",
      "       [ 7.55828345e-03, -2.21964797e-02, -1.66017929e-02],\n",
      "       [-8.79396509e-02, -2.45526869e-01,  2.48710044e-01],\n",
      "       [-1.92428948e-01, -2.08794856e-01,  2.66509482e-01],\n",
      "       [-1.17388725e-01,  2.54653006e-01, -6.17292657e-02],\n",
      "       [-2.22340710e-01,  1.54795879e-01, -1.21063404e-01],\n",
      "       [-2.49414808e-13, -2.35527840e-10,  5.81376717e-08],\n",
      "       [ 1.28927355e-01, -2.67683962e-01,  1.54240372e-01],\n",
      "       [ 3.28561999e-02, -2.74745838e-01,  2.14291667e-02],\n",
      "       [-6.55709669e-02, -1.58070440e-01,  2.85826435e-01],\n",
      "       [ 7.77728045e-02,  1.79392733e-01, -1.36259971e-01],\n",
      "       [-2.41841035e-01,  6.37386130e-02, -2.15545197e-01],\n",
      "       [-1.63472043e-01,  8.02868526e-02,  2.31843679e-01],\n",
      "       [ 1.89749148e-01, -2.96293545e-01,  7.32466035e-02],\n",
      "       [ 1.28866079e-01, -1.99794479e-01, -5.78332831e-02],\n",
      "       [ 2.21675911e-01, -8.05254869e-02, -9.42213813e-02],\n",
      "       [-2.16563482e-01,  2.61778594e-01, -5.89272915e-02],\n",
      "       [ 1.46019731e-04, -2.76643602e-07,  2.79505394e-07],\n",
      "       [-1.31406865e-01, -2.19023336e-01,  1.72022910e-01],\n",
      "       [ 1.09822993e-10, -5.19812961e-08,  4.02747720e-05],\n",
      "       [ 1.65949368e-06, -1.53639739e-06, -3.30165576e-05],\n",
      "       [-1.10790141e-09,  3.14264051e-15, -1.48186863e-12],\n",
      "       [ 2.50657444e-01, -1.69388962e-01, -7.27107607e-02],\n",
      "       [ 1.72651301e-01, -2.49290077e-01,  4.77270925e-02],\n",
      "       [-2.31261717e-01,  6.89538861e-02,  2.54419603e-01],\n",
      "       [ 1.39478381e-01, -2.49417069e-01,  1.47700501e-01],\n",
      "       [-1.39527841e-03, -7.72382490e-02,  1.80294668e-02],\n",
      "       [ 2.21411642e-01,  2.56801478e-01, -2.83257551e-01],\n",
      "       [-5.48493579e-02, -2.82498253e-01,  1.01494633e-02],\n",
      "       [ 1.90121893e-01, -8.09108694e-02, -2.90777758e-01],\n",
      "       [-2.59804369e-01,  1.40808947e-01,  5.74829495e-02],\n",
      "       [ 2.75292937e-02,  5.45106895e-02, -2.69249585e-01],\n",
      "       [-1.99265495e-01,  2.35141440e-01, -1.83270761e-01],\n",
      "       [-8.84034264e-02,  2.72042057e-01, -2.70923291e-02],\n",
      "       [ 2.22420530e-02, -2.38219108e-01,  2.39969164e-01],\n",
      "       [ 1.61519140e-01,  8.26748207e-02, -2.06994573e-01],\n",
      "       [ 1.64745174e-01, -2.50366649e-01,  2.00373739e-02],\n",
      "       [ 9.19353149e-02, -9.83452571e-02, -2.01379533e-03],\n",
      "       [ 1.03651107e-01, -3.14173894e-01, -1.29322747e-01],\n",
      "       [ 1.12286166e-01,  2.18046436e-01, -5.63214590e-02],\n",
      "       [-2.18916510e-01, -8.74659851e-03,  2.36429323e-01],\n",
      "       [ 1.98540526e-01, -1.54996432e-01, -4.95096306e-02],\n",
      "       [-2.39059856e-01, -1.09096665e-01,  2.07130150e-01],\n",
      "       [-6.11455193e-05, -1.42474520e-06, -1.06871484e-05],\n",
      "       [ 1.91943075e-01, -1.32300274e-01,  7.01251588e-02],\n",
      "       [ 2.35614953e-01, -1.64098141e-01, -6.63127607e-02],\n",
      "       [ 9.02897925e-02, -1.92374803e-01, -1.59557822e-01],\n",
      "       [-7.91686375e-02, -1.05824167e-01,  1.52768710e-01],\n",
      "       [ 3.34194528e-12,  3.31584667e-12,  9.24995888e-14],\n",
      "       [ 6.51627727e-02, -7.47443955e-03, -2.12438228e-01],\n",
      "       [-4.20869695e-03, -1.54179949e-02,  2.98062249e-02],\n",
      "       [ 2.27625737e-01,  2.03415548e-01, -6.33477446e-02],\n",
      "       [ 1.02071748e-01, -1.86359677e-01, -2.44741000e-01],\n",
      "       [ 4.94300109e-02, -2.69519000e-01,  1.02991069e-01],\n",
      "       [ 1.67831187e-03, -2.52802023e-02, -1.08434410e-02],\n",
      "       [ 2.78609080e-12, -6.44496771e-05, -1.85297636e-08],\n",
      "       [ 2.71621473e-02, -2.09321323e-01,  1.92483852e-01],\n",
      "       [ 3.34562422e-05,  9.79839913e-06,  1.12938372e-04],\n",
      "       [-3.00414149e-01,  2.08271161e-01,  1.05849914e-02],\n",
      "       [-2.59755230e-01,  1.98475230e-01, -2.14931285e-01],\n",
      "       [-1.79119746e-01, -2.47083811e-01,  2.24532814e-01],\n",
      "       [-5.52708023e-02,  1.75251661e-01, -1.76855086e-01],\n",
      "       [ 2.61834503e-02,  8.11974669e-03, -1.22184350e-02],\n",
      "       [ 2.98088699e-01, -2.24056636e-01, -2.04300125e-01]])]\n"
     ]
    }
   ],
   "source": [
    "model_MLP = MLPClassifier(hidden_layer_sizes=(256, 256,), max_iter=256)\n",
    "model_MLP.fit(X_train, Y_train)\n",
    "print(model_MLP.score(X_train, Y_train))\n",
    "\n",
    "predictions = model_MLP.predict(X_validation)\n",
    "print(accuracy_score(Y_validation, predictions))\n",
    "print(confusion_matrix(Y_validation, predictions))\n",
    "print(classification_report(Y_validation, predictions))\n",
    "print(model_MLP.coefs_)"
   ]
  },
  {
   "cell_type": "code",
   "execution_count": 62,
   "metadata": {},
   "outputs": [],
   "source": [
    "#df_company2.to_csv('5pa.csv')"
   ]
  },
  {
   "cell_type": "code",
   "execution_count": null,
   "metadata": {},
   "outputs": [],
   "source": []
  }
 ],
 "metadata": {
  "kernelspec": {
   "display_name": "Python 3",
   "language": "python",
   "name": "python3"
  },
  "language_info": {
   "codemirror_mode": {
    "name": "ipython",
    "version": 3
   },
   "file_extension": ".py",
   "mimetype": "text/x-python",
   "name": "python",
   "nbconvert_exporter": "python",
   "pygments_lexer": "ipython3",
   "version": "3.6.8"
  }
 },
 "nbformat": 4,
 "nbformat_minor": 2
}
