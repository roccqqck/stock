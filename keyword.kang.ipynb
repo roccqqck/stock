{
 "cells": [
  {
   "cell_type": "code",
   "execution_count": 1,
   "metadata": {},
   "outputs": [],
   "source": [
    "import jieba\n",
    "import jieba.analyse\n",
    "import csv\n",
    "import pandas as pd\n",
    "jieba.set_dictionary('dict.idkrsi.txt')\n",
    "jieba.analyse.set_stop_words(\"stopword.goatwang.kang.txt\")"
   ]
  },
  {
   "cell_type": "code",
   "execution_count": 2,
   "metadata": {},
   "outputs": [],
   "source": [
    "stopwords=list()\n",
    "with open('stopword.goatwang.kang.txt', 'r',encoding='utf-8') as data:\n",
    "    for stopword in data:\n",
    "        stopwords.append(stopword.strip('\\n'))"
   ]
  },
  {
   "cell_type": "code",
   "execution_count": 3,
   "metadata": {},
   "outputs": [
    {
     "data": {
      "text/plain": [
       "list"
      ]
     },
     "execution_count": 3,
     "metadata": {},
     "output_type": "execute_result"
    }
   ],
   "source": [
    "type(stopwords)"
   ]
  },
  {
   "cell_type": "code",
   "execution_count": 4,
   "metadata": {},
   "outputs": [
    {
     "data": {
      "text/plain": [
       "['\\ufeff\\ufeff,',\n",
       " '',\n",
       " '、',\n",
       " '。',\n",
       " '“',\n",
       " '”',\n",
       " '《',\n",
       " '》',\n",
       " '！',\n",
       " '，',\n",
       " '：',\n",
       " '；',\n",
       " '？',\n",
       " '人民',\n",
       " '末##末',\n",
       " '啊',\n",
       " '阿',\n",
       " '哎',\n",
       " '哎呀',\n",
       " '哎喲']"
      ]
     },
     "execution_count": 4,
     "metadata": {},
     "output_type": "execute_result"
    }
   ],
   "source": [
    "stopwords[0:20]"
   ]
  },
  {
   "cell_type": "code",
   "execution_count": 5,
   "metadata": {},
   "outputs": [
    {
     "data": {
      "text/html": [
       "<div>\n",
       "<style scoped>\n",
       "    .dataframe tbody tr th:only-of-type {\n",
       "        vertical-align: middle;\n",
       "    }\n",
       "\n",
       "    .dataframe tbody tr th {\n",
       "        vertical-align: top;\n",
       "    }\n",
       "\n",
       "    .dataframe thead th {\n",
       "        text-align: right;\n",
       "    }\n",
       "</style>\n",
       "<table border=\"1\" class=\"dataframe\">\n",
       "  <thead>\n",
       "    <tr style=\"text-align: right;\">\n",
       "      <th></th>\n",
       "      <th>id</th>\n",
       "      <th>p_type</th>\n",
       "      <th>s_name</th>\n",
       "      <th>s_area_name</th>\n",
       "      <th>post_time</th>\n",
       "      <th>title</th>\n",
       "      <th>author</th>\n",
       "      <th>content</th>\n",
       "      <th>page_url</th>\n",
       "    </tr>\n",
       "  </thead>\n",
       "  <tbody>\n",
       "    <tr>\n",
       "      <th>0</th>\n",
       "      <td>1451580107540_N01</td>\n",
       "      <td>news</td>\n",
       "      <td>yahoo股市</td>\n",
       "      <td>重大要聞</td>\n",
       "      <td>2016/1/1 00:06:00</td>\n",
       "      <td>淪落的2015 竟是78年來最難獲利的一年</td>\n",
       "      <td>鉅亨網</td>\n",
       "      <td>鉅亨網編譯郭照青這一年，獲利真是難上難。&lt;BR&gt;根據CNBC分析報導，興業銀行的數據顯示，2...</td>\n",
       "      <td>https://tw.stock.yahoo.com/news_content/url/d/...</td>\n",
       "    </tr>\n",
       "    <tr>\n",
       "      <th>1</th>\n",
       "      <td>1451582807314_N01</td>\n",
       "      <td>news</td>\n",
       "      <td>yahoo股市</td>\n",
       "      <td>重大要聞</td>\n",
       "      <td>2016/1/1 00:52:00</td>\n",
       "      <td>美股盤中─今年最後交易日 道瓊大跌逾150點 注意油價走勢</td>\n",
       "      <td>鉅亨網</td>\n",
       "      <td>鉅亨網編譯郭照青今日為2015年最後交易日，美國股市中場走低，投資人注意油價走勢。&lt;BR&gt;道...</td>\n",
       "      <td>https://tw.stock.yahoo.com/news_content/url/d/...</td>\n",
       "    </tr>\n",
       "  </tbody>\n",
       "</table>\n",
       "</div>"
      ],
      "text/plain": [
       "                  id p_type   s_name s_area_name          post_time  \\\n",
       "0  1451580107540_N01   news  yahoo股市        重大要聞  2016/1/1 00:06:00   \n",
       "1  1451582807314_N01   news  yahoo股市        重大要聞  2016/1/1 00:52:00   \n",
       "\n",
       "                           title author  \\\n",
       "0          淪落的2015 竟是78年來最難獲利的一年    鉅亨網   \n",
       "1  美股盤中─今年最後交易日 道瓊大跌逾150點 注意油價走勢    鉅亨網   \n",
       "\n",
       "                                             content  \\\n",
       "0  鉅亨網編譯郭照青這一年，獲利真是難上難。<BR>根據CNBC分析報導，興業銀行的數據顯示，2...   \n",
       "1  鉅亨網編譯郭照青今日為2015年最後交易日，美國股市中場走低，投資人注意油價走勢。<BR>道...   \n",
       "\n",
       "                                            page_url  \n",
       "0  https://tw.stock.yahoo.com/news_content/url/d/...  \n",
       "1  https://tw.stock.yahoo.com/news_content/url/d/...  "
      ]
     },
     "execution_count": 5,
     "metadata": {},
     "output_type": "execute_result"
    }
   ],
   "source": [
    "news=pd.read_csv(\"bda2019_dataset/news2.csv\",encoding=\"utf-8\")\n",
    "news.head(2)"
   ]
  },
  {
   "cell_type": "code",
   "execution_count": 6,
   "metadata": {},
   "outputs": [],
   "source": [
    "content=\"\"\n",
    "count=0\n",
    "for row in news.index:\n",
    "    try:\n",
    "        content=content+news.loc[row,'content']\n",
    "    except:\n",
    "        continue\n",
    "    count+=1\n",
    "    if count>10000:\n",
    "        break"
   ]
  },
  {
   "cell_type": "code",
   "execution_count": 7,
   "metadata": {},
   "outputs": [
    {
     "data": {
      "text/plain": [
       "generator"
      ]
     },
     "execution_count": 7,
     "metadata": {},
     "output_type": "execute_result"
    }
   ],
   "source": [
    "templist=jieba.cut(str(content).replace('\\n','').replace(',',' '), cut_all=False)\n",
    "type(templist)"
   ]
  },
  {
   "cell_type": "code",
   "execution_count": 8,
   "metadata": {},
   "outputs": [
    {
     "name": "stderr",
     "output_type": "stream",
     "text": [
      "Building prefix dict from /home/barry/projects/stock/dict.idkrsi.txt ...\n",
      "Loading model from cache /tmp/jieba.ufc1c7fa02eb193cee2bb78b34d63c017.cache\n",
      "Loading model cost 0.421 seconds.\n",
      "Prefix dict has been built succesfully.\n"
     ]
    },
    {
     "data": {
      "text/plain": [
       "['鉅亨網',\n",
       " '編譯',\n",
       " '郭照',\n",
       " '青',\n",
       " '這一年',\n",
       " '，',\n",
       " '獲利',\n",
       " '真是',\n",
       " '難上',\n",
       " '難',\n",
       " '。',\n",
       " '<',\n",
       " 'BR',\n",
       " '>',\n",
       " '根據',\n",
       " 'CNBC',\n",
       " '分析',\n",
       " '報導',\n",
       " '，',\n",
       " '興業']"
      ]
     },
     "execution_count": 8,
     "metadata": {},
     "output_type": "execute_result"
    }
   ],
   "source": [
    "seglist=list(templist)\n",
    "seglist[0:20]"
   ]
  },
  {
   "cell_type": "code",
   "execution_count": 9,
   "metadata": {},
   "outputs": [
    {
     "data": {
      "text/plain": [
       "['鉅亨網',\n",
       " '編譯',\n",
       " '郭照',\n",
       " '青',\n",
       " '這一年',\n",
       " '獲利',\n",
       " '真是',\n",
       " '難上',\n",
       " '難',\n",
       " 'CNBC',\n",
       " '分析',\n",
       " '報導',\n",
       " '興業',\n",
       " '銀行',\n",
       " '數據',\n",
       " '顯示',\n",
       " '2015',\n",
       " '表現',\n",
       " '最佳',\n",
       " '資產']"
      ]
     },
     "execution_count": 9,
     "metadata": {},
     "output_type": "execute_result"
    }
   ],
   "source": [
    "#newseglist=list()\n",
    "#for word in seglist:\n",
    "#    if word not in stopwords:\n",
    "#        newseglist.append(word)\n",
    "\n",
    "newseglist = list(filter(lambda a: a not in stopwords and a != '\\n', seglist))    # 切詞跟stopwords比對\n",
    "newseglist[0:20]"
   ]
  },
  {
   "cell_type": "code",
   "execution_count": 10,
   "metadata": {},
   "outputs": [],
   "source": [
    "wordcount = {}      # dictionary\n",
    "for word in newseglist:\n",
    "    try:\n",
    "        wordcount[word] = wordcount[word] + 1\n",
    "    except:\n",
    "        wordcount[word] = 1"
   ]
  },
  {
   "cell_type": "code",
   "execution_count": 11,
   "metadata": {},
   "outputs": [
    {
     "data": {
      "text/plain": [
       "[('鉅亨網', 892),\n",
       " ('編譯', 395),\n",
       " ('郭照', 394),\n",
       " ('青', 391),\n",
       " ('這一年', 14),\n",
       " ('獲利', 2582),\n",
       " ('真是', 18),\n",
       " ('難上', 1),\n",
       " ('難', 205),\n",
       " ('CNBC', 213),\n",
       " ('分析', 981),\n",
       " ('報導', 5471),\n",
       " ('興業', 36),\n",
       " ('銀行', 2748),\n",
       " ('數據', 1530),\n",
       " ('顯示', 2516),\n",
       " ('2015', 3355),\n",
       " ('表現', 4133),\n",
       " ('最佳', 265),\n",
       " ('資產', 893)]"
      ]
     },
     "execution_count": 11,
     "metadata": {},
     "output_type": "execute_result"
    }
   ],
   "source": [
    "list(wordcount.items())[0:20]   # list( dictionary.items() ) 會轉成list"
   ]
  },
  {
   "cell_type": "code",
   "execution_count": 49,
   "metadata": {},
   "outputs": [
    {
     "data": {
      "text/plain": [
       "[('點', 12932),\n",
       " ('市場', 11105),\n",
       " ('元', 10255),\n",
       " ('指數', 10209),\n",
       " ('億元', 10180),\n",
       " ('台股', 9118),\n",
       " ('美元', 8252),\n",
       " ('表示', 7762),\n",
       " ('去年', 7646),\n",
       " ('今年', 7577),\n",
       " ('美國', 6459),\n",
       " ('公司', 6166),\n",
       " ('中國', 5855),\n",
       " ('2016', 5778),\n",
       " ('營收', 5551),\n",
       " ('報導', 5471),\n",
       " ('成長', 5293),\n",
       " ('經濟', 5192),\n",
       " ('股市', 5125),\n",
       " ('外資', 5084)]"
      ]
     },
     "execution_count": 49,
     "metadata": {},
     "output_type": "execute_result"
    }
   ],
   "source": [
    "sorted_x = sorted(wordcount.items(), key=lambda kv: kv[1])  # sorted( dictionary.items() ) 也會變成list   # kv[1] 用第2個column排序\n",
    "sorted_x.reverse()          # ascending 轉 descending\n",
    "sorted_x[0:20]\n",
    "sorted_x[:][:20]"
   ]
  },
  {
   "cell_type": "code",
   "execution_count": 50,
   "metadata": {},
   "outputs": [
    {
     "data": {
      "text/plain": [
       "91876"
      ]
     },
     "execution_count": 50,
     "metadata": {},
     "output_type": "execute_result"
    }
   ],
   "source": [
    "len(sorted_x)"
   ]
  },
  {
   "cell_type": "code",
   "execution_count": 51,
   "metadata": {
    "scrolled": false
   },
   "outputs": [
    {
     "data": {
      "text/plain": [
       "[('點', 12932),\n",
       " ('市場', 11105),\n",
       " ('元', 10255),\n",
       " ('指數', 10209),\n",
       " ('億元', 10180),\n",
       " ('台股', 9118),\n",
       " ('美元', 8252),\n",
       " ('表示', 7762),\n",
       " ('去年', 7646),\n",
       " ('今年', 7577),\n",
       " ('美國', 6459),\n",
       " ('公司', 6166),\n",
       " ('中國', 5855),\n",
       " ('營收', 5551),\n",
       " ('報導', 5471),\n",
       " ('成長', 5293),\n",
       " ('經濟', 5192),\n",
       " ('股市', 5125),\n",
       " ('外資', 5084),\n",
       " ('持續', 5040)]"
      ]
     },
     "execution_count": 51,
     "metadata": {},
     "output_type": "execute_result"
    }
   ],
   "source": [
    "#for word, number in sorted_x:\n",
    "#    judgeword=''.join([str(word), str(number)])\n",
    "\n",
    "for word in sorted_x:\n",
    "    judgeword=''.join(map(str, word))                  # str('點'),str(12932)       # 把'點', '12932' 合併成 '點12932'    \n",
    "    if judgeword.isdigit()==True:                      # 如果全數字       \n",
    "        sorted_x.remove(word)                          # 從list刪掉\n",
    "sorted_x[0:20]"
   ]
  },
  {
   "cell_type": "code",
   "execution_count": 52,
   "metadata": {},
   "outputs": [
    {
     "data": {
      "text/plain": [
       "87432"
      ]
     },
     "execution_count": 52,
     "metadata": {},
     "output_type": "execute_result"
    }
   ],
   "source": [
    "len(sorted_x)"
   ]
  },
  {
   "cell_type": "code",
   "execution_count": 53,
   "metadata": {},
   "outputs": [
    {
     "data": {
      "text/html": [
       "<div>\n",
       "<style scoped>\n",
       "    .dataframe tbody tr th:only-of-type {\n",
       "        vertical-align: middle;\n",
       "    }\n",
       "\n",
       "    .dataframe tbody tr th {\n",
       "        vertical-align: top;\n",
       "    }\n",
       "\n",
       "    .dataframe thead th {\n",
       "        text-align: right;\n",
       "    }\n",
       "</style>\n",
       "<table border=\"1\" class=\"dataframe\">\n",
       "  <thead>\n",
       "    <tr style=\"text-align: right;\">\n",
       "      <th></th>\n",
       "      <th>點</th>\n",
       "      <th>市場</th>\n",
       "      <th>元</th>\n",
       "      <th>指數</th>\n",
       "      <th>億元</th>\n",
       "      <th>台股</th>\n",
       "      <th>美元</th>\n",
       "      <th>表示</th>\n",
       "      <th>去年</th>\n",
       "      <th>今年</th>\n",
       "      <th>...</th>\n",
       "      <th>17502.16</th>\n",
       "      <th>101.71</th>\n",
       "      <th>Davitt</th>\n",
       "      <th>維特</th>\n",
       "      <th>月給</th>\n",
       "      <th>流年不利</th>\n",
       "      <th>通殺</th>\n",
       "      <th>McDonald</th>\n",
       "      <th>年成</th>\n",
       "      <th>難上</th>\n",
       "    </tr>\n",
       "  </thead>\n",
       "  <tbody>\n",
       "    <tr>\n",
       "      <th>number</th>\n",
       "      <td>12932</td>\n",
       "      <td>11105</td>\n",
       "      <td>10255</td>\n",
       "      <td>10209</td>\n",
       "      <td>10180</td>\n",
       "      <td>9118</td>\n",
       "      <td>8252</td>\n",
       "      <td>7762</td>\n",
       "      <td>7646</td>\n",
       "      <td>7577</td>\n",
       "      <td>...</td>\n",
       "      <td>1</td>\n",
       "      <td>1</td>\n",
       "      <td>1</td>\n",
       "      <td>1</td>\n",
       "      <td>1</td>\n",
       "      <td>1</td>\n",
       "      <td>1</td>\n",
       "      <td>1</td>\n",
       "      <td>1</td>\n",
       "      <td>1</td>\n",
       "    </tr>\n",
       "  </tbody>\n",
       "</table>\n",
       "<p>1 rows × 87432 columns</p>\n",
       "</div>"
      ],
      "text/plain": [
       "            點     市場      元     指數     億元    台股    美元    表示    去年    今年  ...  \\\n",
       "number  12932  11105  10255  10209  10180  9118  8252  7762  7646  7577  ...   \n",
       "\n",
       "        17502.16  101.71  Davitt  維特  月給  流年不利  通殺  McDonald  年成  難上  \n",
       "number         1       1       1   1   1     1   1         1   1   1  \n",
       "\n",
       "[1 rows x 87432 columns]"
      ]
     },
     "execution_count": 53,
     "metadata": {},
     "output_type": "execute_result"
    }
   ],
   "source": [
    "pd.DataFrame(dict(sorted_x),index=['number']).head()"
   ]
  },
  {
   "cell_type": "code",
   "execution_count": 54,
   "metadata": {},
   "outputs": [
    {
     "data": {
      "text/html": [
       "<div>\n",
       "<style scoped>\n",
       "    .dataframe tbody tr th:only-of-type {\n",
       "        vertical-align: middle;\n",
       "    }\n",
       "\n",
       "    .dataframe tbody tr th {\n",
       "        vertical-align: top;\n",
       "    }\n",
       "\n",
       "    .dataframe thead th {\n",
       "        text-align: right;\n",
       "    }\n",
       "</style>\n",
       "<table border=\"1\" class=\"dataframe\">\n",
       "  <thead>\n",
       "    <tr style=\"text-align: right;\">\n",
       "      <th></th>\n",
       "      <th>number</th>\n",
       "    </tr>\n",
       "  </thead>\n",
       "  <tbody>\n",
       "    <tr>\n",
       "      <th>點</th>\n",
       "      <td>12932</td>\n",
       "    </tr>\n",
       "    <tr>\n",
       "      <th>市場</th>\n",
       "      <td>11105</td>\n",
       "    </tr>\n",
       "    <tr>\n",
       "      <th>元</th>\n",
       "      <td>10255</td>\n",
       "    </tr>\n",
       "    <tr>\n",
       "      <th>指數</th>\n",
       "      <td>10209</td>\n",
       "    </tr>\n",
       "    <tr>\n",
       "      <th>億元</th>\n",
       "      <td>10180</td>\n",
       "    </tr>\n",
       "  </tbody>\n",
       "</table>\n",
       "</div>"
      ],
      "text/plain": [
       "    number\n",
       "點    12932\n",
       "市場   11105\n",
       "元    10255\n",
       "指數   10209\n",
       "億元   10180"
      ]
     },
     "execution_count": 54,
     "metadata": {},
     "output_type": "execute_result"
    }
   ],
   "source": [
    "pd.DataFrame(dict(sorted_x),index=['number']).T.head()"
   ]
  },
  {
   "cell_type": "code",
   "execution_count": null,
   "metadata": {},
   "outputs": [],
   "source": []
  }
 ],
 "metadata": {
  "kernelspec": {
   "display_name": "Python 3",
   "language": "python",
   "name": "python3"
  },
  "language_info": {
   "codemirror_mode": {
    "name": "ipython",
    "version": 3
   },
   "file_extension": ".py",
   "mimetype": "text/x-python",
   "name": "python",
   "nbconvert_exporter": "python",
   "pygments_lexer": "ipython3",
   "version": "3.6.8"
  }
 },
 "nbformat": 4,
 "nbformat_minor": 2
}
