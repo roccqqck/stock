{
 "cells": [
  {
   "cell_type": "code",
   "execution_count": 1,
   "metadata": {},
   "outputs": [],
   "source": [
    "import jieba\n",
    "import jieba.analyse\n",
    "import csv\n",
    "import pandas as pd\n",
    "jieba.set_dictionary('dict.idkrsi.txt')\n",
    "jieba.analyse.set_stop_words(\"stopword.goatwang.kang.txt\")"
   ]
  },
  {
   "cell_type": "code",
   "execution_count": 2,
   "metadata": {},
   "outputs": [],
   "source": [
    "stopwords=list()\n",
    "with open('stopword.goatwang.kang.txt', 'r',encoding='utf-8') as data:\n",
    "    for stopword in data:\n",
    "        stopwords.append(stopword.strip('\\n'))"
   ]
  },
  {
   "cell_type": "code",
   "execution_count": 3,
   "metadata": {},
   "outputs": [
    {
     "data": {
      "text/plain": [
       "list"
      ]
     },
     "execution_count": 3,
     "metadata": {},
     "output_type": "execute_result"
    }
   ],
   "source": [
    "type(stopwords)"
   ]
  },
  {
   "cell_type": "code",
   "execution_count": 4,
   "metadata": {},
   "outputs": [
    {
     "data": {
      "text/plain": [
       "['\\ufeff\\ufeff,',\n",
       " '',\n",
       " '、',\n",
       " '。',\n",
       " '“',\n",
       " '”',\n",
       " '《',\n",
       " '》',\n",
       " '！',\n",
       " '，',\n",
       " '：',\n",
       " '；',\n",
       " '？',\n",
       " '人民',\n",
       " '末##末',\n",
       " '啊',\n",
       " '阿',\n",
       " '哎',\n",
       " '哎呀',\n",
       " '哎喲']"
      ]
     },
     "execution_count": 4,
     "metadata": {},
     "output_type": "execute_result"
    }
   ],
   "source": [
    "stopwords[0:20]"
   ]
  },
  {
   "cell_type": "code",
   "execution_count": 5,
   "metadata": {},
   "outputs": [],
   "source": [
    "df_news=pd.read_csv(\"bda2019_dataset/news2.csv\",encoding=\"utf-8\")\n",
    "df_bbs=pd.read_csv(\"bda2019_dataset/bbs2.csv\",encoding=\"utf-8\")\n",
    "df_forum=pd.read_csv(\"bda2019_dataset/forum2.csv\",encoding=\"utf-8\")"
   ]
  },
  {
   "cell_type": "code",
   "execution_count": 6,
   "metadata": {},
   "outputs": [
    {
     "data": {
      "text/html": [
       "<div>\n",
       "<style scoped>\n",
       "    .dataframe tbody tr th:only-of-type {\n",
       "        vertical-align: middle;\n",
       "    }\n",
       "\n",
       "    .dataframe tbody tr th {\n",
       "        vertical-align: top;\n",
       "    }\n",
       "\n",
       "    .dataframe thead th {\n",
       "        text-align: right;\n",
       "    }\n",
       "</style>\n",
       "<table border=\"1\" class=\"dataframe\">\n",
       "  <thead>\n",
       "    <tr style=\"text-align: right;\">\n",
       "      <th></th>\n",
       "      <th>id</th>\n",
       "      <th>p_type</th>\n",
       "      <th>s_name</th>\n",
       "      <th>s_area_name</th>\n",
       "      <th>post_time</th>\n",
       "      <th>title</th>\n",
       "      <th>author</th>\n",
       "      <th>content</th>\n",
       "      <th>page_url</th>\n",
       "    </tr>\n",
       "  </thead>\n",
       "  <tbody>\n",
       "    <tr>\n",
       "      <th>0</th>\n",
       "      <td>1451580107540_N01</td>\n",
       "      <td>news</td>\n",
       "      <td>yahoo股市</td>\n",
       "      <td>重大要聞</td>\n",
       "      <td>2016/1/1 00:06:00</td>\n",
       "      <td>淪落的2015 竟是78年來最難獲利的一年</td>\n",
       "      <td>鉅亨網</td>\n",
       "      <td>鉅亨網編譯郭照青這一年，獲利真是難上難。&lt;BR&gt;根據CNBC分析報導，興業銀行的數據顯示，2...</td>\n",
       "      <td>https://tw.stock.yahoo.com/news_content/url/d/...</td>\n",
       "    </tr>\n",
       "    <tr>\n",
       "      <th>1</th>\n",
       "      <td>1451582807314_N01</td>\n",
       "      <td>news</td>\n",
       "      <td>yahoo股市</td>\n",
       "      <td>重大要聞</td>\n",
       "      <td>2016/1/1 00:52:00</td>\n",
       "      <td>美股盤中─今年最後交易日 道瓊大跌逾150點 注意油價走勢</td>\n",
       "      <td>鉅亨網</td>\n",
       "      <td>鉅亨網編譯郭照青今日為2015年最後交易日，美國股市中場走低，投資人注意油價走勢。&lt;BR&gt;道...</td>\n",
       "      <td>https://tw.stock.yahoo.com/news_content/url/d/...</td>\n",
       "    </tr>\n",
       "  </tbody>\n",
       "</table>\n",
       "</div>"
      ],
      "text/plain": [
       "                  id p_type   s_name s_area_name          post_time  \\\n",
       "0  1451580107540_N01   news  yahoo股市        重大要聞  2016/1/1 00:06:00   \n",
       "1  1451582807314_N01   news  yahoo股市        重大要聞  2016/1/1 00:52:00   \n",
       "\n",
       "                           title author  \\\n",
       "0          淪落的2015 竟是78年來最難獲利的一年    鉅亨網   \n",
       "1  美股盤中─今年最後交易日 道瓊大跌逾150點 注意油價走勢    鉅亨網   \n",
       "\n",
       "                                             content  \\\n",
       "0  鉅亨網編譯郭照青這一年，獲利真是難上難。<BR>根據CNBC分析報導，興業銀行的數據顯示，2...   \n",
       "1  鉅亨網編譯郭照青今日為2015年最後交易日，美國股市中場走低，投資人注意油價走勢。<BR>道...   \n",
       "\n",
       "                                            page_url  \n",
       "0  https://tw.stock.yahoo.com/news_content/url/d/...  \n",
       "1  https://tw.stock.yahoo.com/news_content/url/d/...  "
      ]
     },
     "execution_count": 6,
     "metadata": {},
     "output_type": "execute_result"
    }
   ],
   "source": [
    "df_news.head(2)"
   ]
  },
  {
   "cell_type": "code",
   "execution_count": 7,
   "metadata": {},
   "outputs": [
    {
     "data": {
      "text/html": [
       "<div>\n",
       "<style scoped>\n",
       "    .dataframe tbody tr th:only-of-type {\n",
       "        vertical-align: middle;\n",
       "    }\n",
       "\n",
       "    .dataframe tbody tr th {\n",
       "        vertical-align: top;\n",
       "    }\n",
       "\n",
       "    .dataframe thead th {\n",
       "        text-align: right;\n",
       "    }\n",
       "</style>\n",
       "<table border=\"1\" class=\"dataframe\">\n",
       "  <thead>\n",
       "    <tr style=\"text-align: right;\">\n",
       "      <th></th>\n",
       "      <th>id</th>\n",
       "      <th>p_type</th>\n",
       "      <th>s_name</th>\n",
       "      <th>s_area_name</th>\n",
       "      <th>comment_count</th>\n",
       "      <th>post_time</th>\n",
       "      <th>title</th>\n",
       "      <th>author</th>\n",
       "      <th>content</th>\n",
       "      <th>page_url</th>\n",
       "    </tr>\n",
       "  </thead>\n",
       "  <tbody>\n",
       "    <tr>\n",
       "      <th>0</th>\n",
       "      <td>1451580710262_PTT02R</td>\n",
       "      <td>bbs</td>\n",
       "      <td>Ptt</td>\n",
       "      <td>Stock</td>\n",
       "      <td>10</td>\n",
       "      <td>2016/1/1 00:48:25</td>\n",
       "      <td>[新聞] 第三方支付 台灣普及關鍵年</td>\n",
       "      <td>Bokolo</td>\n",
       "      <td>1.原文連結(必須檢附)：\\nhttp://magazine.chinatimes.com/...</td>\n",
       "      <td>http://www.ptt.cc/bbs/Stock/M.1451580509.A.722...</td>\n",
       "    </tr>\n",
       "    <tr>\n",
       "      <th>1</th>\n",
       "      <td>1451580711002_PTT02R</td>\n",
       "      <td>bbs</td>\n",
       "      <td>Ptt</td>\n",
       "      <td>Stock</td>\n",
       "      <td>28</td>\n",
       "      <td>2016/1/1 00:50:54</td>\n",
       "      <td>[新聞] 曾銘宗：電子支付拼5年倍增</td>\n",
       "      <td>Bokolo</td>\n",
       "      <td>1.原文連結(必須檢附)：\\nhttp://www.appledaily.com.tw/re...</td>\n",
       "      <td>http://www.ptt.cc/bbs/Stock/M.1451580658.A.D8B...</td>\n",
       "    </tr>\n",
       "  </tbody>\n",
       "</table>\n",
       "</div>"
      ],
      "text/plain": [
       "                     id p_type s_name s_area_name  comment_count  \\\n",
       "0  1451580710262_PTT02R    bbs    Ptt       Stock             10   \n",
       "1  1451580711002_PTT02R    bbs    Ptt       Stock             28   \n",
       "\n",
       "           post_time               title  author  \\\n",
       "0  2016/1/1 00:48:25  [新聞] 第三方支付 台灣普及關鍵年  Bokolo   \n",
       "1  2016/1/1 00:50:54  [新聞] 曾銘宗：電子支付拼5年倍增  Bokolo   \n",
       "\n",
       "                                             content  \\\n",
       "0  1.原文連結(必須檢附)：\\nhttp://magazine.chinatimes.com/...   \n",
       "1  1.原文連結(必須檢附)：\\nhttp://www.appledaily.com.tw/re...   \n",
       "\n",
       "                                            page_url  \n",
       "0  http://www.ptt.cc/bbs/Stock/M.1451580509.A.722...  \n",
       "1  http://www.ptt.cc/bbs/Stock/M.1451580658.A.D8B...  "
      ]
     },
     "execution_count": 7,
     "metadata": {},
     "output_type": "execute_result"
    }
   ],
   "source": [
    "df_bbs.head(2)"
   ]
  },
  {
   "cell_type": "code",
   "execution_count": 8,
   "metadata": {},
   "outputs": [
    {
     "data": {
      "text/html": [
       "<div>\n",
       "<style scoped>\n",
       "    .dataframe tbody tr th:only-of-type {\n",
       "        vertical-align: middle;\n",
       "    }\n",
       "\n",
       "    .dataframe tbody tr th {\n",
       "        vertical-align: top;\n",
       "    }\n",
       "\n",
       "    .dataframe thead th {\n",
       "        text-align: right;\n",
       "    }\n",
       "</style>\n",
       "<table border=\"1\" class=\"dataframe\">\n",
       "  <thead>\n",
       "    <tr style=\"text-align: right;\">\n",
       "      <th></th>\n",
       "      <th>id</th>\n",
       "      <th>p_type</th>\n",
       "      <th>s_name</th>\n",
       "      <th>s_area_name</th>\n",
       "      <th>comment_count</th>\n",
       "      <th>post_time</th>\n",
       "      <th>title</th>\n",
       "      <th>author</th>\n",
       "      <th>content</th>\n",
       "      <th>page_url</th>\n",
       "    </tr>\n",
       "  </thead>\n",
       "  <tbody>\n",
       "    <tr>\n",
       "      <th>0</th>\n",
       "      <td>1451585357153_F01</td>\n",
       "      <td>forum</td>\n",
       "      <td>mobile01</td>\n",
       "      <td>投資與理財(生活娛樂)</td>\n",
       "      <td>1</td>\n",
       "      <td>2016/1/1 2:01:00</td>\n",
       "      <td>自刪</td>\n",
       "      <td>famas2200</td>\n",
       "      <td>不小心發錯版主請幫忙刪除文章謝謝</td>\n",
       "      <td>http://www.mobile01.com/topicdetail.php?f=291&amp;...</td>\n",
       "    </tr>\n",
       "    <tr>\n",
       "      <th>1</th>\n",
       "      <td>1451616871574_F01</td>\n",
       "      <td>forum</td>\n",
       "      <td>mobile01</td>\n",
       "      <td>投資與理財(生活娛樂)</td>\n",
       "      <td>5</td>\n",
       "      <td>2016/1/1 10:41:00</td>\n",
       "      <td>傳超微已打算將訂單下給格羅方德</td>\n",
       "      <td>taiwan2008</td>\n",
       "      <td>台積電爭奪超微下一代繪圖處理器失利，因為傳超微已打算將訂單下給格羅方德（GlobalFoun...</td>\n",
       "      <td>http://www.mobile01.com/topicdetail.php?f=291&amp;...</td>\n",
       "    </tr>\n",
       "  </tbody>\n",
       "</table>\n",
       "</div>"
      ],
      "text/plain": [
       "                  id p_type    s_name  s_area_name  comment_count  \\\n",
       "0  1451585357153_F01  forum  mobile01  投資與理財(生活娛樂)              1   \n",
       "1  1451616871574_F01  forum  mobile01  投資與理財(生活娛樂)              5   \n",
       "\n",
       "           post_time            title      author  \\\n",
       "0   2016/1/1 2:01:00               自刪   famas2200   \n",
       "1  2016/1/1 10:41:00  傳超微已打算將訂單下給格羅方德  taiwan2008   \n",
       "\n",
       "                                             content  \\\n",
       "0                                   不小心發錯版主請幫忙刪除文章謝謝   \n",
       "1  台積電爭奪超微下一代繪圖處理器失利，因為傳超微已打算將訂單下給格羅方德（GlobalFoun...   \n",
       "\n",
       "                                            page_url  \n",
       "0  http://www.mobile01.com/topicdetail.php?f=291&...  \n",
       "1  http://www.mobile01.com/topicdetail.php?f=291&...  "
      ]
     },
     "execution_count": 8,
     "metadata": {},
     "output_type": "execute_result"
    }
   ],
   "source": [
    "df_forum.head(2)"
   ]
  },
  {
   "cell_type": "code",
   "execution_count": 9,
   "metadata": {},
   "outputs": [],
   "source": [
    "content=\"\"\n",
    "#count=0\n",
    "for row in df_news.index:\n",
    "    try:\n",
    "        content=content+df_news.loc[row,'content']\n",
    "    except:\n",
    "        continue\n",
    "#    count+=1\n",
    "#    if count>10000:\n",
    "#        break\n",
    "\n",
    "for row in df_bbs.index:\n",
    "    try:\n",
    "        content=content+df_bbs.loc[row,'content']\n",
    "    except:\n",
    "        continue\n",
    "        \n",
    "for row in df_forum.index:\n",
    "    try:\n",
    "        content=content+df_forum.loc[row,'content']\n",
    "    except:\n",
    "        continue"
   ]
  },
  {
   "cell_type": "code",
   "execution_count": 10,
   "metadata": {},
   "outputs": [
    {
     "data": {
      "text/plain": [
       "generator"
      ]
     },
     "execution_count": 10,
     "metadata": {},
     "output_type": "execute_result"
    }
   ],
   "source": [
    "templist=jieba.cut(str(content).replace('\\n','').replace(',',' '), cut_all=False)\n",
    "type(templist)"
   ]
  },
  {
   "cell_type": "code",
   "execution_count": 11,
   "metadata": {},
   "outputs": [
    {
     "name": "stderr",
     "output_type": "stream",
     "text": [
      "Building prefix dict from /home/barry/projects/stock/dict.idkrsi.txt ...\n",
      "Loading model from cache /tmp/jieba.ufc1c7fa02eb193cee2bb78b34d63c017.cache\n",
      "Loading model cost 0.400 seconds.\n",
      "Prefix dict has been built succesfully.\n"
     ]
    },
    {
     "data": {
      "text/plain": [
       "['鉅亨網',\n",
       " '編譯',\n",
       " '郭照',\n",
       " '青',\n",
       " '這一年',\n",
       " '，',\n",
       " '獲利',\n",
       " '真是',\n",
       " '難上',\n",
       " '難',\n",
       " '。',\n",
       " '<',\n",
       " 'BR',\n",
       " '>',\n",
       " '根據',\n",
       " 'CNBC',\n",
       " '分析',\n",
       " '報導',\n",
       " '，',\n",
       " '興業']"
      ]
     },
     "execution_count": 11,
     "metadata": {},
     "output_type": "execute_result"
    }
   ],
   "source": [
    "seglist=list(templist)\n",
    "seglist[0:20]"
   ]
  },
  {
   "cell_type": "code",
   "execution_count": 13,
   "metadata": {},
   "outputs": [
    {
     "data": {
      "text/plain": [
       "['鉅亨網',\n",
       " '編譯',\n",
       " '郭照',\n",
       " '青',\n",
       " '這一年',\n",
       " '獲利',\n",
       " '真是',\n",
       " '難上',\n",
       " '難',\n",
       " 'CNBC',\n",
       " '分析',\n",
       " '報導',\n",
       " '興業',\n",
       " '銀行',\n",
       " '數據',\n",
       " '顯示',\n",
       " '2015',\n",
       " '表現',\n",
       " '最佳',\n",
       " '資產']"
      ]
     },
     "execution_count": 13,
     "metadata": {},
     "output_type": "execute_result"
    }
   ],
   "source": [
    "#newseglist=list()\n",
    "#for word in seglist:\n",
    "#    if word not in stopwords:\n",
    "#        newseglist.append(word)\n",
    "\n",
    "newseglist = list(filter(lambda a: a not in stopwords and a != '\\n', seglist))    # 切詞跟stopwords比對\n",
    "newseglist[0:20]"
   ]
  },
  {
   "cell_type": "code",
   "execution_count": 20,
   "metadata": {},
   "outputs": [
    {
     "ename": "NameError",
     "evalue": "name 'seglist' is not defined",
     "output_type": "error",
     "traceback": [
      "\u001b[0;31m---------------------------------------------------------------------------\u001b[0m",
      "\u001b[0;31mNameError\u001b[0m                                 Traceback (most recent call last)",
      "\u001b[0;32m<ipython-input-20-da181245f67c>\u001b[0m in \u001b[0;36m<module>\u001b[0;34m\u001b[0m\n\u001b[0;32m----> 1\u001b[0;31m \u001b[0;32mdel\u001b[0m \u001b[0mseglist\u001b[0m\u001b[0;34m\u001b[0m\u001b[0;34m\u001b[0m\u001b[0m\n\u001b[0m\u001b[1;32m      2\u001b[0m \u001b[0;32mdel\u001b[0m \u001b[0mcontent\u001b[0m\u001b[0;34m\u001b[0m\u001b[0;34m\u001b[0m\u001b[0m\n",
      "\u001b[0;31mNameError\u001b[0m: name 'seglist' is not defined"
     ]
    }
   ],
   "source": [
    "del seglist\n",
    "del content"
   ]
  },
  {
   "cell_type": "code",
   "execution_count": 40,
   "metadata": {},
   "outputs": [],
   "source": [
    "wordcount = {}      # dictionary\n",
    "for word in newseglist:\n",
    "    if str(word[0]).isdigit()==False:    # 切詞不是數字\n",
    "        try:\n",
    "            wordcount[word] = wordcount[word] + 1\n",
    "        except:\n",
    "            wordcount[word] = 1"
   ]
  },
  {
   "cell_type": "code",
   "execution_count": 41,
   "metadata": {},
   "outputs": [
    {
     "data": {
      "text/plain": [
       "[('鉅亨網', 2542),\n",
       " ('編譯', 1356),\n",
       " ('郭照', 425),\n",
       " ('青', 974),\n",
       " ('這一年', 370),\n",
       " ('獲利', 68952),\n",
       " ('真是', 1546),\n",
       " ('難上', 3),\n",
       " ('難', 5654),\n",
       " ('CNBC', 4227),\n",
       " ('分析', 38083),\n",
       " ('報導', 110308),\n",
       " ('興業', 1142),\n",
       " ('銀行', 69525),\n",
       " ('數據', 32934),\n",
       " ('顯示', 51664),\n",
       " ('表現', 76966),\n",
       " ('最佳', 6040),\n",
       " ('資產', 49132),\n",
       " ('當屬', 82)]"
      ]
     },
     "execution_count": 41,
     "metadata": {},
     "output_type": "execute_result"
    }
   ],
   "source": [
    "list(wordcount.items())[0:20]   # list( dictionary.items() ) 會轉成list"
   ]
  },
  {
   "cell_type": "code",
   "execution_count": 42,
   "metadata": {},
   "outputs": [
    {
     "data": {
      "text/plain": [
       "[('公司', 345312),\n",
       " ('元', 332072),\n",
       " ('市場', 263691),\n",
       " ('億元', 211604),\n",
       " ('美國', 193374),\n",
       " ('中國', 185502),\n",
       " ('基金', 182109),\n",
       " ('表示', 177872),\n",
       " ('點', 176873),\n",
       " ('美元', 175593),\n",
       " ('指數', 173056),\n",
       " ('投資', 153361),\n",
       " ('今年', 153343),\n",
       " ('營收', 151453),\n",
       " ('台灣', 132943),\n",
       " ('中', 126020),\n",
       " ('台股', 122706),\n",
       " ('?', 121266),\n",
       " ('全球', 121171),\n",
       " ('交易', 119606)]"
      ]
     },
     "execution_count": 42,
     "metadata": {},
     "output_type": "execute_result"
    }
   ],
   "source": [
    "sorted_x = sorted(wordcount.items(), key=lambda kv: kv[1])  # sorted( dictionary.items() ) 也會變成list   # kv[1] 用第2個column排序\n",
    "sorted_x.reverse()          # ascending 轉 descending\n",
    "sorted_x[0:20]\n",
    "sorted_x[:][:20]"
   ]
  },
  {
   "cell_type": "code",
   "execution_count": 43,
   "metadata": {},
   "outputs": [
    {
     "data": {
      "text/plain": [
       "479822"
      ]
     },
     "execution_count": 43,
     "metadata": {},
     "output_type": "execute_result"
    }
   ],
   "source": [
    "len(sorted_x)"
   ]
  },
  {
   "cell_type": "code",
   "execution_count": 44,
   "metadata": {
    "scrolled": false
   },
   "outputs": [],
   "source": [
    "#for word, number in sorted_x:\n",
    "#    judgeword=''.join([str(word), str(number)])\n",
    "#    judgeword=''.join(map(str, word))                  # str('點'),str(12932)       # 把'點', '12932' 合併成 '點12932' \n",
    "\n",
    "#for word in sorted_x:   \n",
    "#    if str(word[0]).isdigit()==True:                      # 如果全數字       \n",
    "#        sorted_x.remove(word)                          # 從list刪掉"
   ]
  },
  {
   "cell_type": "code",
   "execution_count": 55,
   "metadata": {},
   "outputs": [
    {
     "data": {
      "text/html": [
       "<div>\n",
       "<style scoped>\n",
       "    .dataframe tbody tr th:only-of-type {\n",
       "        vertical-align: middle;\n",
       "    }\n",
       "\n",
       "    .dataframe tbody tr th {\n",
       "        vertical-align: top;\n",
       "    }\n",
       "\n",
       "    .dataframe thead th {\n",
       "        text-align: right;\n",
       "    }\n",
       "</style>\n",
       "<table border=\"1\" class=\"dataframe\">\n",
       "  <thead>\n",
       "    <tr style=\"text-align: right;\">\n",
       "      <th></th>\n",
       "      <th>公司</th>\n",
       "      <th>元</th>\n",
       "      <th>市場</th>\n",
       "      <th>億元</th>\n",
       "      <th>美國</th>\n",
       "      <th>中國</th>\n",
       "      <th>基金</th>\n",
       "      <th>表示</th>\n",
       "      <th>點</th>\n",
       "      <th>美元</th>\n",
       "      <th>...</th>\n",
       "      <th>鳳屏宮</th>\n",
       "      <th>林秋芳</th>\n",
       "      <th>這錯</th>\n",
       "      <th>微辭</th>\n",
       "      <th>邱坤良</th>\n",
       "      <th>廖玉蕙</th>\n",
       "      <th>陳若曦</th>\n",
       "      <th>趴一</th>\n",
       "      <th>應值</th>\n",
       "      <th>Coffina</th>\n",
       "    </tr>\n",
       "  </thead>\n",
       "  <tbody>\n",
       "    <tr>\n",
       "      <th>number</th>\n",
       "      <td>345312</td>\n",
       "      <td>332072</td>\n",
       "      <td>263691</td>\n",
       "      <td>211604</td>\n",
       "      <td>193374</td>\n",
       "      <td>185502</td>\n",
       "      <td>182109</td>\n",
       "      <td>177872</td>\n",
       "      <td>176873</td>\n",
       "      <td>175593</td>\n",
       "      <td>...</td>\n",
       "      <td>1</td>\n",
       "      <td>1</td>\n",
       "      <td>1</td>\n",
       "      <td>1</td>\n",
       "      <td>1</td>\n",
       "      <td>1</td>\n",
       "      <td>1</td>\n",
       "      <td>1</td>\n",
       "      <td>1</td>\n",
       "      <td>1</td>\n",
       "    </tr>\n",
       "  </tbody>\n",
       "</table>\n",
       "<p>1 rows × 479822 columns</p>\n",
       "</div>"
      ],
      "text/plain": [
       "            公司       元      市場      億元      美國      中國      基金      表示  \\\n",
       "number  345312  332072  263691  211604  193374  185502  182109  177872   \n",
       "\n",
       "             點      美元  ...  鳳屏宮  林秋芳  這錯  微辭  邱坤良  廖玉蕙  陳若曦  趴一  應值  Coffina  \n",
       "number  176873  175593  ...    1    1   1   1    1    1    1   1   1        1  \n",
       "\n",
       "[1 rows x 479822 columns]"
      ]
     },
     "execution_count": 55,
     "metadata": {},
     "output_type": "execute_result"
    }
   ],
   "source": [
    "df_features = pd.DataFrame(dict(sorted_x),index=['number'])\n",
    "df_features.head()"
   ]
  },
  {
   "cell_type": "code",
   "execution_count": 56,
   "metadata": {},
   "outputs": [
    {
     "data": {
      "text/html": [
       "<div>\n",
       "<style scoped>\n",
       "    .dataframe tbody tr th:only-of-type {\n",
       "        vertical-align: middle;\n",
       "    }\n",
       "\n",
       "    .dataframe tbody tr th {\n",
       "        vertical-align: top;\n",
       "    }\n",
       "\n",
       "    .dataframe thead th {\n",
       "        text-align: right;\n",
       "    }\n",
       "</style>\n",
       "<table border=\"1\" class=\"dataframe\">\n",
       "  <thead>\n",
       "    <tr style=\"text-align: right;\">\n",
       "      <th></th>\n",
       "      <th>number</th>\n",
       "    </tr>\n",
       "  </thead>\n",
       "  <tbody>\n",
       "    <tr>\n",
       "      <th>公司</th>\n",
       "      <td>345312</td>\n",
       "    </tr>\n",
       "    <tr>\n",
       "      <th>元</th>\n",
       "      <td>332072</td>\n",
       "    </tr>\n",
       "    <tr>\n",
       "      <th>市場</th>\n",
       "      <td>263691</td>\n",
       "    </tr>\n",
       "    <tr>\n",
       "      <th>億元</th>\n",
       "      <td>211604</td>\n",
       "    </tr>\n",
       "    <tr>\n",
       "      <th>美國</th>\n",
       "      <td>193374</td>\n",
       "    </tr>\n",
       "  </tbody>\n",
       "</table>\n",
       "</div>"
      ],
      "text/plain": [
       "    number\n",
       "公司  345312\n",
       "元   332072\n",
       "市場  263691\n",
       "億元  211604\n",
       "美國  193374"
      ]
     },
     "execution_count": 56,
     "metadata": {},
     "output_type": "execute_result"
    }
   ],
   "source": [
    "df_features = pd.DataFrame(dict(sorted_x),index=['number']).T\n",
    "df_features.head()"
   ]
  },
  {
   "cell_type": "code",
   "execution_count": 60,
   "metadata": {},
   "outputs": [
    {
     "data": {
      "text/plain": [
       "[('公司', 345312),\n",
       " ('元', 332072),\n",
       " ('市場', 263691),\n",
       " ('億元', 211604),\n",
       " ('美國', 193374),\n",
       " ('中國', 185502),\n",
       " ('基金', 182109),\n",
       " ('表示', 177872),\n",
       " ('點', 176873),\n",
       " ('美元', 175593),\n",
       " ('指數', 173056),\n",
       " ('投資', 153361),\n",
       " ('今年', 153343),\n",
       " ('營收', 151453),\n",
       " ('台灣', 132943),\n",
       " ('中', 126020),\n",
       " ('台股', 122706),\n",
       " ('?', 121266),\n",
       " ('全球', 121171),\n",
       " ('交易', 119606)]"
      ]
     },
     "execution_count": 60,
     "metadata": {},
     "output_type": "execute_result"
    }
   ],
   "source": [
    "sorted_x[:][0:20]"
   ]
  },
  {
   "cell_type": "code",
   "execution_count": 87,
   "metadata": {},
   "outputs": [],
   "source": [
    "#count=0\n",
    "for word, number in sorted_x:\n",
    "    if number >= 10:\n",
    "#        count = count + 1\n",
    "        print(str(word) + \" \" + str(number) ,file=open(\"features.number.txt\", \"a\"))  # print存成txt\n",
    "#count"
   ]
  },
  {
   "cell_type": "code",
   "execution_count": 88,
   "metadata": {},
   "outputs": [],
   "source": [
    "for word, number in sorted_x:\n",
    "    if int(number) >= 10:\n",
    "        print(str(word) ,file=open(\"features.txt\", \"a\"))  # print存成txt"
   ]
  },
  {
   "cell_type": "code",
   "execution_count": null,
   "metadata": {},
   "outputs": [],
   "source": []
  }
 ],
 "metadata": {
  "kernelspec": {
   "display_name": "Python 3",
   "language": "python",
   "name": "python3"
  },
  "language_info": {
   "codemirror_mode": {
    "name": "ipython",
    "version": 3
   },
   "file_extension": ".py",
   "mimetype": "text/x-python",
   "name": "python",
   "nbconvert_exporter": "python",
   "pygments_lexer": "ipython3",
   "version": "3.6.8"
  }
 },
 "nbformat": 4,
 "nbformat_minor": 2
}
