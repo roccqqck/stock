{
 "cells": [
  {
   "cell_type": "code",
   "execution_count": 1,
   "metadata": {},
   "outputs": [],
   "source": [
    "import pandas as pd"
   ]
  },
  {
   "cell_type": "code",
   "execution_count": 20,
   "metadata": {},
   "outputs": [
    {
     "name": "stderr",
     "output_type": "stream",
     "text": [
      "/Users/roccqqck/miniconda3/envs/stockenv/lib/python3.6/site-packages/IPython/core/interactiveshell.py:3020: DtypeWarning: Columns (2,3,4,5) have mixed types. Specify dtype option on import or set low_memory=False.\n",
      "  interactivity=interactivity, compiler=compiler, result=result)\n"
     ]
    }
   ],
   "source": [
    "df_OTC2018 = pd.read_csv(\"bda2019_dataset/OTC2018.csv\",encoding=\"utf-8\")\n",
    "df_OTC2017 = pd.read_csv(\"bda2019_dataset/OTC2017.csv\",encoding=\"utf-8\")\n",
    "df_OTC2016 = pd.read_csv(\"bda2019_dataset/OTC2016.csv\",encoding=\"utf-8\")\n",
    "df_TWSE2018 = pd.read_csv(\"bda2019_dataset/TWSE2018.csv\",encoding=\"utf-8\")\n",
    "df_TWSE2017 = pd.read_csv(\"bda2019_dataset/TWSE2017.csv\",encoding=\"utf-8\")\n",
    "df_TWSE2016 = pd.read_csv(\"bda2019_dataset/TWSE2016.csv\",encoding=\"utf-8\")\n",
    "df_bbs = pd.read_csv(\"bda2019_dataset/bbs2.csv\",encoding=\"utf-8\")\n",
    "df_forum = pd.read_csv(\"bda2019_dataset/forum2.csv\",encoding=\"utf-8\")\n",
    "df_news = pd.read_csv(\"bda2019_dataset/news2.csv\",encoding=\"utf-8\")"
   ]
  },
  {
   "cell_type": "code",
   "execution_count": 21,
   "metadata": {},
   "outputs": [
    {
     "data": {
      "text/html": [
       "<div>\n",
       "<style scoped>\n",
       "    .dataframe tbody tr th:only-of-type {\n",
       "        vertical-align: middle;\n",
       "    }\n",
       "\n",
       "    .dataframe tbody tr th {\n",
       "        vertical-align: top;\n",
       "    }\n",
       "\n",
       "    .dataframe thead th {\n",
       "        text-align: right;\n",
       "    }\n",
       "</style>\n",
       "<table border=\"1\" class=\"dataframe\">\n",
       "  <thead>\n",
       "    <tr style=\"text-align: right;\">\n",
       "      <th></th>\n",
       "      <th>證券代碼</th>\n",
       "      <th>年月日</th>\n",
       "      <th>開盤價(元)</th>\n",
       "      <th>最高價(元)</th>\n",
       "      <th>最低價(元)</th>\n",
       "      <th>收盤價(元)</th>\n",
       "      <th>成交量(千股)</th>\n",
       "      <th>成交值(千元)</th>\n",
       "      <th>成交筆數(筆)</th>\n",
       "      <th>流通在外股數(千股)</th>\n",
       "      <th>本益比-TSE</th>\n",
       "      <th>股價淨值比-TSE</th>\n",
       "    </tr>\n",
       "  </thead>\n",
       "  <tbody>\n",
       "    <tr>\n",
       "      <th>0</th>\n",
       "      <td>1240 茂生農經</td>\n",
       "      <td>2018/12/28</td>\n",
       "      <td>36.7</td>\n",
       "      <td>36.95</td>\n",
       "      <td>36.5</td>\n",
       "      <td>36.5</td>\n",
       "      <td>38</td>\n",
       "      <td>1,393</td>\n",
       "      <td>25</td>\n",
       "      <td>33,000</td>\n",
       "      <td>14.48</td>\n",
       "      <td>1.02</td>\n",
       "    </tr>\n",
       "  </tbody>\n",
       "</table>\n",
       "</div>"
      ],
      "text/plain": [
       "        證券代碼         年月日 開盤價(元) 最高價(元) 最低價(元) 收盤價(元) 成交量(千股) 成交值(千元) 成交筆數(筆)  \\\n",
       "0  1240 茂生農經  2018/12/28   36.7  36.95   36.5   36.5      38   1,393      25   \n",
       "\n",
       "  流通在外股數(千股) 本益比-TSE  股價淨值比-TSE  \n",
       "0     33,000   14.48       1.02  "
      ]
     },
     "execution_count": 21,
     "metadata": {},
     "output_type": "execute_result"
    }
   ],
   "source": [
    "df_OTC2018.head(1)"
   ]
  },
  {
   "cell_type": "code",
   "execution_count": 22,
   "metadata": {},
   "outputs": [
    {
     "data": {
      "text/html": [
       "<div>\n",
       "<style scoped>\n",
       "    .dataframe tbody tr th:only-of-type {\n",
       "        vertical-align: middle;\n",
       "    }\n",
       "\n",
       "    .dataframe tbody tr th {\n",
       "        vertical-align: top;\n",
       "    }\n",
       "\n",
       "    .dataframe thead th {\n",
       "        text-align: right;\n",
       "    }\n",
       "</style>\n",
       "<table border=\"1\" class=\"dataframe\">\n",
       "  <thead>\n",
       "    <tr style=\"text-align: right;\">\n",
       "      <th></th>\n",
       "      <th>證券代碼</th>\n",
       "      <th>年月日</th>\n",
       "      <th>開盤價(元)</th>\n",
       "      <th>最高價(元)</th>\n",
       "      <th>最低價(元)</th>\n",
       "      <th>收盤價(元)</th>\n",
       "      <th>成交量(千股)</th>\n",
       "      <th>成交值(千元)</th>\n",
       "      <th>成交筆數(筆)</th>\n",
       "      <th>流通在外股數(千股)</th>\n",
       "      <th>本益比-TSE</th>\n",
       "      <th>股價淨值比-TSE</th>\n",
       "    </tr>\n",
       "  </thead>\n",
       "  <tbody>\n",
       "    <tr>\n",
       "      <th>0</th>\n",
       "      <td>1258 其祥-KY</td>\n",
       "      <td>2017/12/29</td>\n",
       "      <td>29.5</td>\n",
       "      <td>29.5</td>\n",
       "      <td>29.31</td>\n",
       "      <td>29.31</td>\n",
       "      <td>6</td>\n",
       "      <td>182</td>\n",
       "      <td>4</td>\n",
       "      <td>36,816</td>\n",
       "      <td>16.02</td>\n",
       "      <td>1.27</td>\n",
       "    </tr>\n",
       "  </tbody>\n",
       "</table>\n",
       "</div>"
      ],
      "text/plain": [
       "         證券代碼         年月日 開盤價(元) 最高價(元) 最低價(元) 收盤價(元) 成交量(千股) 成交值(千元) 成交筆數(筆)  \\\n",
       "0  1258 其祥-KY  2017/12/29   29.5   29.5  29.31  29.31       6     182       4   \n",
       "\n",
       "  流通在外股數(千股) 本益比-TSE  股價淨值比-TSE  \n",
       "0     36,816   16.02       1.27  "
      ]
     },
     "execution_count": 22,
     "metadata": {},
     "output_type": "execute_result"
    }
   ],
   "source": [
    "df_OTC2017.head(1)"
   ]
  },
  {
   "cell_type": "code",
   "execution_count": 23,
   "metadata": {},
   "outputs": [
    {
     "data": {
      "text/html": [
       "<div>\n",
       "<style scoped>\n",
       "    .dataframe tbody tr th:only-of-type {\n",
       "        vertical-align: middle;\n",
       "    }\n",
       "\n",
       "    .dataframe tbody tr th {\n",
       "        vertical-align: top;\n",
       "    }\n",
       "\n",
       "    .dataframe thead th {\n",
       "        text-align: right;\n",
       "    }\n",
       "</style>\n",
       "<table border=\"1\" class=\"dataframe\">\n",
       "  <thead>\n",
       "    <tr style=\"text-align: right;\">\n",
       "      <th></th>\n",
       "      <th>證券代碼</th>\n",
       "      <th>年月日</th>\n",
       "      <th>開盤價(元)</th>\n",
       "      <th>最高價(元)</th>\n",
       "      <th>最低價(元)</th>\n",
       "      <th>收盤價(元)</th>\n",
       "      <th>成交量(千股)</th>\n",
       "      <th>成交值(千元)</th>\n",
       "      <th>成交筆數(筆)</th>\n",
       "      <th>流通在外股數(千股)</th>\n",
       "      <th>本益比-TSE</th>\n",
       "      <th>股價淨值比-TSE</th>\n",
       "    </tr>\n",
       "  </thead>\n",
       "  <tbody>\n",
       "    <tr>\n",
       "      <th>0</th>\n",
       "      <td>1258 其祥-KY</td>\n",
       "      <td>2016/12/30</td>\n",
       "      <td>36.42</td>\n",
       "      <td>37.08</td>\n",
       "      <td>36.42</td>\n",
       "      <td>36.94</td>\n",
       "      <td>101</td>\n",
       "      <td>3,931</td>\n",
       "      <td>43</td>\n",
       "      <td>36,399</td>\n",
       "      <td>9.84</td>\n",
       "      <td>1.68</td>\n",
       "    </tr>\n",
       "  </tbody>\n",
       "</table>\n",
       "</div>"
      ],
      "text/plain": [
       "         證券代碼         年月日 開盤價(元) 最高價(元) 最低價(元) 收盤價(元) 成交量(千股) 成交值(千元) 成交筆數(筆)  \\\n",
       "0  1258 其祥-KY  2016/12/30  36.42  37.08  36.42  36.94     101   3,931      43   \n",
       "\n",
       "  流通在外股數(千股) 本益比-TSE  股價淨值比-TSE  \n",
       "0     36,399    9.84       1.68  "
      ]
     },
     "execution_count": 23,
     "metadata": {},
     "output_type": "execute_result"
    }
   ],
   "source": [
    "df_OTC2016.head(1)"
   ]
  },
  {
   "cell_type": "code",
   "execution_count": 24,
   "metadata": {},
   "outputs": [
    {
     "data": {
      "text/html": [
       "<div>\n",
       "<style scoped>\n",
       "    .dataframe tbody tr th:only-of-type {\n",
       "        vertical-align: middle;\n",
       "    }\n",
       "\n",
       "    .dataframe tbody tr th {\n",
       "        vertical-align: top;\n",
       "    }\n",
       "\n",
       "    .dataframe thead th {\n",
       "        text-align: right;\n",
       "    }\n",
       "</style>\n",
       "<table border=\"1\" class=\"dataframe\">\n",
       "  <thead>\n",
       "    <tr style=\"text-align: right;\">\n",
       "      <th></th>\n",
       "      <th>證券代碼</th>\n",
       "      <th>年月日</th>\n",
       "      <th>開盤價(元)</th>\n",
       "      <th>最高價(元)</th>\n",
       "      <th>最低價(元)</th>\n",
       "      <th>收盤價(元)</th>\n",
       "      <th>成交量(千股)</th>\n",
       "      <th>成交值(千元)</th>\n",
       "      <th>成交筆數(筆)</th>\n",
       "      <th>流通在外股數(千股)</th>\n",
       "      <th>本益比-TSE</th>\n",
       "      <th>股價淨值比-TSE</th>\n",
       "    </tr>\n",
       "  </thead>\n",
       "  <tbody>\n",
       "    <tr>\n",
       "      <th>0</th>\n",
       "      <td>1101 台泥</td>\n",
       "      <td>2018/12/28</td>\n",
       "      <td>35.4</td>\n",
       "      <td>35.75</td>\n",
       "      <td>35.4</td>\n",
       "      <td>35.6</td>\n",
       "      <td>8,117</td>\n",
       "      <td>288,722</td>\n",
       "      <td>3,471</td>\n",
       "      <td>5,108,059</td>\n",
       "      <td>9.78</td>\n",
       "      <td>1.07</td>\n",
       "    </tr>\n",
       "  </tbody>\n",
       "</table>\n",
       "</div>"
      ],
      "text/plain": [
       "      證券代碼         年月日 開盤價(元) 最高價(元) 最低價(元) 收盤價(元) 成交量(千股)  成交值(千元) 成交筆數(筆)  \\\n",
       "0  1101 台泥  2018/12/28   35.4  35.75   35.4   35.6   8,117  288,722   3,471   \n",
       "\n",
       "  流通在外股數(千股) 本益比-TSE  股價淨值比-TSE  \n",
       "0  5,108,059    9.78       1.07  "
      ]
     },
     "execution_count": 24,
     "metadata": {},
     "output_type": "execute_result"
    }
   ],
   "source": [
    "df_TWSE2018.head(1)"
   ]
  },
  {
   "cell_type": "code",
   "execution_count": 25,
   "metadata": {},
   "outputs": [
    {
     "data": {
      "text/html": [
       "<div>\n",
       "<style scoped>\n",
       "    .dataframe tbody tr th:only-of-type {\n",
       "        vertical-align: middle;\n",
       "    }\n",
       "\n",
       "    .dataframe tbody tr th {\n",
       "        vertical-align: top;\n",
       "    }\n",
       "\n",
       "    .dataframe thead th {\n",
       "        text-align: right;\n",
       "    }\n",
       "</style>\n",
       "<table border=\"1\" class=\"dataframe\">\n",
       "  <thead>\n",
       "    <tr style=\"text-align: right;\">\n",
       "      <th></th>\n",
       "      <th>證券代碼</th>\n",
       "      <th>年月日</th>\n",
       "      <th>開盤價(元)</th>\n",
       "      <th>最高價(元)</th>\n",
       "      <th>最低價(元)</th>\n",
       "      <th>收盤價(元)</th>\n",
       "      <th>成交量(千股)</th>\n",
       "      <th>成交值(千元)</th>\n",
       "      <th>成交筆數(筆)</th>\n",
       "      <th>流通在外股數(千股)</th>\n",
       "      <th>本益比-TSE</th>\n",
       "      <th>股價淨值比-TSE</th>\n",
       "    </tr>\n",
       "  </thead>\n",
       "  <tbody>\n",
       "    <tr>\n",
       "      <th>0</th>\n",
       "      <td>1101 台泥</td>\n",
       "      <td>2017/12/29</td>\n",
       "      <td>31.81</td>\n",
       "      <td>32.34</td>\n",
       "      <td>31.72</td>\n",
       "      <td>32.03</td>\n",
       "      <td>13,039</td>\n",
       "      <td>474,385</td>\n",
       "      <td>3,330</td>\n",
       "      <td>4,246,509</td>\n",
       "      <td>19.92</td>\n",
       "      <td>1.2</td>\n",
       "    </tr>\n",
       "  </tbody>\n",
       "</table>\n",
       "</div>"
      ],
      "text/plain": [
       "      證券代碼         年月日 開盤價(元) 最高價(元) 最低價(元) 收盤價(元) 成交量(千股)  成交值(千元) 成交筆數(筆)  \\\n",
       "0  1101 台泥  2017/12/29  31.81  32.34  31.72  32.03  13,039  474,385   3,330   \n",
       "\n",
       "  流通在外股數(千股) 本益比-TSE  股價淨值比-TSE  \n",
       "0  4,246,509   19.92        1.2  "
      ]
     },
     "execution_count": 25,
     "metadata": {},
     "output_type": "execute_result"
    }
   ],
   "source": [
    "df_TWSE2017.head(1)"
   ]
  },
  {
   "cell_type": "code",
   "execution_count": 26,
   "metadata": {},
   "outputs": [
    {
     "data": {
      "text/html": [
       "<div>\n",
       "<style scoped>\n",
       "    .dataframe tbody tr th:only-of-type {\n",
       "        vertical-align: middle;\n",
       "    }\n",
       "\n",
       "    .dataframe tbody tr th {\n",
       "        vertical-align: top;\n",
       "    }\n",
       "\n",
       "    .dataframe thead th {\n",
       "        text-align: right;\n",
       "    }\n",
       "</style>\n",
       "<table border=\"1\" class=\"dataframe\">\n",
       "  <thead>\n",
       "    <tr style=\"text-align: right;\">\n",
       "      <th></th>\n",
       "      <th>證券代碼</th>\n",
       "      <th>年月日</th>\n",
       "      <th>開盤價(元)</th>\n",
       "      <th>最高價(元)</th>\n",
       "      <th>最低價(元)</th>\n",
       "      <th>收盤價(元)</th>\n",
       "      <th>成交量(千股)</th>\n",
       "      <th>成交值(千元)</th>\n",
       "      <th>成交筆數(筆)</th>\n",
       "      <th>流通在外股數(千股)</th>\n",
       "      <th>本益比-TSE</th>\n",
       "      <th>股價淨值比-TSE</th>\n",
       "    </tr>\n",
       "  </thead>\n",
       "  <tbody>\n",
       "    <tr>\n",
       "      <th>0</th>\n",
       "      <td>1101 台泥</td>\n",
       "      <td>2016/12/30</td>\n",
       "      <td>29.09</td>\n",
       "      <td>29.64</td>\n",
       "      <td>28.93</td>\n",
       "      <td>29.64</td>\n",
       "      <td>6,121</td>\n",
       "      <td>213,121</td>\n",
       "      <td>2,939</td>\n",
       "      <td>3,692,175</td>\n",
       "      <td>20.56</td>\n",
       "      <td>1.23</td>\n",
       "    </tr>\n",
       "  </tbody>\n",
       "</table>\n",
       "</div>"
      ],
      "text/plain": [
       "      證券代碼         年月日 開盤價(元) 最高價(元) 最低價(元) 收盤價(元) 成交量(千股)  成交值(千元) 成交筆數(筆)  \\\n",
       "0  1101 台泥  2016/12/30  29.09  29.64  28.93  29.64   6,121  213,121   2,939   \n",
       "\n",
       "  流通在外股數(千股) 本益比-TSE  股價淨值比-TSE  \n",
       "0  3,692,175   20.56       1.23  "
      ]
     },
     "execution_count": 26,
     "metadata": {},
     "output_type": "execute_result"
    }
   ],
   "source": [
    "df_TWSE2016.head(1)"
   ]
  },
  {
   "cell_type": "code",
   "execution_count": 27,
   "metadata": {},
   "outputs": [
    {
     "data": {
      "text/html": [
       "<div>\n",
       "<style scoped>\n",
       "    .dataframe tbody tr th:only-of-type {\n",
       "        vertical-align: middle;\n",
       "    }\n",
       "\n",
       "    .dataframe tbody tr th {\n",
       "        vertical-align: top;\n",
       "    }\n",
       "\n",
       "    .dataframe thead th {\n",
       "        text-align: right;\n",
       "    }\n",
       "</style>\n",
       "<table border=\"1\" class=\"dataframe\">\n",
       "  <thead>\n",
       "    <tr style=\"text-align: right;\">\n",
       "      <th></th>\n",
       "      <th>id</th>\n",
       "      <th>p_type</th>\n",
       "      <th>s_name</th>\n",
       "      <th>s_area_name</th>\n",
       "      <th>comment_count</th>\n",
       "      <th>post_time</th>\n",
       "      <th>title</th>\n",
       "      <th>author</th>\n",
       "      <th>content</th>\n",
       "      <th>page_url</th>\n",
       "    </tr>\n",
       "  </thead>\n",
       "  <tbody>\n",
       "    <tr>\n",
       "      <th>0</th>\n",
       "      <td>1451580710262_PTT02R</td>\n",
       "      <td>bbs</td>\n",
       "      <td>Ptt</td>\n",
       "      <td>Stock</td>\n",
       "      <td>10</td>\n",
       "      <td>2016/1/1 00:48:25</td>\n",
       "      <td>[新聞] 第三方支付 台灣普及關鍵年</td>\n",
       "      <td>Bokolo</td>\n",
       "      <td>1.原文連結(必須檢附)：\\nhttp://magazine.chinatimes.com/...</td>\n",
       "      <td>http://www.ptt.cc/bbs/Stock/M.1451580509.A.722...</td>\n",
       "    </tr>\n",
       "  </tbody>\n",
       "</table>\n",
       "</div>"
      ],
      "text/plain": [
       "                     id p_type s_name s_area_name  comment_count  \\\n",
       "0  1451580710262_PTT02R    bbs    Ptt       Stock             10   \n",
       "\n",
       "           post_time               title  author  \\\n",
       "0  2016/1/1 00:48:25  [新聞] 第三方支付 台灣普及關鍵年  Bokolo   \n",
       "\n",
       "                                             content  \\\n",
       "0  1.原文連結(必須檢附)：\\nhttp://magazine.chinatimes.com/...   \n",
       "\n",
       "                                            page_url  \n",
       "0  http://www.ptt.cc/bbs/Stock/M.1451580509.A.722...  "
      ]
     },
     "execution_count": 27,
     "metadata": {},
     "output_type": "execute_result"
    }
   ],
   "source": [
    "df_bbs.head(1)"
   ]
  },
  {
   "cell_type": "code",
   "execution_count": 28,
   "metadata": {},
   "outputs": [
    {
     "data": {
      "text/html": [
       "<div>\n",
       "<style scoped>\n",
       "    .dataframe tbody tr th:only-of-type {\n",
       "        vertical-align: middle;\n",
       "    }\n",
       "\n",
       "    .dataframe tbody tr th {\n",
       "        vertical-align: top;\n",
       "    }\n",
       "\n",
       "    .dataframe thead th {\n",
       "        text-align: right;\n",
       "    }\n",
       "</style>\n",
       "<table border=\"1\" class=\"dataframe\">\n",
       "  <thead>\n",
       "    <tr style=\"text-align: right;\">\n",
       "      <th></th>\n",
       "      <th>id</th>\n",
       "      <th>p_type</th>\n",
       "      <th>s_name</th>\n",
       "      <th>s_area_name</th>\n",
       "      <th>comment_count</th>\n",
       "      <th>post_time</th>\n",
       "      <th>title</th>\n",
       "      <th>author</th>\n",
       "      <th>content</th>\n",
       "      <th>page_url</th>\n",
       "    </tr>\n",
       "  </thead>\n",
       "  <tbody>\n",
       "    <tr>\n",
       "      <th>0</th>\n",
       "      <td>1451585357153_F01</td>\n",
       "      <td>forum</td>\n",
       "      <td>mobile01</td>\n",
       "      <td>投資與理財(生活娛樂)</td>\n",
       "      <td>1</td>\n",
       "      <td>2016/1/1 2:01:00</td>\n",
       "      <td>自刪</td>\n",
       "      <td>famas2200</td>\n",
       "      <td>不小心發錯版主請幫忙刪除文章謝謝</td>\n",
       "      <td>http://www.mobile01.com/topicdetail.php?f=291&amp;...</td>\n",
       "    </tr>\n",
       "  </tbody>\n",
       "</table>\n",
       "</div>"
      ],
      "text/plain": [
       "                  id p_type    s_name  s_area_name  comment_count  \\\n",
       "0  1451585357153_F01  forum  mobile01  投資與理財(生活娛樂)              1   \n",
       "\n",
       "          post_time title     author           content  \\\n",
       "0  2016/1/1 2:01:00    自刪  famas2200  不小心發錯版主請幫忙刪除文章謝謝   \n",
       "\n",
       "                                            page_url  \n",
       "0  http://www.mobile01.com/topicdetail.php?f=291&...  "
      ]
     },
     "execution_count": 28,
     "metadata": {},
     "output_type": "execute_result"
    }
   ],
   "source": [
    "df_forum.head(1)"
   ]
  },
  {
   "cell_type": "code",
   "execution_count": 29,
   "metadata": {},
   "outputs": [
    {
     "data": {
      "text/html": [
       "<div>\n",
       "<style scoped>\n",
       "    .dataframe tbody tr th:only-of-type {\n",
       "        vertical-align: middle;\n",
       "    }\n",
       "\n",
       "    .dataframe tbody tr th {\n",
       "        vertical-align: top;\n",
       "    }\n",
       "\n",
       "    .dataframe thead th {\n",
       "        text-align: right;\n",
       "    }\n",
       "</style>\n",
       "<table border=\"1\" class=\"dataframe\">\n",
       "  <thead>\n",
       "    <tr style=\"text-align: right;\">\n",
       "      <th></th>\n",
       "      <th>id</th>\n",
       "      <th>p_type</th>\n",
       "      <th>s_name</th>\n",
       "      <th>s_area_name</th>\n",
       "      <th>post_time</th>\n",
       "      <th>title</th>\n",
       "      <th>author</th>\n",
       "      <th>content</th>\n",
       "      <th>page_url</th>\n",
       "    </tr>\n",
       "  </thead>\n",
       "  <tbody>\n",
       "    <tr>\n",
       "      <th>0</th>\n",
       "      <td>1451580107540_N01</td>\n",
       "      <td>news</td>\n",
       "      <td>yahoo股市</td>\n",
       "      <td>重大要聞</td>\n",
       "      <td>2016/1/1 00:06:00</td>\n",
       "      <td>淪落的2015 竟是78年來最難獲利的一年</td>\n",
       "      <td>鉅亨網</td>\n",
       "      <td>鉅亨網編譯郭照青這一年，獲利真是難上難。&lt;BR&gt;根據CNBC分析報導，興業銀行的數據顯示，2...</td>\n",
       "      <td>https://tw.stock.yahoo.com/news_content/url/d/...</td>\n",
       "    </tr>\n",
       "  </tbody>\n",
       "</table>\n",
       "</div>"
      ],
      "text/plain": [
       "                  id p_type   s_name s_area_name          post_time  \\\n",
       "0  1451580107540_N01   news  yahoo股市        重大要聞  2016/1/1 00:06:00   \n",
       "\n",
       "                   title author  \\\n",
       "0  淪落的2015 竟是78年來最難獲利的一年    鉅亨網   \n",
       "\n",
       "                                             content  \\\n",
       "0  鉅亨網編譯郭照青這一年，獲利真是難上難。<BR>根據CNBC分析報導，興業銀行的數據顯示，2...   \n",
       "\n",
       "                                            page_url  \n",
       "0  https://tw.stock.yahoo.com/news_content/url/d/...  "
      ]
     },
     "execution_count": 29,
     "metadata": {},
     "output_type": "execute_result"
    }
   ],
   "source": [
    "df_news.head(1)"
   ]
  },
  {
   "cell_type": "code",
   "execution_count": null,
   "metadata": {},
   "outputs": [],
   "source": []
  }
 ],
 "metadata": {
  "kernelspec": {
   "display_name": "Python 3",
   "language": "python",
   "name": "python3"
  },
  "language_info": {
   "codemirror_mode": {
    "name": "ipython",
    "version": 3
   },
   "file_extension": ".py",
   "mimetype": "text/x-python",
   "name": "python",
   "nbconvert_exporter": "python",
   "pygments_lexer": "ipython3",
   "version": "3.6.7"
  }
 },
 "nbformat": 4,
 "nbformat_minor": 2
}
