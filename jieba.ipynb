{
 "cells": [
  {
   "cell_type": "code",
   "execution_count": 5,
   "metadata": {},
   "outputs": [],
   "source": [
    "import jieba\n",
    "import pandas as pd"
   ]
  },
  {
   "cell_type": "code",
   "execution_count": 6,
   "metadata": {},
   "outputs": [
    {
     "data": {
      "text/html": [
       "<div>\n",
       "<style scoped>\n",
       "    .dataframe tbody tr th:only-of-type {\n",
       "        vertical-align: middle;\n",
       "    }\n",
       "\n",
       "    .dataframe tbody tr th {\n",
       "        vertical-align: top;\n",
       "    }\n",
       "\n",
       "    .dataframe thead th {\n",
       "        text-align: right;\n",
       "    }\n",
       "</style>\n",
       "<table border=\"1\" class=\"dataframe\">\n",
       "  <thead>\n",
       "    <tr style=\"text-align: right;\">\n",
       "      <th></th>\n",
       "      <th>id</th>\n",
       "      <th>p_type</th>\n",
       "      <th>s_name</th>\n",
       "      <th>s_area_name</th>\n",
       "      <th>comment_count</th>\n",
       "      <th>post_time</th>\n",
       "      <th>title</th>\n",
       "      <th>author</th>\n",
       "      <th>content</th>\n",
       "      <th>page_url</th>\n",
       "    </tr>\n",
       "  </thead>\n",
       "  <tbody>\n",
       "    <tr>\n",
       "      <th>0</th>\n",
       "      <td>1451580710262_PTT02R</td>\n",
       "      <td>bbs</td>\n",
       "      <td>Ptt</td>\n",
       "      <td>Stock</td>\n",
       "      <td>10</td>\n",
       "      <td>2016/1/1 00:48:25</td>\n",
       "      <td>[新聞] 第三方支付 台灣普及關鍵年</td>\n",
       "      <td>Bokolo</td>\n",
       "      <td>1.原文連結(必須檢附)：\\nhttp://magazine.chinatimes.com/...</td>\n",
       "      <td>http://www.ptt.cc/bbs/Stock/M.1451580509.A.722...</td>\n",
       "    </tr>\n",
       "    <tr>\n",
       "      <th>1</th>\n",
       "      <td>1451580711002_PTT02R</td>\n",
       "      <td>bbs</td>\n",
       "      <td>Ptt</td>\n",
       "      <td>Stock</td>\n",
       "      <td>28</td>\n",
       "      <td>2016/1/1 00:50:54</td>\n",
       "      <td>[新聞] 曾銘宗：電子支付拼5年倍增</td>\n",
       "      <td>Bokolo</td>\n",
       "      <td>1.原文連結(必須檢附)：\\nhttp://www.appledaily.com.tw/re...</td>\n",
       "      <td>http://www.ptt.cc/bbs/Stock/M.1451580658.A.D8B...</td>\n",
       "    </tr>\n",
       "  </tbody>\n",
       "</table>\n",
       "</div>"
      ],
      "text/plain": [
       "                     id p_type s_name s_area_name  comment_count  \\\n",
       "0  1451580710262_PTT02R    bbs    Ptt       Stock             10   \n",
       "1  1451580711002_PTT02R    bbs    Ptt       Stock             28   \n",
       "\n",
       "           post_time               title  author  \\\n",
       "0  2016/1/1 00:48:25  [新聞] 第三方支付 台灣普及關鍵年  Bokolo   \n",
       "1  2016/1/1 00:50:54  [新聞] 曾銘宗：電子支付拼5年倍增  Bokolo   \n",
       "\n",
       "                                             content  \\\n",
       "0  1.原文連結(必須檢附)：\\nhttp://magazine.chinatimes.com/...   \n",
       "1  1.原文連結(必須檢附)：\\nhttp://www.appledaily.com.tw/re...   \n",
       "\n",
       "                                            page_url  \n",
       "0  http://www.ptt.cc/bbs/Stock/M.1451580509.A.722...  \n",
       "1  http://www.ptt.cc/bbs/Stock/M.1451580658.A.D8B...  "
      ]
     },
     "execution_count": 6,
     "metadata": {},
     "output_type": "execute_result"
    }
   ],
   "source": [
    "df_bbs = pd.read_csv(\"bda2019_dataset/bbs2.csv\", encoding=\"utf-8\")\n",
    "df_bbs.head(2)"
   ]
  },
  {
   "cell_type": "code",
   "execution_count": 7,
   "metadata": {},
   "outputs": [
    {
     "data": {
      "text/html": [
       "<div>\n",
       "<style scoped>\n",
       "    .dataframe tbody tr th:only-of-type {\n",
       "        vertical-align: middle;\n",
       "    }\n",
       "\n",
       "    .dataframe tbody tr th {\n",
       "        vertical-align: top;\n",
       "    }\n",
       "\n",
       "    .dataframe thead th {\n",
       "        text-align: right;\n",
       "    }\n",
       "</style>\n",
       "<table border=\"1\" class=\"dataframe\">\n",
       "  <thead>\n",
       "    <tr style=\"text-align: right;\">\n",
       "      <th></th>\n",
       "      <th>id</th>\n",
       "      <th>p_type</th>\n",
       "      <th>s_name</th>\n",
       "      <th>s_area_name</th>\n",
       "      <th>comment_count</th>\n",
       "      <th>post_time</th>\n",
       "      <th>title</th>\n",
       "      <th>author</th>\n",
       "      <th>content</th>\n",
       "      <th>page_url</th>\n",
       "      <th>title2</th>\n",
       "    </tr>\n",
       "  </thead>\n",
       "  <tbody>\n",
       "    <tr>\n",
       "      <th>0</th>\n",
       "      <td>1451580710262_PTT02R</td>\n",
       "      <td>bbs</td>\n",
       "      <td>Ptt</td>\n",
       "      <td>Stock</td>\n",
       "      <td>10</td>\n",
       "      <td>2016/1/1 00:48:25</td>\n",
       "      <td>[新聞] 第三方支付 台灣普及關鍵年</td>\n",
       "      <td>Bokolo</td>\n",
       "      <td>1.原文連結(必須檢附)：\\nhttp://magazine.chinatimes.com/...</td>\n",
       "      <td>http://www.ptt.cc/bbs/Stock/M.1451580509.A.722...</td>\n",
       "      <td>[ 新聞 ]   第三方 支付   台灣 普及 關鍵 年</td>\n",
       "    </tr>\n",
       "    <tr>\n",
       "      <th>1</th>\n",
       "      <td>1451580711002_PTT02R</td>\n",
       "      <td>bbs</td>\n",
       "      <td>Ptt</td>\n",
       "      <td>Stock</td>\n",
       "      <td>28</td>\n",
       "      <td>2016/1/1 00:50:54</td>\n",
       "      <td>[新聞] 曾銘宗：電子支付拼5年倍增</td>\n",
       "      <td>Bokolo</td>\n",
       "      <td>1.原文連結(必須檢附)：\\nhttp://www.appledaily.com.tw/re...</td>\n",
       "      <td>http://www.ptt.cc/bbs/Stock/M.1451580658.A.D8B...</td>\n",
       "      <td>[ 新聞 ]   曾銘宗 ： 電子 支付 拼 5 年 倍增</td>\n",
       "    </tr>\n",
       "  </tbody>\n",
       "</table>\n",
       "</div>"
      ],
      "text/plain": [
       "                     id p_type s_name s_area_name  comment_count  \\\n",
       "0  1451580710262_PTT02R    bbs    Ptt       Stock             10   \n",
       "1  1451580711002_PTT02R    bbs    Ptt       Stock             28   \n",
       "\n",
       "           post_time               title  author  \\\n",
       "0  2016/1/1 00:48:25  [新聞] 第三方支付 台灣普及關鍵年  Bokolo   \n",
       "1  2016/1/1 00:50:54  [新聞] 曾銘宗：電子支付拼5年倍增  Bokolo   \n",
       "\n",
       "                                             content  \\\n",
       "0  1.原文連結(必須檢附)：\\nhttp://magazine.chinatimes.com/...   \n",
       "1  1.原文連結(必須檢附)：\\nhttp://www.appledaily.com.tw/re...   \n",
       "\n",
       "                                            page_url  \\\n",
       "0  http://www.ptt.cc/bbs/Stock/M.1451580509.A.722...   \n",
       "1  http://www.ptt.cc/bbs/Stock/M.1451580658.A.D8B...   \n",
       "\n",
       "                          title2  \n",
       "0   [ 新聞 ]   第三方 支付   台灣 普及 關鍵 年  \n",
       "1  [ 新聞 ]   曾銘宗 ： 電子 支付 拼 5 年 倍增  "
      ]
     },
     "execution_count": 7,
     "metadata": {},
     "output_type": "execute_result"
    }
   ],
   "source": [
    "content = []\n",
    "for rec in df_bbs.iterrows():\n",
    "    seg_list = jieba.cut(rec[1]['title'])\n",
    "    content.append(' '.join(seg_list))\n",
    "\n",
    "df_bbs[\"title2\"]=content\n",
    "df_bbs.head(2)"
   ]
  },
  {
   "cell_type": "code",
   "execution_count": 4,
   "metadata": {},
   "outputs": [
    {
     "ename": "AttributeError",
     "evalue": "'float' object has no attribute 'decode'",
     "output_type": "error",
     "traceback": [
      "\u001b[0;31m---------------------------------------------------------------------------\u001b[0m",
      "\u001b[0;31mAttributeError\u001b[0m                            Traceback (most recent call last)",
      "\u001b[0;32m<ipython-input-4-bbf359010564>\u001b[0m in \u001b[0;36m<module>\u001b[0;34m\u001b[0m\n\u001b[1;32m      1\u001b[0m \u001b[0mcontent\u001b[0m \u001b[0;34m=\u001b[0m \u001b[0;34m[\u001b[0m\u001b[0;34m]\u001b[0m\u001b[0;34m\u001b[0m\u001b[0;34m\u001b[0m\u001b[0m\n\u001b[1;32m      2\u001b[0m \u001b[0;32mfor\u001b[0m \u001b[0mrec\u001b[0m \u001b[0;32min\u001b[0m \u001b[0mdf_bbs\u001b[0m\u001b[0;34m.\u001b[0m\u001b[0miterrows\u001b[0m\u001b[0;34m(\u001b[0m\u001b[0;34m)\u001b[0m\u001b[0;34m:\u001b[0m\u001b[0;34m\u001b[0m\u001b[0;34m\u001b[0m\u001b[0m\n\u001b[0;32m----> 3\u001b[0;31m     \u001b[0mcontent\u001b[0m\u001b[0;34m.\u001b[0m\u001b[0mappend\u001b[0m\u001b[0;34m(\u001b[0m\u001b[0;34m' '\u001b[0m\u001b[0;34m.\u001b[0m\u001b[0mjoin\u001b[0m\u001b[0;34m(\u001b[0m\u001b[0mjieba\u001b[0m\u001b[0;34m.\u001b[0m\u001b[0mcut\u001b[0m\u001b[0;34m(\u001b[0m\u001b[0mrec\u001b[0m\u001b[0;34m[\u001b[0m\u001b[0;36m1\u001b[0m\u001b[0;34m]\u001b[0m\u001b[0;34m[\u001b[0m\u001b[0;34m'content'\u001b[0m\u001b[0;34m]\u001b[0m\u001b[0;34m)\u001b[0m\u001b[0;34m)\u001b[0m\u001b[0;34m)\u001b[0m\u001b[0;34m\u001b[0m\u001b[0;34m\u001b[0m\u001b[0m\n\u001b[0m\u001b[1;32m      4\u001b[0m \u001b[0;34m\u001b[0m\u001b[0m\n\u001b[1;32m      5\u001b[0m \u001b[0mdf_bbs\u001b[0m\u001b[0;34m[\u001b[0m\u001b[0;34m\"content2\"\u001b[0m\u001b[0;34m]\u001b[0m\u001b[0;34m=\u001b[0m\u001b[0mcontent\u001b[0m\u001b[0;34m\u001b[0m\u001b[0;34m\u001b[0m\u001b[0m\n",
      "\u001b[0;32m~/miniconda3/envs/stockenv/lib/python3.6/site-packages/jieba/__init__.py\u001b[0m in \u001b[0;36mcut\u001b[0;34m(self, sentence, cut_all, HMM)\u001b[0m\n\u001b[1;32m    280\u001b[0m             \u001b[0;34m-\u001b[0m \u001b[0mHMM\u001b[0m\u001b[0;34m:\u001b[0m \u001b[0mWhether\u001b[0m \u001b[0mto\u001b[0m \u001b[0muse\u001b[0m \u001b[0mthe\u001b[0m \u001b[0mHidden\u001b[0m \u001b[0mMarkov\u001b[0m \u001b[0mModel\u001b[0m\u001b[0;34m.\u001b[0m\u001b[0;34m\u001b[0m\u001b[0;34m\u001b[0m\u001b[0m\n\u001b[1;32m    281\u001b[0m         '''\n\u001b[0;32m--> 282\u001b[0;31m         \u001b[0msentence\u001b[0m \u001b[0;34m=\u001b[0m \u001b[0mstrdecode\u001b[0m\u001b[0;34m(\u001b[0m\u001b[0msentence\u001b[0m\u001b[0;34m)\u001b[0m\u001b[0;34m\u001b[0m\u001b[0;34m\u001b[0m\u001b[0m\n\u001b[0m\u001b[1;32m    283\u001b[0m \u001b[0;34m\u001b[0m\u001b[0m\n\u001b[1;32m    284\u001b[0m         \u001b[0;32mif\u001b[0m \u001b[0mcut_all\u001b[0m\u001b[0;34m:\u001b[0m\u001b[0;34m\u001b[0m\u001b[0;34m\u001b[0m\u001b[0m\n",
      "\u001b[0;32m~/miniconda3/envs/stockenv/lib/python3.6/site-packages/jieba/_compat.py\u001b[0m in \u001b[0;36mstrdecode\u001b[0;34m(sentence)\u001b[0m\n\u001b[1;32m     35\u001b[0m     \u001b[0;32mif\u001b[0m \u001b[0;32mnot\u001b[0m \u001b[0misinstance\u001b[0m\u001b[0;34m(\u001b[0m\u001b[0msentence\u001b[0m\u001b[0;34m,\u001b[0m \u001b[0mtext_type\u001b[0m\u001b[0;34m)\u001b[0m\u001b[0;34m:\u001b[0m\u001b[0;34m\u001b[0m\u001b[0;34m\u001b[0m\u001b[0m\n\u001b[1;32m     36\u001b[0m         \u001b[0;32mtry\u001b[0m\u001b[0;34m:\u001b[0m\u001b[0;34m\u001b[0m\u001b[0;34m\u001b[0m\u001b[0m\n\u001b[0;32m---> 37\u001b[0;31m             \u001b[0msentence\u001b[0m \u001b[0;34m=\u001b[0m \u001b[0msentence\u001b[0m\u001b[0;34m.\u001b[0m\u001b[0mdecode\u001b[0m\u001b[0;34m(\u001b[0m\u001b[0;34m'utf-8'\u001b[0m\u001b[0;34m)\u001b[0m\u001b[0;34m\u001b[0m\u001b[0;34m\u001b[0m\u001b[0m\n\u001b[0m\u001b[1;32m     38\u001b[0m         \u001b[0;32mexcept\u001b[0m \u001b[0mUnicodeDecodeError\u001b[0m\u001b[0;34m:\u001b[0m\u001b[0;34m\u001b[0m\u001b[0;34m\u001b[0m\u001b[0m\n\u001b[1;32m     39\u001b[0m             \u001b[0msentence\u001b[0m \u001b[0;34m=\u001b[0m \u001b[0msentence\u001b[0m\u001b[0;34m.\u001b[0m\u001b[0mdecode\u001b[0m\u001b[0;34m(\u001b[0m\u001b[0;34m'gbk'\u001b[0m\u001b[0;34m,\u001b[0m \u001b[0;34m'ignore'\u001b[0m\u001b[0;34m)\u001b[0m\u001b[0;34m\u001b[0m\u001b[0;34m\u001b[0m\u001b[0m\n",
      "\u001b[0;31mAttributeError\u001b[0m: 'float' object has no attribute 'decode'"
     ]
    }
   ],
   "source": [
    "content = []\n",
    "for rec in df_bbs.iterrows():\n",
    "    content.append(' '.join(jieba.cut(rec[1]['content'])))\n",
    "\n",
    "df_bbs[\"content2\"]=content\n",
    "df_bbs.head(2)"
   ]
  },
  {
   "cell_type": "code",
   "execution_count": null,
   "metadata": {},
   "outputs": [],
   "source": []
  },
  {
   "cell_type": "code",
   "execution_count": null,
   "metadata": {},
   "outputs": [],
   "source": []
  },
  {
   "cell_type": "code",
   "execution_count": null,
   "metadata": {},
   "outputs": [],
   "source": []
  },
  {
   "cell_type": "code",
   "execution_count": null,
   "metadata": {},
   "outputs": [],
   "source": []
  },
  {
   "cell_type": "code",
   "execution_count": null,
   "metadata": {},
   "outputs": [],
   "source": []
  },
  {
   "cell_type": "code",
   "execution_count": null,
   "metadata": {},
   "outputs": [],
   "source": []
  },
  {
   "cell_type": "code",
   "execution_count": null,
   "metadata": {},
   "outputs": [],
   "source": []
  },
  {
   "cell_type": "code",
   "execution_count": null,
   "metadata": {},
   "outputs": [],
   "source": []
  },
  {
   "cell_type": "code",
   "execution_count": null,
   "metadata": {},
   "outputs": [],
   "source": []
  }
 ],
 "metadata": {
  "kernelspec": {
   "display_name": "Python 3",
   "language": "python",
   "name": "python3"
  },
  "language_info": {
   "codemirror_mode": {
    "name": "ipython",
    "version": 3
   },
   "file_extension": ".py",
   "mimetype": "text/x-python",
   "name": "python",
   "nbconvert_exporter": "python",
   "pygments_lexer": "ipython3",
   "version": "3.6.7"
  }
 },
 "nbformat": 4,
 "nbformat_minor": 2
}
