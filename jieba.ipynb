{
 "cells": [
  {
   "cell_type": "code",
   "execution_count": null,
   "metadata": {},
   "outputs": [],
   "source": [
    "import jieba"
   ]
  },
  {
   "cell_type": "code",
   "execution_count": null,
   "metadata": {},
   "outputs": [],
   "source": [
    "content = open(\"bda2019_dataset/forum2.txt\", \"rb\").read()\n",
    "seg_list = jieba.cut(content, cut_all=False)\n",
    "print(\" \".join(seg_list),file=open(\"bda2019_dataset/forum3.txt\", \"a\"))  # 精確模式\n",
    "del content\n",
    "del seg_list"
   ]
  },
  {
   "cell_type": "code",
   "execution_count": null,
   "metadata": {},
   "outputs": [],
   "source": [
    "content = open(\"bda2019_dataset/bbs2.txt\", \"rb\").read()\n",
    "seg_list = jieba.cut(content, cut_all=False)\n",
    "print(\" \".join(seg_list),file=open(\"bda2019_dataset/bbs3.txt\", \"a\"))  # 精確模式\n",
    "del content\n",
    "del seg_list"
   ]
  },
  {
   "cell_type": "code",
   "execution_count": null,
   "metadata": {},
   "outputs": [],
   "source": [
    "content = open(\"bda2019_dataset/news2.txt\", \"rb\").read()\n",
    "seg_list = jieba.cut(content, cut_all=False)\n",
    "print(\" \".join(seg_list),file=open(\"bda2019_dataset/news3.txt\", \"a\"))  # 精確模式\n",
    "del content\n",
    "del seg_list"
   ]
  },
  {
   "cell_type": "code",
   "execution_count": null,
   "metadata": {},
   "outputs": [],
   "source": []
  }
 ],
 "metadata": {
  "kernelspec": {
   "display_name": "Python 3",
   "language": "python",
   "name": "python3"
  },
  "language_info": {
   "codemirror_mode": {
    "name": "ipython",
    "version": 3
   },
   "file_extension": ".py",
   "mimetype": "text/x-python",
   "name": "python",
   "nbconvert_exporter": "python",
   "pygments_lexer": "ipython3",
   "version": "3.6.7"
  }
 },
 "nbformat": 4,
 "nbformat_minor": 2
}
