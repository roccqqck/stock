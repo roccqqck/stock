{
 "cells": [
  {
   "cell_type": "code",
   "execution_count": 1,
   "metadata": {},
   "outputs": [],
   "source": [
    "import jieba"
   ]
  },
  {
   "cell_type": "code",
   "execution_count": 2,
   "metadata": {},
   "outputs": [
    {
     "name": "stderr",
     "output_type": "stream",
     "text": [
      "Building prefix dict from the default dictionary ...\n",
      "Loading model from cache /tmp/jieba.cache\n",
      "Loading model cost 0.516 seconds.\n",
      "Prefix dict has been built succesfully.\n"
     ]
    },
    {
     "name": "stdout",
     "output_type": "stream",
     "text": [
      "1 , 2 , 3 , 我 好好 ! \n",
      " 你 在 幹 嘛 ? \n",
      " 哈哈哈 . \n",
      " , 4 , 5 , 6\n"
     ]
    }
   ],
   "source": [
    "content = \"1,2,3,我好好!\\n你在幹嘛?\\n哈哈哈.\\n,4,5,6\"\n",
    "seg_list = jieba.cut(content, cut_all=False)\n",
    "print(\" \".join(seg_list))"
   ]
  },
  {
   "cell_type": "code",
   "execution_count": null,
   "metadata": {},
   "outputs": [],
   "source": [
    "content = open(\"bda2019_dataset/forum2.txt\", \"rb\").read()\n",
    "seg_list = jieba.cut(content, cut_all=False)\n",
    "print(\" \".join(seg_list),file=open(\"bda2019_dataset/forum3.txt\", \"a\"))  # 精確模式\n",
    "del content\n",
    "del seg_list"
   ]
  },
  {
   "cell_type": "code",
   "execution_count": null,
   "metadata": {},
   "outputs": [],
   "source": [
    "content = open(\"bda2019_dataset/bbs2.txt\", \"rb\").read()\n",
    "seg_list = jieba.cut(content, cut_all=False)\n",
    "print(\" \".join(seg_list),file=open(\"bda2019_dataset/bbs3.txt\", \"a\"))  # 精確模式\n",
    "del content\n",
    "del seg_list"
   ]
  },
  {
   "cell_type": "code",
   "execution_count": null,
   "metadata": {},
   "outputs": [],
   "source": [
    "content = open(\"bda2019_dataset/news2.txt\", \"rb\").read()\n",
    "seg_list = jieba.cut(content, cut_all=False)\n",
    "print(\" \".join(seg_list),file=open(\"bda2019_dataset/news3.txt\", \"a\"))  # 精確模式\n",
    "del content\n",
    "del seg_list"
   ]
  },
  {
   "cell_type": "code",
   "execution_count": null,
   "metadata": {},
   "outputs": [],
   "source": []
  }
 ],
 "metadata": {
  "kernelspec": {
   "display_name": "Python 3",
   "language": "python",
   "name": "python3"
  },
  "language_info": {
   "codemirror_mode": {
    "name": "ipython",
    "version": 3
   },
   "file_extension": ".py",
   "mimetype": "text/x-python",
   "name": "python",
   "nbconvert_exporter": "python",
   "pygments_lexer": "ipython3",
   "version": "3.6.7"
  }
 },
 "nbformat": 4,
 "nbformat_minor": 2
}
