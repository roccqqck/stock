{
 "cells": [
  {
   "cell_type": "code",
   "execution_count": 1,
   "metadata": {},
   "outputs": [],
   "source": [
    "import pandas as pd\n",
    "import jieba\n",
    "import jieba.analyse\n",
    "jieba.set_dictionary('dict.idkrsi.txt')    #預設字典改繁體\n",
    "jieba.analyse.set_stop_words(\"stopword.goatwang.kang.txt\")"
   ]
  },
  {
   "cell_type": "code",
   "execution_count": 2,
   "metadata": {},
   "outputs": [],
   "source": [
    "df_bbs = pd.read_csv(\"bda2019_dataset/bbs2.csv\", encoding=\"utf-8\")    #pandas讀取csv\n",
    "#df_bbs.head(2)"
   ]
  },
  {
   "cell_type": "code",
   "execution_count": 3,
   "metadata": {},
   "outputs": [],
   "source": [
    "#df_bbs['content'] = (df_bbs['content']).replace(\"\\n\",\"\")      #似乎無效\n",
    "#df_bbs['content'] = str(df_bbs['content']).replace(\"\\n\",\"\")   #似乎無效"
   ]
  },
  {
   "cell_type": "code",
   "execution_count": 4,
   "metadata": {},
   "outputs": [],
   "source": [
    "#df_bbs['content'] = str(df_bbs['content']) #有效 但不能replace 而且開頭會多一個 0 \n",
    "#df_bbs['title'] = str(df_bbs['title'])"
   ]
  },
  {
   "cell_type": "code",
   "execution_count": 5,
   "metadata": {},
   "outputs": [
    {
     "name": "stderr",
     "output_type": "stream",
     "text": [
      "Building prefix dict from /home/barry/projects/stock/dict.idkrsi.txt ...\n",
      "Dumping model to file cache /tmp/jieba.ufc1c7fa02eb193cee2bb78b34d63c017.cache\n",
      "Loading model cost 0.635 seconds.\n",
      "Prefix dict has been built succesfully.\n"
     ]
    }
   ],
   "source": [
    "content = []                                                            # list\n",
    "\n",
    "# for index, row in df.iterrows():                                      \n",
    "\n",
    "for rec in df_bbs.iterrows():                                          # rec[0]就是index rec[1]就是row \n",
    "                                                                       # rec[1]['title']  會dataframe由上到下\n",
    "    seg_list = str( rec[1]['title'] ).replace('\\n','').replace(',',' ') # title的內容先轉string   #'空字串'取代'\\n'   #'空格'取代','\n",
    "    seg_list = jieba.cut(seg_list, cut_all=False)\n",
    "    content.append(' '.join(seg_list))                                  # 切好丟進list\n",
    "\n",
    "df_bbs[\"title2\"]=content                                                # list塞進dataframe\n",
    "#df_bbs.head(2)"
   ]
  },
  {
   "cell_type": "code",
   "execution_count": 6,
   "metadata": {},
   "outputs": [
    {
     "data": {
      "text/html": [
       "<div>\n",
       "<style scoped>\n",
       "    .dataframe tbody tr th:only-of-type {\n",
       "        vertical-align: middle;\n",
       "    }\n",
       "\n",
       "    .dataframe tbody tr th {\n",
       "        vertical-align: top;\n",
       "    }\n",
       "\n",
       "    .dataframe thead th {\n",
       "        text-align: right;\n",
       "    }\n",
       "</style>\n",
       "<table border=\"1\" class=\"dataframe\">\n",
       "  <thead>\n",
       "    <tr style=\"text-align: right;\">\n",
       "      <th></th>\n",
       "      <th>id</th>\n",
       "      <th>p_type</th>\n",
       "      <th>s_name</th>\n",
       "      <th>s_area_name</th>\n",
       "      <th>comment_count</th>\n",
       "      <th>post_time</th>\n",
       "      <th>title</th>\n",
       "      <th>author</th>\n",
       "      <th>content</th>\n",
       "      <th>page_url</th>\n",
       "      <th>title2</th>\n",
       "      <th>content2</th>\n",
       "    </tr>\n",
       "  </thead>\n",
       "  <tbody>\n",
       "    <tr>\n",
       "      <th>0</th>\n",
       "      <td>1451580710262_PTT02R</td>\n",
       "      <td>bbs</td>\n",
       "      <td>Ptt</td>\n",
       "      <td>Stock</td>\n",
       "      <td>10</td>\n",
       "      <td>2016/1/1 00:48:25</td>\n",
       "      <td>[新聞] 第三方支付 台灣普及關鍵年</td>\n",
       "      <td>Bokolo</td>\n",
       "      <td>1.原文連結(必須檢附)：\\nhttp://magazine.chinatimes.com/...</td>\n",
       "      <td>http://www.ptt.cc/bbs/Stock/M.1451580509.A.722...</td>\n",
       "      <td>[ 新聞 ]   第 三方 支付   台灣 普及 關鍵 年</td>\n",
       "      <td>1 . 原文 連結 ( 必須 檢附 ) ： http : / / magazine . ch...</td>\n",
       "    </tr>\n",
       "    <tr>\n",
       "      <th>1</th>\n",
       "      <td>1451580711002_PTT02R</td>\n",
       "      <td>bbs</td>\n",
       "      <td>Ptt</td>\n",
       "      <td>Stock</td>\n",
       "      <td>28</td>\n",
       "      <td>2016/1/1 00:50:54</td>\n",
       "      <td>[新聞] 曾銘宗：電子支付拼5年倍增</td>\n",
       "      <td>Bokolo</td>\n",
       "      <td>1.原文連結(必須檢附)：\\nhttp://www.appledaily.com.tw/re...</td>\n",
       "      <td>http://www.ptt.cc/bbs/Stock/M.1451580658.A.D8B...</td>\n",
       "      <td>[ 新聞 ]   曾 銘宗 ： 電子 支付 拼 5 年 倍增</td>\n",
       "      <td>1 . 原文 連結 ( 必須 檢附 ) ： http : / / www . appleda...</td>\n",
       "    </tr>\n",
       "  </tbody>\n",
       "</table>\n",
       "</div>"
      ],
      "text/plain": [
       "                     id p_type s_name s_area_name  comment_count  \\\n",
       "0  1451580710262_PTT02R    bbs    Ptt       Stock             10   \n",
       "1  1451580711002_PTT02R    bbs    Ptt       Stock             28   \n",
       "\n",
       "           post_time               title  author  \\\n",
       "0  2016/1/1 00:48:25  [新聞] 第三方支付 台灣普及關鍵年  Bokolo   \n",
       "1  2016/1/1 00:50:54  [新聞] 曾銘宗：電子支付拼5年倍增  Bokolo   \n",
       "\n",
       "                                             content  \\\n",
       "0  1.原文連結(必須檢附)：\\nhttp://magazine.chinatimes.com/...   \n",
       "1  1.原文連結(必須檢附)：\\nhttp://www.appledaily.com.tw/re...   \n",
       "\n",
       "                                            page_url  \\\n",
       "0  http://www.ptt.cc/bbs/Stock/M.1451580509.A.722...   \n",
       "1  http://www.ptt.cc/bbs/Stock/M.1451580658.A.D8B...   \n",
       "\n",
       "                           title2  \\\n",
       "0   [ 新聞 ]   第 三方 支付   台灣 普及 關鍵 年   \n",
       "1  [ 新聞 ]   曾 銘宗 ： 電子 支付 拼 5 年 倍增   \n",
       "\n",
       "                                            content2  \n",
       "0  1 . 原文 連結 ( 必須 檢附 ) ： http : / / magazine . ch...  \n",
       "1  1 . 原文 連結 ( 必須 檢附 ) ： http : / / www . appleda...  "
      ]
     },
     "execution_count": 6,
     "metadata": {},
     "output_type": "execute_result"
    }
   ],
   "source": [
    "content = []\n",
    "for rec in df_bbs.iterrows():\n",
    "    seg_list = str( rec[1]['content'] ).replace('\\n','').replace(',',' ')\n",
    "    seg_list = jieba.cut(seg_list, cut_all=False)\n",
    "    content.append(' '.join(seg_list))\n",
    "\n",
    "df_bbs[\"content2\"]=content\n",
    "df_bbs.head(2)"
   ]
  },
  {
   "cell_type": "code",
   "execution_count": 7,
   "metadata": {},
   "outputs": [],
   "source": [
    "df_news = pd.read_csv(\"bda2019_dataset/news2.csv\", encoding=\"utf-8\")\n",
    "#df_news.head(2)"
   ]
  },
  {
   "cell_type": "code",
   "execution_count": 8,
   "metadata": {},
   "outputs": [],
   "source": [
    "content = []\n",
    "for rec in df_news.iterrows():\n",
    "    seg_list = str( rec[1]['title'] ).replace('\\n','').replace(',',' ') \n",
    "    seg_list = jieba.cut(seg_list, cut_all=False)\n",
    "    content.append(' '.join(seg_list))                                  \n",
    "\n",
    "df_news[\"title2\"]=content                                            \n",
    "#df_news.head(2)"
   ]
  },
  {
   "cell_type": "code",
   "execution_count": 9,
   "metadata": {},
   "outputs": [
    {
     "data": {
      "text/html": [
       "<div>\n",
       "<style scoped>\n",
       "    .dataframe tbody tr th:only-of-type {\n",
       "        vertical-align: middle;\n",
       "    }\n",
       "\n",
       "    .dataframe tbody tr th {\n",
       "        vertical-align: top;\n",
       "    }\n",
       "\n",
       "    .dataframe thead th {\n",
       "        text-align: right;\n",
       "    }\n",
       "</style>\n",
       "<table border=\"1\" class=\"dataframe\">\n",
       "  <thead>\n",
       "    <tr style=\"text-align: right;\">\n",
       "      <th></th>\n",
       "      <th>id</th>\n",
       "      <th>p_type</th>\n",
       "      <th>s_name</th>\n",
       "      <th>s_area_name</th>\n",
       "      <th>post_time</th>\n",
       "      <th>title</th>\n",
       "      <th>author</th>\n",
       "      <th>content</th>\n",
       "      <th>page_url</th>\n",
       "      <th>title2</th>\n",
       "      <th>content2</th>\n",
       "    </tr>\n",
       "  </thead>\n",
       "  <tbody>\n",
       "    <tr>\n",
       "      <th>0</th>\n",
       "      <td>1451580107540_N01</td>\n",
       "      <td>news</td>\n",
       "      <td>yahoo股市</td>\n",
       "      <td>重大要聞</td>\n",
       "      <td>2016/1/1 00:06:00</td>\n",
       "      <td>淪落的2015 竟是78年來最難獲利的一年</td>\n",
       "      <td>鉅亨網</td>\n",
       "      <td>鉅亨網編譯郭照青這一年，獲利真是難上難。&lt;BR&gt;根據CNBC分析報導，興業銀行的數據顯示，2...</td>\n",
       "      <td>https://tw.stock.yahoo.com/news_content/url/d/...</td>\n",
       "      <td>淪落 的 2015   竟是 78 年來 最難 獲利 的 一年</td>\n",
       "      <td>鉅亨網 編譯 郭照 青 這一年 ， 獲利 真是 難上 難 。 &lt; BR &gt; 根據 CNBC ...</td>\n",
       "    </tr>\n",
       "    <tr>\n",
       "      <th>1</th>\n",
       "      <td>1451582807314_N01</td>\n",
       "      <td>news</td>\n",
       "      <td>yahoo股市</td>\n",
       "      <td>重大要聞</td>\n",
       "      <td>2016/1/1 00:52:00</td>\n",
       "      <td>美股盤中─今年最後交易日 道瓊大跌逾150點 注意油價走勢</td>\n",
       "      <td>鉅亨網</td>\n",
       "      <td>鉅亨網編譯郭照青今日為2015年最後交易日，美國股市中場走低，投資人注意油價走勢。&lt;BR&gt;道...</td>\n",
       "      <td>https://tw.stock.yahoo.com/news_content/url/d/...</td>\n",
       "      <td>美股盤 中 ─ 今年 最後 交易日   道瓊 大跌 逾 150 點   注意 油價 走勢</td>\n",
       "      <td>鉅亨網 編譯 郭照 青 今日 為 2015 年 最後 交易日 ， 美國 股市 中場 走低 ，...</td>\n",
       "    </tr>\n",
       "  </tbody>\n",
       "</table>\n",
       "</div>"
      ],
      "text/plain": [
       "                  id p_type   s_name s_area_name          post_time  \\\n",
       "0  1451580107540_N01   news  yahoo股市        重大要聞  2016/1/1 00:06:00   \n",
       "1  1451582807314_N01   news  yahoo股市        重大要聞  2016/1/1 00:52:00   \n",
       "\n",
       "                           title author  \\\n",
       "0          淪落的2015 竟是78年來最難獲利的一年    鉅亨網   \n",
       "1  美股盤中─今年最後交易日 道瓊大跌逾150點 注意油價走勢    鉅亨網   \n",
       "\n",
       "                                             content  \\\n",
       "0  鉅亨網編譯郭照青這一年，獲利真是難上難。<BR>根據CNBC分析報導，興業銀行的數據顯示，2...   \n",
       "1  鉅亨網編譯郭照青今日為2015年最後交易日，美國股市中場走低，投資人注意油價走勢。<BR>道...   \n",
       "\n",
       "                                            page_url  \\\n",
       "0  https://tw.stock.yahoo.com/news_content/url/d/...   \n",
       "1  https://tw.stock.yahoo.com/news_content/url/d/...   \n",
       "\n",
       "                                         title2  \\\n",
       "0               淪落 的 2015   竟是 78 年來 最難 獲利 的 一年   \n",
       "1  美股盤 中 ─ 今年 最後 交易日   道瓊 大跌 逾 150 點   注意 油價 走勢   \n",
       "\n",
       "                                            content2  \n",
       "0  鉅亨網 編譯 郭照 青 這一年 ， 獲利 真是 難上 難 。 < BR > 根據 CNBC ...  \n",
       "1  鉅亨網 編譯 郭照 青 今日 為 2015 年 最後 交易日 ， 美國 股市 中場 走低 ，...  "
      ]
     },
     "execution_count": 9,
     "metadata": {},
     "output_type": "execute_result"
    }
   ],
   "source": [
    "content = []\n",
    "for rec in df_news.iterrows():\n",
    "    seg_list = str( rec[1]['content'] ).replace('\\n','').replace(',',' ')\n",
    "    seg_list = jieba.cut(seg_list, cut_all=False)\n",
    "    content.append(' '.join(seg_list))\n",
    "\n",
    "df_news[\"content2\"]=content\n",
    "df_news.head(2)"
   ]
  },
  {
   "cell_type": "code",
   "execution_count": 10,
   "metadata": {},
   "outputs": [],
   "source": [
    "df_forum = pd.read_csv(\"bda2019_dataset/forum2.csv\", encoding=\"utf-8\")\n",
    "#df_forum.head(2)"
   ]
  },
  {
   "cell_type": "code",
   "execution_count": 11,
   "metadata": {},
   "outputs": [],
   "source": [
    "content = []\n",
    "for rec in df_forum.iterrows():\n",
    "    seg_list = str( rec[1]['title'] ).replace('\\n','').replace(',',' ') \n",
    "    seg_list = jieba.cut(seg_list, cut_all=False)\n",
    "    content.append(' '.join(seg_list))                                  \n",
    "\n",
    "df_forum[\"title2\"]=content                         \n",
    "#df_forum.head(2)"
   ]
  },
  {
   "cell_type": "code",
   "execution_count": 12,
   "metadata": {},
   "outputs": [
    {
     "data": {
      "text/html": [
       "<div>\n",
       "<style scoped>\n",
       "    .dataframe tbody tr th:only-of-type {\n",
       "        vertical-align: middle;\n",
       "    }\n",
       "\n",
       "    .dataframe tbody tr th {\n",
       "        vertical-align: top;\n",
       "    }\n",
       "\n",
       "    .dataframe thead th {\n",
       "        text-align: right;\n",
       "    }\n",
       "</style>\n",
       "<table border=\"1\" class=\"dataframe\">\n",
       "  <thead>\n",
       "    <tr style=\"text-align: right;\">\n",
       "      <th></th>\n",
       "      <th>id</th>\n",
       "      <th>p_type</th>\n",
       "      <th>s_name</th>\n",
       "      <th>s_area_name</th>\n",
       "      <th>comment_count</th>\n",
       "      <th>post_time</th>\n",
       "      <th>title</th>\n",
       "      <th>author</th>\n",
       "      <th>content</th>\n",
       "      <th>page_url</th>\n",
       "      <th>title2</th>\n",
       "      <th>content2</th>\n",
       "    </tr>\n",
       "  </thead>\n",
       "  <tbody>\n",
       "    <tr>\n",
       "      <th>0</th>\n",
       "      <td>1451585357153_F01</td>\n",
       "      <td>forum</td>\n",
       "      <td>mobile01</td>\n",
       "      <td>投資與理財(生活娛樂)</td>\n",
       "      <td>1</td>\n",
       "      <td>2016/1/1 2:01:00</td>\n",
       "      <td>自刪</td>\n",
       "      <td>famas2200</td>\n",
       "      <td>不小心發錯版主請幫忙刪除文章謝謝</td>\n",
       "      <td>http://www.mobile01.com/topicdetail.php?f=291&amp;...</td>\n",
       "      <td>自刪</td>\n",
       "      <td>不 小心 發錯 版主 請 幫忙 刪除 文章 謝謝</td>\n",
       "    </tr>\n",
       "    <tr>\n",
       "      <th>1</th>\n",
       "      <td>1451616871574_F01</td>\n",
       "      <td>forum</td>\n",
       "      <td>mobile01</td>\n",
       "      <td>投資與理財(生活娛樂)</td>\n",
       "      <td>5</td>\n",
       "      <td>2016/1/1 10:41:00</td>\n",
       "      <td>傳超微已打算將訂單下給格羅方德</td>\n",
       "      <td>taiwan2008</td>\n",
       "      <td>台積電爭奪超微下一代繪圖處理器失利，因為傳超微已打算將訂單下給格羅方德（GlobalFoun...</td>\n",
       "      <td>http://www.mobile01.com/topicdetail.php?f=291&amp;...</td>\n",
       "      <td>傳 超微 已 打算 將 訂單 下給 格羅方德</td>\n",
       "      <td>台積電 爭奪 超微 下一代 繪圖 處理器 失利 ， 因為 傳 超微 已 打算 將 訂單 下給...</td>\n",
       "    </tr>\n",
       "  </tbody>\n",
       "</table>\n",
       "</div>"
      ],
      "text/plain": [
       "                  id p_type    s_name  s_area_name  comment_count  \\\n",
       "0  1451585357153_F01  forum  mobile01  投資與理財(生活娛樂)              1   \n",
       "1  1451616871574_F01  forum  mobile01  投資與理財(生活娛樂)              5   \n",
       "\n",
       "           post_time            title      author  \\\n",
       "0   2016/1/1 2:01:00               自刪   famas2200   \n",
       "1  2016/1/1 10:41:00  傳超微已打算將訂單下給格羅方德  taiwan2008   \n",
       "\n",
       "                                             content  \\\n",
       "0                                   不小心發錯版主請幫忙刪除文章謝謝   \n",
       "1  台積電爭奪超微下一代繪圖處理器失利，因為傳超微已打算將訂單下給格羅方德（GlobalFoun...   \n",
       "\n",
       "                                            page_url                  title2  \\\n",
       "0  http://www.mobile01.com/topicdetail.php?f=291&...                      自刪   \n",
       "1  http://www.mobile01.com/topicdetail.php?f=291&...  傳 超微 已 打算 將 訂單 下給 格羅方德   \n",
       "\n",
       "                                            content2  \n",
       "0                           不 小心 發錯 版主 請 幫忙 刪除 文章 謝謝  \n",
       "1  台積電 爭奪 超微 下一代 繪圖 處理器 失利 ， 因為 傳 超微 已 打算 將 訂單 下給...  "
      ]
     },
     "execution_count": 12,
     "metadata": {},
     "output_type": "execute_result"
    }
   ],
   "source": [
    "content = []\n",
    "for rec in df_forum.iterrows():\n",
    "    seg_list = str( rec[1]['content'] ).replace('\\n','').replace(',',' ') \n",
    "    seg_list = jieba.cut(seg_list, cut_all=False)\n",
    "    content.append(' '.join(seg_list))                                  \n",
    "\n",
    "df_forum[\"content2\"]=content                                            \n",
    "df_forum.head(2)"
   ]
  },
  {
   "cell_type": "code",
   "execution_count": 13,
   "metadata": {},
   "outputs": [
    {
     "data": {
      "text/plain": [
       "list"
      ]
     },
     "execution_count": 13,
     "metadata": {},
     "output_type": "execute_result"
    }
   ],
   "source": [
    "type(content)"
   ]
  },
  {
   "cell_type": "code",
   "execution_count": null,
   "metadata": {},
   "outputs": [],
   "source": []
  },
  {
   "cell_type": "code",
   "execution_count": null,
   "metadata": {},
   "outputs": [],
   "source": []
  },
  {
   "cell_type": "code",
   "execution_count": null,
   "metadata": {},
   "outputs": [],
   "source": []
  }
 ],
 "metadata": {
  "kernelspec": {
   "display_name": "Python 3",
   "language": "python",
   "name": "python3"
  },
  "language_info": {
   "codemirror_mode": {
    "name": "ipython",
    "version": 3
   },
   "file_extension": ".py",
   "mimetype": "text/x-python",
   "name": "python",
   "nbconvert_exporter": "python",
   "pygments_lexer": "ipython3",
   "version": "3.6.8"
  }
 },
 "nbformat": 4,
 "nbformat_minor": 2
}
